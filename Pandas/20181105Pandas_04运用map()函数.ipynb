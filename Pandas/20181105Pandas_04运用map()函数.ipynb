{
 "cells": [
  {
   "cell_type": "code",
   "execution_count": 1,
   "metadata": {},
   "outputs": [],
   "source": [
    "import numpy as np\n",
    "import pandas as pd"
   ]
  },
  {
   "cell_type": "code",
   "execution_count": 2,
   "metadata": {},
   "outputs": [],
   "source": [
    "list1 = [1,2,3,4]"
   ]
  },
  {
   "cell_type": "code",
   "execution_count": 3,
   "metadata": {},
   "outputs": [
    {
     "data": {
      "text/plain": [
       "['1', '2', '3', '4']"
      ]
     },
     "execution_count": 3,
     "metadata": {},
     "output_type": "execute_result"
    }
   ],
   "source": [
    "list(map(str,list1))"
   ]
  },
  {
   "cell_type": "code",
   "execution_count": 4,
   "metadata": {},
   "outputs": [
    {
     "data": {
      "text/html": [
       "<div>\n",
       "<style scoped>\n",
       "    .dataframe tbody tr th:only-of-type {\n",
       "        vertical-align: middle;\n",
       "    }\n",
       "\n",
       "    .dataframe tbody tr th {\n",
       "        vertical-align: top;\n",
       "    }\n",
       "\n",
       "    .dataframe thead th {\n",
       "        text-align: right;\n",
       "    }\n",
       "</style>\n",
       "<table border=\"1\" class=\"dataframe\">\n",
       "  <thead>\n",
       "    <tr style=\"text-align: right;\">\n",
       "      <th></th>\n",
       "      <th>BJ</th>\n",
       "      <th>SH</th>\n",
       "      <th>GZ</th>\n",
       "    </tr>\n",
       "  </thead>\n",
       "  <tbody>\n",
       "    <tr>\n",
       "      <th>2018-11-05 00:00:00</th>\n",
       "      <td>2.640282</td>\n",
       "      <td>0.805238</td>\n",
       "      <td>-0.513865</td>\n",
       "    </tr>\n",
       "    <tr>\n",
       "      <th>2018-11-05 03:00:00</th>\n",
       "      <td>0.587315</td>\n",
       "      <td>0.593607</td>\n",
       "      <td>1.108639</td>\n",
       "    </tr>\n",
       "    <tr>\n",
       "      <th>2018-11-05 06:00:00</th>\n",
       "      <td>-0.736671</td>\n",
       "      <td>0.968229</td>\n",
       "      <td>0.625917</td>\n",
       "    </tr>\n",
       "  </tbody>\n",
       "</table>\n",
       "</div>"
      ],
      "text/plain": [
       "                           BJ        SH        GZ\n",
       "2018-11-05 00:00:00  2.640282  0.805238 -0.513865\n",
       "2018-11-05 03:00:00  0.587315  0.593607  1.108639\n",
       "2018-11-05 06:00:00 -0.736671  0.968229  0.625917"
      ]
     },
     "execution_count": 4,
     "metadata": {},
     "output_type": "execute_result"
    }
   ],
   "source": [
    "df1 = pd.DataFrame(np.random.randn(9).reshape(3,3),index=pd.date_range('20181105',periods=3,freq='3H'),columns=['BJ','SH','GZ'])\n",
    "df1"
   ]
  },
  {
   "cell_type": "markdown",
   "metadata": {},
   "source": [
    "# 应用自建map函数"
   ]
  },
  {
   "cell_type": "code",
   "execution_count": 5,
   "metadata": {},
   "outputs": [],
   "source": [
    "def test_map(x):\n",
    "    return x + '_ABC'"
   ]
  },
  {
   "cell_type": "code",
   "execution_count": 6,
   "metadata": {},
   "outputs": [
    {
     "data": {
      "text/plain": [
       "Index(['BJ_ABC', 'SH_ABC', 'GZ_ABC'], dtype='object')"
      ]
     },
     "execution_count": 6,
     "metadata": {},
     "output_type": "execute_result"
    }
   ],
   "source": [
    "df1.columns.map(test_map)"
   ]
  },
  {
   "cell_type": "code",
   "execution_count": 7,
   "metadata": {},
   "outputs": [
    {
     "data": {
      "text/html": [
       "<div>\n",
       "<style scoped>\n",
       "    .dataframe tbody tr th:only-of-type {\n",
       "        vertical-align: middle;\n",
       "    }\n",
       "\n",
       "    .dataframe tbody tr th {\n",
       "        vertical-align: top;\n",
       "    }\n",
       "\n",
       "    .dataframe thead th {\n",
       "        text-align: right;\n",
       "    }\n",
       "</style>\n",
       "<table border=\"1\" class=\"dataframe\">\n",
       "  <thead>\n",
       "    <tr style=\"text-align: right;\">\n",
       "      <th></th>\n",
       "      <th>BJ_ABC</th>\n",
       "      <th>SH_ABC</th>\n",
       "      <th>GZ_ABC</th>\n",
       "    </tr>\n",
       "  </thead>\n",
       "  <tbody>\n",
       "    <tr>\n",
       "      <th>2018-11-05 00:00:00</th>\n",
       "      <td>2.640282</td>\n",
       "      <td>0.805238</td>\n",
       "      <td>-0.513865</td>\n",
       "    </tr>\n",
       "    <tr>\n",
       "      <th>2018-11-05 03:00:00</th>\n",
       "      <td>0.587315</td>\n",
       "      <td>0.593607</td>\n",
       "      <td>1.108639</td>\n",
       "    </tr>\n",
       "    <tr>\n",
       "      <th>2018-11-05 06:00:00</th>\n",
       "      <td>-0.736671</td>\n",
       "      <td>0.968229</td>\n",
       "      <td>0.625917</td>\n",
       "    </tr>\n",
       "  </tbody>\n",
       "</table>\n",
       "</div>"
      ],
      "text/plain": [
       "                       BJ_ABC    SH_ABC    GZ_ABC\n",
       "2018-11-05 00:00:00  2.640282  0.805238 -0.513865\n",
       "2018-11-05 03:00:00  0.587315  0.593607  1.108639\n",
       "2018-11-05 06:00:00 -0.736671  0.968229  0.625917"
      ]
     },
     "execution_count": 7,
     "metadata": {},
     "output_type": "execute_result"
    }
   ],
   "source": [
    "df1.rename(columns=test_map)"
   ]
  },
  {
   "cell_type": "code",
   "execution_count": null,
   "metadata": {},
   "outputs": [],
   "source": []
  }
 ],
 "metadata": {
  "kernelspec": {
   "display_name": "Python 3",
   "language": "python",
   "name": "python3"
  },
  "language_info": {
   "codemirror_mode": {
    "name": "ipython",
    "version": 3
   },
   "file_extension": ".py",
   "mimetype": "text/x-python",
   "name": "python",
   "nbconvert_exporter": "python",
   "pygments_lexer": "ipython3",
   "version": "3.6.5"
  }
 },
 "nbformat": 4,
 "nbformat_minor": 2
}
