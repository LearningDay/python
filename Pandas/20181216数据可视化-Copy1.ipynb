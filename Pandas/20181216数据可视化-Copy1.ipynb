{
 "cells": [
  {
   "cell_type": "markdown",
   "metadata": {
    "slideshow": {
     "slide_type": "slide"
    }
   },
   "source": [
    "* matplotlib\n",
    "* seaborn\n",
    "\n",
    "* PyX\n",
    "* Bokeh"
   ]
  },
  {
   "cell_type": "code",
   "execution_count": 8,
   "metadata": {
    "scrolled": false,
    "slideshow": {
     "slide_type": "subslide"
    }
   },
   "outputs": [],
   "source": [
    "import numpy as np\n",
    "import pandas as pd\n",
    "import matplotlib.pyplot as plt\n",
    "%matplotlib inline"
   ]
  },
  {
   "cell_type": "code",
   "execution_count": 4,
   "metadata": {
    "scrolled": false,
    "slideshow": {
     "slide_type": "slide"
    }
   },
   "outputs": [],
   "source": [
    "pd.set_option('display.max_columns',10)\n",
    "pd.set_option('display.max_rows',10)"
   ]
  },
  {
   "cell_type": "code",
   "execution_count": 5,
   "metadata": {
    "scrolled": false,
    "slideshow": {
     "slide_type": "slide"
    }
   },
   "outputs": [],
   "source": [
    "df = pd.read_csv('f:/test/News/BABA.csv')"
   ]
  },
  {
   "cell_type": "code",
   "execution_count": 6,
   "metadata": {
    "scrolled": false,
    "slideshow": {
     "slide_type": "slide"
    }
   },
   "outputs": [
    {
     "data": {
      "text/html": [
       "<div>\n",
       "<style scoped>\n",
       "    .dataframe tbody tr th:only-of-type {\n",
       "        vertical-align: middle;\n",
       "    }\n",
       "\n",
       "    .dataframe tbody tr th {\n",
       "        vertical-align: top;\n",
       "    }\n",
       "\n",
       "    .dataframe thead th {\n",
       "        text-align: right;\n",
       "    }\n",
       "</style>\n",
       "<table border=\"1\" class=\"dataframe\">\n",
       "  <thead>\n",
       "    <tr style=\"text-align: right;\">\n",
       "      <th></th>\n",
       "      <th>Date</th>\n",
       "      <th>Open</th>\n",
       "      <th>High</th>\n",
       "      <th>Low</th>\n",
       "      <th>Close</th>\n",
       "      <th>Adj Close</th>\n",
       "      <th>Volume</th>\n",
       "    </tr>\n",
       "  </thead>\n",
       "  <tbody>\n",
       "    <tr>\n",
       "      <th>0</th>\n",
       "      <td>2015-09-21</td>\n",
       "      <td>65.379997</td>\n",
       "      <td>66.400002</td>\n",
       "      <td>62.959999</td>\n",
       "      <td>63.900002</td>\n",
       "      <td>63.900002</td>\n",
       "      <td>22355100</td>\n",
       "    </tr>\n",
       "    <tr>\n",
       "      <th>1</th>\n",
       "      <td>2015-09-22</td>\n",
       "      <td>62.939999</td>\n",
       "      <td>63.270000</td>\n",
       "      <td>61.580002</td>\n",
       "      <td>61.900002</td>\n",
       "      <td>61.900002</td>\n",
       "      <td>14897900</td>\n",
       "    </tr>\n",
       "    <tr>\n",
       "      <th>2</th>\n",
       "      <td>2015-09-23</td>\n",
       "      <td>61.959999</td>\n",
       "      <td>62.299999</td>\n",
       "      <td>59.680000</td>\n",
       "      <td>60.000000</td>\n",
       "      <td>60.000000</td>\n",
       "      <td>22684600</td>\n",
       "    </tr>\n",
       "    <tr>\n",
       "      <th>3</th>\n",
       "      <td>2015-09-24</td>\n",
       "      <td>59.419998</td>\n",
       "      <td>60.340000</td>\n",
       "      <td>58.209999</td>\n",
       "      <td>59.919998</td>\n",
       "      <td>59.919998</td>\n",
       "      <td>20645700</td>\n",
       "    </tr>\n",
       "    <tr>\n",
       "      <th>4</th>\n",
       "      <td>2015-09-25</td>\n",
       "      <td>60.630001</td>\n",
       "      <td>60.840000</td>\n",
       "      <td>58.919998</td>\n",
       "      <td>59.240002</td>\n",
       "      <td>59.240002</td>\n",
       "      <td>17009100</td>\n",
       "    </tr>\n",
       "  </tbody>\n",
       "</table>\n",
       "</div>"
      ],
      "text/plain": [
       "         Date       Open       High        Low      Close  Adj Close    Volume\n",
       "0  2015-09-21  65.379997  66.400002  62.959999  63.900002  63.900002  22355100\n",
       "1  2015-09-22  62.939999  63.270000  61.580002  61.900002  61.900002  14897900\n",
       "2  2015-09-23  61.959999  62.299999  59.680000  60.000000  60.000000  22684600\n",
       "3  2015-09-24  59.419998  60.340000  58.209999  59.919998  59.919998  20645700\n",
       "4  2015-09-25  60.630001  60.840000  58.919998  59.240002  59.240002  17009100"
      ]
     },
     "execution_count": 6,
     "metadata": {},
     "output_type": "execute_result"
    }
   ],
   "source": [
    "df.head()"
   ]
  },
  {
   "cell_type": "code",
   "execution_count": 5,
   "metadata": {
    "scrolled": false,
    "slideshow": {
     "slide_type": "slide"
    }
   },
   "outputs": [
    {
     "name": "stdout",
     "output_type": "stream",
     "text": [
      "<class 'pandas.core.frame.DataFrame'>\n",
      "RangeIndex: 537 entries, 0 to 536\n",
      "Data columns (total 7 columns):\n",
      "Date         537 non-null object\n",
      "Open         537 non-null float64\n",
      "High         537 non-null float64\n",
      "Low          537 non-null float64\n",
      "Close        537 non-null float64\n",
      "Adj Close    537 non-null float64\n",
      "Volume       537 non-null int64\n",
      "dtypes: float64(5), int64(1), object(1)\n",
      "memory usage: 27.3+ KB\n"
     ]
    }
   ],
   "source": [
    "df.info()"
   ]
  },
  {
   "cell_type": "code",
   "execution_count": 6,
   "metadata": {
    "scrolled": false,
    "slideshow": {
     "slide_type": "slide"
    }
   },
   "outputs": [],
   "source": [
    "df.set_index('Date',inplace=True)"
   ]
  },
  {
   "cell_type": "code",
   "execution_count": 7,
   "metadata": {
    "scrolled": false,
    "slideshow": {
     "slide_type": "slide"
    }
   },
   "outputs": [
    {
     "data": {
      "text/html": [
       "<div>\n",
       "<style scoped>\n",
       "    .dataframe tbody tr th:only-of-type {\n",
       "        vertical-align: middle;\n",
       "    }\n",
       "\n",
       "    .dataframe tbody tr th {\n",
       "        vertical-align: top;\n",
       "    }\n",
       "\n",
       "    .dataframe thead th {\n",
       "        text-align: right;\n",
       "    }\n",
       "</style>\n",
       "<table border=\"1\" class=\"dataframe\">\n",
       "  <thead>\n",
       "    <tr style=\"text-align: right;\">\n",
       "      <th></th>\n",
       "      <th>Open</th>\n",
       "      <th>High</th>\n",
       "      <th>Low</th>\n",
       "      <th>Close</th>\n",
       "      <th>Adj Close</th>\n",
       "      <th>Volume</th>\n",
       "    </tr>\n",
       "    <tr>\n",
       "      <th>Date</th>\n",
       "      <th></th>\n",
       "      <th></th>\n",
       "      <th></th>\n",
       "      <th></th>\n",
       "      <th></th>\n",
       "      <th></th>\n",
       "    </tr>\n",
       "  </thead>\n",
       "  <tbody>\n",
       "    <tr>\n",
       "      <th>2017-10-30</th>\n",
       "      <td>178.429993</td>\n",
       "      <td>181.899994</td>\n",
       "      <td>177.589996</td>\n",
       "      <td>181.580002</td>\n",
       "      <td>181.580002</td>\n",
       "      <td>20219700</td>\n",
       "    </tr>\n",
       "    <tr>\n",
       "      <th>2017-10-31</th>\n",
       "      <td>183.570007</td>\n",
       "      <td>185.119995</td>\n",
       "      <td>181.811005</td>\n",
       "      <td>184.889999</td>\n",
       "      <td>184.889999</td>\n",
       "      <td>21256700</td>\n",
       "    </tr>\n",
       "    <tr>\n",
       "      <th>2017-11-01</th>\n",
       "      <td>187.880005</td>\n",
       "      <td>188.880005</td>\n",
       "      <td>183.580002</td>\n",
       "      <td>186.080002</td>\n",
       "      <td>186.080002</td>\n",
       "      <td>28594700</td>\n",
       "    </tr>\n",
       "    <tr>\n",
       "      <th>2017-11-02</th>\n",
       "      <td>190.990005</td>\n",
       "      <td>191.220001</td>\n",
       "      <td>183.309998</td>\n",
       "      <td>184.809998</td>\n",
       "      <td>184.809998</td>\n",
       "      <td>41239900</td>\n",
       "    </tr>\n",
       "    <tr>\n",
       "      <th>2017-11-03</th>\n",
       "      <td>186.509995</td>\n",
       "      <td>186.929993</td>\n",
       "      <td>182.059998</td>\n",
       "      <td>183.210007</td>\n",
       "      <td>183.210007</td>\n",
       "      <td>19621400</td>\n",
       "    </tr>\n",
       "  </tbody>\n",
       "</table>\n",
       "</div>"
      ],
      "text/plain": [
       "                  Open        High         Low       Close   Adj Close  \\\n",
       "Date                                                                     \n",
       "2017-10-30  178.429993  181.899994  177.589996  181.580002  181.580002   \n",
       "2017-10-31  183.570007  185.119995  181.811005  184.889999  184.889999   \n",
       "2017-11-01  187.880005  188.880005  183.580002  186.080002  186.080002   \n",
       "2017-11-02  190.990005  191.220001  183.309998  184.809998  184.809998   \n",
       "2017-11-03  186.509995  186.929993  182.059998  183.210007  183.210007   \n",
       "\n",
       "              Volume  \n",
       "Date                  \n",
       "2017-10-30  20219700  \n",
       "2017-10-31  21256700  \n",
       "2017-11-01  28594700  \n",
       "2017-11-02  41239900  \n",
       "2017-11-03  19621400  "
      ]
     },
     "execution_count": 7,
     "metadata": {},
     "output_type": "execute_result"
    }
   ],
   "source": [
    "df.tail()"
   ]
  },
  {
   "cell_type": "code",
   "execution_count": 8,
   "metadata": {
    "scrolled": false,
    "slideshow": {
     "slide_type": "slide"
    }
   },
   "outputs": [
    {
     "data": {
      "text/html": [
       "<div>\n",
       "<style scoped>\n",
       "    .dataframe tbody tr th:only-of-type {\n",
       "        vertical-align: middle;\n",
       "    }\n",
       "\n",
       "    .dataframe tbody tr th {\n",
       "        vertical-align: top;\n",
       "    }\n",
       "\n",
       "    .dataframe thead th {\n",
       "        text-align: right;\n",
       "    }\n",
       "</style>\n",
       "<table border=\"1\" class=\"dataframe\">\n",
       "  <thead>\n",
       "    <tr style=\"text-align: right;\">\n",
       "      <th></th>\n",
       "      <th>Open</th>\n",
       "      <th>High</th>\n",
       "      <th>Low</th>\n",
       "      <th>Close</th>\n",
       "      <th>Adj Close</th>\n",
       "      <th>Volume</th>\n",
       "    </tr>\n",
       "  </thead>\n",
       "  <tbody>\n",
       "    <tr>\n",
       "      <th>2015</th>\n",
       "      <td>5487.159985</td>\n",
       "      <td>5574.470013</td>\n",
       "      <td>5412.076970</td>\n",
       "      <td>5501.029985</td>\n",
       "      <td>5501.029985</td>\n",
       "      <td>1318721800</td>\n",
       "    </tr>\n",
       "    <tr>\n",
       "      <th>2016</th>\n",
       "      <td>21310.701013</td>\n",
       "      <td>21553.788060</td>\n",
       "      <td>21049.607047</td>\n",
       "      <td>21298.389996</td>\n",
       "      <td>21298.389996</td>\n",
       "      <td>3725974300</td>\n",
       "    </tr>\n",
       "    <tr>\n",
       "      <th>2017</th>\n",
       "      <td>28785.645006</td>\n",
       "      <td>29056.275877</td>\n",
       "      <td>28459.442073</td>\n",
       "      <td>28773.439971</td>\n",
       "      <td>28773.439971</td>\n",
       "      <td>3145290700</td>\n",
       "    </tr>\n",
       "  </tbody>\n",
       "</table>\n",
       "</div>"
      ],
      "text/plain": [
       "              Open          High           Low         Close     Adj Close  \\\n",
       "2015   5487.159985   5574.470013   5412.076970   5501.029985   5501.029985   \n",
       "2016  21310.701013  21553.788060  21049.607047  21298.389996  21298.389996   \n",
       "2017  28785.645006  29056.275877  28459.442073  28773.439971  28773.439971   \n",
       "\n",
       "          Volume  \n",
       "2015  1318721800  \n",
       "2016  3725974300  \n",
       "2017  3145290700  "
      ]
     },
     "execution_count": 8,
     "metadata": {},
     "output_type": "execute_result"
    }
   ],
   "source": [
    "df.groupby(lambda Date:Date.split('-')[0]).sum()"
   ]
  },
  {
   "cell_type": "code",
   "execution_count": 9,
   "metadata": {
    "scrolled": false,
    "slideshow": {
     "slide_type": "slide"
    }
   },
   "outputs": [
    {
     "data": {
      "text/plain": [
       "Open         False\n",
       "High         False\n",
       "Low          False\n",
       "Close        False\n",
       "Adj Close    False\n",
       "Volume       False\n",
       "dtype: bool"
      ]
     },
     "execution_count": 9,
     "metadata": {},
     "output_type": "execute_result"
    }
   ],
   "source": [
    "df.isnull().any()"
   ]
  },
  {
   "cell_type": "code",
   "execution_count": 10,
   "metadata": {
    "scrolled": false,
    "slideshow": {
     "slide_type": "slide"
    }
   },
   "outputs": [
    {
     "data": {
      "text/plain": [
       "[<matplotlib.lines.Line2D at 0x78b86d0>]"
      ]
     },
     "execution_count": 10,
     "metadata": {},
     "output_type": "execute_result"
    },
    {
     "data": {
      "image/png": "[encoded data removed]",
      "text/plain": [
       "<Figure size 432x288 with 1 Axes>"
      ]
     },
     "metadata": {},
     "output_type": "display_data"
    }
   ],
   "source": [
    "plt.plot(np.random.randn(100),np.random.normal(size=100),'ro')"
   ]
  },
  {
   "cell_type": "markdown",
   "metadata": {
    "slideshow": {
     "slide_type": "slide"
    }
   },
   "source": [
    "# Pandas数据可视化"
   ]
  },
  {
   "cell_type": "code",
   "execution_count": 11,
   "metadata": {
    "scrolled": false,
    "slideshow": {
     "slide_type": "slide"
    }
   },
   "outputs": [
    {
     "data": {
      "text/html": [
       "<div>\n",
       "<style scoped>\n",
       "    .dataframe tbody tr th:only-of-type {\n",
       "        vertical-align: middle;\n",
       "    }\n",
       "\n",
       "    .dataframe tbody tr th {\n",
       "        vertical-align: top;\n",
       "    }\n",
       "\n",
       "    .dataframe thead th {\n",
       "        text-align: right;\n",
       "    }\n",
       "</style>\n",
       "<table border=\"1\" class=\"dataframe\">\n",
       "  <thead>\n",
       "    <tr style=\"text-align: right;\">\n",
       "      <th></th>\n",
       "      <th>Open</th>\n",
       "      <th>High</th>\n",
       "      <th>Low</th>\n",
       "      <th>Close</th>\n",
       "      <th>Adj Close</th>\n",
       "      <th>Volume</th>\n",
       "    </tr>\n",
       "    <tr>\n",
       "      <th>Date</th>\n",
       "      <th></th>\n",
       "      <th></th>\n",
       "      <th></th>\n",
       "      <th></th>\n",
       "      <th></th>\n",
       "      <th></th>\n",
       "    </tr>\n",
       "  </thead>\n",
       "  <tbody>\n",
       "    <tr>\n",
       "      <th>2015-09-21</th>\n",
       "      <td>65.379997</td>\n",
       "      <td>66.400002</td>\n",
       "      <td>62.959999</td>\n",
       "      <td>63.900002</td>\n",
       "      <td>63.900002</td>\n",
       "      <td>2.235510e+07</td>\n",
       "    </tr>\n",
       "    <tr>\n",
       "      <th>2015-09-22</th>\n",
       "      <td>128.319996</td>\n",
       "      <td>129.670002</td>\n",
       "      <td>124.540001</td>\n",
       "      <td>125.800004</td>\n",
       "      <td>125.800004</td>\n",
       "      <td>3.725300e+07</td>\n",
       "    </tr>\n",
       "    <tr>\n",
       "      <th>2015-09-23</th>\n",
       "      <td>190.279995</td>\n",
       "      <td>191.970001</td>\n",
       "      <td>184.220001</td>\n",
       "      <td>185.800004</td>\n",
       "      <td>185.800004</td>\n",
       "      <td>5.993760e+07</td>\n",
       "    </tr>\n",
       "    <tr>\n",
       "      <th>2015-09-24</th>\n",
       "      <td>249.699993</td>\n",
       "      <td>252.310001</td>\n",
       "      <td>242.430000</td>\n",
       "      <td>245.720002</td>\n",
       "      <td>245.720002</td>\n",
       "      <td>8.058330e+07</td>\n",
       "    </tr>\n",
       "    <tr>\n",
       "      <th>2015-09-25</th>\n",
       "      <td>310.329994</td>\n",
       "      <td>313.150001</td>\n",
       "      <td>301.349998</td>\n",
       "      <td>304.960004</td>\n",
       "      <td>304.960004</td>\n",
       "      <td>9.759240e+07</td>\n",
       "    </tr>\n",
       "    <tr>\n",
       "      <th>...</th>\n",
       "      <td>...</td>\n",
       "      <td>...</td>\n",
       "      <td>...</td>\n",
       "      <td>...</td>\n",
       "      <td>...</td>\n",
       "      <td>...</td>\n",
       "    </tr>\n",
       "    <tr>\n",
       "      <th>2017-10-30</th>\n",
       "      <td>54834.555992</td>\n",
       "      <td>55432.383956</td>\n",
       "      <td>54190.365087</td>\n",
       "      <td>54833.869946</td>\n",
       "      <td>54833.869946</td>\n",
       "      <td>8.079274e+09</td>\n",
       "    </tr>\n",
       "    <tr>\n",
       "      <th>2017-10-31</th>\n",
       "      <td>55018.125999</td>\n",
       "      <td>55617.503951</td>\n",
       "      <td>54372.176092</td>\n",
       "      <td>55018.759945</td>\n",
       "      <td>55018.759945</td>\n",
       "      <td>8.100531e+09</td>\n",
       "    </tr>\n",
       "    <tr>\n",
       "      <th>2017-11-01</th>\n",
       "      <td>55206.006004</td>\n",
       "      <td>55806.383956</td>\n",
       "      <td>54555.756094</td>\n",
       "      <td>55204.839947</td>\n",
       "      <td>55204.839947</td>\n",
       "      <td>8.129126e+09</td>\n",
       "    </tr>\n",
       "    <tr>\n",
       "      <th>2017-11-02</th>\n",
       "      <td>55396.996009</td>\n",
       "      <td>55997.603957</td>\n",
       "      <td>54739.066092</td>\n",
       "      <td>55389.649945</td>\n",
       "      <td>55389.649945</td>\n",
       "      <td>8.170365e+09</td>\n",
       "    </tr>\n",
       "    <tr>\n",
       "      <th>2017-11-03</th>\n",
       "      <td>55583.506004</td>\n",
       "      <td>56184.533950</td>\n",
       "      <td>54921.126090</td>\n",
       "      <td>55572.859952</td>\n",
       "      <td>55572.859952</td>\n",
       "      <td>8.189987e+09</td>\n",
       "    </tr>\n",
       "  </tbody>\n",
       "</table>\n",
       "<p>537 rows × 6 columns</p>\n",
       "</div>"
      ],
      "text/plain": [
       "                    Open          High           Low         Close  \\\n",
       "Date                                                                 \n",
       "2015-09-21     65.379997     66.400002     62.959999     63.900002   \n",
       "2015-09-22    128.319996    129.670002    124.540001    125.800004   \n",
       "2015-09-23    190.279995    191.970001    184.220001    185.800004   \n",
       "2015-09-24    249.699993    252.310001    242.430000    245.720002   \n",
       "2015-09-25    310.329994    313.150001    301.349998    304.960004   \n",
       "...                  ...           ...           ...           ...   \n",
       "2017-10-30  54834.555992  55432.383956  54190.365087  54833.869946   \n",
       "2017-10-31  55018.125999  55617.503951  54372.176092  55018.759945   \n",
       "2017-11-01  55206.006004  55806.383956  54555.756094  55204.839947   \n",
       "2017-11-02  55396.996009  55997.603957  54739.066092  55389.649945   \n",
       "2017-11-03  55583.506004  56184.533950  54921.126090  55572.859952   \n",
       "\n",
       "               Adj Close        Volume  \n",
       "Date                                    \n",
       "2015-09-21     63.900002  2.235510e+07  \n",
       "2015-09-22    125.800004  3.725300e+07  \n",
       "2015-09-23    185.800004  5.993760e+07  \n",
       "2015-09-24    245.720002  8.058330e+07  \n",
       "2015-09-25    304.960004  9.759240e+07  \n",
       "...                  ...           ...  \n",
       "2017-10-30  54833.869946  8.079274e+09  \n",
       "2017-10-31  55018.759945  8.100531e+09  \n",
       "2017-11-01  55204.839947  8.129126e+09  \n",
       "2017-11-02  55389.649945  8.170365e+09  \n",
       "2017-11-03  55572.859952  8.189987e+09  \n",
       "\n",
       "[537 rows x 6 columns]"
      ]
     },
     "execution_count": 11,
     "metadata": {},
     "output_type": "execute_result"
    }
   ],
   "source": [
    "df.cumsum(axis=0)"
   ]
  },
  {
   "cell_type": "code",
   "execution_count": 12,
   "metadata": {
    "scrolled": false,
    "slideshow": {
     "slide_type": "slide"
    }
   },
   "outputs": [
    {
     "data": {
      "text/plain": [
       "Open         float64\n",
       "High         float64\n",
       "Low          float64\n",
       "Close        float64\n",
       "Adj Close    float64\n",
       "Volume         int64\n",
       "dtype: object"
      ]
     },
     "execution_count": 12,
     "metadata": {},
     "output_type": "execute_result"
    }
   ],
   "source": [
    "df.dtypes"
   ]
  },
  {
   "cell_type": "code",
   "execution_count": 13,
   "metadata": {
    "scrolled": false,
    "slideshow": {
     "slide_type": "subslide"
    }
   },
   "outputs": [],
   "source": [
    "ana = pd.read_csv('f:/test/News/DataAnalyst.csv',encoding='gbk')"
   ]
  },
  {
   "cell_type": "code",
   "execution_count": 14,
   "metadata": {
    "scrolled": false,
    "slideshow": {
     "slide_type": "slide"
    }
   },
   "outputs": [
    {
     "data": {
      "text/html": [
       "<div>\n",
       "<style scoped>\n",
       "    .dataframe tbody tr th:only-of-type {\n",
       "        vertical-align: middle;\n",
       "    }\n",
       "\n",
       "    .dataframe tbody tr th {\n",
       "        vertical-align: top;\n",
       "    }\n",
       "\n",
       "    .dataframe thead th {\n",
       "        text-align: right;\n",
       "    }\n",
       "</style>\n",
       "<table border=\"1\" class=\"dataframe\">\n",
       "  <thead>\n",
       "    <tr style=\"text-align: right;\">\n",
       "      <th></th>\n",
       "      <th>city</th>\n",
       "      <th>companyFullName</th>\n",
       "      <th>companyId</th>\n",
       "      <th>companyLabelList</th>\n",
       "      <th>companyShortName</th>\n",
       "      <th>...</th>\n",
       "      <th>positionLables</th>\n",
       "      <th>salary</th>\n",
       "      <th>bottom</th>\n",
       "      <th>top</th>\n",
       "      <th>workYear</th>\n",
       "    </tr>\n",
       "  </thead>\n",
       "  <tbody>\n",
       "    <tr>\n",
       "      <th>0</th>\n",
       "      <td>上海</td>\n",
       "      <td>纽海信息技术(上海)有限公司</td>\n",
       "      <td>8581</td>\n",
       "      <td>['技能培训', '节日礼物', '带薪年假', '岗位晋升']</td>\n",
       "      <td>1号店</td>\n",
       "      <td>...</td>\n",
       "      <td>['分析师', '数据分析', '数据挖掘', '数据']</td>\n",
       "      <td>7k-9k</td>\n",
       "      <td>7</td>\n",
       "      <td>9</td>\n",
       "      <td>应届毕业生</td>\n",
       "    </tr>\n",
       "    <tr>\n",
       "      <th>1</th>\n",
       "      <td>上海</td>\n",
       "      <td>上海点荣金融信息服务有限责任公司</td>\n",
       "      <td>23177</td>\n",
       "      <td>['节日礼物', '带薪年假', '岗位晋升', '扁平管理']</td>\n",
       "      <td>点融网</td>\n",
       "      <td>...</td>\n",
       "      <td>['分析师', '数据分析', '数据挖掘', '数据']</td>\n",
       "      <td>10k-15k</td>\n",
       "      <td>10</td>\n",
       "      <td>15</td>\n",
       "      <td>应届毕业生</td>\n",
       "    </tr>\n",
       "    <tr>\n",
       "      <th>2</th>\n",
       "      <td>上海</td>\n",
       "      <td>上海晶樵网络信息技术有限公司</td>\n",
       "      <td>57561</td>\n",
       "      <td>['技能培训', '绩效奖金', '岗位晋升', '管理规范']</td>\n",
       "      <td>SPD</td>\n",
       "      <td>...</td>\n",
       "      <td>['分析师', '数据分析', '数据']</td>\n",
       "      <td>4k-6k</td>\n",
       "      <td>4</td>\n",
       "      <td>6</td>\n",
       "      <td>应届毕业生</td>\n",
       "    </tr>\n",
       "    <tr>\n",
       "      <th>3</th>\n",
       "      <td>上海</td>\n",
       "      <td>杭州数云信息技术有限公司上海分公司</td>\n",
       "      <td>7502</td>\n",
       "      <td>['绩效奖金', '股票期权', '五险一金', '通讯津贴']</td>\n",
       "      <td>数云</td>\n",
       "      <td>...</td>\n",
       "      <td>['商业', '分析师', '大数据', '数据']</td>\n",
       "      <td>6k-8k</td>\n",
       "      <td>6</td>\n",
       "      <td>8</td>\n",
       "      <td>应届毕业生</td>\n",
       "    </tr>\n",
       "    <tr>\n",
       "      <th>4</th>\n",
       "      <td>上海</td>\n",
       "      <td>上海银基富力信息技术有限公司</td>\n",
       "      <td>130876</td>\n",
       "      <td>['年底双薪', '通讯津贴', '定期体检', '绩效奖金']</td>\n",
       "      <td>银基富力</td>\n",
       "      <td>...</td>\n",
       "      <td>['分析师', '数据分析', '数据', 'BI']</td>\n",
       "      <td>2k-3k</td>\n",
       "      <td>2</td>\n",
       "      <td>3</td>\n",
       "      <td>应届毕业生</td>\n",
       "    </tr>\n",
       "  </tbody>\n",
       "</table>\n",
       "<p>5 rows × 19 columns</p>\n",
       "</div>"
      ],
      "text/plain": [
       "  city    companyFullName  companyId                  companyLabelList  \\\n",
       "0   上海     纽海信息技术(上海)有限公司       8581  ['技能培训', '节日礼物', '带薪年假', '岗位晋升']   \n",
       "1   上海   上海点荣金融信息服务有限责任公司      23177  ['节日礼物', '带薪年假', '岗位晋升', '扁平管理']   \n",
       "2   上海     上海晶樵网络信息技术有限公司      57561  ['技能培训', '绩效奖金', '岗位晋升', '管理规范']   \n",
       "3   上海  杭州数云信息技术有限公司上海分公司       7502  ['绩效奖金', '股票期权', '五险一金', '通讯津贴']   \n",
       "4   上海     上海银基富力信息技术有限公司     130876  ['年底双薪', '通讯津贴', '定期体检', '绩效奖金']   \n",
       "\n",
       "  companyShortName   ...                    positionLables   salary bottom  \\\n",
       "0              1号店   ...     ['分析师', '数据分析', '数据挖掘', '数据']    7k-9k      7   \n",
       "1              点融网   ...     ['分析师', '数据分析', '数据挖掘', '数据']  10k-15k     10   \n",
       "2              SPD   ...             ['分析师', '数据分析', '数据']    4k-6k      4   \n",
       "3               数云   ...        ['商业', '分析师', '大数据', '数据']    6k-8k      6   \n",
       "4             银基富力   ...       ['分析师', '数据分析', '数据', 'BI']    2k-3k      2   \n",
       "\n",
       "  top workYear  \n",
       "0   9    应届毕业生  \n",
       "1  15    应届毕业生  \n",
       "2   6    应届毕业生  \n",
       "3   8    应届毕业生  \n",
       "4   3    应届毕业生  \n",
       "\n",
       "[5 rows x 19 columns]"
      ]
     },
     "execution_count": 14,
     "metadata": {},
     "output_type": "execute_result"
    }
   ],
   "source": [
    "ana.head()"
   ]
  },
  {
   "cell_type": "code",
   "execution_count": 15,
   "metadata": {
    "scrolled": false,
    "slideshow": {
     "slide_type": "slide"
    }
   },
   "outputs": [],
   "source": [
    "ana[['a','b']] = ana.salary.str.split('-',expand=True)"
   ]
  },
  {
   "cell_type": "code",
   "execution_count": 16,
   "metadata": {
    "scrolled": false,
    "slideshow": {
     "slide_type": "slide"
    }
   },
   "outputs": [
    {
     "data": {
      "text/html": [
       "<div>\n",
       "<style scoped>\n",
       "    .dataframe tbody tr th:only-of-type {\n",
       "        vertical-align: middle;\n",
       "    }\n",
       "\n",
       "    .dataframe tbody tr th {\n",
       "        vertical-align: top;\n",
       "    }\n",
       "\n",
       "    .dataframe thead th {\n",
       "        text-align: right;\n",
       "    }\n",
       "</style>\n",
       "<table border=\"1\" class=\"dataframe\">\n",
       "  <thead>\n",
       "    <tr style=\"text-align: right;\">\n",
       "      <th></th>\n",
       "      <th>city</th>\n",
       "      <th>companyFullName</th>\n",
       "      <th>companyId</th>\n",
       "      <th>companyLabelList</th>\n",
       "      <th>companyShortName</th>\n",
       "      <th>...</th>\n",
       "      <th>bottom</th>\n",
       "      <th>top</th>\n",
       "      <th>workYear</th>\n",
       "      <th>a</th>\n",
       "      <th>b</th>\n",
       "    </tr>\n",
       "  </thead>\n",
       "  <tbody>\n",
       "    <tr>\n",
       "      <th>0</th>\n",
       "      <td>上海</td>\n",
       "      <td>纽海信息技术(上海)有限公司</td>\n",
       "      <td>8581</td>\n",
       "      <td>['技能培训', '节日礼物', '带薪年假', '岗位晋升']</td>\n",
       "      <td>1号店</td>\n",
       "      <td>...</td>\n",
       "      <td>7</td>\n",
       "      <td>9</td>\n",
       "      <td>应届毕业生</td>\n",
       "      <td>7k</td>\n",
       "      <td>9k</td>\n",
       "    </tr>\n",
       "    <tr>\n",
       "      <th>1</th>\n",
       "      <td>上海</td>\n",
       "      <td>上海点荣金融信息服务有限责任公司</td>\n",
       "      <td>23177</td>\n",
       "      <td>['节日礼物', '带薪年假', '岗位晋升', '扁平管理']</td>\n",
       "      <td>点融网</td>\n",
       "      <td>...</td>\n",
       "      <td>10</td>\n",
       "      <td>15</td>\n",
       "      <td>应届毕业生</td>\n",
       "      <td>10k</td>\n",
       "      <td>15k</td>\n",
       "    </tr>\n",
       "    <tr>\n",
       "      <th>2</th>\n",
       "      <td>上海</td>\n",
       "      <td>上海晶樵网络信息技术有限公司</td>\n",
       "      <td>57561</td>\n",
       "      <td>['技能培训', '绩效奖金', '岗位晋升', '管理规范']</td>\n",
       "      <td>SPD</td>\n",
       "      <td>...</td>\n",
       "      <td>4</td>\n",
       "      <td>6</td>\n",
       "      <td>应届毕业生</td>\n",
       "      <td>4k</td>\n",
       "      <td>6k</td>\n",
       "    </tr>\n",
       "    <tr>\n",
       "      <th>3</th>\n",
       "      <td>上海</td>\n",
       "      <td>杭州数云信息技术有限公司上海分公司</td>\n",
       "      <td>7502</td>\n",
       "      <td>['绩效奖金', '股票期权', '五险一金', '通讯津贴']</td>\n",
       "      <td>数云</td>\n",
       "      <td>...</td>\n",
       "      <td>6</td>\n",
       "      <td>8</td>\n",
       "      <td>应届毕业生</td>\n",
       "      <td>6k</td>\n",
       "      <td>8k</td>\n",
       "    </tr>\n",
       "    <tr>\n",
       "      <th>4</th>\n",
       "      <td>上海</td>\n",
       "      <td>上海银基富力信息技术有限公司</td>\n",
       "      <td>130876</td>\n",
       "      <td>['年底双薪', '通讯津贴', '定期体检', '绩效奖金']</td>\n",
       "      <td>银基富力</td>\n",
       "      <td>...</td>\n",
       "      <td>2</td>\n",
       "      <td>3</td>\n",
       "      <td>应届毕业生</td>\n",
       "      <td>2k</td>\n",
       "      <td>3k</td>\n",
       "    </tr>\n",
       "  </tbody>\n",
       "</table>\n",
       "<p>5 rows × 21 columns</p>\n",
       "</div>"
      ],
      "text/plain": [
       "  city    companyFullName  companyId                  companyLabelList  \\\n",
       "0   上海     纽海信息技术(上海)有限公司       8581  ['技能培训', '节日礼物', '带薪年假', '岗位晋升']   \n",
       "1   上海   上海点荣金融信息服务有限责任公司      23177  ['节日礼物', '带薪年假', '岗位晋升', '扁平管理']   \n",
       "2   上海     上海晶樵网络信息技术有限公司      57561  ['技能培训', '绩效奖金', '岗位晋升', '管理规范']   \n",
       "3   上海  杭州数云信息技术有限公司上海分公司       7502  ['绩效奖金', '股票期权', '五险一金', '通讯津贴']   \n",
       "4   上海     上海银基富力信息技术有限公司     130876  ['年底双薪', '通讯津贴', '定期体检', '绩效奖金']   \n",
       "\n",
       "  companyShortName ...  bottom top workYear    a    b  \n",
       "0              1号店 ...       7   9    应届毕业生   7k   9k  \n",
       "1              点融网 ...      10  15    应届毕业生  10k  15k  \n",
       "2              SPD ...       4   6    应届毕业生   4k   6k  \n",
       "3               数云 ...       6   8    应届毕业生   6k   8k  \n",
       "4             银基富力 ...       2   3    应届毕业生   2k   3k  \n",
       "\n",
       "[5 rows x 21 columns]"
      ]
     },
     "execution_count": 16,
     "metadata": {},
     "output_type": "execute_result"
    }
   ],
   "source": [
    "ana.head()"
   ]
  },
  {
   "cell_type": "code",
   "execution_count": 17,
   "metadata": {
    "scrolled": false,
    "slideshow": {
     "slide_type": "slide"
    }
   },
   "outputs": [],
   "source": [
    "ana1 = ana[['bottom','top']]"
   ]
  },
  {
   "cell_type": "markdown",
   "metadata": {
    "slideshow": {
     "slide_type": "subslide"
    }
   },
   "source": [
    "\n",
    "# 参数\n",
    "\n",
    "* secondary_y=，双坐标轴\n",
    "* grid，背景格子\n"
   ]
  },
  {
   "cell_type": "code",
   "execution_count": 18,
   "metadata": {
    "scrolled": false,
    "slideshow": {
     "slide_type": "slide"
    }
   },
   "outputs": [
    {
     "data": {
      "text/plain": [
       "<matplotlib.axes._subplots.AxesSubplot at 0x7b244d0>"
      ]
     },
     "execution_count": 18,
     "metadata": {},
     "output_type": "execute_result"
    },
    {
     "data": {
      "image/png": "[encoded data removed]",
      "text/plain": [
       "<Figure size 432x288 with 2 Axes>"
      ]
     },
     "metadata": {},
     "output_type": "display_data"
    }
   ],
   "source": [
    "ana1.plot(secondary_y='top')"
   ]
  },
  {
   "cell_type": "code",
   "execution_count": 19,
   "metadata": {
    "scrolled": false,
    "slideshow": {
     "slide_type": "slide"
    }
   },
   "outputs": [
    {
     "data": {
      "text/plain": [
       "<matplotlib.axes._subplots.AxesSubplot at 0x7a761b0>"
      ]
     },
     "execution_count": 19,
     "metadata": {},
     "output_type": "execute_result"
    },
    {
     "data": {
      "image/png": "[encoded data removed]",
      "text/plain": [
       "<Figure size 432x288 with 1 Axes>"
      ]
     },
     "metadata": {},
     "output_type": "display_data"
    }
   ],
   "source": [
    "ana1.plot(grid=True)"
   ]
  },
  {
   "cell_type": "markdown",
   "metadata": {
    "slideshow": {
     "slide_type": "slide"
    }
   },
   "source": [
    "## 子图\n",
    "* subplots"
   ]
  },
  {
   "cell_type": "code",
   "execution_count": 20,
   "metadata": {
    "scrolled": false,
    "slideshow": {
     "slide_type": "subslide"
    }
   },
   "outputs": [
    {
     "data": {
      "text/plain": [
       "array([<matplotlib.axes._subplots.AxesSubplot object at 0x07B5F450>,\n",
       "       <matplotlib.axes._subplots.AxesSubplot object at 0x07B911D0>],\n",
       "      dtype=object)"
      ]
     },
     "execution_count": 20,
     "metadata": {},
     "output_type": "execute_result"
    },
    {
     "data": {
      "image/png": "[encoded data removed]",
      "text/plain": [
       "<Figure size 432x288 with 2 Axes>"
      ]
     },
     "metadata": {},
     "output_type": "display_data"
    }
   ],
   "source": [
    "ana1.plot(subplots=True)"
   ]
  },
  {
   "cell_type": "code",
   "execution_count": 21,
   "metadata": {
    "scrolled": false,
    "slideshow": {
     "slide_type": "slide"
    }
   },
   "outputs": [
    {
     "data": {
      "text/plain": [
       "Text(0,0.5,'a')"
      ]
     },
     "execution_count": 21,
     "metadata": {},
     "output_type": "execute_result"
    },
    {
     "data": {
      "image/png": "[encoded data removed]",
      "text/plain": [
       "<Figure size 864x288 with 2 Axes>"
      ]
     },
     "metadata": {},
     "output_type": "display_data"
    }
   ],
   "source": [
    "fig, axes = plt.subplots(nrows = 1,ncols=2,figsize=(12,4))\n",
    "for i, var in enumerate(['bottom','top']):\n",
    "    ana1[var].plot(ax = axes[i],title=var)\n",
    "axes[0].set_ylabel('a')    "
   ]
  },
  {
   "cell_type": "code",
   "execution_count": 22,
   "metadata": {
    "scrolled": false,
    "slideshow": {
     "slide_type": "subslide"
    }
   },
   "outputs": [
    {
     "data": {
      "image/png": "[encoded data removed]",
      "text/plain": [
       "<Figure size 864x288 with 4 Axes>"
      ]
     },
     "metadata": {},
     "output_type": "display_data"
    }
   ],
   "source": [
    "fig, axes = plt.subplots(nrows=2,ncols=2,figsize=(12,4))\n",
    "ana['top'].plot(ax = axes[0,0],title='top')\n",
    "ana['bottom'].plot(ax = axes[1,1],title='bottom')\n",
    "fig.tight_layout()#让子图布局紧凑"
   ]
  },
  {
   "cell_type": "markdown",
   "metadata": {
    "slideshow": {
     "slide_type": "slide"
    }
   },
   "source": [
    "# Bar plots\n",
    "* 显示或者比较数值，比如个数，数量"
   ]
  },
  {
   "cell_type": "code",
   "execution_count": 23,
   "metadata": {
    "scrolled": false,
    "slideshow": {
     "slide_type": "slide"
    }
   },
   "outputs": [
    {
     "data": {
      "text/plain": [
       "<matplotlib.axes._subplots.AxesSubplot at 0x90604f0>"
      ]
     },
     "execution_count": 23,
     "metadata": {},
     "output_type": "execute_result"
    },
    {
     "data": {
      "image/png": "[encoded data removed]",
      "text/plain": [
       "<Figure size 432x288 with 1 Axes>"
      ]
     },
     "metadata": {},
     "output_type": "display_data"
    }
   ],
   "source": [
    "ana1.head().plot.bar()"
   ]
  },
  {
   "cell_type": "code",
   "execution_count": 24,
   "metadata": {
    "scrolled": false,
    "slideshow": {
     "slide_type": "slide"
    }
   },
   "outputs": [
    {
     "data": {
      "text/plain": [
       "<matplotlib.axes._subplots.AxesSubplot at 0x7da41b0>"
      ]
     },
     "execution_count": 24,
     "metadata": {},
     "output_type": "execute_result"
    },
    {
     "data": {
      "image/png": "[encoded data removed]",
      "text/plain": [
       "<Figure size 432x288 with 1 Axes>"
      ]
     },
     "metadata": {},
     "output_type": "display_data"
    }
   ],
   "source": [
    "ana1.head().plot(kind='bar')"
   ]
  },
  {
   "cell_type": "code",
   "execution_count": 25,
   "metadata": {
    "scrolled": false,
    "slideshow": {
     "slide_type": "slide"
    }
   },
   "outputs": [
    {
     "data": {
      "text/html": [
       "<div>\n",
       "<style scoped>\n",
       "    .dataframe tbody tr th:only-of-type {\n",
       "        vertical-align: middle;\n",
       "    }\n",
       "\n",
       "    .dataframe tbody tr th {\n",
       "        vertical-align: top;\n",
       "    }\n",
       "\n",
       "    .dataframe thead th {\n",
       "        text-align: right;\n",
       "    }\n",
       "</style>\n",
       "<table border=\"1\" class=\"dataframe\">\n",
       "  <thead>\n",
       "    <tr style=\"text-align: right;\">\n",
       "      <th>city</th>\n",
       "      <th>上海</th>\n",
       "      <th>北京</th>\n",
       "      <th>南京</th>\n",
       "      <th>厦门</th>\n",
       "      <th>天津</th>\n",
       "      <th>...</th>\n",
       "      <th>武汉</th>\n",
       "      <th>深圳</th>\n",
       "      <th>苏州</th>\n",
       "      <th>西安</th>\n",
       "      <th>长沙</th>\n",
       "    </tr>\n",
       "    <tr>\n",
       "      <th>workYear</th>\n",
       "      <th></th>\n",
       "      <th></th>\n",
       "      <th></th>\n",
       "      <th></th>\n",
       "      <th></th>\n",
       "      <th></th>\n",
       "      <th></th>\n",
       "      <th></th>\n",
       "      <th></th>\n",
       "      <th></th>\n",
       "      <th></th>\n",
       "    </tr>\n",
       "  </thead>\n",
       "  <tbody>\n",
       "    <tr>\n",
       "      <th>1-3年</th>\n",
       "      <td>322</td>\n",
       "      <td>1325</td>\n",
       "      <td>24</td>\n",
       "      <td>15</td>\n",
       "      <td>6</td>\n",
       "      <td>...</td>\n",
       "      <td>20</td>\n",
       "      <td>150</td>\n",
       "      <td>11</td>\n",
       "      <td>24</td>\n",
       "      <td>9</td>\n",
       "    </tr>\n",
       "    <tr>\n",
       "      <th>10年以上</th>\n",
       "      <td>4</td>\n",
       "      <td>14</td>\n",
       "      <td>0</td>\n",
       "      <td>0</td>\n",
       "      <td>0</td>\n",
       "      <td>...</td>\n",
       "      <td>0</td>\n",
       "      <td>5</td>\n",
       "      <td>0</td>\n",
       "      <td>0</td>\n",
       "      <td>0</td>\n",
       "    </tr>\n",
       "    <tr>\n",
       "      <th>1年以下</th>\n",
       "      <td>16</td>\n",
       "      <td>48</td>\n",
       "      <td>2</td>\n",
       "      <td>0</td>\n",
       "      <td>0</td>\n",
       "      <td>...</td>\n",
       "      <td>1</td>\n",
       "      <td>2</td>\n",
       "      <td>0</td>\n",
       "      <td>0</td>\n",
       "      <td>0</td>\n",
       "    </tr>\n",
       "    <tr>\n",
       "      <th>3-5年</th>\n",
       "      <td>341</td>\n",
       "      <td>1607</td>\n",
       "      <td>25</td>\n",
       "      <td>5</td>\n",
       "      <td>5</td>\n",
       "      <td>...</td>\n",
       "      <td>27</td>\n",
       "      <td>200</td>\n",
       "      <td>15</td>\n",
       "      <td>14</td>\n",
       "      <td>10</td>\n",
       "    </tr>\n",
       "    <tr>\n",
       "      <th>5-10年</th>\n",
       "      <td>138</td>\n",
       "      <td>449</td>\n",
       "      <td>5</td>\n",
       "      <td>0</td>\n",
       "      <td>1</td>\n",
       "      <td>...</td>\n",
       "      <td>11</td>\n",
       "      <td>83</td>\n",
       "      <td>7</td>\n",
       "      <td>5</td>\n",
       "      <td>1</td>\n",
       "    </tr>\n",
       "    <tr>\n",
       "      <th>不限</th>\n",
       "      <td>126</td>\n",
       "      <td>631</td>\n",
       "      <td>23</td>\n",
       "      <td>9</td>\n",
       "      <td>7</td>\n",
       "      <td>...</td>\n",
       "      <td>8</td>\n",
       "      <td>74</td>\n",
       "      <td>3</td>\n",
       "      <td>6</td>\n",
       "      <td>4</td>\n",
       "    </tr>\n",
       "    <tr>\n",
       "      <th>应届毕业生</th>\n",
       "      <td>33</td>\n",
       "      <td>103</td>\n",
       "      <td>4</td>\n",
       "      <td>1</td>\n",
       "      <td>1</td>\n",
       "      <td>...</td>\n",
       "      <td>2</td>\n",
       "      <td>13</td>\n",
       "      <td>1</td>\n",
       "      <td>2</td>\n",
       "      <td>1</td>\n",
       "    </tr>\n",
       "  </tbody>\n",
       "</table>\n",
       "<p>7 rows × 13 columns</p>\n",
       "</div>"
      ],
      "text/plain": [
       "city       上海    北京  南京  厦门  天津 ...  武汉   深圳  苏州  西安  长沙\n",
       "workYear                        ...                     \n",
       "1-3年      322  1325  24  15   6 ...  20  150  11  24   9\n",
       "10年以上       4    14   0   0   0 ...   0    5   0   0   0\n",
       "1年以下       16    48   2   0   0 ...   1    2   0   0   0\n",
       "3-5年      341  1607  25   5   5 ...  27  200  15  14  10\n",
       "5-10年     138   449   5   0   1 ...  11   83   7   5   1\n",
       "不限        126   631  23   9   7 ...   8   74   3   6   4\n",
       "应届毕业生      33   103   4   1   1 ...   2   13   1   2   1\n",
       "\n",
       "[7 rows x 13 columns]"
      ]
     },
     "execution_count": 25,
     "metadata": {},
     "output_type": "execute_result"
    }
   ],
   "source": [
    "pd.crosstab(ana.workYear,ana.city)"
   ]
  },
  {
   "cell_type": "code",
   "execution_count": 26,
   "metadata": {
    "scrolled": true,
    "slideshow": {
     "slide_type": "subslide"
    }
   },
   "outputs": [
    {
     "data": {
      "text/html": [
       "<div>\n",
       "<style scoped>\n",
       "    .dataframe tbody tr th:only-of-type {\n",
       "        vertical-align: middle;\n",
       "    }\n",
       "\n",
       "    .dataframe tbody tr th {\n",
       "        vertical-align: top;\n",
       "    }\n",
       "\n",
       "    .dataframe thead th {\n",
       "        text-align: right;\n",
       "    }\n",
       "</style>\n",
       "<table border=\"1\" class=\"dataframe\">\n",
       "  <thead>\n",
       "    <tr style=\"text-align: right;\">\n",
       "      <th>workYear</th>\n",
       "      <th>1-3年</th>\n",
       "      <th>10年以上</th>\n",
       "      <th>1年以下</th>\n",
       "      <th>3-5年</th>\n",
       "      <th>5-10年</th>\n",
       "      <th>不限</th>\n",
       "      <th>应届毕业生</th>\n",
       "    </tr>\n",
       "    <tr>\n",
       "      <th>city</th>\n",
       "      <th></th>\n",
       "      <th></th>\n",
       "      <th></th>\n",
       "      <th></th>\n",
       "      <th></th>\n",
       "      <th></th>\n",
       "      <th></th>\n",
       "    </tr>\n",
       "  </thead>\n",
       "  <tbody>\n",
       "    <tr>\n",
       "      <th>上海</th>\n",
       "      <td>322</td>\n",
       "      <td>4</td>\n",
       "      <td>16</td>\n",
       "      <td>341</td>\n",
       "      <td>138</td>\n",
       "      <td>126</td>\n",
       "      <td>33</td>\n",
       "    </tr>\n",
       "    <tr>\n",
       "      <th>北京</th>\n",
       "      <td>1325</td>\n",
       "      <td>14</td>\n",
       "      <td>48</td>\n",
       "      <td>1607</td>\n",
       "      <td>449</td>\n",
       "      <td>631</td>\n",
       "      <td>103</td>\n",
       "    </tr>\n",
       "    <tr>\n",
       "      <th>南京</th>\n",
       "      <td>24</td>\n",
       "      <td>0</td>\n",
       "      <td>2</td>\n",
       "      <td>25</td>\n",
       "      <td>5</td>\n",
       "      <td>23</td>\n",
       "      <td>4</td>\n",
       "    </tr>\n",
       "    <tr>\n",
       "      <th>厦门</th>\n",
       "      <td>15</td>\n",
       "      <td>0</td>\n",
       "      <td>0</td>\n",
       "      <td>5</td>\n",
       "      <td>0</td>\n",
       "      <td>9</td>\n",
       "      <td>1</td>\n",
       "    </tr>\n",
       "    <tr>\n",
       "      <th>天津</th>\n",
       "      <td>6</td>\n",
       "      <td>0</td>\n",
       "      <td>0</td>\n",
       "      <td>5</td>\n",
       "      <td>1</td>\n",
       "      <td>7</td>\n",
       "      <td>1</td>\n",
       "    </tr>\n",
       "    <tr>\n",
       "      <th>...</th>\n",
       "      <td>...</td>\n",
       "      <td>...</td>\n",
       "      <td>...</td>\n",
       "      <td>...</td>\n",
       "      <td>...</td>\n",
       "      <td>...</td>\n",
       "      <td>...</td>\n",
       "    </tr>\n",
       "    <tr>\n",
       "      <th>武汉</th>\n",
       "      <td>20</td>\n",
       "      <td>0</td>\n",
       "      <td>1</td>\n",
       "      <td>27</td>\n",
       "      <td>11</td>\n",
       "      <td>8</td>\n",
       "      <td>2</td>\n",
       "    </tr>\n",
       "    <tr>\n",
       "      <th>深圳</th>\n",
       "      <td>150</td>\n",
       "      <td>5</td>\n",
       "      <td>2</td>\n",
       "      <td>200</td>\n",
       "      <td>83</td>\n",
       "      <td>74</td>\n",
       "      <td>13</td>\n",
       "    </tr>\n",
       "    <tr>\n",
       "      <th>苏州</th>\n",
       "      <td>11</td>\n",
       "      <td>0</td>\n",
       "      <td>0</td>\n",
       "      <td>15</td>\n",
       "      <td>7</td>\n",
       "      <td>3</td>\n",
       "      <td>1</td>\n",
       "    </tr>\n",
       "    <tr>\n",
       "      <th>西安</th>\n",
       "      <td>24</td>\n",
       "      <td>0</td>\n",
       "      <td>0</td>\n",
       "      <td>14</td>\n",
       "      <td>5</td>\n",
       "      <td>6</td>\n",
       "      <td>2</td>\n",
       "    </tr>\n",
       "    <tr>\n",
       "      <th>长沙</th>\n",
       "      <td>9</td>\n",
       "      <td>0</td>\n",
       "      <td>0</td>\n",
       "      <td>10</td>\n",
       "      <td>1</td>\n",
       "      <td>4</td>\n",
       "      <td>1</td>\n",
       "    </tr>\n",
       "  </tbody>\n",
       "</table>\n",
       "<p>13 rows × 7 columns</p>\n",
       "</div>"
      ],
      "text/plain": [
       "workYear  1-3年  10年以上  1年以下  3-5年  5-10年   不限  应届毕业生\n",
       "city                                                \n",
       "上海         322      4    16   341    138  126     33\n",
       "北京        1325     14    48  1607    449  631    103\n",
       "南京          24      0     2    25      5   23      4\n",
       "厦门          15      0     0     5      0    9      1\n",
       "天津           6      0     0     5      1    7      1\n",
       "...        ...    ...   ...   ...    ...  ...    ...\n",
       "武汉          20      0     1    27     11    8      2\n",
       "深圳         150      5     2   200     83   74     13\n",
       "苏州          11      0     0    15      7    3      1\n",
       "西安          24      0     0    14      5    6      2\n",
       "长沙           9      0     0    10      1    4      1\n",
       "\n",
       "[13 rows x 7 columns]"
      ]
     },
     "execution_count": 26,
     "metadata": {},
     "output_type": "execute_result"
    }
   ],
   "source": [
    "pd.crosstab(ana.city,ana.workYear)"
   ]
  },
  {
   "cell_type": "code",
   "execution_count": 27,
   "metadata": {
    "scrolled": true,
    "slideshow": {
     "slide_type": "slide"
    }
   },
   "outputs": [
    {
     "data": {
      "text/html": [
       "<div>\n",
       "<style scoped>\n",
       "    .dataframe tbody tr th:only-of-type {\n",
       "        vertical-align: middle;\n",
       "    }\n",
       "\n",
       "    .dataframe tbody tr th {\n",
       "        vertical-align: top;\n",
       "    }\n",
       "\n",
       "    .dataframe thead th {\n",
       "        text-align: right;\n",
       "    }\n",
       "</style>\n",
       "<table border=\"1\" class=\"dataframe\">\n",
       "  <thead>\n",
       "    <tr style=\"text-align: right;\">\n",
       "      <th></th>\n",
       "      <th>city</th>\n",
       "      <th>上海</th>\n",
       "      <th>北京</th>\n",
       "      <th>南京</th>\n",
       "      <th>厦门</th>\n",
       "      <th>天津</th>\n",
       "      <th>...</th>\n",
       "      <th>武汉</th>\n",
       "      <th>深圳</th>\n",
       "      <th>苏州</th>\n",
       "      <th>西安</th>\n",
       "      <th>长沙</th>\n",
       "    </tr>\n",
       "    <tr>\n",
       "      <th>workYear</th>\n",
       "      <th>companySize</th>\n",
       "      <th></th>\n",
       "      <th></th>\n",
       "      <th></th>\n",
       "      <th></th>\n",
       "      <th></th>\n",
       "      <th></th>\n",
       "      <th></th>\n",
       "      <th></th>\n",
       "      <th></th>\n",
       "      <th></th>\n",
       "      <th></th>\n",
       "    </tr>\n",
       "  </thead>\n",
       "  <tbody>\n",
       "    <tr>\n",
       "      <th rowspan=\"5\" valign=\"top\">1-3年</th>\n",
       "      <th>15-50人</th>\n",
       "      <td>44</td>\n",
       "      <td>134</td>\n",
       "      <td>4</td>\n",
       "      <td>3</td>\n",
       "      <td>1</td>\n",
       "      <td>...</td>\n",
       "      <td>6</td>\n",
       "      <td>22</td>\n",
       "      <td>1</td>\n",
       "      <td>2</td>\n",
       "      <td>0</td>\n",
       "    </tr>\n",
       "    <tr>\n",
       "      <th>150-500人</th>\n",
       "      <td>74</td>\n",
       "      <td>274</td>\n",
       "      <td>5</td>\n",
       "      <td>5</td>\n",
       "      <td>2</td>\n",
       "      <td>...</td>\n",
       "      <td>4</td>\n",
       "      <td>31</td>\n",
       "      <td>3</td>\n",
       "      <td>8</td>\n",
       "      <td>3</td>\n",
       "    </tr>\n",
       "    <tr>\n",
       "      <th>2000人以上</th>\n",
       "      <td>66</td>\n",
       "      <td>486</td>\n",
       "      <td>4</td>\n",
       "      <td>1</td>\n",
       "      <td>1</td>\n",
       "      <td>...</td>\n",
       "      <td>4</td>\n",
       "      <td>42</td>\n",
       "      <td>2</td>\n",
       "      <td>4</td>\n",
       "      <td>3</td>\n",
       "    </tr>\n",
       "    <tr>\n",
       "      <th>50-150人</th>\n",
       "      <td>59</td>\n",
       "      <td>172</td>\n",
       "      <td>5</td>\n",
       "      <td>1</td>\n",
       "      <td>2</td>\n",
       "      <td>...</td>\n",
       "      <td>2</td>\n",
       "      <td>23</td>\n",
       "      <td>5</td>\n",
       "      <td>6</td>\n",
       "      <td>2</td>\n",
       "    </tr>\n",
       "    <tr>\n",
       "      <th>500-2000人</th>\n",
       "      <td>72</td>\n",
       "      <td>230</td>\n",
       "      <td>4</td>\n",
       "      <td>5</td>\n",
       "      <td>0</td>\n",
       "      <td>...</td>\n",
       "      <td>3</td>\n",
       "      <td>27</td>\n",
       "      <td>0</td>\n",
       "      <td>2</td>\n",
       "      <td>1</td>\n",
       "    </tr>\n",
       "    <tr>\n",
       "      <th>...</th>\n",
       "      <th>...</th>\n",
       "      <td>...</td>\n",
       "      <td>...</td>\n",
       "      <td>...</td>\n",
       "      <td>...</td>\n",
       "      <td>...</td>\n",
       "      <td>...</td>\n",
       "      <td>...</td>\n",
       "      <td>...</td>\n",
       "      <td>...</td>\n",
       "      <td>...</td>\n",
       "      <td>...</td>\n",
       "    </tr>\n",
       "    <tr>\n",
       "      <th rowspan=\"5\" valign=\"top\">应届毕业生</th>\n",
       "      <th>150-500人</th>\n",
       "      <td>11</td>\n",
       "      <td>19</td>\n",
       "      <td>2</td>\n",
       "      <td>0</td>\n",
       "      <td>0</td>\n",
       "      <td>...</td>\n",
       "      <td>1</td>\n",
       "      <td>4</td>\n",
       "      <td>1</td>\n",
       "      <td>2</td>\n",
       "      <td>0</td>\n",
       "    </tr>\n",
       "    <tr>\n",
       "      <th>2000人以上</th>\n",
       "      <td>5</td>\n",
       "      <td>27</td>\n",
       "      <td>0</td>\n",
       "      <td>1</td>\n",
       "      <td>1</td>\n",
       "      <td>...</td>\n",
       "      <td>0</td>\n",
       "      <td>1</td>\n",
       "      <td>0</td>\n",
       "      <td>0</td>\n",
       "      <td>0</td>\n",
       "    </tr>\n",
       "    <tr>\n",
       "      <th>50-150人</th>\n",
       "      <td>4</td>\n",
       "      <td>22</td>\n",
       "      <td>1</td>\n",
       "      <td>0</td>\n",
       "      <td>0</td>\n",
       "      <td>...</td>\n",
       "      <td>0</td>\n",
       "      <td>4</td>\n",
       "      <td>0</td>\n",
       "      <td>0</td>\n",
       "      <td>1</td>\n",
       "    </tr>\n",
       "    <tr>\n",
       "      <th>500-2000人</th>\n",
       "      <td>7</td>\n",
       "      <td>26</td>\n",
       "      <td>1</td>\n",
       "      <td>0</td>\n",
       "      <td>0</td>\n",
       "      <td>...</td>\n",
       "      <td>1</td>\n",
       "      <td>2</td>\n",
       "      <td>0</td>\n",
       "      <td>0</td>\n",
       "      <td>0</td>\n",
       "    </tr>\n",
       "    <tr>\n",
       "      <th>少于15人</th>\n",
       "      <td>2</td>\n",
       "      <td>2</td>\n",
       "      <td>0</td>\n",
       "      <td>0</td>\n",
       "      <td>0</td>\n",
       "      <td>...</td>\n",
       "      <td>0</td>\n",
       "      <td>0</td>\n",
       "      <td>0</td>\n",
       "      <td>0</td>\n",
       "      <td>0</td>\n",
       "    </tr>\n",
       "  </tbody>\n",
       "</table>\n",
       "<p>41 rows × 13 columns</p>\n",
       "</div>"
      ],
      "text/plain": [
       "city                  上海   北京  南京  厦门  天津 ...  武汉  深圳  苏州  西安  长沙\n",
       "workYear companySize                      ...                    \n",
       "1-3年     15-50人       44  134   4   3   1 ...   6  22   1   2   0\n",
       "         150-500人     74  274   5   5   2 ...   4  31   3   8   3\n",
       "         2000人以上      66  486   4   1   1 ...   4  42   2   4   3\n",
       "         50-150人      59  172   5   1   2 ...   2  23   5   6   2\n",
       "         500-2000人    72  230   4   5   0 ...   3  27   0   2   1\n",
       "...                   ..  ...  ..  ..  .. ...  ..  ..  ..  ..  ..\n",
       "应届毕业生    150-500人     11   19   2   0   0 ...   1   4   1   2   0\n",
       "         2000人以上       5   27   0   1   1 ...   0   1   0   0   0\n",
       "         50-150人       4   22   1   0   0 ...   0   4   0   0   1\n",
       "         500-2000人     7   26   1   0   0 ...   1   2   0   0   0\n",
       "         少于15人         2    2   0   0   0 ...   0   0   0   0   0\n",
       "\n",
       "[41 rows x 13 columns]"
      ]
     },
     "execution_count": 27,
     "metadata": {},
     "output_type": "execute_result"
    }
   ],
   "source": [
    "pd.crosstab([ana.workYear,ana.companySize],ana.city)"
   ]
  },
  {
   "cell_type": "code",
   "execution_count": 28,
   "metadata": {
    "scrolled": false,
    "slideshow": {
     "slide_type": "slide"
    }
   },
   "outputs": [
    {
     "data": {
      "text/plain": [
       "<matplotlib.axes._subplots.AxesSubplot at 0x8fd4710>"
      ]
     },
     "execution_count": 28,
     "metadata": {},
     "output_type": "execute_result"
    },
    {
     "data": {
      "image/png": "[encoded data removed]",
      "text/plain": [
       "<Figure size 432x288 with 1 Axes>"
      ]
     },
     "metadata": {},
     "output_type": "display_data"
    }
   ],
   "source": [
    "pd.crosstab(ana.workYear,ana.city).plot.bar(stacked=True)"
   ]
  },
  {
   "cell_type": "markdown",
   "metadata": {
    "slideshow": {
     "slide_type": "skip"
    }
   },
   "source": [
    "* 比例条形图"
   ]
  },
  {
   "cell_type": "code",
   "execution_count": 29,
   "metadata": {
    "scrolled": false,
    "slideshow": {
     "slide_type": "slide"
    }
   },
   "outputs": [
    {
     "data": {
      "text/plain": [
       "<matplotlib.axes._subplots.AxesSubplot at 0x93eba70>"
      ]
     },
     "execution_count": 29,
     "metadata": {},
     "output_type": "execute_result"
    },
    {
     "data": {
      "image/png": "[encoded data removed]",
      "text/plain": [
       "<Figure size 432x288 with 1 Axes>"
      ]
     },
     "metadata": {},
     "output_type": "display_data"
    }
   ],
   "source": [
    "anacross = pd.crosstab(ana.workYear,ana.city)\n",
    "anacross.div(anacross.sum(1).astype(float),axis=0).plot.barh(stacked=True)"
   ]
  },
  {
   "cell_type": "markdown",
   "metadata": {
    "slideshow": {
     "slide_type": "slide"
    }
   },
   "source": [
    "## boxplot()\n",
    "* bottom\n",
    "* by"
   ]
  },
  {
   "cell_type": "code",
   "execution_count": 30,
   "metadata": {
    "scrolled": false,
    "slideshow": {
     "slide_type": "slide"
    }
   },
   "outputs": [
    {
     "data": {
      "text/plain": [
       "<matplotlib.axes._subplots.AxesSubplot at 0x9474f30>"
      ]
     },
     "execution_count": 30,
     "metadata": {},
     "output_type": "execute_result"
    },
    {
     "data": {
      "image/png": "[encoded data removed]",
      "text/plain": [
       "<Figure size 432x288 with 1 Axes>"
      ]
     },
     "metadata": {},
     "output_type": "display_data"
    }
   ],
   "source": [
    "ana.boxplot(column='bottom',by='workYear',grid=False)"
   ]
  },
  {
   "cell_type": "code",
   "execution_count": 31,
   "metadata": {
    "scrolled": false,
    "slideshow": {
     "slide_type": "slide"
    }
   },
   "outputs": [
    {
     "name": "stdout",
     "output_type": "stream",
     "text": [
      "<class 'pandas.core.frame.DataFrame'>\n",
      "RangeIndex: 6876 entries, 0 to 6875\n",
      "Data columns (total 21 columns):\n",
      "city                 6876 non-null object\n",
      "companyFullName      6876 non-null object\n",
      "companyId            6876 non-null int64\n",
      "companyLabelList     6170 non-null object\n",
      "companyShortName     6876 non-null object\n",
      "companySize          6876 non-null object\n",
      "businessZones        4873 non-null object\n",
      "firstType            6869 non-null object\n",
      "secondType           6870 non-null object\n",
      "education            6876 non-null object\n",
      "industryField        6876 non-null object\n",
      "positionId           6876 non-null int64\n",
      "positionAdvantage    6876 non-null object\n",
      "positionName         6876 non-null object\n",
      "positionLables       6844 non-null object\n",
      "salary               6876 non-null object\n",
      "bottom               6876 non-null int64\n",
      "top                  6876 non-null int64\n",
      "workYear             6876 non-null object\n",
      "a                    6876 non-null object\n",
      "b                    6823 non-null object\n",
      "dtypes: int64(4), object(17)\n",
      "memory usage: 671.5+ KB\n"
     ]
    }
   ],
   "source": [
    "ana.info()"
   ]
  },
  {
   "cell_type": "code",
   "execution_count": 32,
   "metadata": {
    "scrolled": false,
    "slideshow": {
     "slide_type": "slide"
    }
   },
   "outputs": [
    {
     "data": {
      "text/plain": [
       "(0, 61)"
      ]
     },
     "execution_count": 32,
     "metadata": {},
     "output_type": "execute_result"
    },
    {
     "data": {
      "image/png": "[encoded data removed]",
      "text/plain": [
       "<Figure size 432x288 with 1 Axes>"
      ]
     },
     "metadata": {},
     "output_type": "display_data"
    }
   ],
   "source": [
    "plt.scatter(ana.top,ana.bottom)\n",
    "plt.xlim(0,110)\n",
    "plt.ylim(0,61)"
   ]
  },
  {
   "cell_type": "markdown",
   "metadata": {
    "slideshow": {
     "slide_type": "slide"
    }
   },
   "source": [
    "# 散点图矩阵"
   ]
  },
  {
   "cell_type": "code",
   "execution_count": 33,
   "metadata": {
    "scrolled": false,
    "slideshow": {
     "slide_type": "slide"
    }
   },
   "outputs": [
    {
     "name": "stderr",
     "output_type": "stream",
     "text": [
      "d:\\ProgramData\\Anaconda3\\lib\\site-packages\\ipykernel_launcher.py:1: FutureWarning: pandas.scatter_matrix is deprecated, use pandas.plotting.scatter_matrix instead\n",
      "  \"\"\"Entry point for launching an IPython kernel.\n"
     ]
    },
    {
     "data": {
      "text/plain": [
       "array([[<matplotlib.axes._subplots.AxesSubplot object at 0x09BDECD0>,\n",
       "        <matplotlib.axes._subplots.AxesSubplot object at 0x09BDE630>,\n",
       "        <matplotlib.axes._subplots.AxesSubplot object at 0x09BBA9B0>,\n",
       "        <matplotlib.axes._subplots.AxesSubplot object at 0x09C0AB50>],\n",
       "       [<matplotlib.axes._subplots.AxesSubplot object at 0x09C25CB0>,\n",
       "        <matplotlib.axes._subplots.AxesSubplot object at 0x09C25CD0>,\n",
       "        <matplotlib.axes._subplots.AxesSubplot object at 0x09C3EE30>,\n",
       "        <matplotlib.axes._subplots.AxesSubplot object at 0x09C80130>],\n",
       "       [<matplotlib.axes._subplots.AxesSubplot object at 0x09C9B270>,\n",
       "        <matplotlib.axes._subplots.AxesSubplot object at 0x09CB73D0>,\n",
       "        <matplotlib.axes._subplots.AxesSubplot object at 0x09CD14F0>,\n",
       "        <matplotlib.axes._subplots.AxesSubplot object at 0x09F0C650>],\n",
       "       [<matplotlib.axes._subplots.AxesSubplot object at 0x09F287B0>,\n",
       "        <matplotlib.axes._subplots.AxesSubplot object at 0x09F41910>,\n",
       "        <matplotlib.axes._subplots.AxesSubplot object at 0x09F5EA70>,\n",
       "        <matplotlib.axes._subplots.AxesSubplot object at 0x09F7ABD0>]],\n",
       "      dtype=object)"
      ]
     },
     "execution_count": 33,
     "metadata": {},
     "output_type": "execute_result"
    },
    {
     "data": {
      "image/png": "[encoded data removed]",
      "text/plain": [
       "<Figure size 432x288 with 16 Axes>"
      ]
     },
     "metadata": {},
     "output_type": "display_data"
    }
   ],
   "source": [
    "pd.scatter_matrix(ana,diagonal='kde')"
   ]
  },
  {
   "cell_type": "code",
   "execution_count": 9,
   "metadata": {
    "scrolled": false
   },
   "outputs": [
    {
     "ename": "SyntaxError",
     "evalue": "invalid syntax (<ipython-input-9-630287be4456>, line 1)",
     "output_type": "error",
     "traceback": [
      "\u001b[1;36m  File \u001b[1;32m\"<ipython-input-9-630287be4456>\"\u001b[1;36m, line \u001b[1;32m1\u001b[0m\n\u001b[1;33m    $ jupyter nbconvert demo.ipynb --to slides --post serve\u001b[0m\n\u001b[1;37m    ^\u001b[0m\n\u001b[1;31mSyntaxError\u001b[0m\u001b[1;31m:\u001b[0m invalid syntax\n"
     ]
    }
   ],
   "source": [
    "$ jupyter nbconvert demo.ipynb --to slides --post serve"
   ]
  },
  {
   "cell_type": "code",
   "execution_count": null,
   "metadata": {},
   "outputs": [],
   "source": [
    "jupyter-nbconvert --to slides 20181216数据可视化.ipynb --reveal-prefix  'https://cdn.bootcss.com/reveal.js/3.5.0' --output 测试\n"
   ]
  }
 ],
 "metadata": {
  "celltoolbar": "Slideshow",
  "kernelspec": {
   "display_name": "Python 3",
   "language": "python",
   "name": "python3"
  },
  "language_info": {
   "codemirror_mode": {
    "name": "ipython",
    "version": 3
   },
   "file_extension": ".py",
   "mimetype": "text/x-python",
   "name": "python",
   "nbconvert_exporter": "python",
   "pygments_lexer": "ipython3",
   "version": "3.6.5"
  },
  "widgets": {
   "application/vnd.jupyter.widget-state+json": {
    "state": {},
    "version_major": 2,
    "version_minor": 0
   }
  }
 },
 "nbformat": 4,
 "nbformat_minor": 2
}
