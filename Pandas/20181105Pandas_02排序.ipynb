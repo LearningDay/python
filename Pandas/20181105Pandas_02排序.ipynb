{
 "cells": [
  {
   "cell_type": "code",
   "execution_count": 1,
   "metadata": {},
   "outputs": [],
   "source": [
    "import numpy as np\n",
    "import pandas as pd\n",
    "from pandas import Series, DataFrame"
   ]
  },
  {
   "cell_type": "code",
   "execution_count": 2,
   "metadata": {},
   "outputs": [
    {
     "data": {
      "text/plain": [
       " 8   -0.863520\n",
       " 6    1.859289\n",
       " 4   -0.311407\n",
       " 2    0.221765\n",
       " 0   -1.043600\n",
       "-2   -1.301695\n",
       "dtype: float64"
      ]
     },
     "execution_count": 2,
     "metadata": {},
     "output_type": "execute_result"
    }
   ],
   "source": [
    "s1 = Series(np.random.randn(6),index=np.arange(8,-3,-2))\n",
    "s1"
   ]
  },
  {
   "cell_type": "code",
   "execution_count": 3,
   "metadata": {},
   "outputs": [
    {
     "data": {
      "text/plain": [
       "-2   -1.301695\n",
       " 0   -1.043600\n",
       " 8   -0.863520\n",
       " 4   -0.311407\n",
       " 2    0.221765\n",
       " 6    1.859289\n",
       "dtype: float64"
      ]
     },
     "execution_count": 3,
     "metadata": {},
     "output_type": "execute_result"
    }
   ],
   "source": [
    "s1.sort_values()"
   ]
  },
  {
   "cell_type": "code",
   "execution_count": 4,
   "metadata": {},
   "outputs": [
    {
     "data": {
      "text/plain": [
       "-2   -1.301695\n",
       " 0   -1.043600\n",
       " 2    0.221765\n",
       " 4   -0.311407\n",
       " 6    1.859289\n",
       " 8   -0.863520\n",
       "dtype: float64"
      ]
     },
     "execution_count": 4,
     "metadata": {},
     "output_type": "execute_result"
    }
   ],
   "source": [
    "s1.sort_index()"
   ]
  },
  {
   "cell_type": "code",
   "execution_count": 5,
   "metadata": {},
   "outputs": [
    {
     "data": {
      "text/plain": [
       "-2   -1.301695\n",
       " 0   -1.043600\n",
       " 8   -0.863520\n",
       " 4   -0.311407\n",
       " 2    0.221765\n",
       " 6    1.859289\n",
       "dtype: float64"
      ]
     },
     "execution_count": 5,
     "metadata": {},
     "output_type": "execute_result"
    }
   ],
   "source": [
    "s2 = s1.sort_values()\n",
    "s2"
   ]
  },
  {
   "cell_type": "code",
   "execution_count": 6,
   "metadata": {},
   "outputs": [
    {
     "data": {
      "text/plain": [
       "-2   -1.301695\n",
       " 0   -1.043600\n",
       " 2    0.221765\n",
       " 4   -0.311407\n",
       " 6    1.859289\n",
       " 8   -0.863520\n",
       "dtype: float64"
      ]
     },
     "execution_count": 6,
     "metadata": {},
     "output_type": "execute_result"
    }
   ],
   "source": [
    "s2.sort_index()"
   ]
  },
  {
   "cell_type": "markdown",
   "metadata": {},
   "source": [
    "# DataFrame"
   ]
  },
  {
   "cell_type": "code",
   "execution_count": 7,
   "metadata": {},
   "outputs": [
    {
     "data": {
      "text/html": [
       "<div>\n",
       "<style scoped>\n",
       "    .dataframe tbody tr th:only-of-type {\n",
       "        vertical-align: middle;\n",
       "    }\n",
       "\n",
       "    .dataframe tbody tr th {\n",
       "        vertical-align: top;\n",
       "    }\n",
       "\n",
       "    .dataframe thead th {\n",
       "        text-align: right;\n",
       "    }\n",
       "</style>\n",
       "<table border=\"1\" class=\"dataframe\">\n",
       "  <thead>\n",
       "    <tr style=\"text-align: right;\">\n",
       "      <th></th>\n",
       "      <th>A</th>\n",
       "      <th>B</th>\n",
       "      <th>C</th>\n",
       "      <th>D</th>\n",
       "      <th>E</th>\n",
       "    </tr>\n",
       "  </thead>\n",
       "  <tbody>\n",
       "    <tr>\n",
       "      <th>0</th>\n",
       "      <td>-1.290332</td>\n",
       "      <td>0.525738</td>\n",
       "      <td>-1.238147</td>\n",
       "      <td>0.202805</td>\n",
       "      <td>-0.128657</td>\n",
       "    </tr>\n",
       "    <tr>\n",
       "      <th>1</th>\n",
       "      <td>-0.763939</td>\n",
       "      <td>0.103772</td>\n",
       "      <td>-1.306863</td>\n",
       "      <td>0.176121</td>\n",
       "      <td>0.179415</td>\n",
       "    </tr>\n",
       "    <tr>\n",
       "      <th>2</th>\n",
       "      <td>0.267809</td>\n",
       "      <td>-0.827189</td>\n",
       "      <td>-0.743813</td>\n",
       "      <td>-1.218240</td>\n",
       "      <td>-0.666721</td>\n",
       "    </tr>\n",
       "    <tr>\n",
       "      <th>3</th>\n",
       "      <td>0.492695</td>\n",
       "      <td>-0.068858</td>\n",
       "      <td>-0.659892</td>\n",
       "      <td>-0.282269</td>\n",
       "      <td>0.877629</td>\n",
       "    </tr>\n",
       "    <tr>\n",
       "      <th>4</th>\n",
       "      <td>-0.416463</td>\n",
       "      <td>0.424417</td>\n",
       "      <td>-2.007946</td>\n",
       "      <td>-0.185576</td>\n",
       "      <td>0.430925</td>\n",
       "    </tr>\n",
       "    <tr>\n",
       "      <th>5</th>\n",
       "      <td>-1.305005</td>\n",
       "      <td>-1.047216</td>\n",
       "      <td>-0.155837</td>\n",
       "      <td>-0.428512</td>\n",
       "      <td>-0.075725</td>\n",
       "    </tr>\n",
       "    <tr>\n",
       "      <th>6</th>\n",
       "      <td>1.732707</td>\n",
       "      <td>0.453824</td>\n",
       "      <td>0.348358</td>\n",
       "      <td>0.656413</td>\n",
       "      <td>0.399707</td>\n",
       "    </tr>\n",
       "    <tr>\n",
       "      <th>7</th>\n",
       "      <td>-1.510322</td>\n",
       "      <td>0.391661</td>\n",
       "      <td>-1.961886</td>\n",
       "      <td>-1.543931</td>\n",
       "      <td>-0.355384</td>\n",
       "    </tr>\n",
       "  </tbody>\n",
       "</table>\n",
       "</div>"
      ],
      "text/plain": [
       "          A         B         C         D         E\n",
       "0 -1.290332  0.525738 -1.238147  0.202805 -0.128657\n",
       "1 -0.763939  0.103772 -1.306863  0.176121  0.179415\n",
       "2  0.267809 -0.827189 -0.743813 -1.218240 -0.666721\n",
       "3  0.492695 -0.068858 -0.659892 -0.282269  0.877629\n",
       "4 -0.416463  0.424417 -2.007946 -0.185576  0.430925\n",
       "5 -1.305005 -1.047216 -0.155837 -0.428512 -0.075725\n",
       "6  1.732707  0.453824  0.348358  0.656413  0.399707\n",
       "7 -1.510322  0.391661 -1.961886 -1.543931 -0.355384"
      ]
     },
     "execution_count": 7,
     "metadata": {},
     "output_type": "execute_result"
    }
   ],
   "source": [
    "df1 = DataFrame(np.random.randn(40).reshape(8,5),columns=list('ABCDE'))\n",
    "df1"
   ]
  },
  {
   "cell_type": "code",
   "execution_count": 8,
   "metadata": {},
   "outputs": [
    {
     "data": {
      "text/html": [
       "<div>\n",
       "<style scoped>\n",
       "    .dataframe tbody tr th:only-of-type {\n",
       "        vertical-align: middle;\n",
       "    }\n",
       "\n",
       "    .dataframe tbody tr th {\n",
       "        vertical-align: top;\n",
       "    }\n",
       "\n",
       "    .dataframe thead th {\n",
       "        text-align: right;\n",
       "    }\n",
       "</style>\n",
       "<table border=\"1\" class=\"dataframe\">\n",
       "  <thead>\n",
       "    <tr style=\"text-align: right;\">\n",
       "      <th></th>\n",
       "      <th>A</th>\n",
       "      <th>B</th>\n",
       "      <th>C</th>\n",
       "      <th>D</th>\n",
       "      <th>E</th>\n",
       "    </tr>\n",
       "  </thead>\n",
       "  <tbody>\n",
       "    <tr>\n",
       "      <th>6</th>\n",
       "      <td>1.732707</td>\n",
       "      <td>0.453824</td>\n",
       "      <td>0.348358</td>\n",
       "      <td>0.656413</td>\n",
       "      <td>0.399707</td>\n",
       "    </tr>\n",
       "    <tr>\n",
       "      <th>3</th>\n",
       "      <td>0.492695</td>\n",
       "      <td>-0.068858</td>\n",
       "      <td>-0.659892</td>\n",
       "      <td>-0.282269</td>\n",
       "      <td>0.877629</td>\n",
       "    </tr>\n",
       "    <tr>\n",
       "      <th>2</th>\n",
       "      <td>0.267809</td>\n",
       "      <td>-0.827189</td>\n",
       "      <td>-0.743813</td>\n",
       "      <td>-1.218240</td>\n",
       "      <td>-0.666721</td>\n",
       "    </tr>\n",
       "    <tr>\n",
       "      <th>4</th>\n",
       "      <td>-0.416463</td>\n",
       "      <td>0.424417</td>\n",
       "      <td>-2.007946</td>\n",
       "      <td>-0.185576</td>\n",
       "      <td>0.430925</td>\n",
       "    </tr>\n",
       "    <tr>\n",
       "      <th>1</th>\n",
       "      <td>-0.763939</td>\n",
       "      <td>0.103772</td>\n",
       "      <td>-1.306863</td>\n",
       "      <td>0.176121</td>\n",
       "      <td>0.179415</td>\n",
       "    </tr>\n",
       "    <tr>\n",
       "      <th>0</th>\n",
       "      <td>-1.290332</td>\n",
       "      <td>0.525738</td>\n",
       "      <td>-1.238147</td>\n",
       "      <td>0.202805</td>\n",
       "      <td>-0.128657</td>\n",
       "    </tr>\n",
       "    <tr>\n",
       "      <th>5</th>\n",
       "      <td>-1.305005</td>\n",
       "      <td>-1.047216</td>\n",
       "      <td>-0.155837</td>\n",
       "      <td>-0.428512</td>\n",
       "      <td>-0.075725</td>\n",
       "    </tr>\n",
       "    <tr>\n",
       "      <th>7</th>\n",
       "      <td>-1.510322</td>\n",
       "      <td>0.391661</td>\n",
       "      <td>-1.961886</td>\n",
       "      <td>-1.543931</td>\n",
       "      <td>-0.355384</td>\n",
       "    </tr>\n",
       "  </tbody>\n",
       "</table>\n",
       "</div>"
      ],
      "text/plain": [
       "          A         B         C         D         E\n",
       "6  1.732707  0.453824  0.348358  0.656413  0.399707\n",
       "3  0.492695 -0.068858 -0.659892 -0.282269  0.877629\n",
       "2  0.267809 -0.827189 -0.743813 -1.218240 -0.666721\n",
       "4 -0.416463  0.424417 -2.007946 -0.185576  0.430925\n",
       "1 -0.763939  0.103772 -1.306863  0.176121  0.179415\n",
       "0 -1.290332  0.525738 -1.238147  0.202805 -0.128657\n",
       "5 -1.305005 -1.047216 -0.155837 -0.428512 -0.075725\n",
       "7 -1.510322  0.391661 -1.961886 -1.543931 -0.355384"
      ]
     },
     "execution_count": 8,
     "metadata": {},
     "output_type": "execute_result"
    }
   ],
   "source": [
    "df1.sort_values('A',ascending=False)"
   ]
  },
  {
   "cell_type": "code",
   "execution_count": 9,
   "metadata": {},
   "outputs": [
    {
     "data": {
      "text/html": [
       "<div>\n",
       "<style scoped>\n",
       "    .dataframe tbody tr th:only-of-type {\n",
       "        vertical-align: middle;\n",
       "    }\n",
       "\n",
       "    .dataframe tbody tr th {\n",
       "        vertical-align: top;\n",
       "    }\n",
       "\n",
       "    .dataframe thead th {\n",
       "        text-align: right;\n",
       "    }\n",
       "</style>\n",
       "<table border=\"1\" class=\"dataframe\">\n",
       "  <thead>\n",
       "    <tr style=\"text-align: right;\">\n",
       "      <th></th>\n",
       "      <th>A</th>\n",
       "      <th>B</th>\n",
       "      <th>C</th>\n",
       "      <th>D</th>\n",
       "      <th>E</th>\n",
       "    </tr>\n",
       "  </thead>\n",
       "  <tbody>\n",
       "    <tr>\n",
       "      <th>7</th>\n",
       "      <td>-1.510322</td>\n",
       "      <td>0.391661</td>\n",
       "      <td>-1.961886</td>\n",
       "      <td>-1.543931</td>\n",
       "      <td>-0.355384</td>\n",
       "    </tr>\n",
       "    <tr>\n",
       "      <th>5</th>\n",
       "      <td>-1.305005</td>\n",
       "      <td>-1.047216</td>\n",
       "      <td>-0.155837</td>\n",
       "      <td>-0.428512</td>\n",
       "      <td>-0.075725</td>\n",
       "    </tr>\n",
       "    <tr>\n",
       "      <th>0</th>\n",
       "      <td>-1.290332</td>\n",
       "      <td>0.525738</td>\n",
       "      <td>-1.238147</td>\n",
       "      <td>0.202805</td>\n",
       "      <td>-0.128657</td>\n",
       "    </tr>\n",
       "    <tr>\n",
       "      <th>1</th>\n",
       "      <td>-0.763939</td>\n",
       "      <td>0.103772</td>\n",
       "      <td>-1.306863</td>\n",
       "      <td>0.176121</td>\n",
       "      <td>0.179415</td>\n",
       "    </tr>\n",
       "    <tr>\n",
       "      <th>4</th>\n",
       "      <td>-0.416463</td>\n",
       "      <td>0.424417</td>\n",
       "      <td>-2.007946</td>\n",
       "      <td>-0.185576</td>\n",
       "      <td>0.430925</td>\n",
       "    </tr>\n",
       "    <tr>\n",
       "      <th>2</th>\n",
       "      <td>0.267809</td>\n",
       "      <td>-0.827189</td>\n",
       "      <td>-0.743813</td>\n",
       "      <td>-1.218240</td>\n",
       "      <td>-0.666721</td>\n",
       "    </tr>\n",
       "    <tr>\n",
       "      <th>3</th>\n",
       "      <td>0.492695</td>\n",
       "      <td>-0.068858</td>\n",
       "      <td>-0.659892</td>\n",
       "      <td>-0.282269</td>\n",
       "      <td>0.877629</td>\n",
       "    </tr>\n",
       "    <tr>\n",
       "      <th>6</th>\n",
       "      <td>1.732707</td>\n",
       "      <td>0.453824</td>\n",
       "      <td>0.348358</td>\n",
       "      <td>0.656413</td>\n",
       "      <td>0.399707</td>\n",
       "    </tr>\n",
       "  </tbody>\n",
       "</table>\n",
       "</div>"
      ],
      "text/plain": [
       "          A         B         C         D         E\n",
       "7 -1.510322  0.391661 -1.961886 -1.543931 -0.355384\n",
       "5 -1.305005 -1.047216 -0.155837 -0.428512 -0.075725\n",
       "0 -1.290332  0.525738 -1.238147  0.202805 -0.128657\n",
       "1 -0.763939  0.103772 -1.306863  0.176121  0.179415\n",
       "4 -0.416463  0.424417 -2.007946 -0.185576  0.430925\n",
       "2  0.267809 -0.827189 -0.743813 -1.218240 -0.666721\n",
       "3  0.492695 -0.068858 -0.659892 -0.282269  0.877629\n",
       "6  1.732707  0.453824  0.348358  0.656413  0.399707"
      ]
     },
     "execution_count": 9,
     "metadata": {},
     "output_type": "execute_result"
    }
   ],
   "source": [
    "df2 = df1.sort_values('A')\n",
    "df2"
   ]
  },
  {
   "cell_type": "code",
   "execution_count": 10,
   "metadata": {},
   "outputs": [
    {
     "data": {
      "text/html": [
       "<div>\n",
       "<style scoped>\n",
       "    .dataframe tbody tr th:only-of-type {\n",
       "        vertical-align: middle;\n",
       "    }\n",
       "\n",
       "    .dataframe tbody tr th {\n",
       "        vertical-align: top;\n",
       "    }\n",
       "\n",
       "    .dataframe thead th {\n",
       "        text-align: right;\n",
       "    }\n",
       "</style>\n",
       "<table border=\"1\" class=\"dataframe\">\n",
       "  <thead>\n",
       "    <tr style=\"text-align: right;\">\n",
       "      <th></th>\n",
       "      <th>A</th>\n",
       "      <th>B</th>\n",
       "      <th>C</th>\n",
       "      <th>D</th>\n",
       "      <th>E</th>\n",
       "    </tr>\n",
       "  </thead>\n",
       "  <tbody>\n",
       "    <tr>\n",
       "      <th>0</th>\n",
       "      <td>-1.290332</td>\n",
       "      <td>0.525738</td>\n",
       "      <td>-1.238147</td>\n",
       "      <td>0.202805</td>\n",
       "      <td>-0.128657</td>\n",
       "    </tr>\n",
       "    <tr>\n",
       "      <th>1</th>\n",
       "      <td>-0.763939</td>\n",
       "      <td>0.103772</td>\n",
       "      <td>-1.306863</td>\n",
       "      <td>0.176121</td>\n",
       "      <td>0.179415</td>\n",
       "    </tr>\n",
       "    <tr>\n",
       "      <th>2</th>\n",
       "      <td>0.267809</td>\n",
       "      <td>-0.827189</td>\n",
       "      <td>-0.743813</td>\n",
       "      <td>-1.218240</td>\n",
       "      <td>-0.666721</td>\n",
       "    </tr>\n",
       "    <tr>\n",
       "      <th>3</th>\n",
       "      <td>0.492695</td>\n",
       "      <td>-0.068858</td>\n",
       "      <td>-0.659892</td>\n",
       "      <td>-0.282269</td>\n",
       "      <td>0.877629</td>\n",
       "    </tr>\n",
       "    <tr>\n",
       "      <th>4</th>\n",
       "      <td>-0.416463</td>\n",
       "      <td>0.424417</td>\n",
       "      <td>-2.007946</td>\n",
       "      <td>-0.185576</td>\n",
       "      <td>0.430925</td>\n",
       "    </tr>\n",
       "    <tr>\n",
       "      <th>5</th>\n",
       "      <td>-1.305005</td>\n",
       "      <td>-1.047216</td>\n",
       "      <td>-0.155837</td>\n",
       "      <td>-0.428512</td>\n",
       "      <td>-0.075725</td>\n",
       "    </tr>\n",
       "    <tr>\n",
       "      <th>6</th>\n",
       "      <td>1.732707</td>\n",
       "      <td>0.453824</td>\n",
       "      <td>0.348358</td>\n",
       "      <td>0.656413</td>\n",
       "      <td>0.399707</td>\n",
       "    </tr>\n",
       "    <tr>\n",
       "      <th>7</th>\n",
       "      <td>-1.510322</td>\n",
       "      <td>0.391661</td>\n",
       "      <td>-1.961886</td>\n",
       "      <td>-1.543931</td>\n",
       "      <td>-0.355384</td>\n",
       "    </tr>\n",
       "  </tbody>\n",
       "</table>\n",
       "</div>"
      ],
      "text/plain": [
       "          A         B         C         D         E\n",
       "0 -1.290332  0.525738 -1.238147  0.202805 -0.128657\n",
       "1 -0.763939  0.103772 -1.306863  0.176121  0.179415\n",
       "2  0.267809 -0.827189 -0.743813 -1.218240 -0.666721\n",
       "3  0.492695 -0.068858 -0.659892 -0.282269  0.877629\n",
       "4 -0.416463  0.424417 -2.007946 -0.185576  0.430925\n",
       "5 -1.305005 -1.047216 -0.155837 -0.428512 -0.075725\n",
       "6  1.732707  0.453824  0.348358  0.656413  0.399707\n",
       "7 -1.510322  0.391661 -1.961886 -1.543931 -0.355384"
      ]
     },
     "execution_count": 10,
     "metadata": {},
     "output_type": "execute_result"
    }
   ],
   "source": [
    "df2.sort_index()"
   ]
  },
  {
   "cell_type": "code",
   "execution_count": null,
   "metadata": {},
   "outputs": [],
   "source": []
  }
 ],
 "metadata": {
  "kernelspec": {
   "display_name": "Python 3",
   "language": "python",
   "name": "python3"
  },
  "language_info": {
   "codemirror_mode": {
    "name": "ipython",
    "version": 3
   },
   "file_extension": ".py",
   "mimetype": "text/x-python",
   "name": "python",
   "nbconvert_exporter": "python",
   "pygments_lexer": "ipython3",
   "version": "3.6.5"
  }
 },
 "nbformat": 4,
 "nbformat_minor": 2
}
