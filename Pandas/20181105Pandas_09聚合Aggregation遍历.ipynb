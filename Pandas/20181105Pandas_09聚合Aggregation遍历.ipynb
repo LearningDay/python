{
 "cells": [
  {
   "cell_type": "code",
   "execution_count": 1,
   "metadata": {},
   "outputs": [],
   "source": [
    "import numpy as np\n",
    "import pandas as pd"
   ]
  },
  {
   "cell_type": "code",
   "execution_count": 2,
   "metadata": {},
   "outputs": [],
   "source": [
    "df = pd.read_csv('f:/test/city_weather.csv')"
   ]
  },
  {
   "cell_type": "code",
   "execution_count": 3,
   "metadata": {},
   "outputs": [],
   "source": [
    "g = df.groupby(df['city'])"
   ]
  },
  {
   "cell_type": "code",
   "execution_count": 4,
   "metadata": {},
   "outputs": [
    {
     "data": {
      "text/plain": [
       "pandas.core.groupby.groupby.DataFrameGroupBy"
      ]
     },
     "execution_count": 4,
     "metadata": {},
     "output_type": "execute_result"
    }
   ],
   "source": [
    "type(g)"
   ]
  },
  {
   "cell_type": "code",
   "execution_count": 5,
   "metadata": {},
   "outputs": [
    {
     "data": {
      "text/html": [
       "<div>\n",
       "<style scoped>\n",
       "    .dataframe tbody tr th:only-of-type {\n",
       "        vertical-align: middle;\n",
       "    }\n",
       "\n",
       "    .dataframe tbody tr th {\n",
       "        vertical-align: top;\n",
       "    }\n",
       "\n",
       "    .dataframe thead th {\n",
       "        text-align: right;\n",
       "    }\n",
       "</style>\n",
       "<table border=\"1\" class=\"dataframe\">\n",
       "  <thead>\n",
       "    <tr style=\"text-align: right;\">\n",
       "      <th></th>\n",
       "      <th>date</th>\n",
       "      <th>temperature</th>\n",
       "      <th>wind</th>\n",
       "    </tr>\n",
       "    <tr>\n",
       "      <th>city</th>\n",
       "      <th></th>\n",
       "      <th></th>\n",
       "      <th></th>\n",
       "    </tr>\n",
       "  </thead>\n",
       "  <tbody>\n",
       "    <tr>\n",
       "      <th>BJ</th>\n",
       "      <td>03/01/2016</td>\n",
       "      <td>-3</td>\n",
       "      <td>2</td>\n",
       "    </tr>\n",
       "    <tr>\n",
       "      <th>GZ</th>\n",
       "      <td>14/08/2016</td>\n",
       "      <td>-1</td>\n",
       "      <td>2</td>\n",
       "    </tr>\n",
       "    <tr>\n",
       "      <th>SH</th>\n",
       "      <td>03/07/2016</td>\n",
       "      <td>-10</td>\n",
       "      <td>2</td>\n",
       "    </tr>\n",
       "    <tr>\n",
       "      <th>SZ</th>\n",
       "      <td>11/09/2016</td>\n",
       "      <td>-10</td>\n",
       "      <td>1</td>\n",
       "    </tr>\n",
       "  </tbody>\n",
       "</table>\n",
       "</div>"
      ],
      "text/plain": [
       "            date  temperature  wind\n",
       "city                               \n",
       "BJ    03/01/2016           -3     2\n",
       "GZ    14/08/2016           -1     2\n",
       "SH    03/07/2016          -10     2\n",
       "SZ    11/09/2016          -10     1"
      ]
     },
     "execution_count": 5,
     "metadata": {},
     "output_type": "execute_result"
    }
   ],
   "source": [
    "g.agg('min')"
   ]
  },
  {
   "cell_type": "code",
   "execution_count": 6,
   "metadata": {},
   "outputs": [],
   "source": [
    "def foo(attr):\n",
    "    print(type(attr)),print(attr)\n",
    "    return np.nan"
   ]
  },
  {
   "cell_type": "code",
   "execution_count": 7,
   "metadata": {},
   "outputs": [
    {
     "name": "stdout",
     "output_type": "stream",
     "text": [
      "<class 'pandas.core.series.Series'>\n",
      "0    03/01/2016\n",
      "1    17/01/2016\n",
      "2    31/01/2016\n",
      "3    14/02/2016\n",
      "4    28/02/2016\n",
      "5    13/03/2016\n",
      "Name: date, dtype: object\n",
      "<class 'pandas.core.series.Series'>\n",
      "14    17/07/2016\n",
      "15    31/07/2016\n",
      "16    14/08/2016\n",
      "17    28/08/2016\n",
      "Name: date, dtype: object\n",
      "<class 'pandas.core.series.Series'>\n",
      "6     27/03/2016\n",
      "7     10/04/2016\n",
      "8     24/04/2016\n",
      "9     08/05/2016\n",
      "10    22/05/2016\n",
      "11    05/06/2016\n",
      "12    19/06/2016\n",
      "13    03/07/2016\n",
      "Name: date, dtype: object\n",
      "<class 'pandas.core.series.Series'>\n",
      "18    11/09/2016\n",
      "19    25/09/2016\n",
      "Name: date, dtype: object\n",
      "<class 'pandas.core.series.Series'>\n",
      "0     8\n",
      "1    12\n",
      "2    19\n",
      "3    -3\n",
      "4    19\n",
      "5     5\n",
      "Name: temperature, dtype: int64\n",
      "<class 'pandas.core.series.Series'>\n",
      "14    10\n",
      "15    -1\n",
      "16     1\n",
      "17    25\n",
      "Name: temperature, dtype: int64\n",
      "<class 'pandas.core.series.Series'>\n",
      "6     -4\n",
      "7     19\n",
      "8     20\n",
      "9     17\n",
      "10     4\n",
      "11   -10\n",
      "12     0\n",
      "13    -9\n",
      "Name: temperature, dtype: int64\n",
      "<class 'pandas.core.series.Series'>\n",
      "18    20\n",
      "19   -10\n",
      "Name: temperature, dtype: int64\n",
      "<class 'pandas.core.series.Series'>\n",
      "0    5\n",
      "1    2\n",
      "2    2\n",
      "3    3\n",
      "4    2\n",
      "5    3\n",
      "Name: wind, dtype: int64\n",
      "<class 'pandas.core.series.Series'>\n",
      "14    2\n",
      "15    5\n",
      "16    5\n",
      "17    4\n",
      "Name: wind, dtype: int64\n",
      "<class 'pandas.core.series.Series'>\n",
      "6     4\n",
      "7     3\n",
      "8     3\n",
      "9     3\n",
      "10    2\n",
      "11    4\n",
      "12    5\n",
      "13    5\n",
      "Name: wind, dtype: int64\n",
      "<class 'pandas.core.series.Series'>\n",
      "18    1\n",
      "19    4\n",
      "Name: wind, dtype: int64\n"
     ]
    },
    {
     "data": {
      "text/html": [
       "<div>\n",
       "<style scoped>\n",
       "    .dataframe tbody tr th:only-of-type {\n",
       "        vertical-align: middle;\n",
       "    }\n",
       "\n",
       "    .dataframe tbody tr th {\n",
       "        vertical-align: top;\n",
       "    }\n",
       "\n",
       "    .dataframe thead th {\n",
       "        text-align: right;\n",
       "    }\n",
       "</style>\n",
       "<table border=\"1\" class=\"dataframe\">\n",
       "  <thead>\n",
       "    <tr style=\"text-align: right;\">\n",
       "      <th></th>\n",
       "      <th>date</th>\n",
       "      <th>temperature</th>\n",
       "      <th>wind</th>\n",
       "    </tr>\n",
       "    <tr>\n",
       "      <th>city</th>\n",
       "      <th></th>\n",
       "      <th></th>\n",
       "      <th></th>\n",
       "    </tr>\n",
       "  </thead>\n",
       "  <tbody>\n",
       "    <tr>\n",
       "      <th>BJ</th>\n",
       "      <td>NaN</td>\n",
       "      <td>NaN</td>\n",
       "      <td>NaN</td>\n",
       "    </tr>\n",
       "    <tr>\n",
       "      <th>GZ</th>\n",
       "      <td>NaN</td>\n",
       "      <td>NaN</td>\n",
       "      <td>NaN</td>\n",
       "    </tr>\n",
       "    <tr>\n",
       "      <th>SH</th>\n",
       "      <td>NaN</td>\n",
       "      <td>NaN</td>\n",
       "      <td>NaN</td>\n",
       "    </tr>\n",
       "    <tr>\n",
       "      <th>SZ</th>\n",
       "      <td>NaN</td>\n",
       "      <td>NaN</td>\n",
       "      <td>NaN</td>\n",
       "    </tr>\n",
       "  </tbody>\n",
       "</table>\n",
       "</div>"
      ],
      "text/plain": [
       "      date  temperature  wind\n",
       "city                         \n",
       "BJ     NaN          NaN   NaN\n",
       "GZ     NaN          NaN   NaN\n",
       "SH     NaN          NaN   NaN\n",
       "SZ     NaN          NaN   NaN"
      ]
     },
     "execution_count": 7,
     "metadata": {},
     "output_type": "execute_result"
    }
   ],
   "source": [
    "g.agg(foo)"
   ]
  },
  {
   "cell_type": "code",
   "execution_count": 8,
   "metadata": {},
   "outputs": [],
   "source": [
    "def foo(attr):\n",
    "    return attr.max() - attr.min()"
   ]
  },
  {
   "cell_type": "code",
   "execution_count": 9,
   "metadata": {},
   "outputs": [
    {
     "data": {
      "text/html": [
       "<div>\n",
       "<style scoped>\n",
       "    .dataframe tbody tr th:only-of-type {\n",
       "        vertical-align: middle;\n",
       "    }\n",
       "\n",
       "    .dataframe tbody tr th {\n",
       "        vertical-align: top;\n",
       "    }\n",
       "\n",
       "    .dataframe thead th {\n",
       "        text-align: right;\n",
       "    }\n",
       "</style>\n",
       "<table border=\"1\" class=\"dataframe\">\n",
       "  <thead>\n",
       "    <tr style=\"text-align: right;\">\n",
       "      <th></th>\n",
       "      <th>temperature</th>\n",
       "      <th>wind</th>\n",
       "    </tr>\n",
       "    <tr>\n",
       "      <th>city</th>\n",
       "      <th></th>\n",
       "      <th></th>\n",
       "    </tr>\n",
       "  </thead>\n",
       "  <tbody>\n",
       "    <tr>\n",
       "      <th>BJ</th>\n",
       "      <td>22</td>\n",
       "      <td>3</td>\n",
       "    </tr>\n",
       "    <tr>\n",
       "      <th>GZ</th>\n",
       "      <td>26</td>\n",
       "      <td>3</td>\n",
       "    </tr>\n",
       "    <tr>\n",
       "      <th>SH</th>\n",
       "      <td>30</td>\n",
       "      <td>3</td>\n",
       "    </tr>\n",
       "    <tr>\n",
       "      <th>SZ</th>\n",
       "      <td>30</td>\n",
       "      <td>3</td>\n",
       "    </tr>\n",
       "  </tbody>\n",
       "</table>\n",
       "</div>"
      ],
      "text/plain": [
       "      temperature  wind\n",
       "city                   \n",
       "BJ             22     3\n",
       "GZ             26     3\n",
       "SH             30     3\n",
       "SZ             30     3"
      ]
     },
     "execution_count": 9,
     "metadata": {},
     "output_type": "execute_result"
    }
   ],
   "source": [
    "g.agg(foo)"
   ]
  },
  {
   "cell_type": "code",
   "execution_count": 10,
   "metadata": {},
   "outputs": [
    {
     "data": {
      "text/html": [
       "<div>\n",
       "<style scoped>\n",
       "    .dataframe tbody tr th:only-of-type {\n",
       "        vertical-align: middle;\n",
       "    }\n",
       "\n",
       "    .dataframe tbody tr th {\n",
       "        vertical-align: top;\n",
       "    }\n",
       "\n",
       "    .dataframe thead th {\n",
       "        text-align: right;\n",
       "    }\n",
       "</style>\n",
       "<table border=\"1\" class=\"dataframe\">\n",
       "  <thead>\n",
       "    <tr style=\"text-align: right;\">\n",
       "      <th></th>\n",
       "      <th>date</th>\n",
       "      <th>city</th>\n",
       "      <th>temperature</th>\n",
       "      <th>wind</th>\n",
       "    </tr>\n",
       "  </thead>\n",
       "  <tbody>\n",
       "    <tr>\n",
       "      <th>0</th>\n",
       "      <td>03/01/2016</td>\n",
       "      <td>BJ</td>\n",
       "      <td>8</td>\n",
       "      <td>5</td>\n",
       "    </tr>\n",
       "    <tr>\n",
       "      <th>1</th>\n",
       "      <td>17/01/2016</td>\n",
       "      <td>BJ</td>\n",
       "      <td>12</td>\n",
       "      <td>2</td>\n",
       "    </tr>\n",
       "    <tr>\n",
       "      <th>2</th>\n",
       "      <td>31/01/2016</td>\n",
       "      <td>BJ</td>\n",
       "      <td>19</td>\n",
       "      <td>2</td>\n",
       "    </tr>\n",
       "    <tr>\n",
       "      <th>3</th>\n",
       "      <td>14/02/2016</td>\n",
       "      <td>BJ</td>\n",
       "      <td>-3</td>\n",
       "      <td>3</td>\n",
       "    </tr>\n",
       "    <tr>\n",
       "      <th>4</th>\n",
       "      <td>28/02/2016</td>\n",
       "      <td>BJ</td>\n",
       "      <td>19</td>\n",
       "      <td>2</td>\n",
       "    </tr>\n",
       "  </tbody>\n",
       "</table>\n",
       "</div>"
      ],
      "text/plain": [
       "         date city  temperature  wind\n",
       "0  03/01/2016   BJ            8     5\n",
       "1  17/01/2016   BJ           12     2\n",
       "2  31/01/2016   BJ           19     2\n",
       "3  14/02/2016   BJ           -3     3\n",
       "4  28/02/2016   BJ           19     2"
      ]
     },
     "execution_count": 10,
     "metadata": {},
     "output_type": "execute_result"
    }
   ],
   "source": [
    "df.head()"
   ]
  },
  {
   "cell_type": "code",
   "execution_count": 11,
   "metadata": {},
   "outputs": [],
   "source": [
    "g_new = df.groupby(['city','wind'])"
   ]
  },
  {
   "cell_type": "code",
   "execution_count": 12,
   "metadata": {},
   "outputs": [
    {
     "data": {
      "text/plain": [
       "{('BJ', 2): Int64Index([1, 2, 4], dtype='int64'),\n",
       " ('BJ', 3): Int64Index([3, 5], dtype='int64'),\n",
       " ('BJ', 5): Int64Index([0], dtype='int64'),\n",
       " ('GZ', 2): Int64Index([14], dtype='int64'),\n",
       " ('GZ', 4): Int64Index([17], dtype='int64'),\n",
       " ('GZ', 5): Int64Index([15, 16], dtype='int64'),\n",
       " ('SH', 2): Int64Index([10], dtype='int64'),\n",
       " ('SH', 3): Int64Index([7, 8, 9], dtype='int64'),\n",
       " ('SH', 4): Int64Index([6, 11], dtype='int64'),\n",
       " ('SH', 5): Int64Index([12, 13], dtype='int64'),\n",
       " ('SZ', 1): Int64Index([18], dtype='int64'),\n",
       " ('SZ', 4): Int64Index([19], dtype='int64')}"
      ]
     },
     "execution_count": 12,
     "metadata": {},
     "output_type": "execute_result"
    }
   ],
   "source": [
    "g_new.groups"
   ]
  },
  {
   "cell_type": "code",
   "execution_count": 13,
   "metadata": {},
   "outputs": [
    {
     "data": {
      "text/plain": [
       "{'BJ': Int64Index([0, 1, 2, 3, 4, 5], dtype='int64'),\n",
       " 'GZ': Int64Index([14, 15, 16, 17], dtype='int64'),\n",
       " 'SH': Int64Index([6, 7, 8, 9, 10, 11, 12, 13], dtype='int64'),\n",
       " 'SZ': Int64Index([18, 19], dtype='int64')}"
      ]
     },
     "execution_count": 13,
     "metadata": {},
     "output_type": "execute_result"
    }
   ],
   "source": [
    "g.groups"
   ]
  },
  {
   "cell_type": "code",
   "execution_count": 14,
   "metadata": {},
   "outputs": [
    {
     "data": {
      "text/html": [
       "<div>\n",
       "<style scoped>\n",
       "    .dataframe tbody tr th:only-of-type {\n",
       "        vertical-align: middle;\n",
       "    }\n",
       "\n",
       "    .dataframe tbody tr th {\n",
       "        vertical-align: top;\n",
       "    }\n",
       "\n",
       "    .dataframe thead th {\n",
       "        text-align: right;\n",
       "    }\n",
       "</style>\n",
       "<table border=\"1\" class=\"dataframe\">\n",
       "  <thead>\n",
       "    <tr style=\"text-align: right;\">\n",
       "      <th></th>\n",
       "      <th>date</th>\n",
       "      <th>temperature</th>\n",
       "      <th>wind</th>\n",
       "    </tr>\n",
       "  </thead>\n",
       "  <tbody>\n",
       "    <tr>\n",
       "      <th>0</th>\n",
       "      <td>03/01/2016</td>\n",
       "      <td>8</td>\n",
       "      <td>5</td>\n",
       "    </tr>\n",
       "    <tr>\n",
       "      <th>1</th>\n",
       "      <td>17/01/2016</td>\n",
       "      <td>12</td>\n",
       "      <td>2</td>\n",
       "    </tr>\n",
       "    <tr>\n",
       "      <th>2</th>\n",
       "      <td>31/01/2016</td>\n",
       "      <td>19</td>\n",
       "      <td>2</td>\n",
       "    </tr>\n",
       "    <tr>\n",
       "      <th>3</th>\n",
       "      <td>14/02/2016</td>\n",
       "      <td>-3</td>\n",
       "      <td>3</td>\n",
       "    </tr>\n",
       "    <tr>\n",
       "      <th>4</th>\n",
       "      <td>28/02/2016</td>\n",
       "      <td>19</td>\n",
       "      <td>2</td>\n",
       "    </tr>\n",
       "    <tr>\n",
       "      <th>5</th>\n",
       "      <td>13/03/2016</td>\n",
       "      <td>5</td>\n",
       "      <td>3</td>\n",
       "    </tr>\n",
       "  </tbody>\n",
       "</table>\n",
       "</div>"
      ],
      "text/plain": [
       "         date  temperature  wind\n",
       "0  03/01/2016            8     5\n",
       "1  17/01/2016           12     2\n",
       "2  31/01/2016           19     2\n",
       "3  14/02/2016           -3     3\n",
       "4  28/02/2016           19     2\n",
       "5  13/03/2016            5     3"
      ]
     },
     "execution_count": 14,
     "metadata": {},
     "output_type": "execute_result"
    }
   ],
   "source": [
    "g.get_group('BJ')"
   ]
  },
  {
   "cell_type": "code",
   "execution_count": 15,
   "metadata": {},
   "outputs": [
    {
     "data": {
      "text/html": [
       "<div>\n",
       "<style scoped>\n",
       "    .dataframe tbody tr th:only-of-type {\n",
       "        vertical-align: middle;\n",
       "    }\n",
       "\n",
       "    .dataframe tbody tr th {\n",
       "        vertical-align: top;\n",
       "    }\n",
       "\n",
       "    .dataframe thead th {\n",
       "        text-align: right;\n",
       "    }\n",
       "</style>\n",
       "<table border=\"1\" class=\"dataframe\">\n",
       "  <thead>\n",
       "    <tr style=\"text-align: right;\">\n",
       "      <th></th>\n",
       "      <th>date</th>\n",
       "      <th>city</th>\n",
       "      <th>temperature</th>\n",
       "      <th>wind</th>\n",
       "    </tr>\n",
       "  </thead>\n",
       "  <tbody>\n",
       "    <tr>\n",
       "      <th>3</th>\n",
       "      <td>14/02/2016</td>\n",
       "      <td>BJ</td>\n",
       "      <td>-3</td>\n",
       "      <td>3</td>\n",
       "    </tr>\n",
       "    <tr>\n",
       "      <th>5</th>\n",
       "      <td>13/03/2016</td>\n",
       "      <td>BJ</td>\n",
       "      <td>5</td>\n",
       "      <td>3</td>\n",
       "    </tr>\n",
       "  </tbody>\n",
       "</table>\n",
       "</div>"
      ],
      "text/plain": [
       "         date city  temperature  wind\n",
       "3  14/02/2016   BJ           -3     3\n",
       "5  13/03/2016   BJ            5     3"
      ]
     },
     "execution_count": 15,
     "metadata": {},
     "output_type": "execute_result"
    }
   ],
   "source": [
    "g_new.get_group(('BJ',3))"
   ]
  },
  {
   "cell_type": "code",
   "execution_count": 16,
   "metadata": {},
   "outputs": [
    {
     "name": "stdout",
     "output_type": "stream",
     "text": [
      "BJ 2\n",
      "         date city  temperature  wind\n",
      "1  17/01/2016   BJ           12     2\n",
      "2  31/01/2016   BJ           19     2\n",
      "4  28/02/2016   BJ           19     2\n",
      "BJ 3\n",
      "         date city  temperature  wind\n",
      "3  14/02/2016   BJ           -3     3\n",
      "5  13/03/2016   BJ            5     3\n",
      "BJ 5\n",
      "         date city  temperature  wind\n",
      "0  03/01/2016   BJ            8     5\n",
      "GZ 2\n",
      "          date city  temperature  wind\n",
      "14  17/07/2016   GZ           10     2\n",
      "GZ 4\n",
      "          date city  temperature  wind\n",
      "17  28/08/2016   GZ           25     4\n",
      "GZ 5\n",
      "          date city  temperature  wind\n",
      "15  31/07/2016   GZ           -1     5\n",
      "16  14/08/2016   GZ            1     5\n",
      "SH 2\n",
      "          date city  temperature  wind\n",
      "10  22/05/2016   SH            4     2\n",
      "SH 3\n",
      "         date city  temperature  wind\n",
      "7  10/04/2016   SH           19     3\n",
      "8  24/04/2016   SH           20     3\n",
      "9  08/05/2016   SH           17     3\n",
      "SH 4\n",
      "          date city  temperature  wind\n",
      "6   27/03/2016   SH           -4     4\n",
      "11  05/06/2016   SH          -10     4\n",
      "SH 5\n",
      "          date city  temperature  wind\n",
      "12  19/06/2016   SH            0     5\n",
      "13  03/07/2016   SH           -9     5\n",
      "SZ 1\n",
      "          date city  temperature  wind\n",
      "18  11/09/2016   SZ           20     1\n",
      "SZ 4\n",
      "          date city  temperature  wind\n",
      "19  25/09/2016   SZ          -10     4\n"
     ]
    }
   ],
   "source": [
    "for (name_1,name_2), group in g_new:\n",
    "    print(name_1,name_2)\n",
    "    print(group)"
   ]
  },
  {
   "cell_type": "code",
   "execution_count": null,
   "metadata": {},
   "outputs": [],
   "source": []
  }
 ],
 "metadata": {
  "kernelspec": {
   "display_name": "Python 3",
   "language": "python",
   "name": "python3"
  },
  "language_info": {
   "codemirror_mode": {
    "name": "ipython",
    "version": 3
   },
   "file_extension": ".py",
   "mimetype": "text/x-python",
   "name": "python",
   "nbconvert_exporter": "python",
   "pygments_lexer": "ipython3",
   "version": "3.6.5"
  }
 },
 "nbformat": 4,
 "nbformat_minor": 2
}
