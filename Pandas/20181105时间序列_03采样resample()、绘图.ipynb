{
 "cells": [
  {
   "cell_type": "code",
   "execution_count": 1,
   "metadata": {},
   "outputs": [],
   "source": [
    "import pandas as pd\n",
    "import numpy as np\n",
    "import matplotlib.pyplot as plt"
   ]
  },
  {
   "cell_type": "code",
   "execution_count": 2,
   "metadata": {},
   "outputs": [],
   "source": [
    "t_range = pd.date_range('20181105',periods=1000)"
   ]
  },
  {
   "cell_type": "code",
   "execution_count": 3,
   "metadata": {},
   "outputs": [],
   "source": [
    "s1 = pd.Series(np.random.randn(len(t_range)),index = t_range)"
   ]
  },
  {
   "cell_type": "code",
   "execution_count": 4,
   "metadata": {},
   "outputs": [
    {
     "data": {
      "text/plain": [
       "2018-11-05    0.325061\n",
       "2018-11-06   -0.583161\n",
       "2018-11-07    0.268010\n",
       "2018-11-08   -0.077650\n",
       "2018-11-09   -0.360967\n",
       "Freq: D, dtype: float64"
      ]
     },
     "execution_count": 4,
     "metadata": {},
     "output_type": "execute_result"
    }
   ],
   "source": [
    "s1.head()"
   ]
  },
  {
   "cell_type": "code",
   "execution_count": 5,
   "metadata": {},
   "outputs": [
    {
     "data": {
      "text/plain": [
       "2018-11-05    0.325061\n",
       "2018-11-06   -0.583161\n",
       "2018-11-07    0.268010\n",
       "2018-11-08   -0.077650\n",
       "2018-11-09   -0.360967\n",
       "2018-11-10    0.594412\n",
       "2018-11-11   -1.694670\n",
       "2018-11-12    0.489888\n",
       "2018-11-13    0.024063\n",
       "2018-11-14    0.330963\n",
       "2018-11-15    0.378969\n",
       "2018-11-16    0.037951\n",
       "2018-11-17   -0.090474\n",
       "2018-11-18   -0.690169\n",
       "2018-11-19   -0.542375\n",
       "2018-11-20    0.299229\n",
       "2018-11-21   -0.144166\n",
       "2018-11-22    2.353535\n",
       "2018-11-23   -0.282810\n",
       "2018-11-24   -0.936459\n",
       "2018-11-25    1.054449\n",
       "2018-11-26    1.277185\n",
       "2018-11-27    0.375777\n",
       "2018-11-28   -0.461746\n",
       "2018-11-29    0.134668\n",
       "2018-11-30   -0.785475\n",
       "Freq: D, dtype: float64"
      ]
     },
     "execution_count": 5,
     "metadata": {},
     "output_type": "execute_result"
    }
   ],
   "source": [
    "s1['2018-11']"
   ]
  },
  {
   "cell_type": "code",
   "execution_count": 6,
   "metadata": {},
   "outputs": [],
   "source": [
    "s2 = s1['2019']"
   ]
  },
  {
   "cell_type": "markdown",
   "metadata": {},
   "source": [
    "# 采样\n",
    "* .resample()"
   ]
  },
  {
   "cell_type": "code",
   "execution_count": 7,
   "metadata": {},
   "outputs": [],
   "source": [
    "s2_month = s2.resample('M').mean()"
   ]
  },
  {
   "cell_type": "code",
   "execution_count": 8,
   "metadata": {},
   "outputs": [
    {
     "data": {
      "text/plain": [
       "DatetimeIndex(['2019-01-31', '2019-02-28', '2019-03-31', '2019-04-30',\n",
       "               '2019-05-31', '2019-06-30', '2019-07-31', '2019-08-31',\n",
       "               '2019-09-30', '2019-10-31', '2019-11-30', '2019-12-31'],\n",
       "              dtype='datetime64[ns]', freq='M')"
      ]
     },
     "execution_count": 8,
     "metadata": {},
     "output_type": "execute_result"
    }
   ],
   "source": [
    "s2_month.index"
   ]
  },
  {
   "cell_type": "code",
   "execution_count": 9,
   "metadata": {},
   "outputs": [
    {
     "data": {
      "text/plain": [
       "2019-01-31    0.066491\n",
       "2019-02-28    0.081397\n",
       "2019-03-31   -0.117132\n",
       "2019-04-30    0.111988\n",
       "2019-05-31    0.025515\n",
       "2019-06-30    0.014700\n",
       "2019-07-31    0.285479\n",
       "2019-08-31   -0.033378\n",
       "2019-09-30   -0.059429\n",
       "2019-10-31   -0.045727\n",
       "2019-11-30   -0.078271\n",
       "2019-12-31   -0.126572\n",
       "Freq: M, dtype: float64"
      ]
     },
     "execution_count": 9,
     "metadata": {},
     "output_type": "execute_result"
    }
   ],
   "source": [
    "s2_month"
   ]
  },
  {
   "cell_type": "code",
   "execution_count": 10,
   "metadata": {},
   "outputs": [
    {
     "data": {
      "text/plain": [
       "2019-12-27   -0.964483\n",
       "2019-12-28   -0.043412\n",
       "2019-12-29   -0.628929\n",
       "2019-12-30    0.683819\n",
       "2019-12-31   -0.589085\n",
       "Freq: D, dtype: float64"
      ]
     },
     "execution_count": 10,
     "metadata": {},
     "output_type": "execute_result"
    }
   ],
   "source": [
    "s2.tail()"
   ]
  },
  {
   "cell_type": "code",
   "execution_count": 11,
   "metadata": {},
   "outputs": [
    {
     "data": {
      "text/plain": [
       "2019-01-01 00:00:00    1.122123\n",
       "2019-01-01 01:00:00    1.122123\n",
       "2019-01-01 02:00:00    1.122123\n",
       "2019-01-01 03:00:00    1.122123\n",
       "2019-01-01 04:00:00    1.122123\n",
       "2019-01-01 05:00:00    1.122123\n",
       "2019-01-01 06:00:00    1.122123\n",
       "2019-01-01 07:00:00    1.122123\n",
       "2019-01-01 08:00:00    1.122123\n",
       "2019-01-01 09:00:00    1.122123\n",
       "2019-01-01 10:00:00    1.122123\n",
       "2019-01-01 11:00:00    1.122123\n",
       "2019-01-01 12:00:00    1.122123\n",
       "2019-01-01 13:00:00    1.122123\n",
       "2019-01-01 14:00:00    1.122123\n",
       "2019-01-01 15:00:00    1.122123\n",
       "2019-01-01 16:00:00    1.122123\n",
       "2019-01-01 17:00:00    1.122123\n",
       "2019-01-01 18:00:00    1.122123\n",
       "2019-01-01 19:00:00    1.122123\n",
       "2019-01-01 20:00:00    1.122123\n",
       "2019-01-01 21:00:00    1.122123\n",
       "2019-01-01 22:00:00    1.122123\n",
       "2019-01-01 23:00:00    1.122123\n",
       "2019-01-02 00:00:00    2.104476\n",
       "2019-01-02 01:00:00    2.104476\n",
       "2019-01-02 02:00:00    2.104476\n",
       "2019-01-02 03:00:00    2.104476\n",
       "2019-01-02 04:00:00    2.104476\n",
       "2019-01-02 05:00:00    2.104476\n",
       "                         ...   \n",
       "2019-12-29 19:00:00   -0.628929\n",
       "2019-12-29 20:00:00   -0.628929\n",
       "2019-12-29 21:00:00   -0.628929\n",
       "2019-12-29 22:00:00   -0.628929\n",
       "2019-12-29 23:00:00   -0.628929\n",
       "2019-12-30 00:00:00    0.683819\n",
       "2019-12-30 01:00:00    0.683819\n",
       "2019-12-30 02:00:00    0.683819\n",
       "2019-12-30 03:00:00    0.683819\n",
       "2019-12-30 04:00:00    0.683819\n",
       "2019-12-30 05:00:00    0.683819\n",
       "2019-12-30 06:00:00    0.683819\n",
       "2019-12-30 07:00:00    0.683819\n",
       "2019-12-30 08:00:00    0.683819\n",
       "2019-12-30 09:00:00    0.683819\n",
       "2019-12-30 10:00:00    0.683819\n",
       "2019-12-30 11:00:00    0.683819\n",
       "2019-12-30 12:00:00    0.683819\n",
       "2019-12-30 13:00:00    0.683819\n",
       "2019-12-30 14:00:00    0.683819\n",
       "2019-12-30 15:00:00    0.683819\n",
       "2019-12-30 16:00:00    0.683819\n",
       "2019-12-30 17:00:00    0.683819\n",
       "2019-12-30 18:00:00    0.683819\n",
       "2019-12-30 19:00:00    0.683819\n",
       "2019-12-30 20:00:00    0.683819\n",
       "2019-12-30 21:00:00    0.683819\n",
       "2019-12-30 22:00:00    0.683819\n",
       "2019-12-30 23:00:00    0.683819\n",
       "2019-12-31 00:00:00   -0.589085\n",
       "Freq: H, Length: 8737, dtype: float64"
      ]
     },
     "execution_count": 11,
     "metadata": {},
     "output_type": "execute_result"
    }
   ],
   "source": [
    "s2.resample('H').ffill()# 往前填充，取上一个值填充"
   ]
  },
  {
   "cell_type": "code",
   "execution_count": 12,
   "metadata": {},
   "outputs": [
    {
     "data": {
      "text/plain": [
       "2019-01-01 00:00:00    1.122123\n",
       "2019-01-01 01:00:00    2.104476\n",
       "2019-01-01 02:00:00    2.104476\n",
       "2019-01-01 03:00:00    2.104476\n",
       "2019-01-01 04:00:00    2.104476\n",
       "2019-01-01 05:00:00    2.104476\n",
       "2019-01-01 06:00:00    2.104476\n",
       "2019-01-01 07:00:00    2.104476\n",
       "2019-01-01 08:00:00    2.104476\n",
       "2019-01-01 09:00:00    2.104476\n",
       "2019-01-01 10:00:00    2.104476\n",
       "2019-01-01 11:00:00    2.104476\n",
       "2019-01-01 12:00:00    2.104476\n",
       "2019-01-01 13:00:00    2.104476\n",
       "2019-01-01 14:00:00    2.104476\n",
       "2019-01-01 15:00:00    2.104476\n",
       "2019-01-01 16:00:00    2.104476\n",
       "2019-01-01 17:00:00    2.104476\n",
       "2019-01-01 18:00:00    2.104476\n",
       "2019-01-01 19:00:00    2.104476\n",
       "2019-01-01 20:00:00    2.104476\n",
       "2019-01-01 21:00:00    2.104476\n",
       "2019-01-01 22:00:00    2.104476\n",
       "2019-01-01 23:00:00    2.104476\n",
       "2019-01-02 00:00:00    2.104476\n",
       "2019-01-02 01:00:00    0.029979\n",
       "2019-01-02 02:00:00    0.029979\n",
       "2019-01-02 03:00:00    0.029979\n",
       "2019-01-02 04:00:00    0.029979\n",
       "2019-01-02 05:00:00    0.029979\n",
       "                         ...   \n",
       "2019-12-29 19:00:00    0.683819\n",
       "2019-12-29 20:00:00    0.683819\n",
       "2019-12-29 21:00:00    0.683819\n",
       "2019-12-29 22:00:00    0.683819\n",
       "2019-12-29 23:00:00    0.683819\n",
       "2019-12-30 00:00:00    0.683819\n",
       "2019-12-30 01:00:00   -0.589085\n",
       "2019-12-30 02:00:00   -0.589085\n",
       "2019-12-30 03:00:00   -0.589085\n",
       "2019-12-30 04:00:00   -0.589085\n",
       "2019-12-30 05:00:00   -0.589085\n",
       "2019-12-30 06:00:00   -0.589085\n",
       "2019-12-30 07:00:00   -0.589085\n",
       "2019-12-30 08:00:00   -0.589085\n",
       "2019-12-30 09:00:00   -0.589085\n",
       "2019-12-30 10:00:00   -0.589085\n",
       "2019-12-30 11:00:00   -0.589085\n",
       "2019-12-30 12:00:00   -0.589085\n",
       "2019-12-30 13:00:00   -0.589085\n",
       "2019-12-30 14:00:00   -0.589085\n",
       "2019-12-30 15:00:00   -0.589085\n",
       "2019-12-30 16:00:00   -0.589085\n",
       "2019-12-30 17:00:00   -0.589085\n",
       "2019-12-30 18:00:00   -0.589085\n",
       "2019-12-30 19:00:00   -0.589085\n",
       "2019-12-30 20:00:00   -0.589085\n",
       "2019-12-30 21:00:00   -0.589085\n",
       "2019-12-30 22:00:00   -0.589085\n",
       "2019-12-30 23:00:00   -0.589085\n",
       "2019-12-31 00:00:00   -0.589085\n",
       "Freq: H, Length: 8737, dtype: float64"
      ]
     },
     "execution_count": 12,
     "metadata": {},
     "output_type": "execute_result"
    }
   ],
   "source": [
    "s2.resample('H').bfill()# 往后填充，取下一个值填充"
   ]
  },
  {
   "cell_type": "markdown",
   "metadata": {},
   "source": [
    "# 画图"
   ]
  },
  {
   "cell_type": "code",
   "execution_count": 13,
   "metadata": {},
   "outputs": [],
   "source": [
    "t_range = pd.date_range('20181105','20191112',freq=\"H\")"
   ]
  },
  {
   "cell_type": "code",
   "execution_count": 14,
   "metadata": {},
   "outputs": [
    {
     "data": {
      "text/plain": [
       "DatetimeIndex(['2018-11-05 00:00:00', '2018-11-05 01:00:00',\n",
       "               '2018-11-05 02:00:00', '2018-11-05 03:00:00',\n",
       "               '2018-11-05 04:00:00', '2018-11-05 05:00:00',\n",
       "               '2018-11-05 06:00:00', '2018-11-05 07:00:00',\n",
       "               '2018-11-05 08:00:00', '2018-11-05 09:00:00',\n",
       "               ...\n",
       "               '2019-11-11 15:00:00', '2019-11-11 16:00:00',\n",
       "               '2019-11-11 17:00:00', '2019-11-11 18:00:00',\n",
       "               '2019-11-11 19:00:00', '2019-11-11 20:00:00',\n",
       "               '2019-11-11 21:00:00', '2019-11-11 22:00:00',\n",
       "               '2019-11-11 23:00:00', '2019-11-12 00:00:00'],\n",
       "              dtype='datetime64[ns]', length=8929, freq='H')"
      ]
     },
     "execution_count": 14,
     "metadata": {},
     "output_type": "execute_result"
    }
   ],
   "source": [
    "t_range"
   ]
  },
  {
   "cell_type": "code",
   "execution_count": 15,
   "metadata": {},
   "outputs": [],
   "source": [
    "stock_df = pd.DataFrame(index = t_range)"
   ]
  },
  {
   "cell_type": "code",
   "execution_count": 16,
   "metadata": {},
   "outputs": [
    {
     "data": {
      "text/html": [
       "<div>\n",
       "<style scoped>\n",
       "    .dataframe tbody tr th:only-of-type {\n",
       "        vertical-align: middle;\n",
       "    }\n",
       "\n",
       "    .dataframe tbody tr th {\n",
       "        vertical-align: top;\n",
       "    }\n",
       "\n",
       "    .dataframe thead th {\n",
       "        text-align: right;\n",
       "    }\n",
       "</style>\n",
       "<table border=\"1\" class=\"dataframe\">\n",
       "  <thead>\n",
       "    <tr style=\"text-align: right;\">\n",
       "      <th></th>\n",
       "    </tr>\n",
       "  </thead>\n",
       "  <tbody>\n",
       "    <tr>\n",
       "      <th>2018-11-05 00:00:00</th>\n",
       "    </tr>\n",
       "    <tr>\n",
       "      <th>2018-11-05 01:00:00</th>\n",
       "    </tr>\n",
       "    <tr>\n",
       "      <th>2018-11-05 02:00:00</th>\n",
       "    </tr>\n",
       "    <tr>\n",
       "      <th>2018-11-05 03:00:00</th>\n",
       "    </tr>\n",
       "    <tr>\n",
       "      <th>2018-11-05 04:00:00</th>\n",
       "    </tr>\n",
       "  </tbody>\n",
       "</table>\n",
       "</div>"
      ],
      "text/plain": [
       "Empty DataFrame\n",
       "Columns: []\n",
       "Index: [2018-11-05 00:00:00, 2018-11-05 01:00:00, 2018-11-05 02:00:00, 2018-11-05 03:00:00, 2018-11-05 04:00:00]"
      ]
     },
     "execution_count": 16,
     "metadata": {},
     "output_type": "execute_result"
    }
   ],
   "source": [
    "stock_df.head()"
   ]
  },
  {
   "cell_type": "code",
   "execution_count": 17,
   "metadata": {},
   "outputs": [],
   "source": [
    "stock_df['BABA'] = np.random.randint(80,160,size=len(t_range))\n",
    "stock_df['TENCENT'] = np.random.randint(30,50,size = len(t_range))"
   ]
  },
  {
   "cell_type": "code",
   "execution_count": 18,
   "metadata": {},
   "outputs": [
    {
     "data": {
      "text/html": [
       "<div>\n",
       "<style scoped>\n",
       "    .dataframe tbody tr th:only-of-type {\n",
       "        vertical-align: middle;\n",
       "    }\n",
       "\n",
       "    .dataframe tbody tr th {\n",
       "        vertical-align: top;\n",
       "    }\n",
       "\n",
       "    .dataframe thead th {\n",
       "        text-align: right;\n",
       "    }\n",
       "</style>\n",
       "<table border=\"1\" class=\"dataframe\">\n",
       "  <thead>\n",
       "    <tr style=\"text-align: right;\">\n",
       "      <th></th>\n",
       "      <th>BABA</th>\n",
       "      <th>TENCENT</th>\n",
       "    </tr>\n",
       "  </thead>\n",
       "  <tbody>\n",
       "    <tr>\n",
       "      <th>2018-11-05 00:00:00</th>\n",
       "      <td>134</td>\n",
       "      <td>39</td>\n",
       "    </tr>\n",
       "    <tr>\n",
       "      <th>2018-11-05 01:00:00</th>\n",
       "      <td>98</td>\n",
       "      <td>30</td>\n",
       "    </tr>\n",
       "    <tr>\n",
       "      <th>2018-11-05 02:00:00</th>\n",
       "      <td>114</td>\n",
       "      <td>48</td>\n",
       "    </tr>\n",
       "    <tr>\n",
       "      <th>2018-11-05 03:00:00</th>\n",
       "      <td>82</td>\n",
       "      <td>46</td>\n",
       "    </tr>\n",
       "    <tr>\n",
       "      <th>2018-11-05 04:00:00</th>\n",
       "      <td>82</td>\n",
       "      <td>34</td>\n",
       "    </tr>\n",
       "  </tbody>\n",
       "</table>\n",
       "</div>"
      ],
      "text/plain": [
       "                     BABA  TENCENT\n",
       "2018-11-05 00:00:00   134       39\n",
       "2018-11-05 01:00:00    98       30\n",
       "2018-11-05 02:00:00   114       48\n",
       "2018-11-05 03:00:00    82       46\n",
       "2018-11-05 04:00:00    82       34"
      ]
     },
     "execution_count": 18,
     "metadata": {},
     "output_type": "execute_result"
    }
   ],
   "source": [
    "stock_df.head()"
   ]
  },
  {
   "cell_type": "code",
   "execution_count": 19,
   "metadata": {},
   "outputs": [
    {
     "data": {
      "image/png": "[encoded data removed]",
      "text/plain": [
       "<Figure size 432x288 with 1 Axes>"
      ]
     },
     "metadata": {},
     "output_type": "display_data"
    }
   ],
   "source": [
    "stock_df.plot()\n",
    "plt.show()"
   ]
  },
  {
   "cell_type": "markdown",
   "metadata": {},
   "source": [
    "# 采样"
   ]
  },
  {
   "cell_type": "code",
   "execution_count": 20,
   "metadata": {},
   "outputs": [],
   "source": [
    "weekly_df = stock_df.resample('W').mean()"
   ]
  },
  {
   "cell_type": "code",
   "execution_count": 21,
   "metadata": {},
   "outputs": [],
   "source": [
    "weekly_df1 = pd.DataFrame()"
   ]
  },
  {
   "cell_type": "code",
   "execution_count": 22,
   "metadata": {},
   "outputs": [],
   "source": [
    "weekly_df1['BABA'] = stock_df['BABA'].resample('W').mean()\n",
    "weekly_df1['TENCENT'] = stock_df['TENCENT'].resample('W').mean()"
   ]
  },
  {
   "cell_type": "code",
   "execution_count": 23,
   "metadata": {},
   "outputs": [
    {
     "data": {
      "text/html": [
       "<div>\n",
       "<style scoped>\n",
       "    .dataframe tbody tr th:only-of-type {\n",
       "        vertical-align: middle;\n",
       "    }\n",
       "\n",
       "    .dataframe tbody tr th {\n",
       "        vertical-align: top;\n",
       "    }\n",
       "\n",
       "    .dataframe thead th {\n",
       "        text-align: right;\n",
       "    }\n",
       "</style>\n",
       "<table border=\"1\" class=\"dataframe\">\n",
       "  <thead>\n",
       "    <tr style=\"text-align: right;\">\n",
       "      <th></th>\n",
       "      <th>BABA</th>\n",
       "      <th>TENCENT</th>\n",
       "    </tr>\n",
       "  </thead>\n",
       "  <tbody>\n",
       "    <tr>\n",
       "      <th>2018-11-11</th>\n",
       "      <td>116.416667</td>\n",
       "      <td>38.994048</td>\n",
       "    </tr>\n",
       "    <tr>\n",
       "      <th>2018-11-18</th>\n",
       "      <td>118.940476</td>\n",
       "      <td>38.880952</td>\n",
       "    </tr>\n",
       "    <tr>\n",
       "      <th>2018-11-25</th>\n",
       "      <td>117.910714</td>\n",
       "      <td>39.041667</td>\n",
       "    </tr>\n",
       "    <tr>\n",
       "      <th>2018-12-02</th>\n",
       "      <td>119.761905</td>\n",
       "      <td>39.172619</td>\n",
       "    </tr>\n",
       "    <tr>\n",
       "      <th>2018-12-09</th>\n",
       "      <td>116.410714</td>\n",
       "      <td>38.982143</td>\n",
       "    </tr>\n",
       "  </tbody>\n",
       "</table>\n",
       "</div>"
      ],
      "text/plain": [
       "                  BABA    TENCENT\n",
       "2018-11-11  116.416667  38.994048\n",
       "2018-11-18  118.940476  38.880952\n",
       "2018-11-25  117.910714  39.041667\n",
       "2018-12-02  119.761905  39.172619\n",
       "2018-12-09  116.410714  38.982143"
      ]
     },
     "execution_count": 23,
     "metadata": {},
     "output_type": "execute_result"
    }
   ],
   "source": [
    "weekly_df1.head()"
   ]
  },
  {
   "cell_type": "code",
   "execution_count": 24,
   "metadata": {},
   "outputs": [
    {
     "data": {
      "text/html": [
       "<div>\n",
       "<style scoped>\n",
       "    .dataframe tbody tr th:only-of-type {\n",
       "        vertical-align: middle;\n",
       "    }\n",
       "\n",
       "    .dataframe tbody tr th {\n",
       "        vertical-align: top;\n",
       "    }\n",
       "\n",
       "    .dataframe thead th {\n",
       "        text-align: right;\n",
       "    }\n",
       "</style>\n",
       "<table border=\"1\" class=\"dataframe\">\n",
       "  <thead>\n",
       "    <tr style=\"text-align: right;\">\n",
       "      <th></th>\n",
       "      <th>BABA</th>\n",
       "      <th>TENCENT</th>\n",
       "    </tr>\n",
       "  </thead>\n",
       "  <tbody>\n",
       "    <tr>\n",
       "      <th>2018-11-11</th>\n",
       "      <td>116.416667</td>\n",
       "      <td>38.994048</td>\n",
       "    </tr>\n",
       "    <tr>\n",
       "      <th>2018-11-18</th>\n",
       "      <td>118.940476</td>\n",
       "      <td>38.880952</td>\n",
       "    </tr>\n",
       "    <tr>\n",
       "      <th>2018-11-25</th>\n",
       "      <td>117.910714</td>\n",
       "      <td>39.041667</td>\n",
       "    </tr>\n",
       "    <tr>\n",
       "      <th>2018-12-02</th>\n",
       "      <td>119.761905</td>\n",
       "      <td>39.172619</td>\n",
       "    </tr>\n",
       "    <tr>\n",
       "      <th>2018-12-09</th>\n",
       "      <td>116.410714</td>\n",
       "      <td>38.982143</td>\n",
       "    </tr>\n",
       "  </tbody>\n",
       "</table>\n",
       "</div>"
      ],
      "text/plain": [
       "                  BABA    TENCENT\n",
       "2018-11-11  116.416667  38.994048\n",
       "2018-11-18  118.940476  38.880952\n",
       "2018-11-25  117.910714  39.041667\n",
       "2018-12-02  119.761905  39.172619\n",
       "2018-12-09  116.410714  38.982143"
      ]
     },
     "execution_count": 24,
     "metadata": {},
     "output_type": "execute_result"
    }
   ],
   "source": [
    "weekly_df.head()"
   ]
  },
  {
   "cell_type": "code",
   "execution_count": 25,
   "metadata": {},
   "outputs": [
    {
     "data": {
      "image/png": "[encoded data removed]",
      "text/plain": [
       "<Figure size 432x288 with 1 Axes>"
      ]
     },
     "metadata": {},
     "output_type": "display_data"
    }
   ],
   "source": [
    "weekly_df1.plot()\n",
    "plt.show()"
   ]
  },
  {
   "cell_type": "code",
   "execution_count": 26,
   "metadata": {},
   "outputs": [
    {
     "data": {
      "image/png": "[encoded data removed]",
      "text/plain": [
       "<Figure size 432x288 with 1 Axes>"
      ]
     },
     "metadata": {},
     "output_type": "display_data"
    }
   ],
   "source": [
    "weekly_df.plot()\n",
    "plt.show()"
   ]
  },
  {
   "cell_type": "code",
   "execution_count": null,
   "metadata": {},
   "outputs": [],
   "source": []
  }
 ],
 "metadata": {
  "kernelspec": {
   "display_name": "Python 3",
   "language": "python",
   "name": "python3"
  },
  "language_info": {
   "codemirror_mode": {
    "name": "ipython",
    "version": 3
   },
   "file_extension": ".py",
   "mimetype": "text/x-python",
   "name": "python",
   "nbconvert_exporter": "python",
   "pygments_lexer": "ipython3",
   "version": "3.6.5"
  }
 },
 "nbformat": 4,
 "nbformat_minor": 2
}
