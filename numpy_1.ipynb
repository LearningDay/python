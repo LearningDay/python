import numpy as np
np.arange(12).reshape(3,4)
