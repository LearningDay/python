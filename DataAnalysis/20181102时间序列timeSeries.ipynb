{
 "cells": [
  {
   "cell_type": "code",
   "execution_count": 1,
   "metadata": {},
   "outputs": [],
   "source": [
    "import numpy as np\n",
    "import pandas as pd\n",
    "from datetime import datetime"
   ]
  },
  {
   "cell_type": "markdown",
   "metadata": {},
   "source": [
    "# datetime数据类型\n",
    "*  专有名词\n",
    "    1. 时间戳 timestamp\n",
    "    2. 固定时期 period\n",
    "    3. 时间间隔 interval\n",
    "    4. python标准库\n",
    "* 数据类型\n",
    "    1. datetime.date，以公历形式存储日历日期：年、月、日\n",
    "    2. datetime.time，将时间存储为时、分、秒、毫秒\n",
    "    3. datetime.datetime，存储日期和时间，简写为datetime\n",
    "    4. datetime.timedelta，两个datetime对象之间的时间差（日、秒、毫秒）"
   ]
  },
  {
   "cell_type": "code",
   "execution_count": 2,
   "metadata": {},
   "outputs": [
    {
     "data": {
      "text/plain": [
       "datetime.datetime(2018, 1, 2, 0, 0)"
      ]
     },
     "execution_count": 2,
     "metadata": {},
     "output_type": "execute_result"
    }
   ],
   "source": [
    "datetime(2018,1,2)"
   ]
  },
  {
   "cell_type": "code",
   "execution_count": 3,
   "metadata": {},
   "outputs": [
    {
     "data": {
      "text/plain": [
       "datetime.datetime(2018, 1, 2, 11, 15)"
      ]
     },
     "execution_count": 3,
     "metadata": {},
     "output_type": "execute_result"
    }
   ],
   "source": [
    "datetime(2018,1,2,11,15)# 年、月、日、时、分、秒、毫秒"
   ]
  },
  {
   "cell_type": "code",
   "execution_count": 4,
   "metadata": {},
   "outputs": [
    {
     "data": {
      "text/plain": [
       "datetime.datetime"
      ]
     },
     "execution_count": 4,
     "metadata": {},
     "output_type": "execute_result"
    }
   ],
   "source": [
    "stamp = datetime(2018,1,2)\n",
    "type(stamp)"
   ]
  },
  {
   "cell_type": "code",
   "execution_count": 5,
   "metadata": {},
   "outputs": [
    {
     "data": {
      "text/plain": [
       "2018"
      ]
     },
     "execution_count": 5,
     "metadata": {},
     "output_type": "execute_result"
    }
   ],
   "source": [
    "# now\n",
    "now = datetime.now()\n",
    "now.year"
   ]
  },
  {
   "cell_type": "code",
   "execution_count": 6,
   "metadata": {},
   "outputs": [
    {
     "data": {
      "text/plain": [
       "11"
      ]
     },
     "execution_count": 6,
     "metadata": {},
     "output_type": "execute_result"
    }
   ],
   "source": [
    "now.month"
   ]
  },
  {
   "cell_type": "code",
   "execution_count": 7,
   "metadata": {},
   "outputs": [
    {
     "data": {
      "text/plain": [
       "2"
      ]
     },
     "execution_count": 7,
     "metadata": {},
     "output_type": "execute_result"
    }
   ],
   "source": [
    "now.day"
   ]
  },
  {
   "cell_type": "markdown",
   "metadata": {},
   "source": [
    "## datetime格式化为字符串"
   ]
  },
  {
   "cell_type": "code",
   "execution_count": 8,
   "metadata": {},
   "outputs": [
    {
     "data": {
      "text/plain": [
       "'2018-01-02 00:00:00'"
      ]
     },
     "execution_count": 8,
     "metadata": {},
     "output_type": "execute_result"
    }
   ],
   "source": [
    "str(stamp)"
   ]
  },
  {
   "cell_type": "code",
   "execution_count": 9,
   "metadata": {},
   "outputs": [
    {
     "data": {
      "text/plain": [
       "'2018-01-02'"
      ]
     },
     "execution_count": 9,
     "metadata": {},
     "output_type": "execute_result"
    }
   ],
   "source": [
    "stamp.strftime('%Y-%m-%d')"
   ]
  },
  {
   "cell_type": "markdown",
   "metadata": {},
   "source": [
    "## 字符串转换为日期\n",
    "* datetime.strptime 字符串转换为日期\n",
    "* datetime.strptime 通过已知格式进行日期解析的**最佳方式**"
   ]
  },
  {
   "cell_type": "code",
   "execution_count": 10,
   "metadata": {},
   "outputs": [
    {
     "data": {
      "text/plain": [
       "datetime.datetime(2018, 11, 2, 0, 0)"
      ]
     },
     "execution_count": 10,
     "metadata": {},
     "output_type": "execute_result"
    }
   ],
   "source": [
    "# 单个\n",
    "datestr = '2018-11-2'\n",
    "datetime.strptime(datestr,'%Y-%m-%d')"
   ]
  },
  {
   "cell_type": "code",
   "execution_count": 11,
   "metadata": {},
   "outputs": [
    {
     "data": {
      "text/plain": [
       "[datetime.datetime(2018, 1, 20, 0, 0), datetime.datetime(2018, 1, 21, 0, 0)]"
      ]
     },
     "execution_count": 11,
     "metadata": {},
     "output_type": "execute_result"
    }
   ],
   "source": [
    "# 多个\n",
    "datestrs = ['1-20-2018','1-21-2018']\n",
    "# 列表推导式\n",
    "[datetime.strptime(x,'%m-%d-%Y') for x in datestrs]"
   ]
  },
  {
   "cell_type": "code",
   "execution_count": 12,
   "metadata": {},
   "outputs": [
    {
     "data": {
      "text/plain": [
       "[datetime.datetime(2018, 1, 2, 0, 0), datetime.datetime(2018, 1, 3, 0, 0)]"
      ]
     },
     "execution_count": 12,
     "metadata": {},
     "output_type": "execute_result"
    }
   ],
   "source": [
    "# 多个\n",
    "datestrs_1 = ['2018/1/2','2018/1/3']\n",
    "# 注意'%=%-%','%/%/%'与列表中日期字符串格式统一，位置一一对应\n",
    "[datetime.strptime(x,'%Y/%m/%d') for x in datestrs_1]"
   ]
  },
  {
   "cell_type": "markdown",
   "metadata": {},
   "source": [
    "# datetime格式定义\n",
    "* %Y  4位数的年\n",
    "* %y  2位数的年\n",
    "* %m  2位数的月【01,12】\n",
    "* %d  2位数的日【01,31】\n",
    "* %w  用整数表示星期几【0，星期天】【6，星期六】\n",
    "* %U  每年的第几周，星期天认为是每周的第一天，每年第一个星期天之前的那几天被认识是第0周\n",
    "* %W  每年的第几周，星期一认为是每周的第一天，每年第一个星期一之前的那几天被认识是第0周\n",
    "* %F  %Y-%m-%d\n",
    "* %D  %m/%d/%y"
   ]
  },
  {
   "cell_type": "markdown",
   "metadata": {},
   "source": [
    "# pandas处理成组日期\n",
    "\n",
    "* **pd.to_datetime**(df._col_1)，列转换为datetime数据类型\n",
    "* pd.DatetimeIndex(df.index)，索引转化为DatetimeIndex类型"
   ]
  },
  {
   "cell_type": "code",
   "execution_count": 13,
   "metadata": {},
   "outputs": [
    {
     "data": {
      "text/plain": [
       "['1-20-2018', '1-21-2018']"
      ]
     },
     "execution_count": 13,
     "metadata": {},
     "output_type": "execute_result"
    }
   ],
   "source": [
    "datestrs"
   ]
  },
  {
   "cell_type": "code",
   "execution_count": 14,
   "metadata": {},
   "outputs": [
    {
     "data": {
      "text/plain": [
       "DatetimeIndex(['2018-01-20', '2018-01-21'], dtype='datetime64[ns]', freq=None)"
      ]
     },
     "execution_count": 14,
     "metadata": {},
     "output_type": "execute_result"
    }
   ],
   "source": [
    "pd.to_datetime(datestrs)"
   ]
  },
  {
   "cell_type": "code",
   "execution_count": 15,
   "metadata": {},
   "outputs": [
    {
     "data": {
      "text/plain": [
       "DatetimeIndex(['2018-01-20', '2018-01-21', 'NaT'], dtype='datetime64[ns]', freq=None)"
      ]
     },
     "execution_count": 15,
     "metadata": {},
     "output_type": "execute_result"
    }
   ],
   "source": [
    "idx = pd.to_datetime(datestrs + [None]) \n",
    "idx"
   ]
  },
  {
   "cell_type": "markdown",
   "metadata": {},
   "source": [
    "* NaT Not a Time\n",
    "* NaT是pandas中时间戳timestamp数据的NA值"
   ]
  },
  {
   "cell_type": "code",
   "execution_count": 16,
   "metadata": {},
   "outputs": [
    {
     "data": {
      "text/plain": [
       "array([False, False,  True])"
      ]
     },
     "execution_count": 16,
     "metadata": {},
     "output_type": "execute_result"
    }
   ],
   "source": [
    "pd.isnull(idx)"
   ]
  },
  {
   "cell_type": "markdown",
   "metadata": {},
   "source": [
    "## pd.date_range()"
   ]
  },
  {
   "cell_type": "code",
   "execution_count": 17,
   "metadata": {},
   "outputs": [
    {
     "data": {
      "text/plain": [
       "DatetimeIndex(['2018-11-02', '2018-11-03', '2018-11-04', '2018-11-05',\n",
       "               '2018-11-06', '2018-11-07', '2018-11-08', '2018-11-09',\n",
       "               '2018-11-10', '2018-11-11'],\n",
       "              dtype='datetime64[ns]', freq='D')"
      ]
     },
     "execution_count": 17,
     "metadata": {},
     "output_type": "execute_result"
    }
   ],
   "source": [
    "pd.date_range('20181102','20181111')"
   ]
  },
  {
   "cell_type": "code",
   "execution_count": 18,
   "metadata": {},
   "outputs": [
    {
     "data": {
      "text/plain": [
       "DatetimeIndex(['2018-11-01', '2018-11-02', '2018-11-03', '2018-11-04',\n",
       "               '2018-11-05', '2018-11-06', '2018-11-07', '2018-11-08',\n",
       "               '2018-11-09', '2018-11-10', '2018-11-11'],\n",
       "              dtype='datetime64[ns]', freq='D')"
      ]
     },
     "execution_count": 18,
     "metadata": {},
     "output_type": "execute_result"
    }
   ],
   "source": [
    "pd.date_range(end='20181111',periods=11)"
   ]
  },
  {
   "cell_type": "code",
   "execution_count": 19,
   "metadata": {},
   "outputs": [
    {
     "data": {
      "text/plain": [
       "DatetimeIndex(['2018-11-01', '2018-11-02', '2018-11-03', '2018-11-04',\n",
       "               '2018-11-05', '2018-11-06', '2018-11-07', '2018-11-08',\n",
       "               '2018-11-09', '2018-11-10', '2018-11-11'],\n",
       "              dtype='datetime64[ns]', freq='D')"
      ]
     },
     "execution_count": 19,
     "metadata": {},
     "output_type": "execute_result"
    }
   ],
   "source": [
    "pd.date_range(start='20181101',periods=11)"
   ]
  },
  {
   "cell_type": "code",
   "execution_count": 20,
   "metadata": {},
   "outputs": [
    {
     "data": {
      "text/plain": [
       "DatetimeIndex(['2018-11-04', '2018-11-11', '2018-11-18', '2018-11-25',\n",
       "               '2018-12-02', '2018-12-09', '2018-12-16', '2018-12-23',\n",
       "               '2018-12-30', '2019-01-06', '2019-01-13'],\n",
       "              dtype='datetime64[ns]', freq='W-SUN')"
      ]
     },
     "execution_count": 20,
     "metadata": {},
     "output_type": "execute_result"
    }
   ],
   "source": [
    "pd.date_range('20181101',periods=11,freq='W')"
   ]
  },
  {
   "cell_type": "markdown",
   "metadata": {},
   "source": [
    "## 时间序列的基础频率 base frequency\n",
    "* **freq=''**\n",
    "* D，Day，每个日历日\n",
    "* B，BusinessDay，每个工作日\n",
    "* BMS，BusinessMonthBegin，每月第一个工作日\n",
    "* BM，business end of month，每月最后一个工作日组成的日期索引\n",
    "* MS，MonthBegin，每月1号\n",
    "***\n",
    "* W-MON，对每周一，开始采样，只记录每周一\n",
    "    * W-MON\n",
    "    * W-TUE\n",
    "    * W-WED\n",
    "    * W-THU\n",
    "    * W-FRI\n",
    "    * W-SAT\n",
    "    * W-SUN\n",
    "\n",
    "* WOM-1MON，WeekOfMonth，对每月第一个星期一\n",
    "    * WOM-2TUE，对每月第二个星期二，采样\n",
    "\n",
    "***\n",
    "* Q-FEB，QuarterEnd，每季度最后一月的，最后一个日历日，以指定月份结束的年度\n",
    "* BQ-OCT，BusinessQuarterEnd，每季度最后一月的，最后一个个工作日，以指定月份结束的年度\n",
    "    * JAN\n",
    "    * FEB\n",
    "    * MAR\n",
    "    * APR\n",
    "    * MAY\n",
    "    * JUN\n",
    "    * JUL\n",
    "    * AUG\n",
    "    * SEP\n",
    "    * OCT\n",
    "    * NOV\n",
    "    * DEC\n",
    "\n",
    "\n",
    "* QS-FEB，QuarterEnd，每季度最后一月的，第一个日历日，以指定月份结束的年度\n",
    "* BQS-FEB，QuarterEnd，每季度最后一月的，第一个工作日，以指定月份结束的年度\n",
    "***\n",
    "* H，Hour，每小时\n",
    "* T或min，Minute，每分\n",
    "* S，Second，每秒\n",
    "* L或ms，Milli，每毫秒\n",
    "* U，Micro，每微妙\n",
    "***\n",
    "* A-JAN，YearEnd，每年指定月份的最后一个日历日\n",
    "* BA-JAN，BusinessYearEnd，每年制定月份的最后一个工作日\n",
    "\n",
    "\n",
    "* AS-JAN，YearBegin，每年指定月份的第一个日历日\n",
    "* BAS-JAN，BusinessYearBegin，每指定月份的第一个工作日"
   ]
  },
  {
   "cell_type": "code",
   "execution_count": 21,
   "metadata": {},
   "outputs": [
    {
     "data": {
      "text/plain": [
       "DatetimeIndex(['2018-11-02', '2018-11-05', '2018-11-06', '2018-11-07',\n",
       "               '2018-11-08', '2018-11-09', '2018-11-12', '2018-11-13',\n",
       "               '2018-11-14', '2018-11-15', '2018-11-16', '2018-11-19',\n",
       "               '2018-11-20', '2018-11-21', '2018-11-22', '2018-11-23',\n",
       "               '2018-11-26', '2018-11-27', '2018-11-28', '2018-11-29',\n",
       "               '2018-11-30', '2018-12-03', '2018-12-04', '2018-12-05',\n",
       "               '2018-12-06', '2018-12-07', '2018-12-10', '2018-12-11',\n",
       "               '2018-12-12', '2018-12-13', '2018-12-14', '2018-12-17',\n",
       "               '2018-12-18', '2018-12-19', '2018-12-20', '2018-12-21',\n",
       "               '2018-12-24', '2018-12-25', '2018-12-26', '2018-12-27',\n",
       "               '2018-12-28', '2018-12-31', '2019-01-01', '2019-01-02'],\n",
       "              dtype='datetime64[ns]', freq='B')"
      ]
     },
     "execution_count": 21,
     "metadata": {},
     "output_type": "execute_result"
    }
   ],
   "source": [
    "lts = pd.date_range('20181102','20190102',freq='B')# 每个工作日\n",
    "lts"
   ]
  },
  {
   "cell_type": "code",
   "execution_count": 22,
   "metadata": {
    "scrolled": true
   },
   "outputs": [
    {
     "data": {
      "text/plain": [
       "DatetimeIndex(['2019-01-01', '2019-02-01', '2019-03-01', '2019-04-01',\n",
       "               '2019-05-01', '2019-06-03', '2019-07-01', '2019-08-01',\n",
       "               '2019-09-02', '2019-10-01', '2019-11-01', '2019-12-02',\n",
       "               '2020-01-01'],\n",
       "              dtype='datetime64[ns]', freq='BMS')"
      ]
     },
     "execution_count": 22,
     "metadata": {},
     "output_type": "execute_result"
    }
   ],
   "source": [
    "pd.date_range('20190101','20200102',freq='BMS')# 每月第一个工作日"
   ]
  },
  {
   "cell_type": "code",
   "execution_count": 23,
   "metadata": {},
   "outputs": [
    {
     "data": {
      "text/plain": [
       "DatetimeIndex(['2019-01-31', '2019-02-28', '2019-03-29', '2019-04-30',\n",
       "               '2019-05-31', '2019-06-28', '2019-07-31', '2019-08-30',\n",
       "               '2019-09-30', '2019-10-31', '2019-11-29', '2019-12-31'],\n",
       "              dtype='datetime64[ns]', freq='BM')"
      ]
     },
     "execution_count": 23,
     "metadata": {},
     "output_type": "execute_result"
    }
   ],
   "source": [
    "pd.date_range('20190101','20191231',freq='BM')# 每月最后一个工作日"
   ]
  },
  {
   "cell_type": "code",
   "execution_count": 24,
   "metadata": {},
   "outputs": [
    {
     "data": {
      "text/plain": [
       "DatetimeIndex(['2019-01-01 00:00:00', '2019-01-01 04:30:00',\n",
       "               '2019-01-01 09:00:00', '2019-01-01 13:30:00',\n",
       "               '2019-01-01 18:00:00', '2019-01-01 22:30:00'],\n",
       "              dtype='datetime64[ns]', freq='270T')"
      ]
     },
     "execution_count": 24,
     "metadata": {},
     "output_type": "execute_result"
    }
   ],
   "source": [
    "pd.date_range('20190101','20190102',freq='4H30min')"
   ]
  },
  {
   "cell_type": "code",
   "execution_count": 25,
   "metadata": {},
   "outputs": [
    {
     "data": {
      "text/plain": [
       "DatetimeIndex(['2018-12-01', '2019-01-01', '2019-02-01', '2019-03-01',\n",
       "               '2019-04-01', '2019-05-01', '2019-06-01', '2019-07-01',\n",
       "               '2019-08-01', '2019-09-01', '2019-10-01', '2019-11-01'],\n",
       "              dtype='datetime64[ns]', freq='MS')"
      ]
     },
     "execution_count": 25,
     "metadata": {},
     "output_type": "execute_result"
    }
   ],
   "source": [
    "pd.date_range('20181102','20191102',freq='MS')#每月1号"
   ]
  },
  {
   "cell_type": "code",
   "execution_count": 26,
   "metadata": {},
   "outputs": [
    {
     "data": {
      "text/plain": [
       "DatetimeIndex(['2018-11-02', '2018-11-09', '2018-11-16', '2018-11-23',\n",
       "               '2018-11-30', '2018-12-07', '2018-12-14', '2018-12-21',\n",
       "               '2018-12-28', '2019-01-04', '2019-01-11', '2019-01-18',\n",
       "               '2019-01-25', '2019-02-01', '2019-02-08', '2019-02-15',\n",
       "               '2019-02-22', '2019-03-01', '2019-03-08', '2019-03-15',\n",
       "               '2019-03-22', '2019-03-29', '2019-04-05', '2019-04-12',\n",
       "               '2019-04-19', '2019-04-26', '2019-05-03', '2019-05-10',\n",
       "               '2019-05-17', '2019-05-24', '2019-05-31', '2019-06-07',\n",
       "               '2019-06-14', '2019-06-21', '2019-06-28', '2019-07-05',\n",
       "               '2019-07-12', '2019-07-19', '2019-07-26', '2019-08-02',\n",
       "               '2019-08-09', '2019-08-16', '2019-08-23', '2019-08-30',\n",
       "               '2019-09-06', '2019-09-13', '2019-09-20', '2019-09-27',\n",
       "               '2019-10-04', '2019-10-11', '2019-10-18', '2019-10-25',\n",
       "               '2019-11-01'],\n",
       "              dtype='datetime64[ns]', freq='W-FRI')"
      ]
     },
     "execution_count": 26,
     "metadata": {},
     "output_type": "execute_result"
    }
   ],
   "source": [
    "pd.date_range('20181102','20191102',freq='W-FRI')#对每周五采样"
   ]
  },
  {
   "cell_type": "code",
   "execution_count": 27,
   "metadata": {},
   "outputs": [
    {
     "data": {
      "text/plain": [
       "DatetimeIndex(['2018-11-10', '2018-12-08', '2019-01-12', '2019-02-09',\n",
       "               '2019-03-09', '2019-04-13', '2019-05-11', '2019-06-08',\n",
       "               '2019-07-13', '2019-08-10', '2019-09-14', '2019-10-12',\n",
       "               '2019-11-09'],\n",
       "              dtype='datetime64[ns]', freq='WOM-2SAT')"
      ]
     },
     "execution_count": 27,
     "metadata": {},
     "output_type": "execute_result"
    }
   ],
   "source": [
    "pd.date_range('20181102','20191111',freq='WOM-2SAT')# 对每月第二个周六采样"
   ]
  },
  {
   "cell_type": "code",
   "execution_count": 28,
   "metadata": {},
   "outputs": [
    {
     "data": {
      "text/plain": [
       "DatetimeIndex(['2018-01-31', '2018-04-30', '2018-07-31', '2018-10-31',\n",
       "               '2019-01-31', '2019-04-30', '2019-07-31', '2019-10-31'],\n",
       "              dtype='datetime64[ns]', freq='Q-JAN')"
      ]
     },
     "execution_count": 28,
     "metadata": {},
     "output_type": "execute_result"
    }
   ],
   "source": [
    "pd.date_range('2018','2020',freq='Q-JAN')"
   ]
  },
  {
   "cell_type": "code",
   "execution_count": 29,
   "metadata": {},
   "outputs": [
    {
     "data": {
      "text/plain": [
       "DatetimeIndex(['2018-02-28', '2018-05-31', '2018-08-31', '2018-11-30',\n",
       "               '2019-02-28', '2019-05-31', '2019-08-31', '2019-11-30'],\n",
       "              dtype='datetime64[ns]', freq='Q-FEB')"
      ]
     },
     "execution_count": 29,
     "metadata": {},
     "output_type": "execute_result"
    }
   ],
   "source": [
    "pd.date_range('2018','2020',freq='Q-FEB')"
   ]
  },
  {
   "cell_type": "code",
   "execution_count": 30,
   "metadata": {},
   "outputs": [
    {
     "data": {
      "text/plain": [
       "DatetimeIndex(['2018-01-31', '2018-04-30', '2018-07-31', '2018-10-31',\n",
       "               '2019-01-31', '2019-04-30', '2019-07-31', '2019-10-31'],\n",
       "              dtype='datetime64[ns]', freq='Q-OCT')"
      ]
     },
     "execution_count": 30,
     "metadata": {},
     "output_type": "execute_result"
    }
   ],
   "source": [
    "pd.date_range('2018','2020',freq='Q-OCT')"
   ]
  },
  {
   "cell_type": "code",
   "execution_count": 31,
   "metadata": {},
   "outputs": [
    {
     "data": {
      "text/plain": [
       "DatetimeIndex(['2018-01-31', '2018-04-30', '2018-07-31', '2018-10-31',\n",
       "               '2019-01-31', '2019-04-30', '2019-07-31', '2019-10-31'],\n",
       "              dtype='datetime64[ns]', freq='BQ-OCT')"
      ]
     },
     "execution_count": 31,
     "metadata": {},
     "output_type": "execute_result"
    }
   ],
   "source": [
    "pd.date_range('2018','2020',freq='BQ-OCT')"
   ]
  },
  {
   "cell_type": "markdown",
   "metadata": {},
   "source": [
    "## 时间序列 timeSeries\n",
    "\n",
    "* pandas最基本的时间序列类型，以时间戳为index的Series\n",
    "* pd.date_range(start=,end=,periods=,freq=,normalize=)"
   ]
  },
  {
   "cell_type": "code",
   "execution_count": 32,
   "metadata": {},
   "outputs": [
    {
     "data": {
      "text/plain": [
       "2018-11-02   -1.602316\n",
       "2018-11-03    2.307768\n",
       "2018-11-04   -0.976703\n",
       "2018-11-05   -0.527777\n",
       "2018-11-06    0.125793\n",
       "2018-11-07   -0.025519\n",
       "Freq: D, dtype: float64"
      ]
     },
     "execution_count": 32,
     "metadata": {},
     "output_type": "execute_result"
    }
   ],
   "source": [
    "timeindex = pd.date_range('20181102',periods=6)\n",
    "ts = pd.Series(np.random.randn(6),index = timeindex)\n",
    "ts"
   ]
  },
  {
   "cell_type": "code",
   "execution_count": 33,
   "metadata": {},
   "outputs": [
    {
     "data": {
      "text/html": [
       "<div>\n",
       "<style scoped>\n",
       "    .dataframe tbody tr th:only-of-type {\n",
       "        vertical-align: middle;\n",
       "    }\n",
       "\n",
       "    .dataframe tbody tr th {\n",
       "        vertical-align: top;\n",
       "    }\n",
       "\n",
       "    .dataframe thead th {\n",
       "        text-align: right;\n",
       "    }\n",
       "</style>\n",
       "<table border=\"1\" class=\"dataframe\">\n",
       "  <thead>\n",
       "    <tr style=\"text-align: right;\">\n",
       "      <th></th>\n",
       "      <th>0</th>\n",
       "      <th>1</th>\n",
       "      <th>2</th>\n",
       "    </tr>\n",
       "  </thead>\n",
       "  <tbody>\n",
       "    <tr>\n",
       "      <th>2018-11-02</th>\n",
       "      <td>-0.449482</td>\n",
       "      <td>0.947044</td>\n",
       "      <td>1.340471</td>\n",
       "    </tr>\n",
       "    <tr>\n",
       "      <th>2018-11-03</th>\n",
       "      <td>0.108835</td>\n",
       "      <td>-1.499982</td>\n",
       "      <td>0.401297</td>\n",
       "    </tr>\n",
       "    <tr>\n",
       "      <th>2018-11-04</th>\n",
       "      <td>0.524984</td>\n",
       "      <td>0.461541</td>\n",
       "      <td>0.612619</td>\n",
       "    </tr>\n",
       "    <tr>\n",
       "      <th>2018-11-05</th>\n",
       "      <td>-0.668273</td>\n",
       "      <td>-1.220822</td>\n",
       "      <td>-1.537954</td>\n",
       "    </tr>\n",
       "    <tr>\n",
       "      <th>2018-11-06</th>\n",
       "      <td>-1.070256</td>\n",
       "      <td>0.536603</td>\n",
       "      <td>1.617108</td>\n",
       "    </tr>\n",
       "    <tr>\n",
       "      <th>2018-11-07</th>\n",
       "      <td>0.095821</td>\n",
       "      <td>-1.104440</td>\n",
       "      <td>-0.014713</td>\n",
       "    </tr>\n",
       "  </tbody>\n",
       "</table>\n",
       "</div>"
      ],
      "text/plain": [
       "                   0         1         2\n",
       "2018-11-02 -0.449482  0.947044  1.340471\n",
       "2018-11-03  0.108835 -1.499982  0.401297\n",
       "2018-11-04  0.524984  0.461541  0.612619\n",
       "2018-11-05 -0.668273 -1.220822 -1.537954\n",
       "2018-11-06 -1.070256  0.536603  1.617108\n",
       "2018-11-07  0.095821 -1.104440 -0.014713"
      ]
     },
     "execution_count": 33,
     "metadata": {},
     "output_type": "execute_result"
    }
   ],
   "source": [
    "df = pd.DataFrame(np.random.randn(6,3),index=timeindex)\n",
    "df"
   ]
  },
  {
   "cell_type": "markdown",
   "metadata": {},
   "source": [
    "* DatetimeIndex"
   ]
  },
  {
   "cell_type": "code",
   "execution_count": 34,
   "metadata": {},
   "outputs": [
    {
     "data": {
      "text/plain": [
       "DatetimeIndex(['2018-11-02', '2018-11-03', '2018-11-04', '2018-11-05',\n",
       "               '2018-11-06', '2018-11-07'],\n",
       "              dtype='datetime64[ns]', freq='D')"
      ]
     },
     "execution_count": 34,
     "metadata": {},
     "output_type": "execute_result"
    }
   ],
   "source": [
    "ts.index"
   ]
  },
  {
   "cell_type": "code",
   "execution_count": 35,
   "metadata": {},
   "outputs": [
    {
     "data": {
      "text/plain": [
       "dtype('<M8[ns]')"
      ]
     },
     "execution_count": 35,
     "metadata": {},
     "output_type": "execute_result"
    }
   ],
   "source": [
    "ts.index.dtype"
   ]
  },
  {
   "cell_type": "code",
   "execution_count": 36,
   "metadata": {},
   "outputs": [
    {
     "data": {
      "text/plain": [
       "DatetimeIndex(['2018-11-02', '2018-11-03', '2018-11-04', '2018-11-05',\n",
       "               '2018-11-06', '2018-11-07'],\n",
       "              dtype='datetime64[ns]', freq='D')"
      ]
     },
     "execution_count": 36,
     "metadata": {},
     "output_type": "execute_result"
    }
   ],
   "source": [
    "df.index"
   ]
  },
  {
   "cell_type": "code",
   "execution_count": 37,
   "metadata": {},
   "outputs": [
    {
     "data": {
      "text/plain": [
       "dtype('<M8[ns]')"
      ]
     },
     "execution_count": 37,
     "metadata": {},
     "output_type": "execute_result"
    }
   ],
   "source": [
    "df.index.dtype"
   ]
  },
  {
   "cell_type": "code",
   "execution_count": 38,
   "metadata": {},
   "outputs": [
    {
     "data": {
      "text/plain": [
       "pandas.core.frame.DataFrame"
      ]
     },
     "execution_count": 38,
     "metadata": {},
     "output_type": "execute_result"
    }
   ],
   "source": [
    "type(df)"
   ]
  },
  {
   "cell_type": "code",
   "execution_count": 39,
   "metadata": {},
   "outputs": [
    {
     "data": {
      "text/plain": [
       "pandas.core.series.Series"
      ]
     },
     "execution_count": 39,
     "metadata": {},
     "output_type": "execute_result"
    }
   ],
   "source": [
    "type(ts)"
   ]
  },
  {
   "cell_type": "markdown",
   "metadata": {},
   "source": [
    "# 切片、索引\n",
    "* 和Series一样的数据选取"
   ]
  },
  {
   "cell_type": "code",
   "execution_count": 40,
   "metadata": {},
   "outputs": [
    {
     "data": {
      "text/plain": [
       "Timestamp('2018-11-03 00:00:00', freq='D')"
      ]
     },
     "execution_count": 40,
     "metadata": {},
     "output_type": "execute_result"
    }
   ],
   "source": [
    "# 索引\n",
    "stamp = ts.index[1]\n",
    "stamp"
   ]
  },
  {
   "cell_type": "code",
   "execution_count": 41,
   "metadata": {},
   "outputs": [
    {
     "data": {
      "text/plain": [
       "2.3077684162679035"
      ]
     },
     "execution_count": 41,
     "metadata": {},
     "output_type": "execute_result"
    }
   ],
   "source": [
    "ts[stamp]#传入时间戳"
   ]
  },
  {
   "cell_type": "code",
   "execution_count": 42,
   "metadata": {},
   "outputs": [
    {
     "data": {
      "text/plain": [
       "2.3077684162679035"
      ]
     },
     "execution_count": 42,
     "metadata": {},
     "output_type": "execute_result"
    }
   ],
   "source": [
    "ts['2018-11-03 00:00:00']# 传入可被解释为日期的字符串"
   ]
  },
  {
   "cell_type": "code",
   "execution_count": 43,
   "metadata": {},
   "outputs": [
    {
     "data": {
      "text/plain": [
       "2019-01-01    0.055231\n",
       "2019-01-02   -0.489285\n",
       "2019-01-03    0.644331\n",
       "2019-01-04   -0.561307\n",
       "2019-01-05   -0.940848\n",
       "2019-01-06   -0.779632\n",
       "2019-01-07   -0.272890\n",
       "2019-01-08    0.560907\n",
       "2019-01-09    0.253580\n",
       "2019-01-10   -1.122858\n",
       "2019-01-11   -0.452866\n",
       "2019-01-12    0.641078\n",
       "2019-01-13   -0.304365\n",
       "2019-01-14    0.477206\n",
       "2019-01-15   -0.324065\n",
       "2019-01-16   -0.062778\n",
       "2019-01-17    0.613034\n",
       "2019-01-18   -0.345285\n",
       "2019-01-19    0.473493\n",
       "2019-01-20   -0.233947\n",
       "2019-01-21    0.017067\n",
       "2019-01-22   -0.334349\n",
       "2019-01-23   -0.400958\n",
       "2019-01-24    1.790941\n",
       "2019-01-25   -0.635101\n",
       "2019-01-26   -1.839446\n",
       "2019-01-27    0.335772\n",
       "2019-01-28    0.130215\n",
       "2019-01-29    0.012593\n",
       "2019-01-30    0.954772\n",
       "                ...   \n",
       "2019-12-02   -0.102505\n",
       "2019-12-03   -0.113272\n",
       "2019-12-04   -0.889632\n",
       "2019-12-05    0.635173\n",
       "2019-12-06    0.098169\n",
       "2019-12-07    1.115568\n",
       "2019-12-08    0.012114\n",
       "2019-12-09    0.721762\n",
       "2019-12-10    1.813529\n",
       "2019-12-11   -0.343580\n",
       "2019-12-12   -1.445977\n",
       "2019-12-13    2.055750\n",
       "2019-12-14   -0.859891\n",
       "2019-12-15    1.584995\n",
       "2019-12-16   -0.124740\n",
       "2019-12-17    0.392971\n",
       "2019-12-18   -0.672804\n",
       "2019-12-19    0.376677\n",
       "2019-12-20    0.237406\n",
       "2019-12-21    0.330231\n",
       "2019-12-22   -1.414359\n",
       "2019-12-23   -0.143394\n",
       "2019-12-24    0.767803\n",
       "2019-12-25    0.386805\n",
       "2019-12-26    1.871928\n",
       "2019-12-27    0.835784\n",
       "2019-12-28    1.196888\n",
       "2019-12-29   -0.120488\n",
       "2019-12-30    0.826420\n",
       "2019-12-31   -0.021576\n",
       "Freq: D, Length: 365, dtype: float64"
      ]
     },
     "execution_count": 43,
     "metadata": {},
     "output_type": "execute_result"
    }
   ],
   "source": [
    "longer_ts = pd.Series(np.random.randn(1000),index=pd.date_range('20181102',periods=1000))\n",
    "longer_ts['2019'] #长时间序列的索引，选取数据切片"
   ]
  },
  {
   "cell_type": "code",
   "execution_count": 44,
   "metadata": {},
   "outputs": [
    {
     "data": {
      "text/plain": [
       "2018-11-02    0.699765\n",
       "2018-11-03    0.327841\n",
       "2018-11-04   -0.293638\n",
       "Freq: D, dtype: float64"
      ]
     },
     "execution_count": 44,
     "metadata": {},
     "output_type": "execute_result"
    }
   ],
   "source": [
    "longer_ts[:3]#切片"
   ]
  },
  {
   "cell_type": "code",
   "execution_count": 45,
   "metadata": {},
   "outputs": [
    {
     "data": {
      "text/plain": [
       "2018-11-02    0.699765\n",
       "2018-11-03    0.327841\n",
       "2018-11-04   -0.293638\n",
       "2018-11-05    0.121648\n",
       "Freq: D, dtype: float64"
      ]
     },
     "execution_count": 45,
     "metadata": {},
     "output_type": "execute_result"
    }
   ],
   "source": [
    "longer_ts[:datetime(2018,11,5)]# 切片"
   ]
  },
  {
   "cell_type": "code",
   "execution_count": 46,
   "metadata": {},
   "outputs": [
    {
     "data": {
      "text/plain": [
       "2018-11-02   -1.602316\n",
       "2018-11-03    2.307768\n",
       "2018-11-04   -0.976703\n",
       "2018-11-05   -0.527777\n",
       "2018-11-06    0.125793\n",
       "2018-11-07   -0.025519\n",
       "Freq: D, dtype: float64"
      ]
     },
     "execution_count": 46,
     "metadata": {},
     "output_type": "execute_result"
    }
   ],
   "source": [
    "ts"
   ]
  },
  {
   "cell_type": "code",
   "execution_count": 47,
   "metadata": {},
   "outputs": [
    {
     "data": {
      "text/plain": [
       "2018-11-02   -1.602316\n",
       "2018-11-03    2.307768\n",
       "2018-11-04   -0.976703\n",
       "2018-11-05   -0.527777\n",
       "2018-11-06    0.125793\n",
       "2018-11-07   -0.025519\n",
       "Freq: D, dtype: float64"
      ]
     },
     "execution_count": 47,
     "metadata": {},
     "output_type": "execute_result"
    }
   ],
   "source": [
    "ts['2018-1-1':'2019-1-1']"
   ]
  },
  {
   "cell_type": "markdown",
   "metadata": {},
   "source": [
    "* 截取两个日期之间\n",
    "* .truncate"
   ]
  },
  {
   "cell_type": "code",
   "execution_count": 48,
   "metadata": {},
   "outputs": [
    {
     "data": {
      "text/plain": [
       "2018-11-05   -0.527777\n",
       "2018-11-06    0.125793\n",
       "2018-11-07   -0.025519\n",
       "Freq: D, dtype: float64"
      ]
     },
     "execution_count": 48,
     "metadata": {},
     "output_type": "execute_result"
    }
   ],
   "source": [
    "ts.truncate(before='20181105')"
   ]
  },
  {
   "cell_type": "code",
   "execution_count": 49,
   "metadata": {},
   "outputs": [
    {
     "data": {
      "text/html": [
       "<div>\n",
       "<style scoped>\n",
       "    .dataframe tbody tr th:only-of-type {\n",
       "        vertical-align: middle;\n",
       "    }\n",
       "\n",
       "    .dataframe tbody tr th {\n",
       "        vertical-align: top;\n",
       "    }\n",
       "\n",
       "    .dataframe thead th {\n",
       "        text-align: right;\n",
       "    }\n",
       "</style>\n",
       "<table border=\"1\" class=\"dataframe\">\n",
       "  <thead>\n",
       "    <tr style=\"text-align: right;\">\n",
       "      <th></th>\n",
       "      <th>0</th>\n",
       "      <th>1</th>\n",
       "      <th>2</th>\n",
       "    </tr>\n",
       "  </thead>\n",
       "  <tbody>\n",
       "    <tr>\n",
       "      <th>2018-11-02</th>\n",
       "      <td>-0.449482</td>\n",
       "      <td>0.947044</td>\n",
       "      <td>1.340471</td>\n",
       "    </tr>\n",
       "    <tr>\n",
       "      <th>2018-11-03</th>\n",
       "      <td>0.108835</td>\n",
       "      <td>-1.499982</td>\n",
       "      <td>0.401297</td>\n",
       "    </tr>\n",
       "    <tr>\n",
       "      <th>2018-11-04</th>\n",
       "      <td>0.524984</td>\n",
       "      <td>0.461541</td>\n",
       "      <td>0.612619</td>\n",
       "    </tr>\n",
       "    <tr>\n",
       "      <th>2018-11-05</th>\n",
       "      <td>-0.668273</td>\n",
       "      <td>-1.220822</td>\n",
       "      <td>-1.537954</td>\n",
       "    </tr>\n",
       "    <tr>\n",
       "      <th>2018-11-06</th>\n",
       "      <td>-1.070256</td>\n",
       "      <td>0.536603</td>\n",
       "      <td>1.617108</td>\n",
       "    </tr>\n",
       "    <tr>\n",
       "      <th>2018-11-07</th>\n",
       "      <td>0.095821</td>\n",
       "      <td>-1.104440</td>\n",
       "      <td>-0.014713</td>\n",
       "    </tr>\n",
       "  </tbody>\n",
       "</table>\n",
       "</div>"
      ],
      "text/plain": [
       "                   0         1         2\n",
       "2018-11-02 -0.449482  0.947044  1.340471\n",
       "2018-11-03  0.108835 -1.499982  0.401297\n",
       "2018-11-04  0.524984  0.461541  0.612619\n",
       "2018-11-05 -0.668273 -1.220822 -1.537954\n",
       "2018-11-06 -1.070256  0.536603  1.617108\n",
       "2018-11-07  0.095821 -1.104440 -0.014713"
      ]
     },
     "execution_count": 49,
     "metadata": {},
     "output_type": "execute_result"
    }
   ],
   "source": [
    "df"
   ]
  },
  {
   "cell_type": "code",
   "execution_count": 50,
   "metadata": {},
   "outputs": [
    {
     "data": {
      "text/html": [
       "<div>\n",
       "<style scoped>\n",
       "    .dataframe tbody tr th:only-of-type {\n",
       "        vertical-align: middle;\n",
       "    }\n",
       "\n",
       "    .dataframe tbody tr th {\n",
       "        vertical-align: top;\n",
       "    }\n",
       "\n",
       "    .dataframe thead th {\n",
       "        text-align: right;\n",
       "    }\n",
       "</style>\n",
       "<table border=\"1\" class=\"dataframe\">\n",
       "  <thead>\n",
       "    <tr style=\"text-align: right;\">\n",
       "      <th></th>\n",
       "      <th>0</th>\n",
       "      <th>1</th>\n",
       "      <th>2</th>\n",
       "    </tr>\n",
       "  </thead>\n",
       "  <tbody>\n",
       "    <tr>\n",
       "      <th>2018-11-02</th>\n",
       "      <td>-0.449482</td>\n",
       "      <td>0.947044</td>\n",
       "      <td>1.340471</td>\n",
       "    </tr>\n",
       "    <tr>\n",
       "      <th>2018-11-03</th>\n",
       "      <td>0.108835</td>\n",
       "      <td>-1.499982</td>\n",
       "      <td>0.401297</td>\n",
       "    </tr>\n",
       "  </tbody>\n",
       "</table>\n",
       "</div>"
      ],
      "text/plain": [
       "                   0         1         2\n",
       "2018-11-02 -0.449482  0.947044  1.340471\n",
       "2018-11-03  0.108835 -1.499982  0.401297"
      ]
     },
     "execution_count": 50,
     "metadata": {},
     "output_type": "execute_result"
    }
   ],
   "source": [
    "df.loc[:'2018-11-03']"
   ]
  },
  {
   "cell_type": "markdown",
   "metadata": {},
   "source": [
    "# 重复索引的时间序列\n",
    "\n",
    "* 检查索引**is_unique属性**"
   ]
  },
  {
   "cell_type": "code",
   "execution_count": 51,
   "metadata": {},
   "outputs": [
    {
     "data": {
      "text/plain": [
       "True"
      ]
     },
     "execution_count": 51,
     "metadata": {},
     "output_type": "execute_result"
    }
   ],
   "source": [
    "df.index.is_unique"
   ]
  },
  {
   "cell_type": "markdown",
   "metadata": {},
   "source": [
    "## 时间戳聚合\n",
    "* .groupby(level=0)"
   ]
  },
  {
   "cell_type": "code",
   "execution_count": 52,
   "metadata": {},
   "outputs": [
    {
     "data": {
      "text/plain": [
       "2018-11-02    1\n",
       "2018-11-03    1\n",
       "2018-11-04    1\n",
       "2018-11-05    1\n",
       "2018-11-06    1\n",
       "2018-11-07    1\n",
       "Freq: D, dtype: int64"
      ]
     },
     "execution_count": 52,
     "metadata": {},
     "output_type": "execute_result"
    }
   ],
   "source": [
    "ts.groupby(level=0).count()"
   ]
  },
  {
   "cell_type": "code",
   "execution_count": null,
   "metadata": {},
   "outputs": [],
   "source": []
  }
 ],
 "metadata": {
  "kernelspec": {
   "display_name": "Python 3",
   "language": "python",
   "name": "python3"
  },
  "language_info": {
   "codemirror_mode": {
    "name": "ipython",
    "version": 3
   },
   "file_extension": ".py",
   "mimetype": "text/x-python",
   "name": "python",
   "nbconvert_exporter": "python",
   "pygments_lexer": "ipython3",
   "version": "3.6.5"
  }
 },
 "nbformat": 4,
 "nbformat_minor": 2
}
