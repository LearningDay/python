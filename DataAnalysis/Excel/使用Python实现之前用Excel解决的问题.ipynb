{
 "cells": [
  {
   "cell_type": "markdown",
   "metadata": {},
   "source": [
    "# 使用python实现Excel中的练习题\n",
    "\n",
    "* 数据来源\n",
    "    * 课程《七周成为数据分析师》Excel讲解的练习数据\n",
    "    \n",
    "* 目标\n",
    "    * 之前下面这些问题，秦璐老师用Excel完美解答，这里我用Python实现以下问题：\n",
    "    \n",
    "\n",
    "1. 全国点评数最高的饭店是哪家？\n",
    "2. 哪个城市的饭店人均口味最好？\n",
    "3. 哪个类型的餐饮评价最好？\n",
    "4. 类型为川菜的店中，有多少个带[辣]字，有多少个带[麻]字\n",
    "5. 口味、环境、服务三个评价都在8.0以上的饭店有几家？他们在哪个城市的占比最高\n",
    "6. 上海地区中，各个类型饭店服务前5名？\n",
    "7. 没有评价的饭店有几家？\n",
    "8. 将讲个划分成0~50，50~100,100~150,150~200,200+的档次，各个城市分别有几家，其占比如何？\n",
    "9. 对上海地区日本料理，做一次描述性分析"
   ]
  },
  {
   "cell_type": "code",
   "execution_count": 1,
   "metadata": {},
   "outputs": [],
   "source": [
    "import numpy as np\n",
    "import pandas as pd\n",
    "import seaborn as sns\n",
    "import matplotlib.pyplot as plt\n",
    "%matplotlib inline\n",
    "plt.rcParams['font.sans-serif']=['SimHei']"
   ]
  },
  {
   "cell_type": "markdown",
   "metadata": {},
   "source": [
    "* **数据清洗**"
   ]
  },
  {
   "cell_type": "code",
   "execution_count": 2,
   "metadata": {},
   "outputs": [],
   "source": [
    "city = pd.read_csv('cook.csv',encoding='gbk')"
   ]
  },
  {
   "cell_type": "code",
   "execution_count": 3,
   "metadata": {},
   "outputs": [
    {
     "name": "stdout",
     "output_type": "stream",
     "text": [
      "<class 'pandas.core.frame.DataFrame'>\n",
      "RangeIndex: 5863 entries, 0 to 5862\n",
      "Data columns (total 14 columns):\n",
      "城市             5863 non-null object\n",
      "类型             5863 non-null object\n",
      "店名             5863 non-null object\n",
      "点评             4509 non-null float64\n",
      "人均             3012 non-null float64\n",
      "口味             4425 non-null float64\n",
      "环境             4425 non-null float64\n",
      "服务             4425 non-null float64\n",
      "Unnamed: 8     0 non-null float64\n",
      "Unnamed: 9     0 non-null float64\n",
      "Unnamed: 10    0 non-null float64\n",
      "Unnamed: 11    0 non-null float64\n",
      "Unnamed: 12    0 non-null float64\n",
      "Unnamed: 13    0 non-null float64\n",
      "dtypes: float64(11), object(3)\n",
      "memory usage: 572.6+ KB\n"
     ]
    }
   ],
   "source": [
    "city.info()"
   ]
  },
  {
   "cell_type": "code",
   "execution_count": 4,
   "metadata": {
    "scrolled": true
   },
   "outputs": [
    {
     "data": {
      "text/plain": [
       "城市                0\n",
       "类型                0\n",
       "店名                0\n",
       "点评             1354\n",
       "人均             2851\n",
       "口味             1438\n",
       "环境             1438\n",
       "服务             1438\n",
       "Unnamed: 8     5863\n",
       "Unnamed: 9     5863\n",
       "Unnamed: 10    5863\n",
       "Unnamed: 11    5863\n",
       "Unnamed: 12    5863\n",
       "Unnamed: 13    5863\n",
       "dtype: int64"
      ]
     },
     "execution_count": 4,
     "metadata": {},
     "output_type": "execute_result"
    }
   ],
   "source": [
    "city.isnull().sum()"
   ]
  },
  {
   "cell_type": "code",
   "execution_count": 5,
   "metadata": {},
   "outputs": [],
   "source": [
    "city.dropna(axis=1,how='all',inplace=True)"
   ]
  },
  {
   "cell_type": "code",
   "execution_count": 6,
   "metadata": {
    "scrolled": true
   },
   "outputs": [
    {
     "data": {
      "text/html": [
       "<div>\n",
       "<style scoped>\n",
       "    .dataframe tbody tr th:only-of-type {\n",
       "        vertical-align: middle;\n",
       "    }\n",
       "\n",
       "    .dataframe tbody tr th {\n",
       "        vertical-align: top;\n",
       "    }\n",
       "\n",
       "    .dataframe thead th {\n",
       "        text-align: right;\n",
       "    }\n",
       "</style>\n",
       "<table border=\"1\" class=\"dataframe\">\n",
       "  <thead>\n",
       "    <tr style=\"text-align: right;\">\n",
       "      <th></th>\n",
       "      <th>城市</th>\n",
       "      <th>类型</th>\n",
       "      <th>店名</th>\n",
       "      <th>点评</th>\n",
       "      <th>人均</th>\n",
       "      <th>口味</th>\n",
       "      <th>环境</th>\n",
       "      <th>服务</th>\n",
       "    </tr>\n",
       "  </thead>\n",
       "  <tbody>\n",
       "    <tr>\n",
       "      <th>0</th>\n",
       "      <td>上海</td>\n",
       "      <td>小吃快餐</td>\n",
       "      <td>三宝粥铺(南京东路店)分店</td>\n",
       "      <td>21180.0</td>\n",
       "      <td>45.0</td>\n",
       "      <td>7.8</td>\n",
       "      <td>7.2</td>\n",
       "      <td>7.4</td>\n",
       "    </tr>\n",
       "    <tr>\n",
       "      <th>1</th>\n",
       "      <td>上海</td>\n",
       "      <td>粤菜</td>\n",
       "      <td>龙记香港茶餐厅(久光百货店)分店</td>\n",
       "      <td>8837.0</td>\n",
       "      <td>74.0</td>\n",
       "      <td>7.3</td>\n",
       "      <td>6.5</td>\n",
       "      <td>6.4</td>\n",
       "    </tr>\n",
       "    <tr>\n",
       "      <th>2</th>\n",
       "      <td>上海</td>\n",
       "      <td>其他</td>\n",
       "      <td>耶里夏丽(百联真光路店)分店</td>\n",
       "      <td>8113.0</td>\n",
       "      <td>88.0</td>\n",
       "      <td>9.0</td>\n",
       "      <td>9.0</td>\n",
       "      <td>9.0</td>\n",
       "    </tr>\n",
       "  </tbody>\n",
       "</table>\n",
       "</div>"
      ],
      "text/plain": [
       "   城市    类型                店名       点评    人均   口味   环境   服务\n",
       "0  上海  小吃快餐     三宝粥铺(南京东路店)分店  21180.0  45.0  7.8  7.2  7.4\n",
       "1  上海    粤菜  龙记香港茶餐厅(久光百货店)分店   8837.0  74.0  7.3  6.5  6.4\n",
       "2  上海    其他    耶里夏丽(百联真光路店)分店   8113.0  88.0  9.0  9.0  9.0"
      ]
     },
     "execution_count": 6,
     "metadata": {},
     "output_type": "execute_result"
    }
   ],
   "source": [
    "city.head(3)"
   ]
  },
  {
   "cell_type": "markdown",
   "metadata": {},
   "source": [
    "* **全国点评数最高的饭店是哪家？**"
   ]
  },
  {
   "cell_type": "code",
   "execution_count": 7,
   "metadata": {
    "scrolled": true
   },
   "outputs": [
    {
     "name": "stdout",
     "output_type": "stream",
     "text": [
      "全国点评数最多的饭店是：\n",
      "三宝粥铺(南京东路店)分店,\n",
      "点评数：21180\n"
     ]
    }
   ],
   "source": [
    "dp = city.sort_values('点评',ascending=False)\n",
    "print(\"全国点评数最多的饭店是：\\n%s,\\n点评数：%d\"%(dp.iloc[0,2],dp.iloc[0,3]))"
   ]
  },
  {
   "cell_type": "markdown",
   "metadata": {},
   "source": [
    "* **哪个城市的饭店人均口味最好？**"
   ]
  },
  {
   "cell_type": "code",
   "execution_count": 8,
   "metadata": {},
   "outputs": [
    {
     "name": "stdout",
     "output_type": "stream",
     "text": [
      "最好的城市是：上海\n"
     ]
    }
   ],
   "source": [
    "group_city_mean = city.groupby('城市').mean().sort_values('口味',ascending=False)\n",
    "print(\"最好的城市是：%s\"%group_city_mean.index[0])"
   ]
  },
  {
   "cell_type": "markdown",
   "metadata": {},
   "source": [
    "* **哪个类型的餐饮评价最好？**\n",
    "* 使用线性加权设定评价指标\n",
    "    * 0~1标准化\n",
    "    * 评价指标 = np.log2（点评数 + 人均 + 口味 + 环境 + 服务）"
   ]
  },
  {
   "cell_type": "code",
   "execution_count": 9,
   "metadata": {},
   "outputs": [
    {
     "name": "stderr",
     "output_type": "stream",
     "text": [
      "d:\\Anaconda3\\lib\\site-packages\\ipykernel_launcher.py:1: RuntimeWarning: divide by zero encountered in log2\n",
      "  \"\"\"Entry point for launching an IPython kernel.\n"
     ]
    },
    {
     "data": {
      "text/html": [
       "<div>\n",
       "<style scoped>\n",
       "    .dataframe tbody tr th:only-of-type {\n",
       "        vertical-align: middle;\n",
       "    }\n",
       "\n",
       "    .dataframe tbody tr th {\n",
       "        vertical-align: top;\n",
       "    }\n",
       "\n",
       "    .dataframe thead th {\n",
       "        text-align: right;\n",
       "    }\n",
       "</style>\n",
       "<table border=\"1\" class=\"dataframe\">\n",
       "  <thead>\n",
       "    <tr style=\"text-align: right;\">\n",
       "      <th></th>\n",
       "      <th>城市</th>\n",
       "      <th>类型</th>\n",
       "      <th>店名</th>\n",
       "      <th>点评</th>\n",
       "      <th>人均</th>\n",
       "      <th>口味</th>\n",
       "      <th>环境</th>\n",
       "      <th>服务</th>\n",
       "      <th>好评指数</th>\n",
       "    </tr>\n",
       "  </thead>\n",
       "  <tbody>\n",
       "    <tr>\n",
       "      <th>467</th>\n",
       "      <td>大连</td>\n",
       "      <td>其他</td>\n",
       "      <td>星海湾壹号</td>\n",
       "      <td>346.0</td>\n",
       "      <td>40533.0</td>\n",
       "      <td>8.4</td>\n",
       "      <td>9.3</td>\n",
       "      <td>8.6</td>\n",
       "      <td>15.320000</td>\n",
       "    </tr>\n",
       "    <tr>\n",
       "      <th>0</th>\n",
       "      <td>上海</td>\n",
       "      <td>小吃快餐</td>\n",
       "      <td>三宝粥铺(南京东路店)分店</td>\n",
       "      <td>21180.0</td>\n",
       "      <td>45.0</td>\n",
       "      <td>7.8</td>\n",
       "      <td>7.2</td>\n",
       "      <td>7.4</td>\n",
       "      <td>14.374999</td>\n",
       "    </tr>\n",
       "    <tr>\n",
       "      <th>1</th>\n",
       "      <td>上海</td>\n",
       "      <td>粤菜</td>\n",
       "      <td>龙记香港茶餐厅(久光百货店)分店</td>\n",
       "      <td>8837.0</td>\n",
       "      <td>74.0</td>\n",
       "      <td>7.3</td>\n",
       "      <td>6.5</td>\n",
       "      <td>6.4</td>\n",
       "      <td>13.124638</td>\n",
       "    </tr>\n",
       "    <tr>\n",
       "      <th>2</th>\n",
       "      <td>上海</td>\n",
       "      <td>其他</td>\n",
       "      <td>耶里夏丽(百联真光路店)分店</td>\n",
       "      <td>8113.0</td>\n",
       "      <td>88.0</td>\n",
       "      <td>9.0</td>\n",
       "      <td>9.0</td>\n",
       "      <td>9.0</td>\n",
       "      <td>13.006326</td>\n",
       "    </tr>\n",
       "    <tr>\n",
       "      <th>3</th>\n",
       "      <td>天津</td>\n",
       "      <td>火锅</td>\n",
       "      <td>大吉利潮汕牛肉火锅(南开店)分店</td>\n",
       "      <td>7691.0</td>\n",
       "      <td>81.0</td>\n",
       "      <td>9.2</td>\n",
       "      <td>8.8</td>\n",
       "      <td>9.0</td>\n",
       "      <td>12.929073</td>\n",
       "    </tr>\n",
       "  </tbody>\n",
       "</table>\n",
       "</div>"
      ],
      "text/plain": [
       "     城市    类型                店名       点评       人均   口味   环境   服务       好评指数\n",
       "467  大连    其他             星海湾壹号    346.0  40533.0  8.4  9.3  8.6  15.320000\n",
       "0    上海  小吃快餐     三宝粥铺(南京东路店)分店  21180.0     45.0  7.8  7.2  7.4  14.374999\n",
       "1    上海    粤菜  龙记香港茶餐厅(久光百货店)分店   8837.0     74.0  7.3  6.5  6.4  13.124638\n",
       "2    上海    其他    耶里夏丽(百联真光路店)分店   8113.0     88.0  9.0  9.0  9.0  13.006326\n",
       "3    天津    火锅  大吉利潮汕牛肉火锅(南开店)分店   7691.0     81.0  9.2  8.8  9.0  12.929073"
      ]
     },
     "execution_count": 9,
     "metadata": {},
     "output_type": "execute_result"
    }
   ],
   "source": [
    "city['好评指数'] = np.log2(city[['点评','人均','口味','服务','环境']].sum(1))\n",
    "city.sort_values('好评指数',ascending=False).head(5)"
   ]
  },
  {
   "cell_type": "markdown",
   "metadata": {},
   "source": [
    "* **类型为川菜的店中，有多少个带[辣]字，有多少个带[麻]字**"
   ]
  },
  {
   "cell_type": "code",
   "execution_count": 10,
   "metadata": {},
   "outputs": [
    {
     "name": "stdout",
     "output_type": "stream",
     "text": [
      "类型为川菜的店铺中：\n",
      "有44个店名带【辣】字\n",
      "有28个店名带【麻】字\n",
      "有28个店名同时带有【麻辣】字\n"
     ]
    }
   ],
   "source": [
    "city_chuancai = city.groupby('类型').get_group('川菜')\n",
    "city_chuancai['店名'].str.contains('麻').value_counts()\n",
    "print(\"类型为川菜的店铺中：\")\n",
    "print(\"有%d个店名带【辣】字\"%city_chuancai['店名'].str.contains('辣').sum())\n",
    "print(\"有%d个店名带【麻】字\"%city_chuancai['店名'].str.contains('麻').sum())\n",
    "print(\"有%d个店名同时带有【麻辣】字\"%city_chuancai[city_chuancai['店名'].str.contains('麻')&city_chuancai['店名'].str.contains('辣')]['店名'].count())"
   ]
  },
  {
   "cell_type": "markdown",
   "metadata": {},
   "source": [
    "* **口味、环境、服务三个评价都在8.0以上的饭店有几家？他们在哪个城市的占比最高**"
   ]
  },
  {
   "cell_type": "code",
   "execution_count": 11,
   "metadata": {},
   "outputs": [],
   "source": [
    "city['特定']=['平常']*len(city) # 新建一标签列"
   ]
  },
  {
   "cell_type": "code",
   "execution_count": 12,
   "metadata": {},
   "outputs": [
    {
     "name": "stdout",
     "output_type": "stream",
     "text": [
      "口味、环境、服务三个评价都在8.0以上的饭店有383家\n"
     ]
    }
   ],
   "source": [
    "a = city.query(\"\"\"口味>8 & 环境>8 & 服务>8\"\"\")['店名'].count()\n",
    "print('口味、环境、服务三个评价都在8.0以上的饭店有%d家'%a)"
   ]
  },
  {
   "cell_type": "code",
   "execution_count": 13,
   "metadata": {},
   "outputs": [],
   "source": [
    "city.loc[(city[\"口味\"]>8) &(city['服务']>8)& (city['环境']>8),['特定']]='特定' # 对选中的标签列赋值"
   ]
  },
  {
   "cell_type": "code",
   "execution_count": 14,
   "metadata": {},
   "outputs": [
    {
     "data": {
      "text/html": [
       "<div>\n",
       "<style scoped>\n",
       "    .dataframe tbody tr th:only-of-type {\n",
       "        vertical-align: middle;\n",
       "    }\n",
       "\n",
       "    .dataframe tbody tr th {\n",
       "        vertical-align: top;\n",
       "    }\n",
       "\n",
       "    .dataframe thead th {\n",
       "        text-align: right;\n",
       "    }\n",
       "</style>\n",
       "<table border=\"1\" class=\"dataframe\">\n",
       "  <thead>\n",
       "    <tr style=\"text-align: right;\">\n",
       "      <th>特定</th>\n",
       "      <th>平常</th>\n",
       "      <th>特定</th>\n",
       "    </tr>\n",
       "    <tr>\n",
       "      <th>城市</th>\n",
       "      <th></th>\n",
       "      <th></th>\n",
       "    </tr>\n",
       "  </thead>\n",
       "  <tbody>\n",
       "    <tr>\n",
       "      <th>太原</th>\n",
       "      <td>95.0</td>\n",
       "      <td>1.0</td>\n",
       "    </tr>\n",
       "    <tr>\n",
       "      <th>中山</th>\n",
       "      <td>88.0</td>\n",
       "      <td>1.0</td>\n",
       "    </tr>\n",
       "  </tbody>\n",
       "</table>\n",
       "</div>"
      ],
      "text/plain": [
       "特定    平常   特定\n",
       "城市           \n",
       "太原  95.0  1.0\n",
       "中山  88.0  1.0"
      ]
     },
     "execution_count": 14,
     "metadata": {},
     "output_type": "execute_result"
    }
   ],
   "source": [
    "# 整理如下表的形式，计算每个城市中评分在8.0以上店铺个数\n",
    "b = city.groupby(['城市','特定'])[['店名']].count().unstack(1).stack(0).reset_index(1).drop('level_1',axis=1).sort_values('特定')\n",
    "b.head(2)"
   ]
  },
  {
   "cell_type": "code",
   "execution_count": 15,
   "metadata": {},
   "outputs": [],
   "source": [
    "# 计算每行百分比\n",
    "c = b.div(b.sum(1).astype(float),axis=0).sort_values('特定',ascending=False)"
   ]
  },
  {
   "cell_type": "code",
   "execution_count": 16,
   "metadata": {},
   "outputs": [
    {
     "name": "stdout",
     "output_type": "stream",
     "text": [
      "其中[上海]占比最高,为38.92%\n"
     ]
    }
   ],
   "source": [
    "print(\"其中[%s]占比最高,为%.2f%%\"%(c.index[0],c['特定'].iloc[0]*100))"
   ]
  },
  {
   "cell_type": "code",
   "execution_count": 17,
   "metadata": {},
   "outputs": [
    {
     "data": {
      "text/plain": [
       "<matplotlib.axes._subplots.AxesSubplot at 0x8d2e5b0>"
      ]
     },
     "execution_count": 17,
     "metadata": {},
     "output_type": "execute_result"
    },
    {
     "data": {
      "image/png": "[encoded data removed]",
      "text/plain": [
       "<Figure size 720x720 with 1 Axes>"
      ]
     },
     "metadata": {},
     "output_type": "display_data"
    }
   ],
   "source": [
    "c.head(5).plot.barh(stacked=True,figsize=(10,10),fontsize=12)# 排名前5堆积柱形图"
   ]
  },
  {
   "cell_type": "markdown",
   "metadata": {},
   "source": [
    "* **上海地区中，各个类型饭店服务前5名？**"
   ]
  },
  {
   "cell_type": "code",
   "execution_count": 18,
   "metadata": {},
   "outputs": [
    {
     "data": {
      "text/plain": [
       "{'东北菜': Int64Index([53, 567, 1938, 1939, 2536, 2649, 2943, 5124], dtype='int64'),\n",
       " '东南亚菜': Int64Index([68, 108, 196, 861, 4063], dtype='int64'),\n",
       " '云南菜': Int64Index([93, 481, 4062], dtype='int64'),\n",
       " '其他': Int64Index([2, 126, 328, 407, 832, 853], dtype='int64'),\n",
       " '台湾菜': Int64Index([7, 50, 260, 292, 1488, 4061], dtype='int64'),\n",
       " '咖啡厅': Int64Index([6, 173, 340, 525, 589, 676, 836, 1088], dtype='int64'),\n",
       " '家常菜': Int64Index([1049, 1428, 1976, 2379, 3175, 3493, 4055, 4056, 4057, 4058, 5120,\n",
       "             5121, 5122],\n",
       "            dtype='int64'),\n",
       " '小吃快餐': Int64Index([0, 147, 199, 472, 621, 827, 852, 856, 1360, 1767], dtype='int64'),\n",
       " '小龙虾': Int64Index([9, 233, 423, 809, 953, 1747], dtype='int64'),\n",
       " '川菜': Int64Index([38, 554, 596, 675, 744, 1082], dtype='int64'),\n",
       " '新疆菜': Int64Index([501, 532, 802, 880], dtype='int64'),\n",
       " '日本菜': Int64Index([114, 116, 299, 582, 742, 940], dtype='int64'),\n",
       " '本帮江浙菜': Int64Index([130, 257, 395, 425, 469, 540, 1029, 1178], dtype='int64'),\n",
       " '江西菜': Int64Index([5125], dtype='int64'),\n",
       " '海鲜': Int64Index([247, 322, 570, 749, 902, 1135, 4059], dtype='int64'),\n",
       " '湘菜': Int64Index([276, 628, 697, 1159, 2192, 2452, 3176, 4060], dtype='int64'),\n",
       " '火锅': Int64Index([17, 96, 140, 748], dtype='int64'),\n",
       " '烧烤': Int64Index([103, 132, 426, 754, 998, 1083], dtype='int64'),\n",
       " '粤菜': Int64Index([1, 5, 112, 122, 123, 210, 293, 734, 1582], dtype='int64'),\n",
       " '素菜': Int64Index([5126], dtype='int64'),\n",
       " '自助餐': Int64Index([99, 745], dtype='int64'),\n",
       " '蟹宴': Int64Index([4054, 5118, 5119], dtype='int64'),\n",
       " '西北菜': Int64Index([1940, 2251, 2453, 3494], dtype='int64'),\n",
       " '西餐': Int64Index([42, 44, 107, 115, 172, 431, 499, 645, 903], dtype='int64'),\n",
       " '贵州菜': Int64Index([5123], dtype='int64'),\n",
       " '面包甜点': Int64Index([110, 139, 160, 162, 284, 360, 393, 473, 534, 635, 783, 1118], dtype='int64'),\n",
       " '面馆': Int64Index([568, 767, 784, 1179], dtype='int64'),\n",
       " '韩国料理': Int64Index([47, 77, 242, 521, 892, 1003, 1187], dtype='int64')}"
      ]
     },
     "execution_count": 18,
     "metadata": {},
     "output_type": "execute_result"
    }
   ],
   "source": [
    "d = city.groupby('城市').get_group('上海').groupby('类型')\n",
    "d.groups"
   ]
  },
  {
   "cell_type": "code",
   "execution_count": 19,
   "metadata": {
    "scrolled": false
   },
   "outputs": [],
   "source": [
    "df = pd.DataFrame()\n",
    "for j,k in d:\n",
    "    k_limit = k.sort_values('服务',ascending=False).head(5)[['店名','服务']]\n",
    "    k_limit['种类']=j\n",
    "    df = df.append(k_limit)"
   ]
  },
  {
   "cell_type": "code",
   "execution_count": 20,
   "metadata": {
    "scrolled": false
   },
   "outputs": [],
   "source": [
    "df[['种类','店名','服务']].to_csv('上海各个类型饭店服务前5名.csv',encoding='gbk')"
   ]
  },
  {
   "cell_type": "markdown",
   "metadata": {},
   "source": [
    "* **没有评价的饭店有几家？**"
   ]
  },
  {
   "cell_type": "code",
   "execution_count": 21,
   "metadata": {},
   "outputs": [
    {
     "data": {
      "text/plain": [
       "False    4509\n",
       "True     1354\n",
       "Name: 点评, dtype: int64"
      ]
     },
     "execution_count": 21,
     "metadata": {},
     "output_type": "execute_result"
    }
   ],
   "source": [
    "city['点评'].isnull().value_counts()"
   ]
  },
  {
   "cell_type": "code",
   "execution_count": 22,
   "metadata": {},
   "outputs": [
    {
     "name": "stdout",
     "output_type": "stream",
     "text": [
      "没有点评的饭店有1354家\n"
     ]
    }
   ],
   "source": [
    "print(\"没有点评的饭店有%d家\"%city['点评'].isnull().value_counts()[1])"
   ]
  },
  {
   "cell_type": "markdown",
   "metadata": {},
   "source": [
    "* **将讲个划分成0~50，50~100,100~150,150~200,200+的档次**\n",
    "* **各个城市分别有几家**\n",
    "* **其占比如何？**"
   ]
  },
  {
   "cell_type": "code",
   "execution_count": 23,
   "metadata": {},
   "outputs": [],
   "source": [
    "city['档次'] = pd.cut(city['人均'],\n",
    "       bins=[0,50,100,150,200,100000],\n",
    "       labels=['0~50','50~100','100~150','150~200','200+'])"
   ]
  },
  {
   "cell_type": "code",
   "execution_count": 24,
   "metadata": {
    "scrolled": true
   },
   "outputs": [
    {
     "data": {
      "text/html": [
       "<div>\n",
       "<style scoped>\n",
       "    .dataframe tbody tr th:only-of-type {\n",
       "        vertical-align: middle;\n",
       "    }\n",
       "\n",
       "    .dataframe tbody tr th {\n",
       "        vertical-align: top;\n",
       "    }\n",
       "\n",
       "    .dataframe thead th {\n",
       "        text-align: right;\n",
       "    }\n",
       "</style>\n",
       "<table border=\"1\" class=\"dataframe\">\n",
       "  <thead>\n",
       "    <tr style=\"text-align: right;\">\n",
       "      <th></th>\n",
       "      <th>城市</th>\n",
       "      <th>类型</th>\n",
       "      <th>店名</th>\n",
       "      <th>点评</th>\n",
       "      <th>人均</th>\n",
       "      <th>口味</th>\n",
       "      <th>环境</th>\n",
       "      <th>服务</th>\n",
       "      <th>好评指数</th>\n",
       "      <th>特定</th>\n",
       "      <th>档次</th>\n",
       "    </tr>\n",
       "  </thead>\n",
       "  <tbody>\n",
       "    <tr>\n",
       "      <th>0</th>\n",
       "      <td>上海</td>\n",
       "      <td>小吃快餐</td>\n",
       "      <td>三宝粥铺(南京东路店)分店</td>\n",
       "      <td>21180.0</td>\n",
       "      <td>45.0</td>\n",
       "      <td>7.8</td>\n",
       "      <td>7.2</td>\n",
       "      <td>7.4</td>\n",
       "      <td>14.374999</td>\n",
       "      <td>平常</td>\n",
       "      <td>0~50</td>\n",
       "    </tr>\n",
       "    <tr>\n",
       "      <th>1</th>\n",
       "      <td>上海</td>\n",
       "      <td>粤菜</td>\n",
       "      <td>龙记香港茶餐厅(久光百货店)分店</td>\n",
       "      <td>8837.0</td>\n",
       "      <td>74.0</td>\n",
       "      <td>7.3</td>\n",
       "      <td>6.5</td>\n",
       "      <td>6.4</td>\n",
       "      <td>13.124638</td>\n",
       "      <td>平常</td>\n",
       "      <td>50~100</td>\n",
       "    </tr>\n",
       "    <tr>\n",
       "      <th>2</th>\n",
       "      <td>上海</td>\n",
       "      <td>其他</td>\n",
       "      <td>耶里夏丽(百联真光路店)分店</td>\n",
       "      <td>8113.0</td>\n",
       "      <td>88.0</td>\n",
       "      <td>9.0</td>\n",
       "      <td>9.0</td>\n",
       "      <td>9.0</td>\n",
       "      <td>13.006326</td>\n",
       "      <td>特定</td>\n",
       "      <td>50~100</td>\n",
       "    </tr>\n",
       "  </tbody>\n",
       "</table>\n",
       "</div>"
      ],
      "text/plain": [
       "   城市    类型                店名       点评    人均   口味   环境   服务       好评指数  特定  \\\n",
       "0  上海  小吃快餐     三宝粥铺(南京东路店)分店  21180.0  45.0  7.8  7.2  7.4  14.374999  平常   \n",
       "1  上海    粤菜  龙记香港茶餐厅(久光百货店)分店   8837.0  74.0  7.3  6.5  6.4  13.124638  平常   \n",
       "2  上海    其他    耶里夏丽(百联真光路店)分店   8113.0  88.0  9.0  9.0  9.0  13.006326  特定   \n",
       "\n",
       "       档次  \n",
       "0    0~50  \n",
       "1  50~100  \n",
       "2  50~100  "
      ]
     },
     "execution_count": 24,
     "metadata": {},
     "output_type": "execute_result"
    }
   ],
   "source": [
    "city.head(3)"
   ]
  },
  {
   "cell_type": "code",
   "execution_count": 25,
   "metadata": {
    "scrolled": false
   },
   "outputs": [
    {
     "data": {
      "text/html": [
       "<div>\n",
       "<style scoped>\n",
       "    .dataframe tbody tr th:only-of-type {\n",
       "        vertical-align: middle;\n",
       "    }\n",
       "\n",
       "    .dataframe tbody tr th {\n",
       "        vertical-align: top;\n",
       "    }\n",
       "\n",
       "    .dataframe thead tr th {\n",
       "        text-align: left;\n",
       "    }\n",
       "\n",
       "    .dataframe thead tr:last-of-type th {\n",
       "        text-align: right;\n",
       "    }\n",
       "</style>\n",
       "<table border=\"1\" class=\"dataframe\">\n",
       "  <thead>\n",
       "    <tr>\n",
       "      <th></th>\n",
       "      <th colspan=\"5\" halign=\"left\">店-占比</th>\n",
       "    </tr>\n",
       "    <tr>\n",
       "      <th>档次</th>\n",
       "      <th>0~50</th>\n",
       "      <th>50~100</th>\n",
       "      <th>100~150</th>\n",
       "      <th>150~200</th>\n",
       "      <th>200+</th>\n",
       "    </tr>\n",
       "    <tr>\n",
       "      <th>城市</th>\n",
       "      <th></th>\n",
       "      <th></th>\n",
       "      <th></th>\n",
       "      <th></th>\n",
       "      <th></th>\n",
       "    </tr>\n",
       "  </thead>\n",
       "  <tbody>\n",
       "    <tr>\n",
       "      <th>重庆</th>\n",
       "      <td>43.0</td>\n",
       "      <td>24.0</td>\n",
       "      <td>6.0</td>\n",
       "      <td>1.0</td>\n",
       "      <td>2.0</td>\n",
       "    </tr>\n",
       "    <tr>\n",
       "      <th>金华</th>\n",
       "      <td>35.0</td>\n",
       "      <td>7.0</td>\n",
       "      <td>NaN</td>\n",
       "      <td>NaN</td>\n",
       "      <td>NaN</td>\n",
       "    </tr>\n",
       "    <tr>\n",
       "      <th>长春</th>\n",
       "      <td>42.0</td>\n",
       "      <td>13.0</td>\n",
       "      <td>NaN</td>\n",
       "      <td>NaN</td>\n",
       "      <td>1.0</td>\n",
       "    </tr>\n",
       "    <tr>\n",
       "      <th>长沙</th>\n",
       "      <td>39.0</td>\n",
       "      <td>13.0</td>\n",
       "      <td>NaN</td>\n",
       "      <td>1.0</td>\n",
       "      <td>NaN</td>\n",
       "    </tr>\n",
       "    <tr>\n",
       "      <th>青岛</th>\n",
       "      <td>57.0</td>\n",
       "      <td>17.0</td>\n",
       "      <td>5.0</td>\n",
       "      <td>2.0</td>\n",
       "      <td>NaN</td>\n",
       "    </tr>\n",
       "  </tbody>\n",
       "</table>\n",
       "</div>"
      ],
      "text/plain": [
       "    店-占比                            \n",
       "档次  0~50 50~100 100~150 150~200 200+\n",
       "城市                                  \n",
       "重庆  43.0   24.0     6.0     1.0  2.0\n",
       "金华  35.0    7.0     NaN     NaN  NaN\n",
       "长春  42.0   13.0     NaN     NaN  1.0\n",
       "长沙  39.0   13.0     NaN     1.0  NaN\n",
       "青岛  57.0   17.0     5.0     2.0  NaN"
      ]
     },
     "execution_count": 25,
     "metadata": {},
     "output_type": "execute_result"
    }
   ],
   "source": [
    "e = city.groupby(['城市','档次'])[['店名']].count()\n",
    "e.rename(columns={'店名':'店-占比'},inplace=True)\n",
    "e = e.unstack(1)\n",
    "e.tail() # 各个城市分别有几家"
   ]
  },
  {
   "cell_type": "code",
   "execution_count": 26,
   "metadata": {},
   "outputs": [
    {
     "data": {
      "text/plain": [
       "<matplotlib.axes._subplots.AxesSubplot at 0x8f28bd0>"
      ]
     },
     "execution_count": 26,
     "metadata": {},
     "output_type": "execute_result"
    },
    {
     "data": {
      "image/png": "[encoded data removed]",
      "text/plain": [
       "<Figure size 720x720 with 2 Axes>"
      ]
     },
     "metadata": {},
     "output_type": "display_data"
    }
   ],
   "source": [
    "plt.figure(figsize=(10,10))\n",
    "sns.set(font_scale=1,font='SimHei') # 设置绘图文字大小，和所用字体（这里为黑体）\n",
    "sns.heatmap(e.div(e.sum(1),axis=0),annot=True)"
   ]
  },
  {
   "cell_type": "markdown",
   "metadata": {},
   "source": [
    "* 由热力图可知，大部分城市的饭店人均消费在50元以下\n",
    "* 有不少城市，没有人均高于100元的饭店"
   ]
  },
  {
   "cell_type": "markdown",
   "metadata": {},
   "source": [
    "* **对上海地区日本料理，做一次描述性分析**"
   ]
  },
  {
   "cell_type": "code",
   "execution_count": 40,
   "metadata": {},
   "outputs": [
    {
     "data": {
      "text/plain": [
       "家常菜      13\n",
       "面包甜点     12\n",
       "小吃快餐     10\n",
       "西餐        9\n",
       "粤菜        9\n",
       "东北菜       8\n",
       "湘菜        8\n",
       "本帮江浙菜     8\n",
       "咖啡厅       8\n",
       "海鲜        7\n",
       "韩国料理      7\n",
       "日本菜       6\n",
       "台湾菜       6\n",
       "小龙虾       6\n",
       "其他        6\n",
       "烧烤        6\n",
       "川菜        6\n",
       "东南亚菜      5\n",
       "西北菜       4\n",
       "火锅        4\n",
       "新疆菜       4\n",
       "面馆        4\n",
       "蟹宴        3\n",
       "云南菜       3\n",
       "自助餐       2\n",
       "贵州菜       1\n",
       "江西菜       1\n",
       "素菜        1\n",
       "Name: 类型, dtype: int64"
      ]
     },
     "execution_count": 40,
     "metadata": {},
     "output_type": "execute_result"
    }
   ],
   "source": [
    "city_sh = city.groupby('城市').get_group('上海')\n",
    "city_sh['类型'].value_counts() # 只有日本菜，没有日本料理"
   ]
  },
  {
   "cell_type": "code",
   "execution_count": 50,
   "metadata": {},
   "outputs": [
    {
     "data": {
      "text/html": [
       "<div>\n",
       "<style scoped>\n",
       "    .dataframe tbody tr th:only-of-type {\n",
       "        vertical-align: middle;\n",
       "    }\n",
       "\n",
       "    .dataframe tbody tr th {\n",
       "        vertical-align: top;\n",
       "    }\n",
       "\n",
       "    .dataframe thead th {\n",
       "        text-align: right;\n",
       "    }\n",
       "</style>\n",
       "<table border=\"1\" class=\"dataframe\">\n",
       "  <thead>\n",
       "    <tr style=\"text-align: right;\">\n",
       "      <th></th>\n",
       "      <th>城市</th>\n",
       "      <th>类型</th>\n",
       "      <th>店名</th>\n",
       "      <th>点评</th>\n",
       "      <th>人均</th>\n",
       "      <th>口味</th>\n",
       "      <th>环境</th>\n",
       "      <th>服务</th>\n",
       "      <th>好评指数</th>\n",
       "      <th>特定</th>\n",
       "      <th>档次</th>\n",
       "    </tr>\n",
       "  </thead>\n",
       "  <tbody>\n",
       "    <tr>\n",
       "      <th>114</th>\n",
       "      <td>上海</td>\n",
       "      <td>日本菜</td>\n",
       "      <td>大馥 · 炭火烧肉屋(梅川路店)分店</td>\n",
       "      <td>1429.0</td>\n",
       "      <td>150.0</td>\n",
       "      <td>8.9</td>\n",
       "      <td>8.5</td>\n",
       "      <td>8.7</td>\n",
       "      <td>10.648447</td>\n",
       "      <td>特定</td>\n",
       "      <td>100~150</td>\n",
       "    </tr>\n",
       "    <tr>\n",
       "      <th>116</th>\n",
       "      <td>上海</td>\n",
       "      <td>日本菜</td>\n",
       "      <td>日葵 大阪烧(仙霞路店)分店</td>\n",
       "      <td>1416.0</td>\n",
       "      <td>106.0</td>\n",
       "      <td>8.8</td>\n",
       "      <td>8.3</td>\n",
       "      <td>8.1</td>\n",
       "      <td>10.595444</td>\n",
       "      <td>特定</td>\n",
       "      <td>100~150</td>\n",
       "    </tr>\n",
       "    <tr>\n",
       "      <th>299</th>\n",
       "      <td>上海</td>\n",
       "      <td>日本菜</td>\n",
       "      <td>池户寿司</td>\n",
       "      <td>574.0</td>\n",
       "      <td>61.0</td>\n",
       "      <td>8.6</td>\n",
       "      <td>8.4</td>\n",
       "      <td>8.5</td>\n",
       "      <td>9.367415</td>\n",
       "      <td>特定</td>\n",
       "      <td>50~100</td>\n",
       "    </tr>\n",
       "    <tr>\n",
       "      <th>582</th>\n",
       "      <td>上海</td>\n",
       "      <td>日本菜</td>\n",
       "      <td>一竹烧肉酒场</td>\n",
       "      <td>263.0</td>\n",
       "      <td>211.0</td>\n",
       "      <td>8.9</td>\n",
       "      <td>8.7</td>\n",
       "      <td>9.1</td>\n",
       "      <td>8.967803</td>\n",
       "      <td>特定</td>\n",
       "      <td>200+</td>\n",
       "    </tr>\n",
       "    <tr>\n",
       "      <th>742</th>\n",
       "      <td>上海</td>\n",
       "      <td>日本菜</td>\n",
       "      <td>牛吞炭火烧肉</td>\n",
       "      <td>168.0</td>\n",
       "      <td>137.0</td>\n",
       "      <td>8.8</td>\n",
       "      <td>8.8</td>\n",
       "      <td>9.0</td>\n",
       "      <td>8.373300</td>\n",
       "      <td>特定</td>\n",
       "      <td>100~150</td>\n",
       "    </tr>\n",
       "    <tr>\n",
       "      <th>940</th>\n",
       "      <td>上海</td>\n",
       "      <td>日本菜</td>\n",
       "      <td>柒味怀石料理</td>\n",
       "      <td>108.0</td>\n",
       "      <td>478.0</td>\n",
       "      <td>8.8</td>\n",
       "      <td>7.9</td>\n",
       "      <td>8.8</td>\n",
       "      <td>9.256209</td>\n",
       "      <td>平常</td>\n",
       "      <td>200+</td>\n",
       "    </tr>\n",
       "  </tbody>\n",
       "</table>\n",
       "</div>"
      ],
      "text/plain": [
       "     城市   类型                  店名      点评     人均   口味   环境   服务       好评指数  特定  \\\n",
       "114  上海  日本菜  大馥 · 炭火烧肉屋(梅川路店)分店  1429.0  150.0  8.9  8.5  8.7  10.648447  特定   \n",
       "116  上海  日本菜      日葵 大阪烧(仙霞路店)分店  1416.0  106.0  8.8  8.3  8.1  10.595444  特定   \n",
       "299  上海  日本菜                池户寿司   574.0   61.0  8.6  8.4  8.5   9.367415  特定   \n",
       "582  上海  日本菜              一竹烧肉酒场   263.0  211.0  8.9  8.7  9.1   8.967803  特定   \n",
       "742  上海  日本菜              牛吞炭火烧肉   168.0  137.0  8.8  8.8  9.0   8.373300  特定   \n",
       "940  上海  日本菜              柒味怀石料理   108.0  478.0  8.8  7.9  8.8   9.256209  平常   \n",
       "\n",
       "          档次  \n",
       "114  100~150  \n",
       "116  100~150  \n",
       "299   50~100  \n",
       "582     200+  \n",
       "742  100~150  \n",
       "940     200+  "
      ]
     },
     "execution_count": 50,
     "metadata": {},
     "output_type": "execute_result"
    }
   ],
   "source": [
    "city_sh.query(\" 类型 == '日本菜'\")"
   ]
  },
  {
   "cell_type": "code",
   "execution_count": 53,
   "metadata": {},
   "outputs": [
    {
     "data": {
      "text/html": [
       "<div>\n",
       "<style scoped>\n",
       "    .dataframe tbody tr th:only-of-type {\n",
       "        vertical-align: middle;\n",
       "    }\n",
       "\n",
       "    .dataframe tbody tr th {\n",
       "        vertical-align: top;\n",
       "    }\n",
       "\n",
       "    .dataframe thead th {\n",
       "        text-align: right;\n",
       "    }\n",
       "</style>\n",
       "<table border=\"1\" class=\"dataframe\">\n",
       "  <thead>\n",
       "    <tr style=\"text-align: right;\">\n",
       "      <th></th>\n",
       "      <th>点评</th>\n",
       "      <th>人均</th>\n",
       "      <th>口味</th>\n",
       "      <th>环境</th>\n",
       "      <th>服务</th>\n",
       "      <th>好评指数</th>\n",
       "    </tr>\n",
       "  </thead>\n",
       "  <tbody>\n",
       "    <tr>\n",
       "      <th>count</th>\n",
       "      <td>6.000000</td>\n",
       "      <td>6.000000</td>\n",
       "      <td>6.000000</td>\n",
       "      <td>6.000000</td>\n",
       "      <td>6.000000</td>\n",
       "      <td>6.000000</td>\n",
       "    </tr>\n",
       "    <tr>\n",
       "      <th>mean</th>\n",
       "      <td>659.666667</td>\n",
       "      <td>190.500000</td>\n",
       "      <td>8.800000</td>\n",
       "      <td>8.433333</td>\n",
       "      <td>8.700000</td>\n",
       "      <td>9.534770</td>\n",
       "    </tr>\n",
       "    <tr>\n",
       "      <th>std</th>\n",
       "      <td>612.318436</td>\n",
       "      <td>149.324814</td>\n",
       "      <td>0.109545</td>\n",
       "      <td>0.320416</td>\n",
       "      <td>0.363318</td>\n",
       "      <td>0.910096</td>\n",
       "    </tr>\n",
       "    <tr>\n",
       "      <th>min</th>\n",
       "      <td>108.000000</td>\n",
       "      <td>61.000000</td>\n",
       "      <td>8.600000</td>\n",
       "      <td>7.900000</td>\n",
       "      <td>8.100000</td>\n",
       "      <td>8.373300</td>\n",
       "    </tr>\n",
       "    <tr>\n",
       "      <th>25%</th>\n",
       "      <td>191.750000</td>\n",
       "      <td>113.750000</td>\n",
       "      <td>8.800000</td>\n",
       "      <td>8.325000</td>\n",
       "      <td>8.550000</td>\n",
       "      <td>9.039904</td>\n",
       "    </tr>\n",
       "    <tr>\n",
       "      <th>50%</th>\n",
       "      <td>418.500000</td>\n",
       "      <td>143.500000</td>\n",
       "      <td>8.800000</td>\n",
       "      <td>8.450000</td>\n",
       "      <td>8.750000</td>\n",
       "      <td>9.311812</td>\n",
       "    </tr>\n",
       "    <tr>\n",
       "      <th>75%</th>\n",
       "      <td>1205.500000</td>\n",
       "      <td>195.750000</td>\n",
       "      <td>8.875000</td>\n",
       "      <td>8.650000</td>\n",
       "      <td>8.950000</td>\n",
       "      <td>10.288437</td>\n",
       "    </tr>\n",
       "    <tr>\n",
       "      <th>max</th>\n",
       "      <td>1429.000000</td>\n",
       "      <td>478.000000</td>\n",
       "      <td>8.900000</td>\n",
       "      <td>8.800000</td>\n",
       "      <td>9.100000</td>\n",
       "      <td>10.648447</td>\n",
       "    </tr>\n",
       "  </tbody>\n",
       "</table>\n",
       "</div>"
      ],
      "text/plain": [
       "                点评          人均        口味        环境        服务       好评指数\n",
       "count     6.000000    6.000000  6.000000  6.000000  6.000000   6.000000\n",
       "mean    659.666667  190.500000  8.800000  8.433333  8.700000   9.534770\n",
       "std     612.318436  149.324814  0.109545  0.320416  0.363318   0.910096\n",
       "min     108.000000   61.000000  8.600000  7.900000  8.100000   8.373300\n",
       "25%     191.750000  113.750000  8.800000  8.325000  8.550000   9.039904\n",
       "50%     418.500000  143.500000  8.800000  8.450000  8.750000   9.311812\n",
       "75%    1205.500000  195.750000  8.875000  8.650000  8.950000  10.288437\n",
       "max    1429.000000  478.000000  8.900000  8.800000  9.100000  10.648447"
      ]
     },
     "execution_count": 53,
     "metadata": {},
     "output_type": "execute_result"
    }
   ],
   "source": [
    "city_sh.query(\" 类型 == '日本菜'\").describe()"
   ]
  },
  {
   "cell_type": "markdown",
   "metadata": {},
   "source": [
    "* 90%以上日本菜，口味、环境、服务都在8.0分以上\n",
    "* 这里需要另一个菜系，进行比较\n",
    "* 上海地区日本菜，人均消费为190.5元，中位数为143.5元，而从之前的热力图中得知：63%的饭店人均消费在100元以下"
   ]
  },
  {
   "cell_type": "markdown",
   "metadata": {},
   "source": [
    "> By 杨腾飞 2019/04/08 14.09"
   ]
  },
  {
   "cell_type": "code",
   "execution_count": null,
   "metadata": {},
   "outputs": [],
   "source": []
  }
 ],
 "metadata": {
  "kernelspec": {
   "display_name": "Python 3",
   "language": "python",
   "name": "python3"
  },
  "language_info": {
   "codemirror_mode": {
    "name": "ipython",
    "version": 3
   },
   "file_extension": ".py",
   "mimetype": "text/x-python",
   "name": "python",
   "nbconvert_exporter": "python",
   "pygments_lexer": "ipython3",
   "version": "3.6.5"
  }
 },
 "nbformat": 4,
 "nbformat_minor": 2
}
