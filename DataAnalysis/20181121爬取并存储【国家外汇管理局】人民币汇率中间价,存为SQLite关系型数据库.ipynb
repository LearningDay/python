{
 "cells": [
  {
   "cell_type": "code",
   "execution_count": 3,
   "metadata": {},
   "outputs": [],
   "source": [
    "import numpy as np\n",
    "import pandas as pd\n",
    "import matplotlib.pyplot as plt\n",
    "import sqlite3 as lite\n",
    "import requests\n",
    "from datetime import datetime, timedelta\n",
    "from bs4 import BeautifulSoup"
   ]
  },
  {
   "cell_type": "markdown",
   "metadata": {},
   "source": [
    "## 爬取国家外汇管理局人民币汇率中间价"
   ]
  },
  {
   "cell_type": "code",
   "execution_count": 34,
   "metadata": {},
   "outputs": [],
   "source": [
    "payload = {'startDate':'2018-10-01',\n",
    "           'endDate':'2018-11-20',\n",
    "           'queryYN':'true'}\n",
    "res = requests.post(\"http://www.safe.gov.cn/AppStructured/hlw/RMBQuery.do\",data=payload)"
   ]
  },
  {
   "cell_type": "code",
   "execution_count": 56,
   "metadata": {},
   "outputs": [],
   "source": [
    "#res.text"
   ]
  },
  {
   "cell_type": "code",
   "execution_count": 118,
   "metadata": {},
   "outputs": [
    {
     "name": "stdout",
     "output_type": "stream",
     "text": [
      "<class 'bs4.element.Tag'>\n"
     ]
    }
   ],
   "source": [
    "soup = BeautifulSoup(res.text,'html.parser')\n",
    "print(type(soup.select('#InfoTable')[0]))"
   ]
  },
  {
   "cell_type": "code",
   "execution_count": 115,
   "metadata": {},
   "outputs": [],
   "source": [
    "df = pd.read_html(soup.select('#InfoTable')[0].prettify(),header=0) # prettify()将Tag转换为字符串 str bytes"
   ]
  },
  {
   "cell_type": "code",
   "execution_count": 116,
   "metadata": {},
   "outputs": [],
   "source": [
    "df_data = df[0]"
   ]
  },
  {
   "cell_type": "code",
   "execution_count": 117,
   "metadata": {},
   "outputs": [
    {
     "data": {
      "text/html": [
       "<div>\n",
       "<style scoped>\n",
       "    .dataframe tbody tr th:only-of-type {\n",
       "        vertical-align: middle;\n",
       "    }\n",
       "\n",
       "    .dataframe tbody tr th {\n",
       "        vertical-align: top;\n",
       "    }\n",
       "\n",
       "    .dataframe thead th {\n",
       "        text-align: right;\n",
       "    }\n",
       "</style>\n",
       "<table border=\"1\" class=\"dataframe\">\n",
       "  <thead>\n",
       "    <tr style=\"text-align: right;\">\n",
       "      <th></th>\n",
       "      <th>日期</th>\n",
       "      <th>美元</th>\n",
       "      <th>欧元</th>\n",
       "      <th>日元</th>\n",
       "      <th>港元</th>\n",
       "      <th>英镑</th>\n",
       "      <th>林吉特</th>\n",
       "      <th>卢布</th>\n",
       "      <th>兰特</th>\n",
       "      <th>韩元</th>\n",
       "      <th>...</th>\n",
       "      <th>挪威克朗</th>\n",
       "      <th>比索</th>\n",
       "      <th>里拉</th>\n",
       "      <th>泰铢</th>\n",
       "      <th>兹罗提</th>\n",
       "      <th>澳元</th>\n",
       "      <th>加元</th>\n",
       "      <th>新西兰元</th>\n",
       "      <th>新加坡元</th>\n",
       "      <th>瑞士法郎</th>\n",
       "    </tr>\n",
       "  </thead>\n",
       "  <tbody>\n",
       "    <tr>\n",
       "      <th>0</th>\n",
       "      <td>2018-11-20</td>\n",
       "      <td>692.80</td>\n",
       "      <td>793.42</td>\n",
       "      <td>6.1610</td>\n",
       "      <td>88.449</td>\n",
       "      <td>890.91</td>\n",
       "      <td>60.423</td>\n",
       "      <td>945.87</td>\n",
       "      <td>202.39</td>\n",
       "      <td>16262.0</td>\n",
       "      <td>...</td>\n",
       "      <td>122.35</td>\n",
       "      <td>293.92</td>\n",
       "      <td>76.706</td>\n",
       "      <td>474.79</td>\n",
       "      <td>54.565</td>\n",
       "      <td>505.41</td>\n",
       "      <td>525.94</td>\n",
       "      <td>473.93</td>\n",
       "      <td>505.34</td>\n",
       "      <td>697.71</td>\n",
       "    </tr>\n",
       "    <tr>\n",
       "      <th>1</th>\n",
       "      <td>2018-11-19</td>\n",
       "      <td>692.45</td>\n",
       "      <td>790.46</td>\n",
       "      <td>6.1442</td>\n",
       "      <td>88.423</td>\n",
       "      <td>889.11</td>\n",
       "      <td>60.478</td>\n",
       "      <td>953.11</td>\n",
       "      <td>202.31</td>\n",
       "      <td>16236.0</td>\n",
       "      <td>...</td>\n",
       "      <td>121.88</td>\n",
       "      <td>291.05</td>\n",
       "      <td>77.141</td>\n",
       "      <td>474.72</td>\n",
       "      <td>54.599</td>\n",
       "      <td>506.91</td>\n",
       "      <td>526.87</td>\n",
       "      <td>475.63</td>\n",
       "      <td>504.70</td>\n",
       "      <td>692.79</td>\n",
       "    </tr>\n",
       "    <tr>\n",
       "      <th>2</th>\n",
       "      <td>2018-11-16</td>\n",
       "      <td>693.77</td>\n",
       "      <td>785.80</td>\n",
       "      <td>6.1102</td>\n",
       "      <td>88.580</td>\n",
       "      <td>886.34</td>\n",
       "      <td>60.395</td>\n",
       "      <td>949.69</td>\n",
       "      <td>204.73</td>\n",
       "      <td>16261.0</td>\n",
       "      <td>...</td>\n",
       "      <td>122.31</td>\n",
       "      <td>291.91</td>\n",
       "      <td>77.467</td>\n",
       "      <td>474.88</td>\n",
       "      <td>54.566</td>\n",
       "      <td>504.76</td>\n",
       "      <td>526.53</td>\n",
       "      <td>473.61</td>\n",
       "      <td>504.27</td>\n",
       "      <td>689.02</td>\n",
       "    </tr>\n",
       "    <tr>\n",
       "      <th>3</th>\n",
       "      <td>2018-11-15</td>\n",
       "      <td>693.92</td>\n",
       "      <td>785.35</td>\n",
       "      <td>6.1084</td>\n",
       "      <td>88.632</td>\n",
       "      <td>901.86</td>\n",
       "      <td>60.434</td>\n",
       "      <td>966.64</td>\n",
       "      <td>206.88</td>\n",
       "      <td>16325.0</td>\n",
       "      <td>...</td>\n",
       "      <td>122.56</td>\n",
       "      <td>294.05</td>\n",
       "      <td>78.719</td>\n",
       "      <td>474.59</td>\n",
       "      <td>54.707</td>\n",
       "      <td>502.00</td>\n",
       "      <td>524.11</td>\n",
       "      <td>471.38</td>\n",
       "      <td>503.34</td>\n",
       "      <td>689.85</td>\n",
       "    </tr>\n",
       "    <tr>\n",
       "      <th>4</th>\n",
       "      <td>2018-11-14</td>\n",
       "      <td>694.02</td>\n",
       "      <td>785.21</td>\n",
       "      <td>6.0985</td>\n",
       "      <td>88.613</td>\n",
       "      <td>903.62</td>\n",
       "      <td>60.340</td>\n",
       "      <td>978.37</td>\n",
       "      <td>208.17</td>\n",
       "      <td>16292.0</td>\n",
       "      <td>...</td>\n",
       "      <td>122.16</td>\n",
       "      <td>294.97</td>\n",
       "      <td>78.923</td>\n",
       "      <td>474.45</td>\n",
       "      <td>54.670</td>\n",
       "      <td>501.83</td>\n",
       "      <td>524.79</td>\n",
       "      <td>469.79</td>\n",
       "      <td>503.76</td>\n",
       "      <td>689.96</td>\n",
       "    </tr>\n",
       "  </tbody>\n",
       "</table>\n",
       "<p>5 rows × 25 columns</p>\n",
       "</div>"
      ],
      "text/plain": [
       "           日期      美元      欧元      日元      港元      英镑     林吉特      卢布      兰特  \\\n",
       "0  2018-11-20  692.80  793.42  6.1610  88.449  890.91  60.423  945.87  202.39   \n",
       "1  2018-11-19  692.45  790.46  6.1442  88.423  889.11  60.478  953.11  202.31   \n",
       "2  2018-11-16  693.77  785.80  6.1102  88.580  886.34  60.395  949.69  204.73   \n",
       "3  2018-11-15  693.92  785.35  6.1084  88.632  901.86  60.434  966.64  206.88   \n",
       "4  2018-11-14  694.02  785.21  6.0985  88.613  903.62  60.340  978.37  208.17   \n",
       "\n",
       "        韩元   ...      挪威克朗      比索      里拉      泰铢     兹罗提      澳元      加元  \\\n",
       "0  16262.0   ...    122.35  293.92  76.706  474.79  54.565  505.41  525.94   \n",
       "1  16236.0   ...    121.88  291.05  77.141  474.72  54.599  506.91  526.87   \n",
       "2  16261.0   ...    122.31  291.91  77.467  474.88  54.566  504.76  526.53   \n",
       "3  16325.0   ...    122.56  294.05  78.719  474.59  54.707  502.00  524.11   \n",
       "4  16292.0   ...    122.16  294.97  78.923  474.45  54.670  501.83  524.79   \n",
       "\n",
       "     新西兰元    新加坡元    瑞士法郎  \n",
       "0  473.93  505.34  697.71  \n",
       "1  475.63  504.70  692.79  \n",
       "2  473.61  504.27  689.02  \n",
       "3  471.38  503.34  689.85  \n",
       "4  469.79  503.76  689.96  \n",
       "\n",
       "[5 rows x 25 columns]"
      ]
     },
     "execution_count": 117,
     "metadata": {},
     "output_type": "execute_result"
    }
   ],
   "source": [
    "df_data.head()"
   ]
  },
  {
   "cell_type": "code",
   "execution_count": 119,
   "metadata": {},
   "outputs": [],
   "source": [
    "df_new = df_data.reindex(columns=['日期','美元','欧元','日元'])"
   ]
  },
  {
   "cell_type": "code",
   "execution_count": 120,
   "metadata": {},
   "outputs": [
    {
     "data": {
      "text/html": [
       "<div>\n",
       "<style scoped>\n",
       "    .dataframe tbody tr th:only-of-type {\n",
       "        vertical-align: middle;\n",
       "    }\n",
       "\n",
       "    .dataframe tbody tr th {\n",
       "        vertical-align: top;\n",
       "    }\n",
       "\n",
       "    .dataframe thead th {\n",
       "        text-align: right;\n",
       "    }\n",
       "</style>\n",
       "<table border=\"1\" class=\"dataframe\">\n",
       "  <thead>\n",
       "    <tr style=\"text-align: right;\">\n",
       "      <th></th>\n",
       "      <th>日期</th>\n",
       "      <th>美元</th>\n",
       "      <th>欧元</th>\n",
       "      <th>日元</th>\n",
       "    </tr>\n",
       "  </thead>\n",
       "  <tbody>\n",
       "    <tr>\n",
       "      <th>0</th>\n",
       "      <td>2018-11-20</td>\n",
       "      <td>692.80</td>\n",
       "      <td>793.42</td>\n",
       "      <td>6.1610</td>\n",
       "    </tr>\n",
       "    <tr>\n",
       "      <th>1</th>\n",
       "      <td>2018-11-19</td>\n",
       "      <td>692.45</td>\n",
       "      <td>790.46</td>\n",
       "      <td>6.1442</td>\n",
       "    </tr>\n",
       "    <tr>\n",
       "      <th>2</th>\n",
       "      <td>2018-11-16</td>\n",
       "      <td>693.77</td>\n",
       "      <td>785.80</td>\n",
       "      <td>6.1102</td>\n",
       "    </tr>\n",
       "    <tr>\n",
       "      <th>3</th>\n",
       "      <td>2018-11-15</td>\n",
       "      <td>693.92</td>\n",
       "      <td>785.35</td>\n",
       "      <td>6.1084</td>\n",
       "    </tr>\n",
       "    <tr>\n",
       "      <th>4</th>\n",
       "      <td>2018-11-14</td>\n",
       "      <td>694.02</td>\n",
       "      <td>785.21</td>\n",
       "      <td>6.0985</td>\n",
       "    </tr>\n",
       "  </tbody>\n",
       "</table>\n",
       "</div>"
      ],
      "text/plain": [
       "           日期      美元      欧元      日元\n",
       "0  2018-11-20  692.80  793.42  6.1610\n",
       "1  2018-11-19  692.45  790.46  6.1442\n",
       "2  2018-11-16  693.77  785.80  6.1102\n",
       "3  2018-11-15  693.92  785.35  6.1084\n",
       "4  2018-11-14  694.02  785.21  6.0985"
      ]
     },
     "execution_count": 120,
     "metadata": {},
     "output_type": "execute_result"
    }
   ],
   "source": [
    "df_new.head()"
   ]
  },
  {
   "cell_type": "code",
   "execution_count": 121,
   "metadata": {},
   "outputs": [
    {
     "name": "stdout",
     "output_type": "stream",
     "text": [
      "<class 'pandas.core.frame.DataFrame'>\n",
      "RangeIndex: 32 entries, 0 to 31\n",
      "Data columns (total 4 columns):\n",
      "日期    32 non-null object\n",
      "美元    32 non-null float64\n",
      "欧元    32 non-null float64\n",
      "日元    32 non-null float64\n",
      "dtypes: float64(3), object(1)\n",
      "memory usage: 936.0+ bytes\n"
     ]
    }
   ],
   "source": [
    "df_new.info()"
   ]
  },
  {
   "cell_type": "markdown",
   "metadata": {},
   "source": [
    "### 存储到数据库"
   ]
  },
  {
   "cell_type": "code",
   "execution_count": 122,
   "metadata": {},
   "outputs": [],
   "source": [
    "with lite.connect('demo.sqlite') as db:\n",
    "    df_new.to_sql('demo',con=db,if_exists='append',index=None)"
   ]
  },
  {
   "cell_type": "markdown",
   "metadata": {},
   "source": [
    "## 创建抓取存储函数"
   ]
  },
  {
   "cell_type": "code",
   "execution_count": 151,
   "metadata": {},
   "outputs": [],
   "source": [
    "def getCurrency(start,end):\n",
    "    payload = {'startDate':start,\n",
    "           'endDate':end,\n",
    "           'queryYN':'true'}\n",
    "    res = requests.post(\"http://www.safe.gov.cn/AppStructured/hlw/RMBQuery.do\",data=payload)\n",
    "    soup = BeautifulSoup(res.text,'html.parser')\n",
    "    df = pd.read_html(soup.select('#InfoTable')[0].prettify(),header=0)\n",
    "    df_new = df[0].reindex(columns=['日期','美元','欧元','日元'])\n",
    "    with lite.connect('rmb.sqlite') as db:\n",
    "        df_new.to_sql('2018',con=db,if_exists='append',index=None)"
   ]
  },
  {
   "cell_type": "code",
   "execution_count": 123,
   "metadata": {},
   "outputs": [],
   "source": [
    "now = datetime.now()"
   ]
  },
  {
   "cell_type": "markdown",
   "metadata": {},
   "source": [
    "### 循环抓取并存储为关系型数据\n",
    "* 建议使用 SQLite Manager插件浏览"
   ]
  },
  {
   "cell_type": "code",
   "execution_count": 152,
   "metadata": {},
   "outputs": [
    {
     "name": "stdout",
     "output_type": "stream",
     "text": [
      "2018-10-21 2018-11-19\n",
      "2018-09-21 2018-10-20\n",
      "2018-08-22 2018-09-20\n",
      "2018-07-23 2018-08-21\n",
      "2018-06-23 2018-07-22\n",
      "2018-05-24 2018-06-22\n",
      "2018-04-24 2018-05-23\n",
      "2018-03-25 2018-04-23\n",
      "2018-02-23 2018-03-24\n",
      "2018-01-24 2018-02-22\n",
      "2017-12-25 2018-01-23\n",
      "2017-11-25 2017-12-24\n",
      "2017-10-26 2017-11-24\n"
     ]
    }
   ],
   "source": [
    "for i in range(1,365,30):\n",
    "    start_date = (now - timedelta(days = i +30)).strftime('%Y-%m-%d')#生成批量日期，转换为str\n",
    "    end_date = (now - timedelta(days = i + 1)).strftime('%Y-%m-%d')\n",
    "    print(start_date,end_date)\n",
    "    getCurrency(start_date,end_date)"
   ]
  },
  {
   "cell_type": "markdown",
   "metadata": {},
   "source": [
    "# pandas 读取数据库\n",
    "* 推荐用SQLite可视化工具或插件"
   ]
  },
  {
   "cell_type": "code",
   "execution_count": 161,
   "metadata": {
    "scrolled": true
   },
   "outputs": [],
   "source": [
    "# with lite.connect('rmb.sqlite') as con:\n",
    "\n",
    "#     # read_sql_query和read_sql都能通过SQL语句从数据库文件中获取数据信息\n",
    "#     df = pd.read_sql_query(\"SELECT * FROM 2018\", con=con)\n",
    "#     # df = pd.read_sql(\"SELECT * FROM test_table\", con=con)\n",
    "\n",
    "#     print(df.shape)\n",
    "#     print(df.dtypes)\n",
    "#     print(df.head())"
   ]
  },
  {
   "cell_type": "code",
   "execution_count": null,
   "metadata": {},
   "outputs": [],
   "source": []
  }
 ],
 "metadata": {
  "kernelspec": {
   "display_name": "Python 3",
   "language": "python",
   "name": "python3"
  },
  "language_info": {
   "codemirror_mode": {
    "name": "ipython",
    "version": 3
   },
   "file_extension": ".py",
   "mimetype": "text/x-python",
   "name": "python",
   "nbconvert_exporter": "python",
   "pygments_lexer": "ipython3",
   "version": "3.6.5"
  }
 },
 "nbformat": 4,
 "nbformat_minor": 2
}
