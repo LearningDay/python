{
 "cells": [
  {
   "cell_type": "markdown",
   "metadata": {},
   "source": [
    "**运行环境：**\n",
    "Python3.6.5  \n",
    "\n",
    "**安装包：**\n",
    "pandas、numpy、matplotlib、seaborn、bokeh等\n",
    "\n",
    "**数据集说明：**\n",
    "- 来源：家中用电情况\n",
    "- 目的：提升数据处理熟练度\n",
    "## 两种方式\n",
    "* 选择合理的数据读取方式，可让数据清洗变得更方便\n",
    "    * pd.read_clipboard()\n",
    "        * 需要重新设置各类的数据类型\n",
    "        * 尤其是时间序列\n",
    "        \n",
    "    * pd.read_excel()\n",
    "        * 可辨认出Excel表中的时间列，并读取为时间序列格式\n",
    "        * 更方便"
   ]
  },
  {
   "cell_type": "code",
   "execution_count": 1,
   "metadata": {},
   "outputs": [],
   "source": [
    "import numpy as np\n",
    "import pandas as pd\n",
    "import seaborn as sns\n",
    "import re\n",
    "import matplotlib.pyplot as plt"
   ]
  },
  {
   "cell_type": "code",
   "execution_count": 2,
   "metadata": {},
   "outputs": [],
   "source": [
    "%matplotlib inline\n",
    "plt.rcParams['font.sans-serif']=['SimHei']# 设置默认字体，解决中文显示问题\n",
    "plt.style.use('ggplot')# 更改设计风格"
   ]
  },
  {
   "cell_type": "markdown",
   "metadata": {},
   "source": [
    "# 读取方式一，read_clipboard\n",
    "    * 需要重新设置日期类型"
   ]
  },
  {
   "cell_type": "code",
   "execution_count": 3,
   "metadata": {},
   "outputs": [
    {
     "name": "stderr",
     "output_type": "stream",
     "text": [
      "d:\\Anaconda3\\lib\\site-packages\\pandas\\io\\clipboards.py:63: ParserWarning: Falling back to the 'python' engine because the 'c' engine does not support regex separators (separators > 1 char and different from '\\s+' are interpreted as regex); you can avoid this warning by specifying engine='python'.\n",
      "  return read_table(StringIO(text), sep=sep, **kwargs)\n"
     ]
    }
   ],
   "source": [
    "df = pd.read_clipboard()"
   ]
  },
  {
   "cell_type": "code",
   "execution_count": 4,
   "metadata": {},
   "outputs": [
    {
     "data": {
      "text/html": [
       "<div>\n",
       "<style scoped>\n",
       "    .dataframe tbody tr th:only-of-type {\n",
       "        vertical-align: middle;\n",
       "    }\n",
       "\n",
       "    .dataframe tbody tr th {\n",
       "        vertical-align: top;\n",
       "    }\n",
       "\n",
       "    .dataframe thead th {\n",
       "        text-align: right;\n",
       "    }\n",
       "</style>\n",
       "<table border=\"1\" class=\"dataframe\">\n",
       "  <thead>\n",
       "    <tr style=\"text-align: right;\">\n",
       "      <th></th>\n",
       "      <th>查表时间</th>\n",
       "      <th>实际天数</th>\n",
       "      <th>电消耗量</th>\n",
       "      <th>单价</th>\n",
       "      <th>金额</th>\n",
       "      <th>日均费用</th>\n",
       "      <th>日均电量</th>\n",
       "    </tr>\n",
       "  </thead>\n",
       "  <tbody>\n",
       "    <tr>\n",
       "      <th>0</th>\n",
       "      <td>2018年1月</td>\n",
       "      <td>30.0</td>\n",
       "      <td>121</td>\n",
       "      <td>0.56</td>\n",
       "      <td>67.76</td>\n",
       "      <td>2.26</td>\n",
       "      <td>4.03</td>\n",
       "    </tr>\n",
       "    <tr>\n",
       "      <th>1</th>\n",
       "      <td>2018年2月</td>\n",
       "      <td>27.0</td>\n",
       "      <td>142</td>\n",
       "      <td>0.56</td>\n",
       "      <td>79.52</td>\n",
       "      <td>2.95</td>\n",
       "      <td>5.26</td>\n",
       "    </tr>\n",
       "    <tr>\n",
       "      <th>2</th>\n",
       "      <td>2018年3月</td>\n",
       "      <td>30.0</td>\n",
       "      <td>99</td>\n",
       "      <td>0.56</td>\n",
       "      <td>55.44</td>\n",
       "      <td>1.85</td>\n",
       "      <td>3.30</td>\n",
       "    </tr>\n",
       "    <tr>\n",
       "      <th>3</th>\n",
       "      <td>2018年4月</td>\n",
       "      <td>29.0</td>\n",
       "      <td>137</td>\n",
       "      <td>0.56</td>\n",
       "      <td>76.72</td>\n",
       "      <td>2.65</td>\n",
       "      <td>4.72</td>\n",
       "    </tr>\n",
       "    <tr>\n",
       "      <th>4</th>\n",
       "      <td>2018年5月</td>\n",
       "      <td>30.0</td>\n",
       "      <td>114</td>\n",
       "      <td>0.56</td>\n",
       "      <td>63.84</td>\n",
       "      <td>2.13</td>\n",
       "      <td>3.80</td>\n",
       "    </tr>\n",
       "    <tr>\n",
       "      <th>5</th>\n",
       "      <td>2018年6月</td>\n",
       "      <td>29.0</td>\n",
       "      <td>118</td>\n",
       "      <td>0.56</td>\n",
       "      <td>66.08</td>\n",
       "      <td>2.28</td>\n",
       "      <td>4.07</td>\n",
       "    </tr>\n",
       "    <tr>\n",
       "      <th>6</th>\n",
       "      <td>2018年7月</td>\n",
       "      <td>30.0</td>\n",
       "      <td>124</td>\n",
       "      <td>0.56</td>\n",
       "      <td>69.44</td>\n",
       "      <td>2.31</td>\n",
       "      <td>4.13</td>\n",
       "    </tr>\n",
       "    <tr>\n",
       "      <th>7</th>\n",
       "      <td>2018年8月</td>\n",
       "      <td>30.0</td>\n",
       "      <td>139</td>\n",
       "      <td>0.56</td>\n",
       "      <td>77.84</td>\n",
       "      <td>2.59</td>\n",
       "      <td>4.63</td>\n",
       "    </tr>\n",
       "    <tr>\n",
       "      <th>8</th>\n",
       "      <td>2018年9月</td>\n",
       "      <td>29.0</td>\n",
       "      <td>142</td>\n",
       "      <td>0.56</td>\n",
       "      <td>79.52</td>\n",
       "      <td>2.74</td>\n",
       "      <td>4.90</td>\n",
       "    </tr>\n",
       "    <tr>\n",
       "      <th>9</th>\n",
       "      <td>2018年10月</td>\n",
       "      <td>30.0</td>\n",
       "      <td>98</td>\n",
       "      <td>0.56</td>\n",
       "      <td>54.88</td>\n",
       "      <td>1.83</td>\n",
       "      <td>3.27</td>\n",
       "    </tr>\n",
       "    <tr>\n",
       "      <th>10</th>\n",
       "      <td>2018年11月</td>\n",
       "      <td>29.0</td>\n",
       "      <td>109</td>\n",
       "      <td>0.56</td>\n",
       "      <td>61.04</td>\n",
       "      <td>2.10</td>\n",
       "      <td>3.76</td>\n",
       "    </tr>\n",
       "  </tbody>\n",
       "</table>\n",
       "</div>"
      ],
      "text/plain": [
       "        查表时间  实际天数  电消耗量    单价     金额  日均费用  日均电量\n",
       "0    2018年1月  30.0   121  0.56  67.76  2.26  4.03\n",
       "1    2018年2月  27.0   142  0.56  79.52  2.95  5.26\n",
       "2    2018年3月  30.0    99  0.56  55.44  1.85  3.30\n",
       "3    2018年4月  29.0   137  0.56  76.72  2.65  4.72\n",
       "4    2018年5月  30.0   114  0.56  63.84  2.13  3.80\n",
       "5    2018年6月  29.0   118  0.56  66.08  2.28  4.07\n",
       "6    2018年7月  30.0   124  0.56  69.44  2.31  4.13\n",
       "7    2018年8月  30.0   139  0.56  77.84  2.59  4.63\n",
       "8    2018年9月  29.0   142  0.56  79.52  2.74  4.90\n",
       "9   2018年10月  30.0    98  0.56  54.88  1.83  3.27\n",
       "10  2018年11月  29.0   109  0.56  61.04  2.10  3.76"
      ]
     },
     "execution_count": 4,
     "metadata": {},
     "output_type": "execute_result"
    }
   ],
   "source": [
    "df"
   ]
  },
  {
   "cell_type": "code",
   "execution_count": 5,
   "metadata": {},
   "outputs": [
    {
     "name": "stdout",
     "output_type": "stream",
     "text": [
      "<class 'pandas.core.frame.DataFrame'>\n",
      "RangeIndex: 11 entries, 0 to 10\n",
      "Data columns (total 7 columns):\n",
      "查表时间    11 non-null object\n",
      "实际天数    11 non-null float64\n",
      "电消耗量    11 non-null int64\n",
      "单价      11 non-null float64\n",
      "金额      11 non-null float64\n",
      "日均费用    11 non-null float64\n",
      "日均电量    11 non-null float64\n",
      "dtypes: float64(5), int64(1), object(1)\n",
      "memory usage: 612.0+ bytes\n"
     ]
    }
   ],
   "source": [
    "df.info()"
   ]
  },
  {
   "cell_type": "markdown",
   "metadata": {},
   "source": [
    "* 添加辅助列【date】，统一为每月一号为数据记录日"
   ]
  },
  {
   "cell_type": "code",
   "execution_count": 6,
   "metadata": {},
   "outputs": [],
   "source": [
    "df['date'] = [str(i)+'1号' for i in df['查表时间']]"
   ]
  },
  {
   "cell_type": "code",
   "execution_count": 7,
   "metadata": {},
   "outputs": [],
   "source": [
    "df = df.drop(['实际天数','金额','日均费用','日均电量'],axis = 1)#删除列"
   ]
  },
  {
   "cell_type": "code",
   "execution_count": 8,
   "metadata": {},
   "outputs": [
    {
     "data": {
      "text/html": [
       "<div>\n",
       "<style scoped>\n",
       "    .dataframe tbody tr th:only-of-type {\n",
       "        vertical-align: middle;\n",
       "    }\n",
       "\n",
       "    .dataframe tbody tr th {\n",
       "        vertical-align: top;\n",
       "    }\n",
       "\n",
       "    .dataframe thead th {\n",
       "        text-align: right;\n",
       "    }\n",
       "</style>\n",
       "<table border=\"1\" class=\"dataframe\">\n",
       "  <thead>\n",
       "    <tr style=\"text-align: right;\">\n",
       "      <th></th>\n",
       "      <th>查表时间</th>\n",
       "      <th>电消耗量</th>\n",
       "      <th>单价</th>\n",
       "      <th>date</th>\n",
       "    </tr>\n",
       "  </thead>\n",
       "  <tbody>\n",
       "    <tr>\n",
       "      <th>0</th>\n",
       "      <td>2018年1月</td>\n",
       "      <td>121</td>\n",
       "      <td>0.56</td>\n",
       "      <td>2018年1月1号</td>\n",
       "    </tr>\n",
       "    <tr>\n",
       "      <th>1</th>\n",
       "      <td>2018年2月</td>\n",
       "      <td>142</td>\n",
       "      <td>0.56</td>\n",
       "      <td>2018年2月1号</td>\n",
       "    </tr>\n",
       "    <tr>\n",
       "      <th>2</th>\n",
       "      <td>2018年3月</td>\n",
       "      <td>99</td>\n",
       "      <td>0.56</td>\n",
       "      <td>2018年3月1号</td>\n",
       "    </tr>\n",
       "    <tr>\n",
       "      <th>3</th>\n",
       "      <td>2018年4月</td>\n",
       "      <td>137</td>\n",
       "      <td>0.56</td>\n",
       "      <td>2018年4月1号</td>\n",
       "    </tr>\n",
       "    <tr>\n",
       "      <th>4</th>\n",
       "      <td>2018年5月</td>\n",
       "      <td>114</td>\n",
       "      <td>0.56</td>\n",
       "      <td>2018年5月1号</td>\n",
       "    </tr>\n",
       "    <tr>\n",
       "      <th>5</th>\n",
       "      <td>2018年6月</td>\n",
       "      <td>118</td>\n",
       "      <td>0.56</td>\n",
       "      <td>2018年6月1号</td>\n",
       "    </tr>\n",
       "    <tr>\n",
       "      <th>6</th>\n",
       "      <td>2018年7月</td>\n",
       "      <td>124</td>\n",
       "      <td>0.56</td>\n",
       "      <td>2018年7月1号</td>\n",
       "    </tr>\n",
       "    <tr>\n",
       "      <th>7</th>\n",
       "      <td>2018年8月</td>\n",
       "      <td>139</td>\n",
       "      <td>0.56</td>\n",
       "      <td>2018年8月1号</td>\n",
       "    </tr>\n",
       "    <tr>\n",
       "      <th>8</th>\n",
       "      <td>2018年9月</td>\n",
       "      <td>142</td>\n",
       "      <td>0.56</td>\n",
       "      <td>2018年9月1号</td>\n",
       "    </tr>\n",
       "    <tr>\n",
       "      <th>9</th>\n",
       "      <td>2018年10月</td>\n",
       "      <td>98</td>\n",
       "      <td>0.56</td>\n",
       "      <td>2018年10月1号</td>\n",
       "    </tr>\n",
       "    <tr>\n",
       "      <th>10</th>\n",
       "      <td>2018年11月</td>\n",
       "      <td>109</td>\n",
       "      <td>0.56</td>\n",
       "      <td>2018年11月1号</td>\n",
       "    </tr>\n",
       "  </tbody>\n",
       "</table>\n",
       "</div>"
      ],
      "text/plain": [
       "        查表时间  电消耗量    单价        date\n",
       "0    2018年1月   121  0.56   2018年1月1号\n",
       "1    2018年2月   142  0.56   2018年2月1号\n",
       "2    2018年3月    99  0.56   2018年3月1号\n",
       "3    2018年4月   137  0.56   2018年4月1号\n",
       "4    2018年5月   114  0.56   2018年5月1号\n",
       "5    2018年6月   118  0.56   2018年6月1号\n",
       "6    2018年7月   124  0.56   2018年7月1号\n",
       "7    2018年8月   139  0.56   2018年8月1号\n",
       "8    2018年9月   142  0.56   2018年9月1号\n",
       "9   2018年10月    98  0.56  2018年10月1号\n",
       "10  2018年11月   109  0.56  2018年11月1号"
      ]
     },
     "execution_count": 8,
     "metadata": {},
     "output_type": "execute_result"
    }
   ],
   "source": [
    "df"
   ]
  },
  {
   "cell_type": "markdown",
   "metadata": {},
   "source": [
    "## 去除列中的中文\n",
    "* 通过正则表达式，只保留字符串中的数字"
   ]
  },
  {
   "cell_type": "code",
   "execution_count": 11,
   "metadata": {},
   "outputs": [],
   "source": [
    "def cleantxt(raw):\n",
    "    fil = re.compile('[^0-9]', re.UNICODE)\n",
    "    return fil.sub(' ', raw)"
   ]
  },
  {
   "cell_type": "code",
   "execution_count": 12,
   "metadata": {},
   "outputs": [],
   "source": [
    "df.date = df['date'].apply(cleantxt)"
   ]
  },
  {
   "cell_type": "code",
   "execution_count": 13,
   "metadata": {},
   "outputs": [
    {
     "data": {
      "text/html": [
       "<div>\n",
       "<style scoped>\n",
       "    .dataframe tbody tr th:only-of-type {\n",
       "        vertical-align: middle;\n",
       "    }\n",
       "\n",
       "    .dataframe tbody tr th {\n",
       "        vertical-align: top;\n",
       "    }\n",
       "\n",
       "    .dataframe thead th {\n",
       "        text-align: right;\n",
       "    }\n",
       "</style>\n",
       "<table border=\"1\" class=\"dataframe\">\n",
       "  <thead>\n",
       "    <tr style=\"text-align: right;\">\n",
       "      <th></th>\n",
       "      <th>查表时间</th>\n",
       "      <th>电消耗量</th>\n",
       "      <th>单价</th>\n",
       "      <th>date</th>\n",
       "    </tr>\n",
       "  </thead>\n",
       "  <tbody>\n",
       "    <tr>\n",
       "      <th>0</th>\n",
       "      <td>2018年1月</td>\n",
       "      <td>121</td>\n",
       "      <td>0.56</td>\n",
       "      <td>2018 1 1</td>\n",
       "    </tr>\n",
       "    <tr>\n",
       "      <th>1</th>\n",
       "      <td>2018年2月</td>\n",
       "      <td>142</td>\n",
       "      <td>0.56</td>\n",
       "      <td>2018 2 1</td>\n",
       "    </tr>\n",
       "    <tr>\n",
       "      <th>2</th>\n",
       "      <td>2018年3月</td>\n",
       "      <td>99</td>\n",
       "      <td>0.56</td>\n",
       "      <td>2018 3 1</td>\n",
       "    </tr>\n",
       "    <tr>\n",
       "      <th>3</th>\n",
       "      <td>2018年4月</td>\n",
       "      <td>137</td>\n",
       "      <td>0.56</td>\n",
       "      <td>2018 4 1</td>\n",
       "    </tr>\n",
       "    <tr>\n",
       "      <th>4</th>\n",
       "      <td>2018年5月</td>\n",
       "      <td>114</td>\n",
       "      <td>0.56</td>\n",
       "      <td>2018 5 1</td>\n",
       "    </tr>\n",
       "    <tr>\n",
       "      <th>5</th>\n",
       "      <td>2018年6月</td>\n",
       "      <td>118</td>\n",
       "      <td>0.56</td>\n",
       "      <td>2018 6 1</td>\n",
       "    </tr>\n",
       "    <tr>\n",
       "      <th>6</th>\n",
       "      <td>2018年7月</td>\n",
       "      <td>124</td>\n",
       "      <td>0.56</td>\n",
       "      <td>2018 7 1</td>\n",
       "    </tr>\n",
       "    <tr>\n",
       "      <th>7</th>\n",
       "      <td>2018年8月</td>\n",
       "      <td>139</td>\n",
       "      <td>0.56</td>\n",
       "      <td>2018 8 1</td>\n",
       "    </tr>\n",
       "    <tr>\n",
       "      <th>8</th>\n",
       "      <td>2018年9月</td>\n",
       "      <td>142</td>\n",
       "      <td>0.56</td>\n",
       "      <td>2018 9 1</td>\n",
       "    </tr>\n",
       "    <tr>\n",
       "      <th>9</th>\n",
       "      <td>2018年10月</td>\n",
       "      <td>98</td>\n",
       "      <td>0.56</td>\n",
       "      <td>2018 10 1</td>\n",
       "    </tr>\n",
       "    <tr>\n",
       "      <th>10</th>\n",
       "      <td>2018年11月</td>\n",
       "      <td>109</td>\n",
       "      <td>0.56</td>\n",
       "      <td>2018 11 1</td>\n",
       "    </tr>\n",
       "  </tbody>\n",
       "</table>\n",
       "</div>"
      ],
      "text/plain": [
       "        查表时间  电消耗量    单价        date\n",
       "0    2018年1月   121  0.56   2018 1 1 \n",
       "1    2018年2月   142  0.56   2018 2 1 \n",
       "2    2018年3月    99  0.56   2018 3 1 \n",
       "3    2018年4月   137  0.56   2018 4 1 \n",
       "4    2018年5月   114  0.56   2018 5 1 \n",
       "5    2018年6月   118  0.56   2018 6 1 \n",
       "6    2018年7月   124  0.56   2018 7 1 \n",
       "7    2018年8月   139  0.56   2018 8 1 \n",
       "8    2018年9月   142  0.56   2018 9 1 \n",
       "9   2018年10月    98  0.56  2018 10 1 \n",
       "10  2018年11月   109  0.56  2018 11 1 "
      ]
     },
     "execution_count": 13,
     "metadata": {},
     "output_type": "execute_result"
    }
   ],
   "source": [
    "df"
   ]
  },
  {
   "cell_type": "markdown",
   "metadata": {},
   "source": [
    "## 整理date列\n",
    "1. 去除两边的空格\n",
    "2. 以空格拆分为年月日\n",
    "3. 用【-】连接年月日\n",
    "4. 转换为Datetime类型"
   ]
  },
  {
   "cell_type": "code",
   "execution_count": 14,
   "metadata": {},
   "outputs": [
    {
     "data": {
      "text/plain": [
       "['2018', '1', '1']"
      ]
     },
     "execution_count": 14,
     "metadata": {},
     "output_type": "execute_result"
    }
   ],
   "source": [
    "df.date[0].strip().split(' ')"
   ]
  },
  {
   "cell_type": "code",
   "execution_count": 15,
   "metadata": {},
   "outputs": [],
   "source": [
    "def foo(line):\n",
    "    item = line.strip().split(' ')\n",
    "    return pd.Series([item[0]+'-'+item[1]+'-'+item[2]])"
   ]
  },
  {
   "cell_type": "code",
   "execution_count": 16,
   "metadata": {},
   "outputs": [],
   "source": [
    "df.date = df['date'].apply(foo)"
   ]
  },
  {
   "cell_type": "code",
   "execution_count": 17,
   "metadata": {},
   "outputs": [
    {
     "data": {
      "text/html": [
       "<div>\n",
       "<style scoped>\n",
       "    .dataframe tbody tr th:only-of-type {\n",
       "        vertical-align: middle;\n",
       "    }\n",
       "\n",
       "    .dataframe tbody tr th {\n",
       "        vertical-align: top;\n",
       "    }\n",
       "\n",
       "    .dataframe thead th {\n",
       "        text-align: right;\n",
       "    }\n",
       "</style>\n",
       "<table border=\"1\" class=\"dataframe\">\n",
       "  <thead>\n",
       "    <tr style=\"text-align: right;\">\n",
       "      <th></th>\n",
       "      <th>查表时间</th>\n",
       "      <th>电消耗量</th>\n",
       "      <th>单价</th>\n",
       "      <th>date</th>\n",
       "    </tr>\n",
       "  </thead>\n",
       "  <tbody>\n",
       "    <tr>\n",
       "      <th>0</th>\n",
       "      <td>2018年1月</td>\n",
       "      <td>121</td>\n",
       "      <td>0.56</td>\n",
       "      <td>2018-1-1</td>\n",
       "    </tr>\n",
       "    <tr>\n",
       "      <th>1</th>\n",
       "      <td>2018年2月</td>\n",
       "      <td>142</td>\n",
       "      <td>0.56</td>\n",
       "      <td>2018-2-1</td>\n",
       "    </tr>\n",
       "    <tr>\n",
       "      <th>2</th>\n",
       "      <td>2018年3月</td>\n",
       "      <td>99</td>\n",
       "      <td>0.56</td>\n",
       "      <td>2018-3-1</td>\n",
       "    </tr>\n",
       "    <tr>\n",
       "      <th>3</th>\n",
       "      <td>2018年4月</td>\n",
       "      <td>137</td>\n",
       "      <td>0.56</td>\n",
       "      <td>2018-4-1</td>\n",
       "    </tr>\n",
       "    <tr>\n",
       "      <th>4</th>\n",
       "      <td>2018年5月</td>\n",
       "      <td>114</td>\n",
       "      <td>0.56</td>\n",
       "      <td>2018-5-1</td>\n",
       "    </tr>\n",
       "    <tr>\n",
       "      <th>5</th>\n",
       "      <td>2018年6月</td>\n",
       "      <td>118</td>\n",
       "      <td>0.56</td>\n",
       "      <td>2018-6-1</td>\n",
       "    </tr>\n",
       "    <tr>\n",
       "      <th>6</th>\n",
       "      <td>2018年7月</td>\n",
       "      <td>124</td>\n",
       "      <td>0.56</td>\n",
       "      <td>2018-7-1</td>\n",
       "    </tr>\n",
       "    <tr>\n",
       "      <th>7</th>\n",
       "      <td>2018年8月</td>\n",
       "      <td>139</td>\n",
       "      <td>0.56</td>\n",
       "      <td>2018-8-1</td>\n",
       "    </tr>\n",
       "    <tr>\n",
       "      <th>8</th>\n",
       "      <td>2018年9月</td>\n",
       "      <td>142</td>\n",
       "      <td>0.56</td>\n",
       "      <td>2018-9-1</td>\n",
       "    </tr>\n",
       "    <tr>\n",
       "      <th>9</th>\n",
       "      <td>2018年10月</td>\n",
       "      <td>98</td>\n",
       "      <td>0.56</td>\n",
       "      <td>2018-10-1</td>\n",
       "    </tr>\n",
       "    <tr>\n",
       "      <th>10</th>\n",
       "      <td>2018年11月</td>\n",
       "      <td>109</td>\n",
       "      <td>0.56</td>\n",
       "      <td>2018-11-1</td>\n",
       "    </tr>\n",
       "  </tbody>\n",
       "</table>\n",
       "</div>"
      ],
      "text/plain": [
       "        查表时间  电消耗量    单价       date\n",
       "0    2018年1月   121  0.56   2018-1-1\n",
       "1    2018年2月   142  0.56   2018-2-1\n",
       "2    2018年3月    99  0.56   2018-3-1\n",
       "3    2018年4月   137  0.56   2018-4-1\n",
       "4    2018年5月   114  0.56   2018-5-1\n",
       "5    2018年6月   118  0.56   2018-6-1\n",
       "6    2018年7月   124  0.56   2018-7-1\n",
       "7    2018年8月   139  0.56   2018-8-1\n",
       "8    2018年9月   142  0.56   2018-9-1\n",
       "9   2018年10月    98  0.56  2018-10-1\n",
       "10  2018年11月   109  0.56  2018-11-1"
      ]
     },
     "execution_count": 17,
     "metadata": {},
     "output_type": "execute_result"
    }
   ],
   "source": [
    "df"
   ]
  },
  {
   "cell_type": "code",
   "execution_count": 18,
   "metadata": {},
   "outputs": [],
   "source": [
    "df.index = pd.DatetimeIndex(df.date)"
   ]
  },
  {
   "cell_type": "code",
   "execution_count": 19,
   "metadata": {},
   "outputs": [
    {
     "data": {
      "text/html": [
       "<div>\n",
       "<style scoped>\n",
       "    .dataframe tbody tr th:only-of-type {\n",
       "        vertical-align: middle;\n",
       "    }\n",
       "\n",
       "    .dataframe tbody tr th {\n",
       "        vertical-align: top;\n",
       "    }\n",
       "\n",
       "    .dataframe thead th {\n",
       "        text-align: right;\n",
       "    }\n",
       "</style>\n",
       "<table border=\"1\" class=\"dataframe\">\n",
       "  <thead>\n",
       "    <tr style=\"text-align: right;\">\n",
       "      <th></th>\n",
       "      <th>查表时间</th>\n",
       "      <th>电消耗量</th>\n",
       "      <th>单价</th>\n",
       "      <th>date</th>\n",
       "    </tr>\n",
       "    <tr>\n",
       "      <th>date</th>\n",
       "      <th></th>\n",
       "      <th></th>\n",
       "      <th></th>\n",
       "      <th></th>\n",
       "    </tr>\n",
       "  </thead>\n",
       "  <tbody>\n",
       "    <tr>\n",
       "      <th>2018-01-01</th>\n",
       "      <td>2018年1月</td>\n",
       "      <td>121</td>\n",
       "      <td>0.56</td>\n",
       "      <td>2018-1-1</td>\n",
       "    </tr>\n",
       "    <tr>\n",
       "      <th>2018-02-01</th>\n",
       "      <td>2018年2月</td>\n",
       "      <td>142</td>\n",
       "      <td>0.56</td>\n",
       "      <td>2018-2-1</td>\n",
       "    </tr>\n",
       "    <tr>\n",
       "      <th>2018-03-01</th>\n",
       "      <td>2018年3月</td>\n",
       "      <td>99</td>\n",
       "      <td>0.56</td>\n",
       "      <td>2018-3-1</td>\n",
       "    </tr>\n",
       "    <tr>\n",
       "      <th>2018-04-01</th>\n",
       "      <td>2018年4月</td>\n",
       "      <td>137</td>\n",
       "      <td>0.56</td>\n",
       "      <td>2018-4-1</td>\n",
       "    </tr>\n",
       "    <tr>\n",
       "      <th>2018-05-01</th>\n",
       "      <td>2018年5月</td>\n",
       "      <td>114</td>\n",
       "      <td>0.56</td>\n",
       "      <td>2018-5-1</td>\n",
       "    </tr>\n",
       "    <tr>\n",
       "      <th>2018-06-01</th>\n",
       "      <td>2018年6月</td>\n",
       "      <td>118</td>\n",
       "      <td>0.56</td>\n",
       "      <td>2018-6-1</td>\n",
       "    </tr>\n",
       "    <tr>\n",
       "      <th>2018-07-01</th>\n",
       "      <td>2018年7月</td>\n",
       "      <td>124</td>\n",
       "      <td>0.56</td>\n",
       "      <td>2018-7-1</td>\n",
       "    </tr>\n",
       "    <tr>\n",
       "      <th>2018-08-01</th>\n",
       "      <td>2018年8月</td>\n",
       "      <td>139</td>\n",
       "      <td>0.56</td>\n",
       "      <td>2018-8-1</td>\n",
       "    </tr>\n",
       "    <tr>\n",
       "      <th>2018-09-01</th>\n",
       "      <td>2018年9月</td>\n",
       "      <td>142</td>\n",
       "      <td>0.56</td>\n",
       "      <td>2018-9-1</td>\n",
       "    </tr>\n",
       "    <tr>\n",
       "      <th>2018-10-01</th>\n",
       "      <td>2018年10月</td>\n",
       "      <td>98</td>\n",
       "      <td>0.56</td>\n",
       "      <td>2018-10-1</td>\n",
       "    </tr>\n",
       "    <tr>\n",
       "      <th>2018-11-01</th>\n",
       "      <td>2018年11月</td>\n",
       "      <td>109</td>\n",
       "      <td>0.56</td>\n",
       "      <td>2018-11-1</td>\n",
       "    </tr>\n",
       "  </tbody>\n",
       "</table>\n",
       "</div>"
      ],
      "text/plain": [
       "                查表时间  电消耗量    单价       date\n",
       "date                                       \n",
       "2018-01-01   2018年1月   121  0.56   2018-1-1\n",
       "2018-02-01   2018年2月   142  0.56   2018-2-1\n",
       "2018-03-01   2018年3月    99  0.56   2018-3-1\n",
       "2018-04-01   2018年4月   137  0.56   2018-4-1\n",
       "2018-05-01   2018年5月   114  0.56   2018-5-1\n",
       "2018-06-01   2018年6月   118  0.56   2018-6-1\n",
       "2018-07-01   2018年7月   124  0.56   2018-7-1\n",
       "2018-08-01   2018年8月   139  0.56   2018-8-1\n",
       "2018-09-01   2018年9月   142  0.56   2018-9-1\n",
       "2018-10-01  2018年10月    98  0.56  2018-10-1\n",
       "2018-11-01  2018年11月   109  0.56  2018-11-1"
      ]
     },
     "execution_count": 19,
     "metadata": {},
     "output_type": "execute_result"
    }
   ],
   "source": [
    "df"
   ]
  },
  {
   "cell_type": "code",
   "execution_count": 20,
   "metadata": {},
   "outputs": [],
   "source": [
    "df_new = df.loc[:,['电消耗量','单价']]"
   ]
  },
  {
   "cell_type": "code",
   "execution_count": 21,
   "metadata": {},
   "outputs": [],
   "source": [
    "df_new.rename(columns={'电消耗量':'每月用电量'},inplace=True)"
   ]
  },
  {
   "cell_type": "code",
   "execution_count": 22,
   "metadata": {},
   "outputs": [
    {
     "data": {
      "text/html": [
       "<div>\n",
       "<style scoped>\n",
       "    .dataframe tbody tr th:only-of-type {\n",
       "        vertical-align: middle;\n",
       "    }\n",
       "\n",
       "    .dataframe tbody tr th {\n",
       "        vertical-align: top;\n",
       "    }\n",
       "\n",
       "    .dataframe thead th {\n",
       "        text-align: right;\n",
       "    }\n",
       "</style>\n",
       "<table border=\"1\" class=\"dataframe\">\n",
       "  <thead>\n",
       "    <tr style=\"text-align: right;\">\n",
       "      <th></th>\n",
       "      <th>每月用电量</th>\n",
       "      <th>单价</th>\n",
       "    </tr>\n",
       "    <tr>\n",
       "      <th>date</th>\n",
       "      <th></th>\n",
       "      <th></th>\n",
       "    </tr>\n",
       "  </thead>\n",
       "  <tbody>\n",
       "    <tr>\n",
       "      <th>2018-01-01</th>\n",
       "      <td>121</td>\n",
       "      <td>0.56</td>\n",
       "    </tr>\n",
       "    <tr>\n",
       "      <th>2018-02-01</th>\n",
       "      <td>142</td>\n",
       "      <td>0.56</td>\n",
       "    </tr>\n",
       "    <tr>\n",
       "      <th>2018-03-01</th>\n",
       "      <td>99</td>\n",
       "      <td>0.56</td>\n",
       "    </tr>\n",
       "    <tr>\n",
       "      <th>2018-04-01</th>\n",
       "      <td>137</td>\n",
       "      <td>0.56</td>\n",
       "    </tr>\n",
       "    <tr>\n",
       "      <th>2018-05-01</th>\n",
       "      <td>114</td>\n",
       "      <td>0.56</td>\n",
       "    </tr>\n",
       "    <tr>\n",
       "      <th>2018-06-01</th>\n",
       "      <td>118</td>\n",
       "      <td>0.56</td>\n",
       "    </tr>\n",
       "    <tr>\n",
       "      <th>2018-07-01</th>\n",
       "      <td>124</td>\n",
       "      <td>0.56</td>\n",
       "    </tr>\n",
       "    <tr>\n",
       "      <th>2018-08-01</th>\n",
       "      <td>139</td>\n",
       "      <td>0.56</td>\n",
       "    </tr>\n",
       "    <tr>\n",
       "      <th>2018-09-01</th>\n",
       "      <td>142</td>\n",
       "      <td>0.56</td>\n",
       "    </tr>\n",
       "    <tr>\n",
       "      <th>2018-10-01</th>\n",
       "      <td>98</td>\n",
       "      <td>0.56</td>\n",
       "    </tr>\n",
       "    <tr>\n",
       "      <th>2018-11-01</th>\n",
       "      <td>109</td>\n",
       "      <td>0.56</td>\n",
       "    </tr>\n",
       "  </tbody>\n",
       "</table>\n",
       "</div>"
      ],
      "text/plain": [
       "            每月用电量    单价\n",
       "date                   \n",
       "2018-01-01    121  0.56\n",
       "2018-02-01    142  0.56\n",
       "2018-03-01     99  0.56\n",
       "2018-04-01    137  0.56\n",
       "2018-05-01    114  0.56\n",
       "2018-06-01    118  0.56\n",
       "2018-07-01    124  0.56\n",
       "2018-08-01    139  0.56\n",
       "2018-09-01    142  0.56\n",
       "2018-10-01     98  0.56\n",
       "2018-11-01    109  0.56"
      ]
     },
     "execution_count": 22,
     "metadata": {},
     "output_type": "execute_result"
    }
   ],
   "source": [
    "df_new"
   ]
  },
  {
   "cell_type": "code",
   "execution_count": 23,
   "metadata": {},
   "outputs": [],
   "source": [
    "df_new['每月用电总价'] = df_new['每月用电量']*df_new['单价']"
   ]
  },
  {
   "cell_type": "code",
   "execution_count": 24,
   "metadata": {},
   "outputs": [
    {
     "data": {
      "text/html": [
       "<div>\n",
       "<style scoped>\n",
       "    .dataframe tbody tr th:only-of-type {\n",
       "        vertical-align: middle;\n",
       "    }\n",
       "\n",
       "    .dataframe tbody tr th {\n",
       "        vertical-align: top;\n",
       "    }\n",
       "\n",
       "    .dataframe thead th {\n",
       "        text-align: right;\n",
       "    }\n",
       "</style>\n",
       "<table border=\"1\" class=\"dataframe\">\n",
       "  <thead>\n",
       "    <tr style=\"text-align: right;\">\n",
       "      <th></th>\n",
       "      <th>每月用电量</th>\n",
       "      <th>单价</th>\n",
       "      <th>每月用电总价</th>\n",
       "    </tr>\n",
       "    <tr>\n",
       "      <th>date</th>\n",
       "      <th></th>\n",
       "      <th></th>\n",
       "      <th></th>\n",
       "    </tr>\n",
       "  </thead>\n",
       "  <tbody>\n",
       "    <tr>\n",
       "      <th>2018-01-01</th>\n",
       "      <td>121</td>\n",
       "      <td>0.56</td>\n",
       "      <td>67.76</td>\n",
       "    </tr>\n",
       "    <tr>\n",
       "      <th>2018-02-01</th>\n",
       "      <td>142</td>\n",
       "      <td>0.56</td>\n",
       "      <td>79.52</td>\n",
       "    </tr>\n",
       "    <tr>\n",
       "      <th>2018-03-01</th>\n",
       "      <td>99</td>\n",
       "      <td>0.56</td>\n",
       "      <td>55.44</td>\n",
       "    </tr>\n",
       "    <tr>\n",
       "      <th>2018-04-01</th>\n",
       "      <td>137</td>\n",
       "      <td>0.56</td>\n",
       "      <td>76.72</td>\n",
       "    </tr>\n",
       "    <tr>\n",
       "      <th>2018-05-01</th>\n",
       "      <td>114</td>\n",
       "      <td>0.56</td>\n",
       "      <td>63.84</td>\n",
       "    </tr>\n",
       "    <tr>\n",
       "      <th>2018-06-01</th>\n",
       "      <td>118</td>\n",
       "      <td>0.56</td>\n",
       "      <td>66.08</td>\n",
       "    </tr>\n",
       "    <tr>\n",
       "      <th>2018-07-01</th>\n",
       "      <td>124</td>\n",
       "      <td>0.56</td>\n",
       "      <td>69.44</td>\n",
       "    </tr>\n",
       "    <tr>\n",
       "      <th>2018-08-01</th>\n",
       "      <td>139</td>\n",
       "      <td>0.56</td>\n",
       "      <td>77.84</td>\n",
       "    </tr>\n",
       "    <tr>\n",
       "      <th>2018-09-01</th>\n",
       "      <td>142</td>\n",
       "      <td>0.56</td>\n",
       "      <td>79.52</td>\n",
       "    </tr>\n",
       "    <tr>\n",
       "      <th>2018-10-01</th>\n",
       "      <td>98</td>\n",
       "      <td>0.56</td>\n",
       "      <td>54.88</td>\n",
       "    </tr>\n",
       "    <tr>\n",
       "      <th>2018-11-01</th>\n",
       "      <td>109</td>\n",
       "      <td>0.56</td>\n",
       "      <td>61.04</td>\n",
       "    </tr>\n",
       "  </tbody>\n",
       "</table>\n",
       "</div>"
      ],
      "text/plain": [
       "            每月用电量    单价  每月用电总价\n",
       "date                           \n",
       "2018-01-01    121  0.56   67.76\n",
       "2018-02-01    142  0.56   79.52\n",
       "2018-03-01     99  0.56   55.44\n",
       "2018-04-01    137  0.56   76.72\n",
       "2018-05-01    114  0.56   63.84\n",
       "2018-06-01    118  0.56   66.08\n",
       "2018-07-01    124  0.56   69.44\n",
       "2018-08-01    139  0.56   77.84\n",
       "2018-09-01    142  0.56   79.52\n",
       "2018-10-01     98  0.56   54.88\n",
       "2018-11-01    109  0.56   61.04"
      ]
     },
     "execution_count": 24,
     "metadata": {},
     "output_type": "execute_result"
    }
   ],
   "source": [
    "df_new"
   ]
  },
  {
   "cell_type": "code",
   "execution_count": 25,
   "metadata": {},
   "outputs": [
    {
     "data": {
      "text/plain": [
       "<matplotlib.axes._subplots.AxesSubplot at 0x8035cf0>"
      ]
     },
     "execution_count": 25,
     "metadata": {},
     "output_type": "execute_result"
    },
    {
     "data": {
      "image/png": "[encoded data removed]",
      "text/plain": [
       "<Figure size 864x432 with 1 Axes>"
      ]
     },
     "metadata": {},
     "output_type": "display_data"
    }
   ],
   "source": [
    "df_new[['每月用电量','每月用电总价']].plot(style='-*',figsize=(12,6))"
   ]
  },
  {
   "cell_type": "markdown",
   "metadata": {},
   "source": [
    "# 读取方式二，pd.read_excel()"
   ]
  },
  {
   "cell_type": "code",
   "execution_count": 35,
   "metadata": {},
   "outputs": [],
   "source": [
    "df1 = pd.read_excel('f:/test/data/个人用电情况报表.xlsx',header=1,index_col='查表时间')"
   ]
  },
  {
   "cell_type": "code",
   "execution_count": 36,
   "metadata": {},
   "outputs": [
    {
     "name": "stdout",
     "output_type": "stream",
     "text": [
      "<class 'pandas.core.frame.DataFrame'>\n",
      "DatetimeIndex: 11 entries, 2018-01-01 to 2018-11-01\n",
      "Data columns (total 8 columns):\n",
      "实际天数    11 non-null int64\n",
      "电消耗量    11 non-null int64\n",
      "单价      11 non-null float64\n",
      "金额      11 non-null float64\n",
      "日均费用    11 non-null float64\n",
      "日均电量    11 non-null float64\n",
      "最大最小    3 non-null float64\n",
      "标记点     3 non-null float64\n",
      "dtypes: float64(6), int64(2)\n",
      "memory usage: 792.0 bytes\n"
     ]
    }
   ],
   "source": [
    "df1.info()"
   ]
  },
  {
   "cell_type": "markdown",
   "metadata": {},
   "source": [
    "* 由上可知，index列，直接读取为Excel日期格式——方便"
   ]
  },
  {
   "cell_type": "code",
   "execution_count": 37,
   "metadata": {},
   "outputs": [
    {
     "data": {
      "text/html": [
       "<div>\n",
       "<style scoped>\n",
       "    .dataframe tbody tr th:only-of-type {\n",
       "        vertical-align: middle;\n",
       "    }\n",
       "\n",
       "    .dataframe tbody tr th {\n",
       "        vertical-align: top;\n",
       "    }\n",
       "\n",
       "    .dataframe thead th {\n",
       "        text-align: right;\n",
       "    }\n",
       "</style>\n",
       "<table border=\"1\" class=\"dataframe\">\n",
       "  <thead>\n",
       "    <tr style=\"text-align: right;\">\n",
       "      <th></th>\n",
       "      <th>实际天数</th>\n",
       "      <th>电消耗量</th>\n",
       "      <th>单价</th>\n",
       "      <th>金额</th>\n",
       "      <th>日均费用</th>\n",
       "      <th>日均电量</th>\n",
       "      <th>最大最小</th>\n",
       "      <th>标记点</th>\n",
       "    </tr>\n",
       "    <tr>\n",
       "      <th>查表时间</th>\n",
       "      <th></th>\n",
       "      <th></th>\n",
       "      <th></th>\n",
       "      <th></th>\n",
       "      <th></th>\n",
       "      <th></th>\n",
       "      <th></th>\n",
       "      <th></th>\n",
       "    </tr>\n",
       "  </thead>\n",
       "  <tbody>\n",
       "    <tr>\n",
       "      <th>2018-01-01</th>\n",
       "      <td>30</td>\n",
       "      <td>121</td>\n",
       "      <td>0.56</td>\n",
       "      <td>67.76</td>\n",
       "      <td>2.258667</td>\n",
       "      <td>4.033333</td>\n",
       "      <td>NaN</td>\n",
       "      <td>NaN</td>\n",
       "    </tr>\n",
       "    <tr>\n",
       "      <th>2018-02-01</th>\n",
       "      <td>27</td>\n",
       "      <td>142</td>\n",
       "      <td>0.56</td>\n",
       "      <td>79.52</td>\n",
       "      <td>2.945185</td>\n",
       "      <td>5.259259</td>\n",
       "      <td>79.52</td>\n",
       "      <td>79.52</td>\n",
       "    </tr>\n",
       "    <tr>\n",
       "      <th>2018-03-01</th>\n",
       "      <td>30</td>\n",
       "      <td>99</td>\n",
       "      <td>0.56</td>\n",
       "      <td>55.44</td>\n",
       "      <td>1.848000</td>\n",
       "      <td>3.300000</td>\n",
       "      <td>NaN</td>\n",
       "      <td>NaN</td>\n",
       "    </tr>\n",
       "    <tr>\n",
       "      <th>2018-04-01</th>\n",
       "      <td>29</td>\n",
       "      <td>137</td>\n",
       "      <td>0.56</td>\n",
       "      <td>76.72</td>\n",
       "      <td>2.645517</td>\n",
       "      <td>4.724138</td>\n",
       "      <td>NaN</td>\n",
       "      <td>NaN</td>\n",
       "    </tr>\n",
       "    <tr>\n",
       "      <th>2018-05-01</th>\n",
       "      <td>30</td>\n",
       "      <td>114</td>\n",
       "      <td>0.56</td>\n",
       "      <td>63.84</td>\n",
       "      <td>2.128000</td>\n",
       "      <td>3.800000</td>\n",
       "      <td>NaN</td>\n",
       "      <td>NaN</td>\n",
       "    </tr>\n",
       "    <tr>\n",
       "      <th>2018-06-01</th>\n",
       "      <td>29</td>\n",
       "      <td>118</td>\n",
       "      <td>0.56</td>\n",
       "      <td>66.08</td>\n",
       "      <td>2.278621</td>\n",
       "      <td>4.068966</td>\n",
       "      <td>NaN</td>\n",
       "      <td>NaN</td>\n",
       "    </tr>\n",
       "    <tr>\n",
       "      <th>2018-07-01</th>\n",
       "      <td>30</td>\n",
       "      <td>124</td>\n",
       "      <td>0.56</td>\n",
       "      <td>69.44</td>\n",
       "      <td>2.314667</td>\n",
       "      <td>4.133333</td>\n",
       "      <td>NaN</td>\n",
       "      <td>NaN</td>\n",
       "    </tr>\n",
       "    <tr>\n",
       "      <th>2018-08-01</th>\n",
       "      <td>30</td>\n",
       "      <td>139</td>\n",
       "      <td>0.56</td>\n",
       "      <td>77.84</td>\n",
       "      <td>2.594667</td>\n",
       "      <td>4.633333</td>\n",
       "      <td>NaN</td>\n",
       "      <td>NaN</td>\n",
       "    </tr>\n",
       "    <tr>\n",
       "      <th>2018-09-01</th>\n",
       "      <td>29</td>\n",
       "      <td>142</td>\n",
       "      <td>0.56</td>\n",
       "      <td>79.52</td>\n",
       "      <td>2.742069</td>\n",
       "      <td>4.896552</td>\n",
       "      <td>79.52</td>\n",
       "      <td>79.52</td>\n",
       "    </tr>\n",
       "    <tr>\n",
       "      <th>2018-10-01</th>\n",
       "      <td>30</td>\n",
       "      <td>98</td>\n",
       "      <td>0.56</td>\n",
       "      <td>54.88</td>\n",
       "      <td>1.829333</td>\n",
       "      <td>3.266667</td>\n",
       "      <td>54.88</td>\n",
       "      <td>54.88</td>\n",
       "    </tr>\n",
       "    <tr>\n",
       "      <th>2018-11-01</th>\n",
       "      <td>29</td>\n",
       "      <td>109</td>\n",
       "      <td>0.56</td>\n",
       "      <td>61.04</td>\n",
       "      <td>2.104828</td>\n",
       "      <td>3.758621</td>\n",
       "      <td>NaN</td>\n",
       "      <td>NaN</td>\n",
       "    </tr>\n",
       "  </tbody>\n",
       "</table>\n",
       "</div>"
      ],
      "text/plain": [
       "            实际天数  电消耗量    单价     金额      日均费用      日均电量   最大最小    标记点\n",
       "查表时间                                                                 \n",
       "2018-01-01    30   121  0.56  67.76  2.258667  4.033333    NaN    NaN\n",
       "2018-02-01    27   142  0.56  79.52  2.945185  5.259259  79.52  79.52\n",
       "2018-03-01    30    99  0.56  55.44  1.848000  3.300000    NaN    NaN\n",
       "2018-04-01    29   137  0.56  76.72  2.645517  4.724138    NaN    NaN\n",
       "2018-05-01    30   114  0.56  63.84  2.128000  3.800000    NaN    NaN\n",
       "2018-06-01    29   118  0.56  66.08  2.278621  4.068966    NaN    NaN\n",
       "2018-07-01    30   124  0.56  69.44  2.314667  4.133333    NaN    NaN\n",
       "2018-08-01    30   139  0.56  77.84  2.594667  4.633333    NaN    NaN\n",
       "2018-09-01    29   142  0.56  79.52  2.742069  4.896552  79.52  79.52\n",
       "2018-10-01    30    98  0.56  54.88  1.829333  3.266667  54.88  54.88\n",
       "2018-11-01    29   109  0.56  61.04  2.104828  3.758621    NaN    NaN"
      ]
     },
     "execution_count": 37,
     "metadata": {},
     "output_type": "execute_result"
    }
   ],
   "source": [
    "df1"
   ]
  },
  {
   "cell_type": "markdown",
   "metadata": {},
   "source": [
    "# 可视化"
   ]
  },
  {
   "cell_type": "code",
   "execution_count": 64,
   "metadata": {},
   "outputs": [
    {
     "data": {
      "text/plain": [
       "<matplotlib.axes._subplots.AxesSubplot at 0xdf5cc30>"
      ]
     },
     "execution_count": 64,
     "metadata": {},
     "output_type": "execute_result"
    },
    {
     "data": {
      "image/png": "[encoded data removed]",
      "text/plain": [
       "<Figure size 432x288 with 1 Axes>"
      ]
     },
     "metadata": {},
     "output_type": "display_data"
    }
   ],
   "source": [
    "df1['金额'].plot(style='*-')#折线图"
   ]
  },
  {
   "cell_type": "code",
   "execution_count": 44,
   "metadata": {
    "scrolled": true
   },
   "outputs": [
    {
     "data": {
      "text/plain": [
       "<matplotlib.axes._subplots.AxesSubplot at 0x829ed70>"
      ]
     },
     "execution_count": 44,
     "metadata": {},
     "output_type": "execute_result"
    },
    {
     "data": {
      "image/png": "[encoded data removed]",
      "text/plain": [
       "<Figure size 432x288 with 1 Axes>"
      ]
     },
     "metadata": {},
     "output_type": "display_data"
    }
   ],
   "source": [
    "df1['金额'].plot.bar()#柱形图"
   ]
  },
  {
   "cell_type": "code",
   "execution_count": 55,
   "metadata": {
    "scrolled": true
   },
   "outputs": [
    {
     "data": {
      "text/plain": [
       "<matplotlib.axes._subplots.AxesSubplot at 0xd29bf70>"
      ]
     },
     "execution_count": 55,
     "metadata": {},
     "output_type": "execute_result"
    },
    {
     "data": {
      "image/png": "[encoded data removed]",
      "text/plain": [
       "<Figure size 432x288 with 1 Axes>"
      ]
     },
     "metadata": {},
     "output_type": "display_data"
    }
   ],
   "source": [
    "df1['金额'].plot.barh()#条形图"
   ]
  },
  {
   "cell_type": "markdown",
   "metadata": {},
   "source": [
    "* 下方图形——画着玩"
   ]
  },
  {
   "cell_type": "code",
   "execution_count": 56,
   "metadata": {
    "scrolled": false
   },
   "outputs": [
    {
     "data": {
      "text/plain": [
       "<matplotlib.axes._subplots.AxesSubplot at 0xc24b5f0>"
      ]
     },
     "execution_count": 56,
     "metadata": {},
     "output_type": "execute_result"
    },
    {
     "data": {
      "image/png": "[encoded data removed]",
      "text/plain": [
       "<Figure size 432x288 with 1 Axes>"
      ]
     },
     "metadata": {},
     "output_type": "display_data"
    }
   ],
   "source": [
    "df1.loc[:,['实际天数','金额']].plot.barh(stacked=True,alpha=0.3)# 堆积条形图"
   ]
  },
  {
   "cell_type": "code",
   "execution_count": 58,
   "metadata": {},
   "outputs": [
    {
     "data": {
      "text/plain": [
       "<matplotlib.axes._subplots.AxesSubplot at 0xd432c90>"
      ]
     },
     "execution_count": 58,
     "metadata": {},
     "output_type": "execute_result"
    },
    {
     "data": {
      "image/png": "[encoded data removed]",
      "text/plain": [
       "<Figure size 432x288 with 1 Axes>"
      ]
     },
     "metadata": {},
     "output_type": "display_data"
    }
   ],
   "source": [
    "df1.boxplot()"
   ]
  },
  {
   "cell_type": "code",
   "execution_count": null,
   "metadata": {},
   "outputs": [],
   "source": []
  }
 ],
 "metadata": {
  "kernelspec": {
   "display_name": "Python 3",
   "language": "python",
   "name": "python3"
  },
  "language_info": {
   "codemirror_mode": {
    "name": "ipython",
    "version": 3
   },
   "file_extension": ".py",
   "mimetype": "text/x-python",
   "name": "python",
   "nbconvert_exporter": "python",
   "pygments_lexer": "ipython3",
   "version": "3.6.5"
  }
 },
 "nbformat": 4,
 "nbformat_minor": 2
}
