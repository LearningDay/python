{
 "cells": [
  {
   "cell_type": "code",
   "execution_count": 1,
   "metadata": {},
   "outputs": [],
   "source": [
    "import numpy as np\n",
    "import pandas as pd"
   ]
  },
  {
   "cell_type": "markdown",
   "metadata": {},
   "source": [
    "* 读取当天数据"
   ]
  },
  {
   "cell_type": "code",
   "execution_count": 2,
   "metadata": {},
   "outputs": [],
   "source": [
    "# 本次明细\n",
    "df_today_info = pd.read_excel('】001订单明细.xlsx',dtype={'运单号':object,'受理时间':np.datetime64,'发件人手机':object,'发件人电话':object,\n",
    "                                                    '客户批次号':object,'收件人电话':object,'收件人手机':object,'收件区域':object})\n",
    "df_today_info.dropna(subset=['运单号'],inplace=True) # 去除空行\n",
    "df_today_info.rename(columns={'运单号':'订单号'},inplace=True) # 更改字段名\n",
    "df_today_info = df_today_info.sort_values('受理时间') # 升序\n",
    "df_today_info.drop_duplicates(subset=['订单号'],keep='first',inplace=True) # 取首个明细"
   ]
  },
  {
   "cell_type": "code",
   "execution_count": 3,
   "metadata": {},
   "outputs": [
    {
     "data": {
      "text/plain": [
       "Index(['订单号', '受理时间', '发件人地址', '发件人手机', '发件人电话', '发货商品明细', '客户批次号', '区域编号',\n",
       "       '修改站点', '修改人工号', '修改时间', '件数', '货物名称', '体积', '重量', '物品价值', '代收款',\n",
       "       '结算方式', '计费方式', '运费', '保险费', '包装费', '其他费用', '收货人', '收件区域', '收货地址',\n",
       "       '收件人电话', '收件人手机', '客户名称', '接货时间', '受理站点', '写入人工号', '数量', '补单员', '收件单位',\n",
       "       '寄件人', '寄件区域', '录单人', '分单站点', '包装类型'],\n",
       "      dtype='object')"
      ]
     },
     "execution_count": 3,
     "metadata": {},
     "output_type": "execute_result"
    }
   ],
   "source": [
    "df_today_info.columns"
   ]
  },
  {
   "cell_type": "code",
   "execution_count": 4,
   "metadata": {},
   "outputs": [],
   "source": [
    "# 凌顶提货\n",
    "df_today_凌顶提货 = pd.read_excel('】002凌顶提货.xlsx',dtype={'运单号':object,'入库时间':np.datetime64})\n",
    "df_today_凌顶提货.dropna(subset=['运单号'],inplace=True) # 去除空行\n",
    "df_today_凌顶提货.rename(columns={'运单号':'订单号'},inplace=True) # 更改字段名\n",
    "df_today_凌顶提货 = df_today_凌顶提货.sort_values('入库时间')# 按时间升序\n",
    "df_today_凌顶提货.drop_duplicates(subset=['订单号'],keep='first',inplace=True) # 取首次提货"
   ]
  },
  {
   "cell_type": "code",
   "execution_count": 5,
   "metadata": {},
   "outputs": [],
   "source": [
    "# 奈斯提货\n",
    "df_today_奈斯提货 = pd.read_excel('】003数码奈斯提货.xlsx',dtype={'运单号':object,'入库时间':np.datetime64})\n",
    "df_today_奈斯提货.dropna(subset=['运单号'],inplace=True)\n",
    "df_today_奈斯提货.rename(columns={'运单号':'订单号'},inplace=True)\n",
    "df_today_奈斯提货 = df_today_奈斯提货.sort_values('入库时间') # 升序\n",
    "df_today_奈斯提货.drop_duplicates(subset=['订单号'],keep='first',inplace=True)"
   ]
  },
  {
   "cell_type": "code",
   "execution_count": 6,
   "metadata": {},
   "outputs": [],
   "source": [
    "# 凌顶合包\n",
    "df_today_凌顶合包 = pd.read_excel('】004凌顶合包.xlsx',dtype={'运单号':object,'合包时间':np.datetime64,'修改时间':np.datetime64})\n",
    "df_today_凌顶合包.dropna(subset=['运单号'],inplace=True) # 去除空行\n",
    "df_today_凌顶合包.rename(columns={'运单号':'订单号'},inplace=True) # 更改字段名\n",
    "df_today_凌顶合包 = df_today_凌顶合包.sort_values('合包时间')\n",
    "df_today_凌顶合包.drop_duplicates(subset=['订单号'],keep='first',inplace=True) #"
   ]
  },
  {
   "cell_type": "code",
   "execution_count": 7,
   "metadata": {},
   "outputs": [
    {
     "data": {
      "text/html": [
       "<div>\n",
       "<style scoped>\n",
       "    .dataframe tbody tr th:only-of-type {\n",
       "        vertical-align: middle;\n",
       "    }\n",
       "\n",
       "    .dataframe tbody tr th {\n",
       "        vertical-align: top;\n",
       "    }\n",
       "\n",
       "    .dataframe thead th {\n",
       "        text-align: right;\n",
       "    }\n",
       "</style>\n",
       "<table border=\"1\" class=\"dataframe\">\n",
       "  <thead>\n",
       "    <tr style=\"text-align: right;\">\n",
       "      <th></th>\n",
       "      <th>订单号</th>\n",
       "      <th>合包号</th>\n",
       "      <th>合包人工号</th>\n",
       "      <th>合包单位</th>\n",
       "      <th>合包时间</th>\n",
       "      <th>修改人</th>\n",
       "      <th>分单站点</th>\n",
       "      <th>修改单位</th>\n",
       "      <th>修改时间</th>\n",
       "      <th>合包备注(可编辑)</th>\n",
       "    </tr>\n",
       "  </thead>\n",
       "  <tbody>\n",
       "  </tbody>\n",
       "</table>\n",
       "</div>"
      ],
      "text/plain": [
       "Empty DataFrame\n",
       "Columns: [订单号, 合包号, 合包人工号, 合包单位, 合包时间, 修改人, 分单站点, 修改单位, 修改时间, 合包备注(可编辑)]\n",
       "Index: []"
      ]
     },
     "execution_count": 7,
     "metadata": {},
     "output_type": "execute_result"
    }
   ],
   "source": [
    "df_today_奈斯合包 = pd.read_excel('】005数码奈斯合包.xlsx') # 奈斯一般不合包，故读取时未指定运单号字段的数据类型\n",
    "df_today_奈斯合包.dropna(subset=['运单号'],inplace=True)\n",
    "df_today_奈斯合包.rename(columns={'运单号':'订单号'},inplace=True)\n",
    "df_today_奈斯合包 = df_today_奈斯合包.sort_values('合包时间')\n",
    "df_today_奈斯合包.drop_duplicates(subset=['订单号'],keep='first',inplace=True)"
   ]
  },
  {
   "cell_type": "code",
   "execution_count": 8,
   "metadata": {},
   "outputs": [],
   "source": [
    "# 凌顶发件\n",
    "df_today_凌顶发件 = pd.read_excel('】006凌顶发件.xlsx',dtype={'配载编号':object,'运单号':object,'发件时间':np.datetime64,'车牌号':object,'发车时间':object,'班车属性':object,'班线名称':object})\n",
    "df_today_凌顶发件.dropna(subset=['运单号'],inplace=True) # 去空行\n",
    "df_today_凌顶发件.rename(columns={'运单号':'订单号'},inplace=True) # 重命名\n",
    "df_today_凌顶发件 = df_today_凌顶发件.sort_values('发件时间')\n",
    "df_凌顶本次发件 = df_today_凌顶发件.drop_duplicates(subset=['订单号','发件时间'],keep='first')\n",
    "# df_凌顶首次发件 = df_today_凌顶发件.drop_duplicates(subset=['订单号'],keep='first')\n",
    "# df_凌顶最近发件 = df_today_凌顶发件.drop_duplicates(subset=['订单号'],keep='last')"
   ]
  },
  {
   "cell_type": "code",
   "execution_count": 9,
   "metadata": {},
   "outputs": [],
   "source": [
    "df_today_奈斯发件 = pd.read_excel('】007数码奈斯发件.xlsx',dtype={'配载编号':object,'运单号':object,'发件时间':np.datetime64,'车牌号':object,'发车时间':object,'班车属性':object,'班线名称':object})\n",
    "df_today_奈斯发件.dropna(subset=['运单号'],inplace=True)\n",
    "df_today_奈斯发件.rename(columns={'运单号':'订单号'},inplace=True)\n",
    "df_today_奈斯发件 = df_today_奈斯发件.sort_values('发件时间')\n",
    "df_today_奈斯发件.drop_duplicates(subset=['订单号','发件时间'],keep='first',inplace=True)"
   ]
  },
  {
   "cell_type": "code",
   "execution_count": 10,
   "metadata": {},
   "outputs": [],
   "source": [
    "df_today_凌顶到件 = pd.read_excel('】008凌顶到件.xlsx',dtype={'运单号':object})\n",
    "df_today_凌顶到件.dropna(subset=['运单号'],inplace=True)\n",
    "df_today_凌顶到件.rename(columns={'运单号':'订单号'},inplace=True)\n",
    "df_today_凌顶到件 = df_today_凌顶到件.sort_values('扫描时间')\n",
    "df_today_凌顶到件.drop_duplicates(subset=['订单号','扫描时间'],keep='first',inplace=True) # 今日"
   ]
  },
  {
   "cell_type": "code",
   "execution_count": 11,
   "metadata": {},
   "outputs": [
    {
     "data": {
      "text/html": [
       "<div>\n",
       "<style scoped>\n",
       "    .dataframe tbody tr th:only-of-type {\n",
       "        vertical-align: middle;\n",
       "    }\n",
       "\n",
       "    .dataframe tbody tr th {\n",
       "        vertical-align: top;\n",
       "    }\n",
       "\n",
       "    .dataframe thead th {\n",
       "        text-align: right;\n",
       "    }\n",
       "</style>\n",
       "<table border=\"1\" class=\"dataframe\">\n",
       "  <thead>\n",
       "    <tr style=\"text-align: right;\">\n",
       "      <th></th>\n",
       "      <th>确认</th>\n",
       "      <th>订单号</th>\n",
       "      <th>扫描站点</th>\n",
       "      <th>扫描人</th>\n",
       "      <th>扫描时间</th>\n",
       "      <th>结算方式</th>\n",
       "      <th>到件类型</th>\n",
       "      <th>签收状态</th>\n",
       "      <th>客户名称</th>\n",
       "      <th>代收款</th>\n",
       "      <th>物品价值</th>\n",
       "    </tr>\n",
       "  </thead>\n",
       "  <tbody>\n",
       "  </tbody>\n",
       "</table>\n",
       "</div>"
      ],
      "text/plain": [
       "Empty DataFrame\n",
       "Columns: [确认, 订单号, 扫描站点, 扫描人, 扫描时间, 结算方式, 到件类型, 签收状态, 客户名称, 代收款, 物品价值]\n",
       "Index: []"
      ]
     },
     "execution_count": 11,
     "metadata": {},
     "output_type": "execute_result"
    }
   ],
   "source": [
    "df_today_自取到件 = pd.read_excel('】009自取到件.xlsx',dtype={'运单号':object})\n",
    "df_today_自取到件.dropna(subset=['运单号'],inplace=True)\n",
    "df_today_自取到件.rename(columns={'运单号':'订单号'},inplace=True)\n",
    "df_today_自取到件 = df_today_自取到件.sort_values('扫描时间')\n",
    "df_today_自取到件.drop_duplicates(subset=['订单号'],keep='last',inplace=True) # 最后到件"
   ]
  },
  {
   "cell_type": "code",
   "execution_count": 12,
   "metadata": {},
   "outputs": [],
   "source": [
    "df_today_自取派件 = pd.read_excel('】010自取派件.xlsx',dtype={'派送清单编号':object,'派件扫描时间':np.datetime64,'运单号':object,' 收件人手机':object})\n",
    "df_today_自取派件.dropna(subset=['运单号'],inplace=True)\n",
    "df_today_自取派件.rename(columns={'运单号':'订单号'},inplace=True)\n",
    "df_today_自取派件 = df_today_自取派件.sort_values('派件扫描时间')\n",
    "df_today_自取派件.drop_duplicates(subset=['订单号'],keep='last',inplace=True) # 最后派件"
   ]
  },
  {
   "cell_type": "code",
   "execution_count": 13,
   "metadata": {},
   "outputs": [],
   "source": [
    "df_today_自取签收 = pd.read_excel('】011自取签收.xlsx',dtype={'运单号':object,'签收时间':np.datetime64})\n",
    "df_today_自取签收.dropna(subset=['运单号'],inplace=True)\n",
    "df_today_自取签收.rename(columns={'运单号':'订单号'},inplace=True)\n",
    "df_today_自取签收 = df_today_自取签收.sort_values('签收时间')\n",
    "df_today_自取签收.drop_duplicates(subset=['订单号'],keep='first',inplace=True)"
   ]
  },
  {
   "cell_type": "code",
   "execution_count": 14,
   "metadata": {},
   "outputs": [],
   "source": [
    "df_today_自取问题件 = pd.read_excel('】012自取问题件.xlsx',dtype={'运单号':object,'运单受理时间':np.datetime64,'扫描时间':np.datetime64,'处理结果':object})\n",
    "df_today_自取问题件.drop(['订单号'],axis=1, inplace=True)\n",
    "df_today_自取问题件.dropna(subset=['运单号'],inplace=True)\n",
    "df_today_自取问题件.rename(columns={'运单号':'订单号'},inplace=True)\n",
    "df_today_自取问题件 = df_today_自取问题件.sort_values('扫描时间')\n",
    "df_today_自取问题件.drop_duplicates(subset=['订单号'],keep='first',inplace=True)"
   ]
  },
  {
   "cell_type": "code",
   "execution_count": 15,
   "metadata": {},
   "outputs": [],
   "source": [
    "df_today_顺丰 = pd.read_excel('】013顺丰.xlsx',dtype={'运单号':object,'录入时间':np.datetime64,'备注':object,'快递公司运单号':object})\n",
    "df_today_韵达 = pd.read_excel('】014韵达.xlsx',dtype={'运单号':object,'录入时间':np.datetime64,'备注':object,'快递公司运单号':object})\n",
    "df_today_中通 = pd.read_excel('】015中通.xlsx',dtype={'运单号':object,'录入时间':np.datetime64,'备注':object,'快递公司运单号':object})\n",
    "df_today_黑豹 = pd.read_excel('】016黑豹.xlsx',dtype={'运单号':object,'录入时间':np.datetime64,'备注':object,'快递公司运单号':object})\n",
    "\n",
    "df_today_顺丰.dropna(subset=['运单号'],inplace=True)\n",
    "df_today_韵达.dropna(subset=['运单号'],inplace=True)\n",
    "df_today_中通.dropna(subset=['运单号'],inplace=True)\n",
    "df_today_黑豹.dropna(subset=['运单号'],inplace=True)\n",
    "\n",
    "df_today_顺丰.rename(columns={'运单号':'订单号'},inplace=True)\n",
    "df_today_中通.rename(columns={'运单号':'订单号'},inplace=True)\n",
    "df_today_韵达.rename(columns={'运单号':'订单号'},inplace=True)\n",
    "df_today_黑豹.rename(columns={'运单号':'订单号'},inplace=True)\n",
    "\n",
    "df_today_顺丰 = df_today_顺丰.sort_values('录入时间')\n",
    "df_today_顺丰.drop_duplicates(subset=['订单号','快递公司运单号','快递公司名称'],keep='first',inplace=True)\n",
    "df_today_中通 = df_today_中通.sort_values('录入时间')\n",
    "df_today_中通.drop_duplicates(subset=['订单号','快递公司运单号','快递公司名称'],keep='first',inplace=True)\n",
    "df_today_韵达 = df_today_韵达.sort_values('录入时间')\n",
    "df_today_韵达.drop_duplicates(subset=['订单号','快递公司运单号','快递公司名称'],keep='first',inplace=True)\n",
    "df_today_黑豹 = df_today_黑豹.sort_values('录入时间')\n",
    "df_today_黑豹.drop_duplicates(subset=['订单号','快递公司运单号','快递公司名称'],keep='first',inplace=True)"
   ]
  },
  {
   "cell_type": "code",
   "execution_count": 16,
   "metadata": {},
   "outputs": [],
   "source": [
    "df_today_全部到件 = pd.read_excel('】017全部到件.xlsx',dtype={'运单号':object,'扫描时间':np.datetime64})\n",
    "df_today_全部到件.dropna(subset=['运单号'],inplace=True)\n",
    "df_today_全部到件.rename(columns={'运单号':'订单号'},inplace=True)\n",
    "df_today_全部到件 = df_today_全部到件.sort_values('扫描时间')\n",
    "df_today_全部到件.drop_duplicates(subset=['订单号','扫描时间','扫描站点'],keep='first',inplace=True)"
   ]
  },
  {
   "cell_type": "code",
   "execution_count": 17,
   "metadata": {},
   "outputs": [
    {
     "data": {
      "text/html": [
       "<div>\n",
       "<style scoped>\n",
       "    .dataframe tbody tr th:only-of-type {\n",
       "        vertical-align: middle;\n",
       "    }\n",
       "\n",
       "    .dataframe tbody tr th {\n",
       "        vertical-align: top;\n",
       "    }\n",
       "\n",
       "    .dataframe thead th {\n",
       "        text-align: right;\n",
       "    }\n",
       "</style>\n",
       "<table border=\"1\" class=\"dataframe\">\n",
       "  <thead>\n",
       "    <tr style=\"text-align: right;\">\n",
       "      <th></th>\n",
       "      <th>订单号</th>\n",
       "      <th>装车单位</th>\n",
       "      <th>装车时间</th>\n",
       "      <th>司机</th>\n",
       "      <th>车牌</th>\n",
       "      <th>司机手机</th>\n",
       "      <th>卸车单位</th>\n",
       "      <th>卸车时间</th>\n",
       "      <th>状态</th>\n",
       "    </tr>\n",
       "  </thead>\n",
       "  <tbody>\n",
       "  </tbody>\n",
       "</table>\n",
       "</div>"
      ],
      "text/plain": [
       "Empty DataFrame\n",
       "Columns: [订单号, 装车单位, 装车时间, 司机, 车牌, 司机手机, 卸车单位, 卸车时间, 状态]\n",
       "Index: []"
      ]
     },
     "execution_count": 17,
     "metadata": {},
     "output_type": "execute_result"
    }
   ],
   "source": [
    "df_today_班车装卸 = pd.read_excel('】018装车卸车.xlsx',dtype={'单号':'object'})\n",
    "df_today_班车装卸.dropna(subset=['单号'],inplace=True)\n",
    "df_today_班车装卸['单号'] = df_today_班车装卸['单号'].astype(np.int64).astype(str)\n",
    "df_today_班车装卸.rename(columns={'单号':'订单号'},inplace=True)\n",
    "df_today_班车装卸 = df_today_班车装卸.sort_values('装车时间')\n",
    "df_today_班车装卸.drop_duplicates(subset=['订单号'],keep='first',inplace=True)"
   ]
  },
  {
   "cell_type": "code",
   "execution_count": 18,
   "metadata": {},
   "outputs": [],
   "source": [
    "df_today_三方 = pd.concat([df_today_顺丰,df_today_韵达,df_today_中通,df_today_黑豹])\n",
    "df_today_三方 = df_today_三方.sort_values('录入时间')\n",
    "df_today_三方.drop_duplicates(subset=['订单号','快递公司运单号','快递公司名称'],keep='first',inplace=True)"
   ]
  },
  {
   "cell_type": "markdown",
   "metadata": {},
   "source": [
    "* 读取历史数据"
   ]
  },
  {
   "cell_type": "code",
   "execution_count": 19,
   "metadata": {},
   "outputs": [],
   "source": [
    "df_had_info = pd.read_excel('./历史/】001订单明细.xlsx',dtype={'订单号':object,'受理时间':np.datetime64,'发件人手机':object,'发件人电话':object,\n",
    "                                                    '客户批次号':object,'收件人电话':object,'收件人手机':object,'收件区域':object})\n",
    "df_had_info.dropna(subset=['订单号'],inplace=True)\n",
    "\n",
    "\n",
    "df_had_凌顶提货 = pd.read_excel('./历史/】002凌顶提货.xlsx',dtype={'订单号':object,'入库时间':np.datetime64})\n",
    "df_had_凌顶提货.dropna(subset=['订单号'],inplace=True)\n",
    "\n",
    "\n",
    "df_had_奈斯提货 = pd.read_excel('./历史/】003数码奈斯提货.xlsx',dtype={'订单号':object,'入库时间':np.datetime64})\n",
    "df_had_奈斯提货.dropna(subset=['订单号'],inplace=True)\n",
    "\n",
    "\n",
    "df_had_凌顶合包 = pd.read_excel('./历史/】004凌顶合包.xlsx',dtype={'订单号':object,'合包时间':np.datetime64,'修改时间':np.datetime64})\n",
    "df_had_凌顶合包.dropna(subset=['订单号'],inplace=True)\n",
    "\n",
    "\n",
    "df_had_奈斯合包 = pd.read_excel('./历史/】005数码奈斯合包.xlsx',dtype={'订单号':object})\n",
    "df_had_奈斯合包.dropna(subset=['订单号'],inplace=True)\n"
   ]
  },
  {
   "cell_type": "markdown",
   "metadata": {},
   "source": [
    "* 读取历史数据"
   ]
  },
  {
   "cell_type": "code",
   "execution_count": 20,
   "metadata": {},
   "outputs": [],
   "source": [
    "df_had_凌顶发件 = pd.read_excel('./历史/】006凌顶发件.xlsx',dtype={'配载编号':object,'订单号':object,'发件时间':np.datetime64,'车牌号':object,'发车时间':object,'班车属性':object,'班线名称':object})\n",
    "df_had_凌顶发件.dropna(subset=['订单号'],inplace=True)\n",
    "\n",
    "\n",
    "df_had_奈斯发件 = pd.read_excel('./历史/】007数码奈斯发件.xlsx',dtype={'配载编号':object,'订单号':object,'发件时间':np.datetime64,'车牌号':object,'发车时间':object,'班车属性':object,'班线名称':object})\n",
    "df_had_奈斯发件.dropna(subset=['订单号'],inplace=True)\n",
    "\n",
    "\n",
    "df_had_凌顶到件 = pd.read_excel('./历史/】008凌顶到件.xlsx',dtype={'订单号':object})\n",
    "df_had_凌顶到件.dropna(subset=['订单号'],inplace=True)\n",
    "\n",
    "\n",
    "df_had_自取到件 = pd.read_excel('./历史/】009自取到件.xlsx',dtype={'订单号':object})\n",
    "df_had_自取到件.dropna(subset=['订单号'],inplace=True)\n",
    "\n",
    "\n",
    "df_had_自取派件 = pd.read_excel('./历史/】010自取派件.xlsx',dtype={'派送清单编号':object,'派件扫描时间':np.datetime64,'订单号':object,' 收件人手机':object})\n",
    "df_had_自取派件.dropna(subset=['订单号'],inplace=True)\n",
    "\n",
    "\n",
    "df_had_自取签收 = pd.read_excel('./历史/】011自取签收.xlsx',dtype={'订单号':object,'签收时间':np.datetime64})\n",
    "df_had_自取签收.dropna(subset=['订单号'],inplace=True)\n",
    "\n",
    "\n",
    "df_had_自取问题件 = pd.read_excel('./历史/】012自取问题件.xlsx',dtype={'订单号':object,'运单受理时间':np.datetime64,'扫描时间':np.datetime64,'处理结果':object})\n",
    "df_had_自取问题件.dropna(subset=['订单号'],inplace=True)"
   ]
  },
  {
   "cell_type": "code",
   "execution_count": 21,
   "metadata": {},
   "outputs": [],
   "source": [
    "df_had_顺丰 = pd.read_excel('./历史/】013顺丰.xlsx',dtype={'订单号':object,'录入时间':np.datetime64,'备注':object,'快递公司运单号':object})\n",
    "df_had_顺丰.dropna(subset=['订单号'],inplace=True)\n",
    "\n",
    "\n",
    "df_had_韵达 = pd.read_excel('./历史/】014韵达.xlsx',dtype={'订单号':object,'录入时间':np.datetime64,'备注':object,'快递公司运单号':object})\n",
    "df_had_韵达.dropna(subset=['订单号'],inplace=True)\n",
    "\n",
    "\n",
    "df_had_中通 = pd.read_excel('./历史/】015中通.xlsx',dtype={'订单号':object,'录入时间':np.datetime64,'备注':object,'快递公司运单号':object})\n",
    "df_had_中通.dropna(subset=['订单号'],inplace=True)\n",
    "\n",
    "\n",
    "df_had_黑豹 = pd.read_excel('./历史/】016黑豹.xlsx',dtype={'订单号':object,'录入时间':np.datetime64,'备注':object,'快递公司运单号':object})\n",
    "df_had_黑豹.dropna(subset=['订单号'],inplace=True)\n",
    "\n",
    "\n",
    "df_had_全部到件 = pd.read_excel('./历史/】017全部到件.xlsx',dtype={'订单号':object})\n",
    "df_had_全部到件.dropna(subset=['订单号'],inplace=True)\n",
    "\n",
    "\n",
    "df_had_装卸 = pd.read_excel('./历史/】018装车卸车.xlsx',dtype={'订单号':object})\n",
    "df_had_装卸.dropna(subset=['订单号'],inplace=True)"
   ]
  },
  {
   "cell_type": "markdown",
   "metadata": {},
   "source": [
    "- 拼接"
   ]
  },
  {
   "cell_type": "code",
   "execution_count": 22,
   "metadata": {},
   "outputs": [],
   "source": [
    "data_info = pd.concat([df_today_info,df_had_info])\n",
    "data_凌顶提货 = pd.concat([df_today_凌顶提货,df_had_凌顶提货])\n",
    "data_奈斯提货 = pd.concat([df_today_奈斯提货,df_had_奈斯提货])\n",
    "data_凌顶合包 = pd.concat([df_today_凌顶合包,df_had_凌顶合包])\n",
    "data_奈斯合包 = pd.concat([df_today_奈斯合包,df_had_奈斯合包])\n",
    "data_凌顶发件 = pd.concat([df_today_凌顶发件,df_had_凌顶发件])\n",
    "data_奈斯发件 = pd.concat([df_today_奈斯发件,df_had_奈斯发件])\n",
    "data_凌顶到件 = pd.concat([df_today_凌顶到件,df_had_凌顶到件])\n",
    "data_自取到件 = pd.concat([df_today_自取到件,df_had_自取到件])\n",
    "data_自取派件 = pd.concat([df_today_自取派件,df_had_自取派件])\n",
    "data_自取签收 = pd.concat([df_today_自取签收,df_had_自取签收])\n",
    "data_自取问题件 = pd.concat([df_today_自取问题件,df_had_自取问题件])\n",
    "data_顺丰 = pd.concat([df_today_顺丰,df_had_顺丰])\n",
    "data_韵达 = pd.concat([df_today_韵达,df_had_韵达])\n",
    "data_中通 = pd.concat([df_today_中通,df_had_中通])\n",
    "data_黑豹 = pd.concat([df_today_黑豹,df_had_黑豹])\n",
    "data_全部到件 = pd.concat([df_today_全部到件,df_had_全部到件])\n",
    "data_装卸 = pd.concat([df_today_班车装卸,df_had_装卸])"
   ]
  },
  {
   "cell_type": "markdown",
   "metadata": {},
   "source": [
    "* 依据各自所需条件——去重"
   ]
  },
  {
   "cell_type": "code",
   "execution_count": 23,
   "metadata": {
    "scrolled": true
   },
   "outputs": [
    {
     "data": {
      "text/html": [
       "<div>\n",
       "<style scoped>\n",
       "    .dataframe tbody tr th:only-of-type {\n",
       "        vertical-align: middle;\n",
       "    }\n",
       "\n",
       "    .dataframe tbody tr th {\n",
       "        vertical-align: top;\n",
       "    }\n",
       "\n",
       "    .dataframe thead th {\n",
       "        text-align: right;\n",
       "    }\n",
       "</style>\n",
       "<table border=\"1\" class=\"dataframe\">\n",
       "  <thead>\n",
       "    <tr style=\"text-align: right;\">\n",
       "      <th></th>\n",
       "      <th>订单号</th>\n",
       "      <th>装车单位</th>\n",
       "      <th>装车时间</th>\n",
       "      <th>司机</th>\n",
       "      <th>车牌</th>\n",
       "      <th>司机手机</th>\n",
       "      <th>卸车单位</th>\n",
       "      <th>卸车时间</th>\n",
       "      <th>状态</th>\n",
       "    </tr>\n",
       "  </thead>\n",
       "  <tbody>\n",
       "  </tbody>\n",
       "</table>\n",
       "</div>"
      ],
      "text/plain": [
       "Empty DataFrame\n",
       "Columns: [订单号, 装车单位, 装车时间, 司机, 车牌, 司机手机, 卸车单位, 卸车时间, 状态]\n",
       "Index: []"
      ]
     },
     "execution_count": 23,
     "metadata": {},
     "output_type": "execute_result"
    }
   ],
   "source": [
    "data_info.drop_duplicates(subset=['订单号'],keep='first',inplace=True)\n",
    "data_凌顶提货.sort_values('入库时间',inplace=True)\n",
    "data_奈斯提货.sort_values('入库时间',inplace=True)\n",
    "data_凌顶合包.sort_values('合包时间',inplace=True)\n",
    "data_奈斯合包.sort_values('合包时间',inplace=True)\n",
    "data_凌顶提货.drop_duplicates(subset=['订单号'],keep='first',inplace=True)\n",
    "data_奈斯提货.drop_duplicates(subset=['订单号'],keep='first',inplace=True)\n",
    "data_凌顶合包.drop_duplicates(subset=['订单号'],keep='first',inplace=True)\n",
    "data_奈斯合包.drop_duplicates(subset=['订单号'],keep='first',inplace=True)\n",
    "\n",
    "\n",
    "data_凌顶发件.sort_values('发件时间',inplace=True)\n",
    "data_奈斯发件.sort_values('发件时间',inplace=True)\n",
    "data_凌顶到件.sort_values('扫描时间',inplace=True)\n",
    "data_自取到件.sort_values('扫描时间',inplace=True)\n",
    "data_自取派件.sort_values('派件扫描时间',inplace=True)\n",
    "data_自取签收.sort_values('签收时间',inplace=True)\n",
    "data_凌顶发件.drop_duplicates(subset=['订单号','发件时间'],keep='first',inplace=True)\n",
    "data_奈斯发件.drop_duplicates(subset=['订单号','发件时间'],keep='first',inplace=True)\n",
    "data_凌顶到件.drop_duplicates(subset=['订单号','扫描时间'],keep='first',inplace=True)\n",
    "data_自取到件.drop_duplicates(subset=['订单号'],keep='last',inplace=True)\n",
    "data_自取派件.drop_duplicates(subset=['订单号'],keep='last',inplace=True)\n",
    "data_自取签收.drop_duplicates(subset=['订单号'],keep='first',inplace=True)\n",
    "data_自取问题件.drop_duplicates(subset=['订单号'],keep='first',inplace=True)\n",
    "data_顺丰.sort_values('录入时间',inplace=True)\n",
    "data_韵达.sort_values('录入时间',inplace=True)\n",
    "data_中通.sort_values('录入时间',inplace=True)\n",
    "data_黑豹.sort_values('录入时间',inplace=True)\n",
    "data_顺丰.drop_duplicates(subset=['订单号','快递公司运单号','快递公司名称'],keep='first',inplace=True)\n",
    "data_韵达.drop_duplicates(subset=['订单号','快递公司运单号','快递公司名称'],keep='first',inplace=True)\n",
    "data_中通.drop_duplicates(subset=['订单号','快递公司运单号','快递公司名称'],keep='first',inplace=True)\n",
    "data_黑豹.drop_duplicates(subset=['订单号','快递公司运单号','快递公司名称'],keep='first',inplace=True)\n",
    "data_全部到件.drop_duplicates(subset=['订单号','扫描站点','扫描时间'],keep='first',inplace=True)\n",
    "data_装卸.drop_duplicates(subset=['订单号'],keep='first',inplace=True)"
   ]
  },
  {
   "cell_type": "markdown",
   "metadata": {},
   "source": [
    "* 导出"
   ]
  },
  {
   "cell_type": "code",
   "execution_count": 24,
   "metadata": {},
   "outputs": [],
   "source": [
    "data_info.to_excel('./》01汇出/】001订单明细.xlsx',index=False,encoding='gbk') # 明细\n",
    "data_凌顶提货.to_excel('./》01汇出/】002凌顶提货.xlsx',index=False,encoding='gbk') # 明细\n",
    "data_奈斯提货.to_excel('./》01汇出/】003数码奈斯提货.xlsx',index=False,encoding='gbk') # 明细\n",
    "data_凌顶合包.to_excel('./》01汇出/】004凌顶合包.xlsx',index=False,encoding='gbk') # 明细\n",
    "data_奈斯合包.to_excel('./》01汇出/】005数码奈斯合包.xlsx',index=False,encoding='gbk') # 明细\n",
    "data_凌顶发件.to_excel('./》01汇出/】006凌顶发件.xlsx',index=False,encoding='gbk') # 明细\n",
    "data_奈斯发件.to_excel('./》01汇出/】007数码奈斯发件.xlsx',index=False,encoding='gbk') # 明细\n",
    "data_凌顶到件.to_excel('./》01汇出/】008凌顶到件.xlsx',index=False,encoding='gbk') # 明细\n",
    "data_自取到件.to_excel('./》01汇出/】009自取到件.xlsx',index=False,encoding='gbk') # 明细\n",
    "data_自取派件.to_excel('./》01汇出/】010自取派件.xlsx',index=False,encoding='gbk') # 明细\n",
    "data_自取签收.to_excel('./》01汇出/】011自取签收.xlsx',index=False,encoding='gbk') # 明细\n",
    "data_自取问题件.to_excel('./》01汇出/】012自取问题件.xlsx',index=False,encoding='gbk') # 明细\n",
    "data_顺丰.to_excel('./》01汇出/】013顺丰.xlsx',index=False,encoding='gbk') # 明细\n",
    "data_韵达.to_excel('./》01汇出/】014韵达.xlsx',index=False,encoding='gbk') # 明细\n",
    "data_中通.to_excel('./》01汇出/】015中通.xlsx',index=False,encoding='gbk') # 明细\n",
    "data_黑豹.to_excel('./》01汇出/】016黑豹.xlsx',index=False,encoding='gbk') # 明细\n",
    "data_全部到件.to_excel('./》01汇出/】017全部到件.xlsx',index=False,encoding='gbk') # 明细\n",
    "data_装卸.to_excel('./》01汇出/】018装车卸车.xlsx',index=False,encoding='gbk') # 明细"
   ]
  },
  {
   "cell_type": "markdown",
   "metadata": {},
   "source": [
    "# 台账"
   ]
  },
  {
   "cell_type": "code",
   "execution_count": 25,
   "metadata": {},
   "outputs": [],
   "source": [
    "df_today_凌顶发件.sort_values('发件时间',inplace=True)# 升序\n",
    "df_today_凌顶发件.drop_duplicates('订单号',keep='first',inplace=True)# 取第一次发件"
   ]
  },
  {
   "cell_type": "code",
   "execution_count": 26,
   "metadata": {},
   "outputs": [],
   "source": [
    "# 今日数码到件\n",
    "df_today_今日数码到件 = df_today_凌顶到件.query('客户名称==\"名片之家数码产品\"').copy()\n",
    "df_today_今日数码到件.sort_values('扫描时间',inplace=True)\n",
    "df_today_今日数码到件.drop_duplicates('订单号',keep='first',inplace=True)\n",
    "df_today_今日数码到件['今日数码到仓']=\"1\""
   ]
  },
  {
   "cell_type": "code",
   "execution_count": 27,
   "metadata": {},
   "outputs": [],
   "source": [
    "df_today_今日数码到件.rename(columns={'扫描人':'今日数码到仓扫描人',\"扫描时间\":\"今日数码到仓时间\"},inplace=True)"
   ]
  },
  {
   "cell_type": "code",
   "execution_count": 28,
   "metadata": {},
   "outputs": [],
   "source": [
    "# 所有数码到件\n",
    "df_数码到件 = data_凌顶到件.query('客户名称==\"名片之家数码产品\"').copy()\n",
    "df_数码到件.sort_values('扫描时间',inplace=True)\n",
    "df_数码到件.drop_duplicates('订单号',keep='first',inplace=True)\n",
    "df_数码到件['所有数码到仓']=\"1\""
   ]
  },
  {
   "cell_type": "code",
   "execution_count": 29,
   "metadata": {},
   "outputs": [],
   "source": [
    "df_数码到件.rename(columns={'扫描人':'所有数码到仓扫描人',\"扫描时间\":\"所有数码到仓时间\"},inplace=True)"
   ]
  },
  {
   "cell_type": "code",
   "execution_count": null,
   "metadata": {},
   "outputs": [],
   "source": []
  },
  {
   "cell_type": "markdown",
   "metadata": {},
   "source": []
  },
  {
   "cell_type": "code",
   "execution_count": 30,
   "metadata": {},
   "outputs": [],
   "source": [
    "data_三方 = pd.concat([data_顺丰,data_韵达,data_中通,data_黑豹])\n",
    "data_三方 = data_三方.sort_values('录入时间')\n",
    "data_三方.drop_duplicates(subset=['订单号'],keep='first',inplace=True)\n",
    "\n",
    "data_三方 = data_三方[['订单号','快递公司运单号','快递公司名称','录入时间','录入人','录入站点']]"
   ]
  },
  {
   "cell_type": "markdown",
   "metadata": {},
   "source": [
    "**关联**"
   ]
  },
  {
   "cell_type": "code",
   "execution_count": 31,
   "metadata": {},
   "outputs": [],
   "source": [
    "data_网点到件 = data_全部到件.query('扫描站点 != \"总公司\"&扫描站点 != \"凌顶中心客服办\"&扫描站点 != \"凌顶揽众分拨中心\"')\n",
    "data_网点到件 = data_网点到件.sort_values(by=['扫描时间'])\n",
    "data_网点到件.drop_duplicates(subset=['订单号'],keep='last',inplace=True)\n",
    "data_网点到件 = data_网点到件[['订单号','扫描站点','扫描人','扫描时间']]"
   ]
  },
  {
   "cell_type": "code",
   "execution_count": 32,
   "metadata": {},
   "outputs": [],
   "source": [
    "发件= data_凌顶发件.sort_values('发件时间')\n",
    "发件.drop_duplicates('订单号',keep='first',inplace=True)"
   ]
  },
  {
   "cell_type": "code",
   "execution_count": null,
   "metadata": {},
   "outputs": [],
   "source": []
  },
  {
   "cell_type": "code",
   "execution_count": 33,
   "metadata": {},
   "outputs": [],
   "source": [
    "datas = data_info[['订单号','受理时间','货物名称','物品价值','代收款',\n",
    "         '收货人','收件区域','收货地址','收件人电话','收件人手机',\n",
    "        '数量','补单员','收件单位','录单人','受理站点','分单站点','客户名称','重量','件数']]\\\n",
    ".merge(data_凌顶提货[['订单号','入库时间','入库操作人','入库操作站点']],on='订单号',how='left')\\\n",
    ".merge(data_凌顶合包[['订单号','合包号','合包人工号','合包单位','合包时间']],on='订单号',how='left')\\\n",
    ".merge(发件[['配载编号','订单号','发件站点','发件操作人','发件时间','接收站点','车牌号','班线名称']],how='left')\\\n",
    ".merge(data_网点到件,on='订单号',how='left')\\\n",
    ".merge(data_三方,on='订单号',how='left')\\\n",
    ".merge(df_today_今日数码到件[['订单号','今日数码到仓','今日数码到仓扫描人',\"今日数码到仓时间\"]],on='订单号',how='left')\\\n",
    ".merge(df_数码到件[['订单号','所有数码到仓','所有数码到仓扫描人','所有数码到仓时间']],on='订单号',how='left')"
   ]
  },
  {
   "cell_type": "code",
   "execution_count": 34,
   "metadata": {},
   "outputs": [],
   "source": [
    "datas['收件区域']  = datas['收件区域'].fillna('0')\n",
    "datas['收件地址'] = datas['收件区域'].replace('0','').str.cat(datas['收货地址'])"
   ]
  },
  {
   "cell_type": "markdown",
   "metadata": {},
   "source": []
  },
  {
   "cell_type": "code",
   "execution_count": 35,
   "metadata": {},
   "outputs": [
    {
     "data": {
      "text/plain": [
       "(121273, 48)"
      ]
     },
     "execution_count": 35,
     "metadata": {},
     "output_type": "execute_result"
    }
   ],
   "source": [
    "datas.shape"
   ]
  },
  {
   "cell_type": "code",
   "execution_count": 36,
   "metadata": {},
   "outputs": [
    {
     "data": {
      "text/plain": [
       "(121273, 48)"
      ]
     },
     "execution_count": 36,
     "metadata": {},
     "output_type": "execute_result"
    }
   ],
   "source": [
    "datas.drop_duplicates(subset=['订单号']).shape"
   ]
  },
  {
   "cell_type": "code",
   "execution_count": 37,
   "metadata": {},
   "outputs": [],
   "source": [
    "datas_all = datas.rename(columns={'货物名称':'产品名称','客户名称':'寄件人','物品价值':'声明价值',\n",
    "                     '代收款':'代收货款','收件人手机':'电话','分单站点':'收件网点',\n",
    "                      '受理时间':'录单时间','入库时间':'提货时间','入库操作人':'提货人',\n",
    "                     '入库站点':'提货网点','合包人工号':'合包人','合包单位':'合包站点',\n",
    "                     '发件操作人':'发件人','接收站点':'发件网点','扫描站点':'到件网点',\n",
    "                     '扫描时间':'到件时间','录入时间':'三方单号录入时间','录入人':'三方单号录入人',\n",
    "                     '录入站点':'三方单号录入网点','收货人':'收件人','入库操作站点':'提货网点',\n",
    "                                 '快递公司运单号':'三方运单号','快递公司名称':'三方运输'})"
   ]
  },
  {
   "cell_type": "code",
   "execution_count": 38,
   "metadata": {},
   "outputs": [],
   "source": [
    "# 统一寄件人\n",
    "datas_all['寄件人'] = datas_all['寄件人'].replace('ERP','郑州名片之家电子商务有限公司')\n",
    "datas_all['寄件人'] = datas_all['寄件人'].replace('名片之家平台','测试订单')"
   ]
  },
  {
   "cell_type": "markdown",
   "metadata": {},
   "source": [
    "datas_all = datas_all[['订单号','产品名称','寄件人','声明价值','代收货款','收件人','电话','收件地址',\n",
    "          '收件网点','重量','件数','录单时间','录单人','受理站点','提货时间','提货人','提货网点',\n",
    "          '合包号','合包人','合包时间','发件时间','发件人','发件网点','车牌号','班线名称',\n",
    "          '到件时间','到件网点','三方运输','三方运单号','三方单号录入时间','三方单号录入人','三方单号录入网点',\n",
    "          '今日数码到仓','今日数码到仓扫描人','今日数码到仓时间','所有数码到仓扫描人','所有数码到仓时间','所有数码到仓']]"
   ]
  },
  {
   "cell_type": "markdown",
   "metadata": {},
   "source": [
    "* 奈斯"
   ]
  },
  {
   "cell_type": "code",
   "execution_count": 39,
   "metadata": {},
   "outputs": [],
   "source": [
    "datas_拼接奈斯 = datas_all.merge(data_奈斯提货[['订单号','入库时间']].rename(columns={'入库时间':\"奈斯入库时间\"}).sort_values('奈斯入库时间').drop_duplicates(subset=['订单号'],keep='first'),how='left',on='订单号')\\\n",
    ".merge(data_奈斯合包[['订单号','合包时间']].rename(columns={'合包时间':'奈斯合包时间'}).sort_values('奈斯合包时间').drop_duplicates(subset=['订单号'],keep='first'),on='订单号',how='left')\\\n",
    ".merge(data_奈斯发件[['订单号','发件时间']].rename(columns={'发件时间':'奈斯发件时间'}).sort_values('奈斯发件时间').drop_duplicates(subset=['订单号'],keep='first'),on='订单号',how='left')"
   ]
  },
  {
   "cell_type": "markdown",
   "metadata": {},
   "source": [
    "* 导出"
   ]
  },
  {
   "cell_type": "code",
   "execution_count": 40,
   "metadata": {
    "scrolled": true
   },
   "outputs": [],
   "source": [
    "sub = pd.read_excel('../渠道排序.xlsx')\n",
    "sub2 = pd.read_excel('【】判断.xlsx')\n",
    "sub3 = pd.read_excel('../备注.xlsx',dtype={'订单号':object})"
   ]
  },
  {
   "cell_type": "code",
   "execution_count": 41,
   "metadata": {},
   "outputs": [],
   "source": [
    "datas_拼接奈斯 = datas_拼接奈斯.merge(sub3,on='订单号',how='left')"
   ]
  },
  {
   "cell_type": "code",
   "execution_count": 42,
   "metadata": {},
   "outputs": [
    {
     "data": {
      "text/plain": [
       "Index(['订单号', '录单时间', '产品名称', '声明价值', '代收货款', '收件人', '收件区域', '收货地址', '收件人电话',\n",
       "       '电话', '数量', '补单员', '收件单位', '录单人', '受理站点', '收件网点', '寄件人', '重量', '件数',\n",
       "       '提货时间', '提货人', '提货网点', '合包号', '合包人', '合包站点', '合包时间', '配载编号', '发件站点',\n",
       "       '发件人', '发件时间', '发件网点', '车牌号', '班线名称', '到件网点', '扫描人', '到件时间', '三方运单号',\n",
       "       '三方运输', '三方单号录入时间', '三方单号录入人', '三方单号录入网点', '今日数码到仓', '今日数码到仓扫描人',\n",
       "       '今日数码到仓时间', '所有数码到仓', '所有数码到仓扫描人', '所有数码到仓时间', '收件地址', '奈斯入库时间',\n",
       "       '奈斯合包时间', '奈斯发件时间', '备注'],\n",
       "      dtype='object')"
      ]
     },
     "execution_count": 42,
     "metadata": {},
     "output_type": "execute_result"
    }
   ],
   "source": [
    "datas_拼接奈斯.columns"
   ]
  },
  {
   "cell_type": "code",
   "execution_count": 43,
   "metadata": {},
   "outputs": [],
   "source": [
    "datas_拼接奈斯['到件网点'].fillna('为空',inplace=True)\n",
    "datas_拼接奈斯['三方运输'].fillna('为空',inplace=True)\n",
    "datas_拼接奈斯['是否到件'] = datas_拼接奈斯['到件网点'].apply(lambda x:0 if x== '为空' else 1)\n",
    "datas_拼接奈斯['是否三方'] = datas_拼接奈斯['三方运输'].apply(lambda x:0 if x== '为空' else 1)\n",
    "datas_拼接奈斯['提货人'].fillna('为空',inplace=True)\n",
    "datas_拼接奈斯['合包人'].fillna('为空',inplace=True)\n",
    "datas_拼接奈斯['发件人'].fillna('为空',inplace=True)\n",
    "datas_拼接奈斯['是否入库'] = datas_拼接奈斯['提货人'].apply(lambda x:0 if x== '为空' else 1)\n",
    "datas_拼接奈斯['是否发件'] = datas_拼接奈斯['发件人'].apply(lambda x:0 if x== '为空' else 1)\n",
    "datas_拼接奈斯['是否合包'] = datas_拼接奈斯['合包人'].apply(lambda x:0 if x== '为空' else 1)"
   ]
  },
  {
   "cell_type": "code",
   "execution_count": 44,
   "metadata": {},
   "outputs": [],
   "source": [
    "def arr_func(x):\n",
    "    level = x.apply(lambda x: '1' if x == 1 else '0')\n",
    "    label = level['是否入库'] + level['是否合包'] + level['是否发件'] + level['是否到件'] + level['是否三方']\n",
    "    d = {\n",
    "        '00000':'未揽',\n",
    "        '00001':'成品仓0操作',\n",
    "        '00010':'成品仓0操作',\n",
    "        '00011':'成品仓0操作',\n",
    "        '00100':'漏操作',\n",
    "        '00101':'漏操作',\n",
    "        '00110':'漏操作',\n",
    "        '00111':'漏操作',\n",
    "        '01000':'漏操作',\n",
    "        '01001':'漏操作',\n",
    "        '01010':'漏操作',\n",
    "        '01011':'漏操作',\n",
    "        '01100':'漏操作',\n",
    "        '01101':'漏操作',\n",
    "        '01110':'漏操作',\n",
    "        '01111':'漏操作',\n",
    "        '10000':'漏操作',\n",
    "        '10001':'漏操作',\n",
    "        '10010':'漏操作',\n",
    "        '10011':'漏操作',\n",
    "        '10100':'漏操作',\n",
    "        '10101':'漏操作',\n",
    "        '10110':'漏操作',\n",
    "        '10101':'漏操作',\n",
    "        '10110':'漏操作',\n",
    "        '10111':'漏操作',\n",
    "        '11000':'漏操作',\n",
    "        '11001':'漏操作',\n",
    "        '11010':'漏操作',\n",
    "        '11011':'漏操作',\n",
    "        '11100':'漏操作',\n",
    "        '11101':'漏操作',\n",
    "        '11110':'漏操作',\n",
    "        '11111':'提合发到三'\n",
    "    }\n",
    "    result = d[label]\n",
    "    return result"
   ]
  },
  {
   "cell_type": "code",
   "execution_count": 45,
   "metadata": {},
   "outputs": [],
   "source": [
    "datas_拼接奈斯['是否0操作'] = datas_拼接奈斯[['是否入库','是否合包','是否发件','是否到件','是否三方']].apply(arr_func,axis=1)"
   ]
  },
  {
   "cell_type": "markdown",
   "metadata": {},
   "source": [
    "* 今日凌顶操作： 凌顶当日发件、数码到件、提货、合包、发件"
   ]
  },
  {
   "cell_type": "code",
   "execution_count": 46,
   "metadata": {},
   "outputs": [],
   "source": [
    "# 今日凌顶操作 凌顶当日发件、数码到件、提货、合包、发件\n",
    "今日凌顶操作 = df_today_凌顶提货[['订单号']]\\\n",
    ".merge(df_today_凌顶合包[['订单号']],on='订单号',how='outer')\\\n",
    ".merge(df_today_凌顶发件[['订单号']],on='订单号',how='outer')\\\n",
    ".merge(df_today_今日数码到件[['订单号']],on='订单号',how='outer')\\\n",
    ".drop_duplicates(subset=['订单号'])\n",
    "今日凌顶操作['今日凌顶操作'] = '1'"
   ]
  },
  {
   "cell_type": "code",
   "execution_count": 47,
   "metadata": {},
   "outputs": [],
   "source": [
    "data_三方拼接 = datas_拼接奈斯.merge(今日凌顶操作,on='订单号',how='left')\n",
    "df3 = data_三方拼接.merge(sub,on='收件网点',how='left')"
   ]
  },
  {
   "cell_type": "code",
   "execution_count": 48,
   "metadata": {},
   "outputs": [],
   "source": [
    "bins= [-1,1,2,3,20,50,90000]"
   ]
  },
  {
   "cell_type": "code",
   "execution_count": 49,
   "metadata": {},
   "outputs": [],
   "source": [
    "韵达 = [-1,20,50,100,300,500,800,9999999]"
   ]
  },
  {
   "cell_type": "code",
   "execution_count": 50,
   "metadata": {},
   "outputs": [],
   "source": [
    "df3['中通分箱'] = pd.cut(df3['重量'],bins,labels=['1kg以内','2kg以内','3kg以内','20kg以内','50kg以内','50kg以上'])"
   ]
  },
  {
   "cell_type": "code",
   "execution_count": 51,
   "metadata": {},
   "outputs": [],
   "source": [
    "df3['韵达分箱'] = pd.cut(df3['重量'],韵达,labels=['20kg以内','50kg以内','100kg以内','300kg以内','500kg以内','800kg以内','800kg以上'])"
   ]
  },
  {
   "cell_type": "markdown",
   "metadata": {},
   "source": [
    "* 判断重复发件、合包、提货"
   ]
  },
  {
   "cell_type": "code",
   "execution_count": 52,
   "metadata": {},
   "outputs": [],
   "source": [
    "df_today_凌顶发件['今日发件']=\"1\"\n",
    "df_today_凌顶提货['今日提货']=\"1\"\n",
    "df_today_凌顶合包['今日合包'] =\"1\"\n",
    "df_today_凌顶发件.rename(columns={'发件时间':'今日发件时间'},inplace=True)\n",
    "df_today_凌顶提货.rename(columns={'入库时间':'今日入库时间'},inplace=True)\n",
    "df_today_凌顶合包.rename(columns={'合包时间':'今日合包时间'},inplace=True)"
   ]
  },
  {
   "cell_type": "code",
   "execution_count": 53,
   "metadata": {},
   "outputs": [
    {
     "data": {
      "text/plain": [
       "Index(['订单号', '合包号', '合包人工号', '合包单位', '今日合包时间', '修改人', '分单站点', '修改单位', '修改时间',\n",
       "       '合包备注(可编辑)', '今日合包'],\n",
       "      dtype='object')"
      ]
     },
     "execution_count": 53,
     "metadata": {},
     "output_type": "execute_result"
    }
   ],
   "source": [
    "df_today_凌顶合包.columns"
   ]
  },
  {
   "cell_type": "code",
   "execution_count": 54,
   "metadata": {},
   "outputs": [],
   "source": [
    "df3_all = df3.merge(df_today_凌顶提货[['订单号','今日提货','今日入库时间']],how='outer')\\\n",
    ".merge(df_today_凌顶合包[['订单号','今日合包','今日合包时间']],how='outer')\\\n",
    ".merge(df_today_凌顶发件[['订单号','今日发件','今日发件时间']],how='outer')"
   ]
  },
  {
   "cell_type": "code",
   "execution_count": 55,
   "metadata": {},
   "outputs": [],
   "source": [
    "# 判断为首次操作\n",
    "def func(a,b):\n",
    "    if a == b:\n",
    "        return \"1\"\n",
    "    else:\n",
    "        return \"0\""
   ]
  },
  {
   "cell_type": "code",
   "execution_count": 56,
   "metadata": {},
   "outputs": [],
   "source": [
    "df3_all['是否首次入库'] = df3_all.apply(lambda x:func(x['今日入库时间'],x['提货时间']),axis=1)"
   ]
  },
  {
   "cell_type": "code",
   "execution_count": 57,
   "metadata": {},
   "outputs": [],
   "source": [
    "df3_all['是否首次合包'] = df3_all.apply(lambda x:func(x['今日合包时间'],x['合包时间']),axis=1)"
   ]
  },
  {
   "cell_type": "code",
   "execution_count": 58,
   "metadata": {},
   "outputs": [],
   "source": [
    "df3_all['是否首次发件'] = df3_all.apply(lambda x:func(x['今日发件时间'],x['发件时间']),axis=1)"
   ]
  },
  {
   "cell_type": "code",
   "execution_count": 59,
   "metadata": {},
   "outputs": [
    {
     "data": {
      "text/html": [
       "<div>\n",
       "<style scoped>\n",
       "    .dataframe tbody tr th:only-of-type {\n",
       "        vertical-align: middle;\n",
       "    }\n",
       "\n",
       "    .dataframe tbody tr th {\n",
       "        vertical-align: top;\n",
       "    }\n",
       "\n",
       "    .dataframe thead th {\n",
       "        text-align: right;\n",
       "    }\n",
       "</style>\n",
       "<table border=\"1\" class=\"dataframe\">\n",
       "  <thead>\n",
       "    <tr style=\"text-align: right;\">\n",
       "      <th></th>\n",
       "      <th>今日发件时间</th>\n",
       "      <th>发件时间</th>\n",
       "      <th>是否首次发件</th>\n",
       "    </tr>\n",
       "  </thead>\n",
       "  <tbody>\n",
       "    <tr>\n",
       "      <th>26750</th>\n",
       "      <td>NaT</td>\n",
       "      <td>2020-04-13 09:15:29</td>\n",
       "      <td>0</td>\n",
       "    </tr>\n",
       "  </tbody>\n",
       "</table>\n",
       "</div>"
      ],
      "text/plain": [
       "      今日发件时间                发件时间 是否首次发件\n",
       "26750    NaT 2020-04-13 09:15:29      0"
      ]
     },
     "execution_count": 59,
     "metadata": {},
     "output_type": "execute_result"
    }
   ],
   "source": [
    "df3_all.loc[df3_all['订单号']=='100494671001'][['今日发件时间','发件时间','是否首次发件']]"
   ]
  },
  {
   "cell_type": "code",
   "execution_count": 60,
   "metadata": {},
   "outputs": [],
   "source": [
    "df3_all['是否首次数码到件'] = df3_all.apply(lambda x:func(x['今日数码到仓时间'],x['所有数码到仓时间']),axis=1)"
   ]
  },
  {
   "cell_type": "code",
   "execution_count": 61,
   "metadata": {},
   "outputs": [
    {
     "data": {
      "text/plain": [
       "Index(['订单号', '录单时间', '产品名称', '声明价值', '代收货款', '收件人', '收件区域', '收货地址', '收件人电话',\n",
       "       '电话', '数量', '补单员', '收件单位', '录单人', '受理站点', '收件网点', '寄件人', '重量', '件数',\n",
       "       '提货时间', '提货人', '提货网点', '合包号', '合包人', '合包站点', '合包时间', '配载编号', '发件站点',\n",
       "       '发件人', '发件时间', '发件网点', '车牌号', '班线名称', '到件网点', '扫描人', '到件时间', '三方运单号',\n",
       "       '三方运输', '三方单号录入时间', '三方单号录入人', '三方单号录入网点', '今日数码到仓', '今日数码到仓扫描人',\n",
       "       '今日数码到仓时间', '所有数码到仓', '所有数码到仓扫描人', '所有数码到仓时间', '收件地址', '奈斯入库时间',\n",
       "       '奈斯合包时间', '奈斯发件时间', '备注', '是否到件', '是否三方', '是否入库', '是否发件', '是否合包',\n",
       "       '是否0操作', '今日凌顶操作', '网点排序', '渠道', '专线排序', '物流', '物流排序', '所在市', '市区排序',\n",
       "       '省份', '省份排序', '发货', '中通分箱', '韵达分箱', '今日提货', '今日入库时间', '今日合包', '今日合包时间',\n",
       "       '今日发件', '今日发件时间', '是否首次入库', '是否首次合包', '是否首次发件', '是否首次数码到件'],\n",
       "      dtype='object')"
      ]
     },
     "execution_count": 61,
     "metadata": {},
     "output_type": "execute_result"
    }
   ],
   "source": [
    "df3_all.columns"
   ]
  },
  {
   "cell_type": "code",
   "execution_count": 62,
   "metadata": {},
   "outputs": [],
   "source": [
    "datas_all = df3_all[['订单号','产品名称','寄件人','声明价值','代收货款','收件人','电话','收件地址','收件网点','重量','件数','录单时间','录单人','受理站点',\n",
    "        '提货人','提货网点','合包号','合包人','发件站点','发件人','发件网点','到件网点',\n",
    "         '三方运输','三方运单号','三方单号录入时间','三方单号录入人','三方单号录入网点',\n",
    "        '备注','中通分箱','韵达分箱','渠道','今日提货','今日合包','今日发件','今日数码到仓','今日凌顶操作',\n",
    "         '是否入库','是否合包','是否发件','是否到件','是否三方','是否0操作',\n",
    "         '提货时间','今日入库时间',\n",
    "         '合包时间','今日合包时间',\n",
    "         '发件时间','今日发件时间',\n",
    "         '到件时间',\n",
    "         '所有数码到仓时间','今日数码到仓时间',\n",
    "         '是否首次入库','是否首次合包','是否首次发件','是否首次数码到件','奈斯入库时间','奈斯合包时间','奈斯发件时间']]"
   ]
  },
  {
   "cell_type": "code",
   "execution_count": 63,
   "metadata": {},
   "outputs": [],
   "source": [
    "df_今日奈斯入库 = df_today_奈斯提货[['订单号','入库时间']].rename(columns={'入库时间':'奈斯今日入库时间'})\n",
    "df_今日奈斯入库['奈斯今日入库']=\"1\"\n",
    "df_今日奈斯入库.drop_duplicates(subset=['订单号'],inplace=True)\n",
    "\n",
    "df_今日奈斯合包 = df_today_奈斯合包[['订单号','合包时间']].rename(columns={'合包时间':'奈斯今日合包时间'})\n",
    "df_今日奈斯合包['奈斯今日合包']=\"1\"\n",
    "df_今日奈斯合包.drop_duplicates(subset=['订单号'],inplace=True)\n",
    "\n",
    "df_今日奈斯发件 = df_today_奈斯发件[['订单号','发件时间']].rename(columns={'发件时间':'奈斯今日发件时间'})\n",
    "df_今日奈斯发件['奈斯今日发件']=\"1\"\n",
    "df_今日奈斯发件.drop_duplicates(subset=['订单号'],inplace=True)"
   ]
  },
  {
   "cell_type": "code",
   "execution_count": 64,
   "metadata": {},
   "outputs": [],
   "source": [
    "完成 = datas_all.merge(df_今日奈斯入库,on='订单号',how='outer')\\\n",
    ".merge(df_今日奈斯合包,on='订单号',how='outer')\\\n",
    ".merge(df_今日奈斯发件,on='订单号',how='outer')"
   ]
  },
  {
   "cell_type": "code",
   "execution_count": 65,
   "metadata": {},
   "outputs": [],
   "source": [
    "datas_完成 = 完成.copy()\n",
    "datas_完成.fillna({'收件网点':'为空'},inplace=True)"
   ]
  },
  {
   "cell_type": "code",
   "execution_count": 66,
   "metadata": {},
   "outputs": [
    {
     "data": {
      "text/plain": [
       "Index(['订单号', '产品名称', '寄件人', '声明价值', '代收货款', '收件人', '电话', '收件地址', '收件网点', '重量',\n",
       "       '件数', '录单时间', '录单人', '受理站点', '提货人', '提货网点', '合包号', '合包人', '发件站点', '发件人',\n",
       "       '发件网点', '到件网点', '三方运输', '三方运单号', '三方单号录入时间', '三方单号录入人', '三方单号录入网点',\n",
       "       '备注', '中通分箱', '韵达分箱', '渠道', '今日提货', '今日合包', '今日发件', '今日数码到仓', '今日凌顶操作',\n",
       "       '是否入库', '是否合包', '是否发件', '是否到件', '是否三方', '是否0操作', '提货时间', '今日入库时间',\n",
       "       '合包时间', '今日合包时间', '发件时间', '今日发件时间', '到件时间', '所有数码到仓时间', '今日数码到仓时间',\n",
       "       '是否首次入库', '是否首次合包', '是否首次发件', '是否首次数码到件', '奈斯入库时间', '奈斯合包时间', '奈斯发件时间',\n",
       "       '奈斯今日入库时间', '奈斯今日入库', '奈斯今日合包时间', '奈斯今日合包', '奈斯今日发件时间', '奈斯今日发件'],\n",
       "      dtype='object')"
      ]
     },
     "execution_count": 66,
     "metadata": {},
     "output_type": "execute_result"
    }
   ],
   "source": [
    "datas_完成.columns"
   ]
  },
  {
   "cell_type": "code",
   "execution_count": 67,
   "metadata": {},
   "outputs": [
    {
     "data": {
      "text/plain": [
       "(121273, 64)"
      ]
     },
     "execution_count": 67,
     "metadata": {},
     "output_type": "execute_result"
    }
   ],
   "source": [
    "datas_完成.shape"
   ]
  },
  {
   "cell_type": "code",
   "execution_count": 68,
   "metadata": {},
   "outputs": [
    {
     "data": {
      "text/plain": [
       "(121273, 64)"
      ]
     },
     "execution_count": 68,
     "metadata": {},
     "output_type": "execute_result"
    }
   ],
   "source": [
    "datas_完成.drop_duplicates('订单号').shape"
   ]
  },
  {
   "cell_type": "code",
   "execution_count": 69,
   "metadata": {},
   "outputs": [],
   "source": [
    "datas_完成.to_excel('./】处理分析/】001全部汇总.xlsx',index=False,encoding='gbk')"
   ]
  },
  {
   "cell_type": "markdown",
   "metadata": {},
   "source": []
  },
  {
   "cell_type": "code",
   "execution_count": 70,
   "metadata": {},
   "outputs": [],
   "source": [
    "datas1 =data_凌顶提货[['订单号']].merge(pd.concat([data_凌顶合包,data_奈斯合包])[['订单号']],on='订单号',how='outer')\\\n",
    ".merge(发件[['订单号']],how='outer')\\\n",
    ".merge(data_网点到件[['订单号']],how='outer')\\\n",
    ".merge(data_三方[['订单号']],on='订单号',how='outer')\n",
    "datas1.drop_duplicates(subset='订单号',inplace=True)"
   ]
  },
  {
   "cell_type": "code",
   "execution_count": 71,
   "metadata": {},
   "outputs": [],
   "source": [
    "df1 = datas1.merge(data_info[['订单号','受理时间']],on='订单号',how='outer')"
   ]
  },
  {
   "cell_type": "code",
   "execution_count": 72,
   "metadata": {},
   "outputs": [],
   "source": [
    "def ab_func(x):\n",
    "    level = x.apply(lambda x: '1' if x == 1 else '0')\n",
    "    label = level['是否入库'] + level['是否合包'] + level['是否发件']\n",
    "    d = {\n",
    "        '000':'未揽',\n",
    "        '001':'未提未合已发',\n",
    "        '010':'未提已合未发',\n",
    "        '011':'未提已合已发',\n",
    "        '100':'已提未合未发',\n",
    "        '101':'已提未合已发',\n",
    "        '111':'正常',\n",
    "        '110':'已提已合未发'        \n",
    "    }\n",
    "    result = d[label]\n",
    "    return result"
   ]
  },
  {
   "cell_type": "code",
   "execution_count": 73,
   "metadata": {},
   "outputs": [],
   "source": [
    "datas_完成['仓内动作'] = datas_完成[['是否入库','是否合包','是否发件']].apply(ab_func,axis=1)"
   ]
  },
  {
   "cell_type": "markdown",
   "metadata": {},
   "source": []
  },
  {
   "cell_type": "code",
   "execution_count": 74,
   "metadata": {},
   "outputs": [],
   "source": [
    "df1.loc[df1['受理时间'].isnull()].to_excel('❤之前的.xlsx',index=False,encoding='gbk')"
   ]
  },
  {
   "cell_type": "code",
   "execution_count": 75,
   "metadata": {},
   "outputs": [
    {
     "data": {
      "text/plain": [
       "(114836, 1)"
      ]
     },
     "execution_count": 75,
     "metadata": {},
     "output_type": "execute_result"
    }
   ],
   "source": [
    "datas1.shape"
   ]
  },
  {
   "cell_type": "code",
   "execution_count": 76,
   "metadata": {},
   "outputs": [
    {
     "data": {
      "text/plain": [
       "(121273,)"
      ]
     },
     "execution_count": 76,
     "metadata": {},
     "output_type": "execute_result"
    }
   ],
   "source": [
    "data_info['订单号'].shape"
   ]
  },
  {
   "cell_type": "code",
   "execution_count": 77,
   "metadata": {},
   "outputs": [
    {
     "data": {
      "text/plain": [
       "(57, 2)"
      ]
     },
     "execution_count": 77,
     "metadata": {},
     "output_type": "execute_result"
    }
   ],
   "source": [
    "df1.loc[df1['受理时间'].isnull()].shape"
   ]
  },
  {
   "cell_type": "markdown",
   "metadata": {},
   "source": []
  },
  {
   "cell_type": "code",
   "execution_count": null,
   "metadata": {},
   "outputs": [],
   "source": []
  },
  {
   "cell_type": "code",
   "execution_count": null,
   "metadata": {},
   "outputs": [],
   "source": []
  },
  {
   "cell_type": "code",
   "execution_count": null,
   "metadata": {},
   "outputs": [],
   "source": []
  },
  {
   "cell_type": "code",
   "execution_count": null,
   "metadata": {},
   "outputs": [],
   "source": []
  },
  {
   "cell_type": "code",
   "execution_count": null,
   "metadata": {},
   "outputs": [],
   "source": []
  },
  {
   "cell_type": "code",
   "execution_count": null,
   "metadata": {},
   "outputs": [],
   "source": []
  },
  {
   "cell_type": "code",
   "execution_count": null,
   "metadata": {},
   "outputs": [],
   "source": []
  },
  {
   "cell_type": "code",
   "execution_count": null,
   "metadata": {},
   "outputs": [],
   "source": []
  },
  {
   "cell_type": "code",
   "execution_count": null,
   "metadata": {},
   "outputs": [],
   "source": []
  }
 ],
 "metadata": {
  "kernelspec": {
   "display_name": "Python 3",
   "language": "python",
   "name": "python3"
  },
  "language_info": {
   "codemirror_mode": {
    "name": "ipython",
    "version": 3
   },
   "file_extension": ".py",
   "mimetype": "text/x-python",
   "name": "python",
   "nbconvert_exporter": "python",
   "pygments_lexer": "ipython3",
   "version": "3.7.6"
  }
 },
 "nbformat": 4,
 "nbformat_minor": 2
}
