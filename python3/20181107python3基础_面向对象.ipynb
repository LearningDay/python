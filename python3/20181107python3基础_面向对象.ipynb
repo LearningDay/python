{
 "cells": [
  {
   "cell_type": "markdown",
   "metadata": {},
   "source": [
    "# class\n",
    "* 最基本的作用--**封装**\n",
    "## 命名规则\n",
    "* 首字母大写\n",
    "    * StudentHomework\n",
    "* 别用【_】连接多个单词\n",
    "## 类的内部\n",
    "* 定义若干变量\n",
    "* 定义函数"
   ]
  },
  {
   "cell_type": "markdown",
   "metadata": {},
   "source": [
    "## 使用类\n",
    "* 实例化\n",
    "* 调用类，下面的方法\n",
    "## 建议\n",
    "* 一个模块定义类\n",
    "* 另一个模块实例化"
   ]
  },
  {
   "cell_type": "markdown",
   "metadata": {},
   "source": [
    "# 类和对象"
   ]
  },
  {
   "cell_type": "markdown",
   "metadata": {},
   "source": [
    "## 类——抽象\n",
    "*  注意：行为与特征\n",
    "    * 行为没有找对主题\n",
    "    * print_file，是行为\n",
    "    * 但不符合Student的特征（主题）\n",
    "    * do_homework，才是Student的特征（主题）\n",
    "    * *这样设计的类才合格*"
   ]
  },
  {
   "cell_type": "code",
   "execution_count": 1,
   "metadata": {},
   "outputs": [],
   "source": [
    "# class Student():\n",
    "#     name = '类demo' #name 全局变量、类变量\n",
    "#     age = 0 # 类变量，全局变量\n",
    "#     sum = 0\n",
    "    \n",
    "\n",
    "#     # 构造函数——初始化类的特征    \n",
    "#     def __init__(self,name,age):\n",
    "#         # 初始化对象的属性\n",
    "#         self.name = name# self.name是实例变量，第二个name 是参数列表中的name\n",
    "#         self.age = age #第二个age是参数，self.age是实例变量\n",
    "#         print(age)\n",
    "#         print(name)\n",
    "            \n",
    "#     # 行为，方法\n",
    "#     def do_homework(self):\n",
    "#         print('homework')"
   ]
  },
  {
   "cell_type": "markdown",
   "metadata": {},
   "source": [
    "## 对象——具体\n",
    "* 类被实例化后，变成具体的——对象\n",
    "* 需要向类传入具体值"
   ]
  },
  {
   "cell_type": "markdown",
   "metadata": {},
   "source": [
    "## 类变量、实例变量\n",
    "* 类变量 和类相关在一起的\n",
    "* 实例变量 和对象相关在一起的"
   ]
  },
  {
   "cell_type": "markdown",
   "metadata": {},
   "source": [
    "## 实例方法中方位类变量\n",
    "* Student.sum1 #访问类变量\n",
    "* ```self.__class__.sum1```  # 访问类变量"
   ]
  },
  {
   "cell_type": "code",
   "execution_count": 2,
   "metadata": {},
   "outputs": [],
   "source": [
    "class Student():\n",
    "    sum1 = 0\n",
    "    \n",
    "    # 构造函数、实例方法\n",
    "    def __init__(self,name,age):\n",
    "        self.name = name\n",
    "        self.age = age\n",
    "        self.__class__.sum1 += 1\n",
    "        print('当前班级学生总是为：' + str(self.__class__.sum1))\n",
    "        \n",
    "        \n",
    "    \n",
    "    # 定义实例方法\n",
    "    def do_homework(self):\n",
    "        print('homework')\n",
    "        \n",
    "    \n",
    "    #定义类方法\n",
    "    @classmethod #装饰器\n",
    "    def plus_sum(cls):\n",
    "        cls.sum1 += 1\n",
    "        print(''+str(cls.sum1))\n",
    "        \n",
    "    # 静态方法\n",
    "    @staticmethod\n",
    "    def add(x,y):\n",
    "        print('This is a static method')\n",
    "    @staticmethod\n",
    "    def func(a,b):\n",
    "        print(Student.sum1)"
   ]
  },
  {
   "cell_type": "markdown",
   "metadata": {},
   "source": [
    "## 调用 类方法"
   ]
  },
  {
   "cell_type": "code",
   "execution_count": 3,
   "metadata": {},
   "outputs": [
    {
     "name": "stdout",
     "output_type": "stream",
     "text": [
      "当前班级学生总是为：1\n",
      "2\n",
      "当前班级学生总是为：3\n",
      "4\n",
      "当前班级学生总是为：5\n",
      "6\n"
     ]
    }
   ],
   "source": [
    "student1 = Student('三点',18)\n",
    "Student.plus_sum()\n",
    "student2 = Student('压缩',19)\n",
    "Student.plus_sum()\n",
    "student3 = Student('瑞文',17)\n",
    "Student.plus_sum()"
   ]
  },
  {
   "cell_type": "code",
   "execution_count": 4,
   "metadata": {},
   "outputs": [
    {
     "data": {
      "text/plain": [
       "{'name': '压缩', 'age': 19}"
      ]
     },
     "execution_count": 4,
     "metadata": {},
     "output_type": "execute_result"
    }
   ],
   "source": [
    "student2.__dict__"
   ]
  },
  {
   "cell_type": "code",
   "execution_count": 5,
   "metadata": {},
   "outputs": [
    {
     "data": {
      "text/plain": [
       "6"
      ]
     },
     "execution_count": 5,
     "metadata": {},
     "output_type": "execute_result"
    }
   ],
   "source": [
    "Student.sum1"
   ]
  },
  {
   "cell_type": "code",
   "execution_count": 6,
   "metadata": {},
   "outputs": [
    {
     "data": {
      "text/plain": [
       "mappingproxy({'__module__': '__main__',\n",
       "              'sum1': 6,\n",
       "              '__init__': <function __main__.Student.__init__(self, name, age)>,\n",
       "              'do_homework': <function __main__.Student.do_homework(self)>,\n",
       "              'plus_sum': <classmethod at 0x356ee50>,\n",
       "              'add': <staticmethod at 0x356ee70>,\n",
       "              'func': <staticmethod at 0x356ee90>,\n",
       "              '__dict__': <attribute '__dict__' of 'Student' objects>,\n",
       "              '__weakref__': <attribute '__weakref__' of 'Student' objects>,\n",
       "              '__doc__': None})"
      ]
     },
     "execution_count": 6,
     "metadata": {},
     "output_type": "execute_result"
    }
   ],
   "source": [
    "Student.__dict__"
   ]
  },
  {
   "cell_type": "markdown",
   "metadata": {},
   "source": [
    "## 调用静态方法\n",
    "* 访问类变量"
   ]
  },
  {
   "cell_type": "code",
   "execution_count": 7,
   "metadata": {},
   "outputs": [
    {
     "name": "stdout",
     "output_type": "stream",
     "text": [
      "This is a static method\n"
     ]
    }
   ],
   "source": [
    "student1.add(1,2)"
   ]
  },
  {
   "cell_type": "code",
   "execution_count": 8,
   "metadata": {},
   "outputs": [
    {
     "name": "stdout",
     "output_type": "stream",
     "text": [
      "This is a static method\n"
     ]
    }
   ],
   "source": [
    "Student.add(1,2)"
   ]
  },
  {
   "cell_type": "code",
   "execution_count": 9,
   "metadata": {},
   "outputs": [
    {
     "name": "stdout",
     "output_type": "stream",
     "text": [
      "6\n"
     ]
    }
   ],
   "source": [
    "Student.func('a','b')"
   ]
  },
  {
   "cell_type": "code",
   "execution_count": 10,
   "metadata": {},
   "outputs": [
    {
     "name": "stdout",
     "output_type": "stream",
     "text": [
      "6\n"
     ]
    }
   ],
   "source": [
    "student1.func('1',2)"
   ]
  },
  {
   "cell_type": "code",
   "execution_count": null,
   "metadata": {},
   "outputs": [],
   "source": []
  }
 ],
 "metadata": {
  "kernelspec": {
   "display_name": "Python 3",
   "language": "python",
   "name": "python3"
  },
  "language_info": {
   "codemirror_mode": {
    "name": "ipython",
    "version": 3
   },
   "file_extension": ".py",
   "mimetype": "text/x-python",
   "name": "python",
   "nbconvert_exporter": "python",
   "pygments_lexer": "ipython3",
   "version": "3.6.5"
  }
 },
 "nbformat": 4,
 "nbformat_minor": 2
}
