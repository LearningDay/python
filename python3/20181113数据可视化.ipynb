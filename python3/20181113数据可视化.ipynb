{
 "cells": [
  {
   "cell_type": "code",
   "execution_count": 1,
   "metadata": {},
   "outputs": [],
   "source": [
    "import numpy as np\n",
    "import pandas as pd\n",
    "import matplotlib.pyplot as plt\n",
    "import seaborn as sns"
   ]
  },
  {
   "cell_type": "code",
   "execution_count": 2,
   "metadata": {},
   "outputs": [],
   "source": [
    "%matplotlib inline\n",
    "plt.rcParams['font.sans-serif']=['SimHei'] # 解决中文显示问题，修改默认字体\n",
    "plt.rcParams['axes.unicode_minus']=False # 解决保存图像时负号'-'显示为方块的问题\n",
    "plt.style.use('ggplot') # 更改设计风格"
   ]
  },
  {
   "cell_type": "code",
   "execution_count": 9,
   "metadata": {},
   "outputs": [],
   "source": [
    "df = pd.read_csv('f:/test/DataAnalyst.csv',encoding='gbk')"
   ]
  },
  {
   "cell_type": "code",
   "execution_count": 10,
   "metadata": {
    "scrolled": true
   },
   "outputs": [
    {
     "data": {
      "text/html": [
       "<div>\n",
       "<style scoped>\n",
       "    .dataframe tbody tr th:only-of-type {\n",
       "        vertical-align: middle;\n",
       "    }\n",
       "\n",
       "    .dataframe tbody tr th {\n",
       "        vertical-align: top;\n",
       "    }\n",
       "\n",
       "    .dataframe thead th {\n",
       "        text-align: right;\n",
       "    }\n",
       "</style>\n",
       "<table border=\"1\" class=\"dataframe\">\n",
       "  <thead>\n",
       "    <tr style=\"text-align: right;\">\n",
       "      <th></th>\n",
       "      <th>city</th>\n",
       "      <th>companyFullName</th>\n",
       "      <th>companyId</th>\n",
       "      <th>companyLabelList</th>\n",
       "      <th>companyShortName</th>\n",
       "      <th>companySize</th>\n",
       "      <th>businessZones</th>\n",
       "      <th>firstType</th>\n",
       "      <th>secondType</th>\n",
       "      <th>education</th>\n",
       "      <th>industryField</th>\n",
       "      <th>positionId</th>\n",
       "      <th>positionAdvantage</th>\n",
       "      <th>positionName</th>\n",
       "      <th>positionLables</th>\n",
       "      <th>salary</th>\n",
       "      <th>bottom</th>\n",
       "      <th>top</th>\n",
       "      <th>workYear</th>\n",
       "    </tr>\n",
       "  </thead>\n",
       "  <tbody>\n",
       "    <tr>\n",
       "      <th>0</th>\n",
       "      <td>上海</td>\n",
       "      <td>纽海信息技术(上海)有限公司</td>\n",
       "      <td>8581</td>\n",
       "      <td>['技能培训', '节日礼物', '带薪年假', '岗位晋升']</td>\n",
       "      <td>1号店</td>\n",
       "      <td>2000人以上</td>\n",
       "      <td>['张江']</td>\n",
       "      <td>技术</td>\n",
       "      <td>数据开发</td>\n",
       "      <td>硕士</td>\n",
       "      <td>移动互联网</td>\n",
       "      <td>2537336</td>\n",
       "      <td>知名平台</td>\n",
       "      <td>数据分析师</td>\n",
       "      <td>['分析师', '数据分析', '数据挖掘', '数据']</td>\n",
       "      <td>7k-9k</td>\n",
       "      <td>7</td>\n",
       "      <td>9</td>\n",
       "      <td>应届毕业生</td>\n",
       "    </tr>\n",
       "    <tr>\n",
       "      <th>1</th>\n",
       "      <td>上海</td>\n",
       "      <td>上海点荣金融信息服务有限责任公司</td>\n",
       "      <td>23177</td>\n",
       "      <td>['节日礼物', '带薪年假', '岗位晋升', '扁平管理']</td>\n",
       "      <td>点融网</td>\n",
       "      <td>500-2000人</td>\n",
       "      <td>['五里桥', '打浦桥', '制造局路']</td>\n",
       "      <td>技术</td>\n",
       "      <td>数据开发</td>\n",
       "      <td>本科</td>\n",
       "      <td>金融</td>\n",
       "      <td>2427485</td>\n",
       "      <td>挑战机会,团队好,与大牛合作,工作环境好</td>\n",
       "      <td>数据分析师-CR2017-SH2909</td>\n",
       "      <td>['分析师', '数据分析', '数据挖掘', '数据']</td>\n",
       "      <td>10k-15k</td>\n",
       "      <td>10</td>\n",
       "      <td>15</td>\n",
       "      <td>应届毕业生</td>\n",
       "    </tr>\n",
       "    <tr>\n",
       "      <th>2</th>\n",
       "      <td>上海</td>\n",
       "      <td>上海晶樵网络信息技术有限公司</td>\n",
       "      <td>57561</td>\n",
       "      <td>['技能培训', '绩效奖金', '岗位晋升', '管理规范']</td>\n",
       "      <td>SPD</td>\n",
       "      <td>50-150人</td>\n",
       "      <td>['打浦桥']</td>\n",
       "      <td>设计</td>\n",
       "      <td>数据分析</td>\n",
       "      <td>本科</td>\n",
       "      <td>移动互联网</td>\n",
       "      <td>2511252</td>\n",
       "      <td>时间自由,领导nic</td>\n",
       "      <td>数据分析师</td>\n",
       "      <td>['分析师', '数据分析', '数据']</td>\n",
       "      <td>4k-6k</td>\n",
       "      <td>4</td>\n",
       "      <td>6</td>\n",
       "      <td>应届毕业生</td>\n",
       "    </tr>\n",
       "    <tr>\n",
       "      <th>3</th>\n",
       "      <td>上海</td>\n",
       "      <td>杭州数云信息技术有限公司上海分公司</td>\n",
       "      <td>7502</td>\n",
       "      <td>['绩效奖金', '股票期权', '五险一金', '通讯津贴']</td>\n",
       "      <td>数云</td>\n",
       "      <td>150-500人</td>\n",
       "      <td>['龙华', '上海体育场', '万体馆']</td>\n",
       "      <td>市场与销售</td>\n",
       "      <td>数据分析</td>\n",
       "      <td>本科</td>\n",
       "      <td>企业服务,数据服务</td>\n",
       "      <td>2427530</td>\n",
       "      <td>五险一金 绩效奖金 带薪年假 节日福利</td>\n",
       "      <td>大数据业务分析师【数云校招】</td>\n",
       "      <td>['商业', '分析师', '大数据', '数据']</td>\n",
       "      <td>6k-8k</td>\n",
       "      <td>6</td>\n",
       "      <td>8</td>\n",
       "      <td>应届毕业生</td>\n",
       "    </tr>\n",
       "    <tr>\n",
       "      <th>4</th>\n",
       "      <td>上海</td>\n",
       "      <td>上海银基富力信息技术有限公司</td>\n",
       "      <td>130876</td>\n",
       "      <td>['年底双薪', '通讯津贴', '定期体检', '绩效奖金']</td>\n",
       "      <td>银基富力</td>\n",
       "      <td>15-50人</td>\n",
       "      <td>['上海影城', '新华路', '虹桥']</td>\n",
       "      <td>技术</td>\n",
       "      <td>软件开发</td>\n",
       "      <td>本科</td>\n",
       "      <td>其他</td>\n",
       "      <td>2245819</td>\n",
       "      <td>在大牛下指导</td>\n",
       "      <td>BI开发/数据分析师</td>\n",
       "      <td>['分析师', '数据分析', '数据', 'BI']</td>\n",
       "      <td>2k-3k</td>\n",
       "      <td>2</td>\n",
       "      <td>3</td>\n",
       "      <td>应届毕业生</td>\n",
       "    </tr>\n",
       "  </tbody>\n",
       "</table>\n",
       "</div>"
      ],
      "text/plain": [
       "  city    companyFullName  companyId                  companyLabelList  \\\n",
       "0   上海     纽海信息技术(上海)有限公司       8581  ['技能培训', '节日礼物', '带薪年假', '岗位晋升']   \n",
       "1   上海   上海点荣金融信息服务有限责任公司      23177  ['节日礼物', '带薪年假', '岗位晋升', '扁平管理']   \n",
       "2   上海     上海晶樵网络信息技术有限公司      57561  ['技能培训', '绩效奖金', '岗位晋升', '管理规范']   \n",
       "3   上海  杭州数云信息技术有限公司上海分公司       7502  ['绩效奖金', '股票期权', '五险一金', '通讯津贴']   \n",
       "4   上海     上海银基富力信息技术有限公司     130876  ['年底双薪', '通讯津贴', '定期体检', '绩效奖金']   \n",
       "\n",
       "  companyShortName companySize           businessZones firstType secondType  \\\n",
       "0              1号店     2000人以上                  ['张江']        技术       数据开发   \n",
       "1              点融网   500-2000人  ['五里桥', '打浦桥', '制造局路']        技术       数据开发   \n",
       "2              SPD     50-150人                 ['打浦桥']        设计       数据分析   \n",
       "3               数云    150-500人  ['龙华', '上海体育场', '万体馆']     市场与销售       数据分析   \n",
       "4             银基富力      15-50人   ['上海影城', '新华路', '虹桥']        技术       软件开发   \n",
       "\n",
       "  education industryField  positionId     positionAdvantage  \\\n",
       "0        硕士         移动互联网     2537336                  知名平台   \n",
       "1        本科            金融     2427485  挑战机会,团队好,与大牛合作,工作环境好   \n",
       "2        本科         移动互联网     2511252            时间自由,领导nic   \n",
       "3        本科     企业服务,数据服务     2427530   五险一金 绩效奖金 带薪年假 节日福利   \n",
       "4        本科            其他     2245819                在大牛下指导   \n",
       "\n",
       "          positionName                 positionLables   salary  bottom  top  \\\n",
       "0                数据分析师  ['分析师', '数据分析', '数据挖掘', '数据']    7k-9k       7    9   \n",
       "1  数据分析师-CR2017-SH2909  ['分析师', '数据分析', '数据挖掘', '数据']  10k-15k      10   15   \n",
       "2                数据分析师          ['分析师', '数据分析', '数据']    4k-6k       4    6   \n",
       "3       大数据业务分析师【数云校招】     ['商业', '分析师', '大数据', '数据']    6k-8k       6    8   \n",
       "4           BI开发/数据分析师    ['分析师', '数据分析', '数据', 'BI']    2k-3k       2    3   \n",
       "\n",
       "  workYear  \n",
       "0    应届毕业生  \n",
       "1    应届毕业生  \n",
       "2    应届毕业生  \n",
       "3    应届毕业生  \n",
       "4    应届毕业生  "
      ]
     },
     "execution_count": 10,
     "metadata": {},
     "output_type": "execute_result"
    }
   ],
   "source": [
    "df.head().dropna()"
   ]
  },
  {
   "cell_type": "markdown",
   "metadata": {},
   "source": [
    "# 重点"
   ]
  },
  {
   "cell_type": "code",
   "execution_count": 31,
   "metadata": {},
   "outputs": [],
   "source": [
    "data = df.groupby(['city','companyId']).aggregate(['mean','count']).bottom.reset_index()"
   ]
  },
  {
   "cell_type": "code",
   "execution_count": 32,
   "metadata": {},
   "outputs": [
    {
     "data": {
      "text/html": [
       "<div>\n",
       "<style scoped>\n",
       "    .dataframe tbody tr th:only-of-type {\n",
       "        vertical-align: middle;\n",
       "    }\n",
       "\n",
       "    .dataframe tbody tr th {\n",
       "        vertical-align: top;\n",
       "    }\n",
       "\n",
       "    .dataframe thead th {\n",
       "        text-align: right;\n",
       "    }\n",
       "</style>\n",
       "<table border=\"1\" class=\"dataframe\">\n",
       "  <thead>\n",
       "    <tr style=\"text-align: right;\">\n",
       "      <th></th>\n",
       "      <th>city</th>\n",
       "      <th>companyId</th>\n",
       "      <th>mean</th>\n",
       "      <th>count</th>\n",
       "    </tr>\n",
       "  </thead>\n",
       "  <tbody>\n",
       "    <tr>\n",
       "      <th>0</th>\n",
       "      <td>上海</td>\n",
       "      <td>146</td>\n",
       "      <td>8.00</td>\n",
       "      <td>1</td>\n",
       "    </tr>\n",
       "    <tr>\n",
       "      <th>1</th>\n",
       "      <td>上海</td>\n",
       "      <td>165</td>\n",
       "      <td>11.75</td>\n",
       "      <td>4</td>\n",
       "    </tr>\n",
       "    <tr>\n",
       "      <th>2</th>\n",
       "      <td>上海</td>\n",
       "      <td>228</td>\n",
       "      <td>10.00</td>\n",
       "      <td>1</td>\n",
       "    </tr>\n",
       "    <tr>\n",
       "      <th>3</th>\n",
       "      <td>上海</td>\n",
       "      <td>436</td>\n",
       "      <td>25.00</td>\n",
       "      <td>1</td>\n",
       "    </tr>\n",
       "    <tr>\n",
       "      <th>4</th>\n",
       "      <td>上海</td>\n",
       "      <td>622</td>\n",
       "      <td>14.00</td>\n",
       "      <td>5</td>\n",
       "    </tr>\n",
       "  </tbody>\n",
       "</table>\n",
       "</div>"
      ],
      "text/plain": [
       "  city  companyId   mean  count\n",
       "0   上海        146   8.00      1\n",
       "1   上海        165  11.75      4\n",
       "2   上海        228  10.00      1\n",
       "3   上海        436  25.00      1\n",
       "4   上海        622  14.00      5"
      ]
     },
     "execution_count": 32,
     "metadata": {},
     "output_type": "execute_result"
    }
   ],
   "source": [
    "data.head()"
   ]
  },
  {
   "cell_type": "code",
   "execution_count": 33,
   "metadata": {},
   "outputs": [
    {
     "name": "stdout",
     "output_type": "stream",
     "text": [
      "上海\n",
      "北京\n",
      "南京\n",
      "厦门\n",
      "天津\n",
      "广州\n",
      "成都\n",
      "杭州\n",
      "武汉\n",
      "深圳\n",
      "苏州\n",
      "西安\n",
      "长沙\n"
     ]
    }
   ],
   "source": [
    "for edu,grouped in data.groupby('city'):\n",
    "    print(edu)"
   ]
  },
  {
   "cell_type": "code",
   "execution_count": 47,
   "metadata": {},
   "outputs": [
    {
     "data": {
      "image/png": "[encoded data removed]",
      "text/plain": [
       "<Figure size 576x432 with 1 Axes>"
      ]
     },
     "metadata": {},
     "output_type": "display_data"
    }
   ],
   "source": [
    "plt.figure(figsize=(8,6))\n",
    "for city,grouped in data.groupby('city'):\n",
    "    x = grouped['mean']\n",
    "    y = grouped['count']\n",
    "    plt.scatter(x,y,label=city,alpha=0.8)\n",
    "plt.legend(loc='upper right')\n",
    "plt.xlabel('平均薪资')\n",
    "plt.ylabel('招聘数')\n",
    "plt.show()"
   ]
  },
  {
   "cell_type": "code",
   "execution_count": null,
   "metadata": {},
   "outputs": [],
   "source": []
  }
 ],
 "metadata": {
  "kernelspec": {
   "display_name": "Python 3",
   "language": "python",
   "name": "python3"
  },
  "language_info": {
   "codemirror_mode": {
    "name": "ipython",
    "version": 3
   },
   "file_extension": ".py",
   "mimetype": "text/x-python",
   "name": "python",
   "nbconvert_exporter": "python",
   "pygments_lexer": "ipython3",
   "version": "3.6.5"
  }
 },
 "nbformat": 4,
 "nbformat_minor": 2
}
