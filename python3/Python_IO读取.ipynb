{
 "cells": [
  {
   "cell_type": "markdown",
   "metadata": {},
   "source": [
    "# python IO与档案处理"
   ]
  },
  {
   "cell_type": "markdown",
   "metadata": {},
   "source": [
    "# 一般文档"
   ]
  },
  {
   "cell_type": "code",
   "execution_count": 1,
   "metadata": {},
   "outputs": [],
   "source": [
    "f= open('f:/test/python3/1.txt','r')"
   ]
  },
  {
   "cell_type": "code",
   "execution_count": 2,
   "metadata": {},
   "outputs": [],
   "source": [
    "fi = f.read()\n",
    "f.close()"
   ]
  },
  {
   "cell_type": "code",
   "execution_count": 3,
   "metadata": {
    "scrolled": true
   },
   "outputs": [
    {
     "data": {
      "text/plain": [
       "\"The Zen of Python, by Tim Peters\\n\\nBeautiful is better than ugly.\\nExplicit is better than implicit.\\nSimple is better than complex.\\nComplex is better than complicated.\\nFlat is better than nested.\\nSparse is better than dense.\\nReadability counts.\\nSpecial cases aren't special enough to break the rules.\\nAlthough practicality beats purity.\\nErrors should never pass silently.\\nUnless explicitly silenced.\\nIn the face of ambiguity, refuse the temptation to guess.\\nThere should be one-- and preferably only one --obvious way to do it.\\nAlthough that way may not be obvious at first unless you're Dutch.\\nNow is better than never.\\nAlthough never is often better than *right* now.\\nIf the implementation is hard to explain, it's a bad idea.\\nIf the implementation is easy to explain, it may be a good idea.\\nNamespaces are one honking great idea -- let's do more of those!\\n------------\\n\\n正文\\n\\n\\n------------\\n\\n第一章 陨落的天才\\n\\n“斗之力，三段！”\\n\\n    望着测验魔石碑上面闪亮得甚至有些刺眼的五个大字，少年面无表情，唇角有着一抹自嘲，紧握的手掌，因为大力，而导致略微尖锐的指甲深深的刺进了掌心之中，带来一阵阵钻心的疼痛…\\n\\n    “萧炎，斗之力，三段！级别：低级！”测验魔石碑之旁，一位中年男子，看了一眼碑上所显示出来的信息，语气漠然的将之公布了出来…\\n\\n    中年男子话刚刚脱口，便是不出意外的在人头汹涌的广场上带起了一阵嘲讽的骚动。\\n\\n    “三段？嘿嘿，果然不出我所料，这个“天才”这一年又是在原地踏步！”\\n\\n    “哎，这废物真是把家族的脸都给丢光了。”\""
      ]
     },
     "execution_count": 3,
     "metadata": {},
     "output_type": "execute_result"
    }
   ],
   "source": [
    "fi"
   ]
  },
  {
   "cell_type": "markdown",
   "metadata": {},
   "source": [
    "* 逐行读取"
   ]
  },
  {
   "cell_type": "code",
   "execution_count": 4,
   "metadata": {
    "scrolled": true
   },
   "outputs": [
    {
     "name": "stdout",
     "output_type": "stream",
     "text": [
      "The Zen of Python, by Tim Peters\n",
      "\n",
      "Beautiful is better than ugly.\n",
      "Explicit is better than implicit.\n",
      "Simple is better than complex.\n",
      "Complex is better than complicated.\n",
      "Flat is better than nested.\n",
      "Sparse is better than dense.\n",
      "Readability counts.\n",
      "Special cases aren't special enough to break the rules.\n",
      "Although practicality beats purity.\n",
      "Errors should never pass silently.\n",
      "Unless explicitly silenced.\n",
      "In the face of ambiguity, refuse the temptation to guess.\n",
      "There should be one-- and preferably only one --obvious way to do it.\n",
      "Although that way may not be obvious at first unless you're Dutch.\n",
      "Now is better than never.\n",
      "Although never is often better than *right* now.\n",
      "If the implementation is hard to explain, it's a bad idea.\n",
      "If the implementation is easy to explain, it may be a good idea.\n",
      "Namespaces are one honking great idea -- let's do more of those!\n",
      "------------\n",
      "\n",
      "正文\n",
      "\n",
      "\n",
      "------------\n",
      "\n",
      "第一章 陨落的天才\n",
      "\n",
      "“斗之力，三段！”\n",
      "\n",
      "望着测验魔石碑上面闪亮得甚至有些刺眼的五个大字，少年面无表情，唇角有着一抹自嘲，紧握的手掌，因为大力，而导致略微尖锐的指甲深深的刺进了掌心之中，带来一阵阵钻心的疼痛…\n",
      "\n",
      "“萧炎，斗之力，三段！级别：低级！”测验魔石碑之旁，一位中年男子，看了一眼碑上所显示出来的信息，语气漠然的将之公布了出来…\n",
      "\n",
      "中年男子话刚刚脱口，便是不出意外的在人头汹涌的广场上带起了一阵嘲讽的骚动。\n",
      "\n",
      "“三段？嘿嘿，果然不出我所料，这个“天才”这一年又是在原地踏步！”\n",
      "\n",
      "“哎，这废物真是把家族的脸都给丢光了。”\n"
     ]
    }
   ],
   "source": [
    "with open('f:/test/python3/1.txt','r') as f:\n",
    "    for line in f.readlines():\n",
    "        print(line.strip())"
   ]
  },
  {
   "cell_type": "markdown",
   "metadata": {},
   "source": [
    "# JSON"
   ]
  },
  {
   "cell_type": "code",
   "execution_count": 5,
   "metadata": {},
   "outputs": [],
   "source": [
    "import json"
   ]
  },
  {
   "cell_type": "code",
   "execution_count": 6,
   "metadata": {},
   "outputs": [],
   "source": [
    "with open('jd.json','r') as f:\n",
    "    jd = f.read()"
   ]
  },
  {
   "cell_type": "code",
   "execution_count": 7,
   "metadata": {},
   "outputs": [],
   "source": [
    "dic = json.loads(jd)"
   ]
  },
  {
   "cell_type": "code",
   "execution_count": 8,
   "metadata": {},
   "outputs": [
    {
     "name": "stdout",
     "output_type": "stream",
     "text": [
      "华为官方旗舰店 华为官方旗舰店\n",
      "牧申手机旗舰店 官方正品；售后无忧；良心经营！\n",
      "新松联手机旗舰店 正品行货  全国联保 全国包邮\n",
      "爱优创杰手机专营店 爱优创杰只售正品行货，支持官方渠道验货\n",
      "佳沪数码手机旗舰店 官方正品丨货票同行丨快速物流丨无忧售后\n",
      "中恒国信手机旗舰店 正品保障·全国联保·正规发票\n",
      "众盛手机专营店 诚信，务实，以顾客为本，服务造就未来。\n",
      "环球名品海外专营店 香港倉儲，境外直郵，誠信經營，正品保證\n",
      "培新数码手机专营店 全新国行！全国联保！\n",
      "GIT通讯数码旗舰店 GIT全球购，港行正品，品质保障。\n",
      "麦考利手机专营店 全国联保·正品保障·正规发票\n"
     ]
    }
   ],
   "source": [
    "for i in dic:\n",
    "    print(i.get('shop_name'),i.get('shop_brief'))"
   ]
  },
  {
   "cell_type": "markdown",
   "metadata": {},
   "source": [
    "* dict转换为json文件"
   ]
  },
  {
   "cell_type": "code",
   "execution_count": 9,
   "metadata": {},
   "outputs": [],
   "source": [
    "jso = json.dumps(dic)"
   ]
  },
  {
   "cell_type": "markdown",
   "metadata": {},
   "source": [
    "## 用pandas 读取JSON"
   ]
  },
  {
   "cell_type": "code",
   "execution_count": 10,
   "metadata": {},
   "outputs": [],
   "source": [
    "import pandas as pd"
   ]
  },
  {
   "cell_type": "code",
   "execution_count": 11,
   "metadata": {
    "scrolled": true
   },
   "outputs": [
    {
     "data": {
      "text/html": [
       "<div>\n",
       "<style scoped>\n",
       "    .dataframe tbody tr th:only-of-type {\n",
       "        vertical-align: middle;\n",
       "    }\n",
       "\n",
       "    .dataframe tbody tr th {\n",
       "        vertical-align: top;\n",
       "    }\n",
       "\n",
       "    .dataframe thead th {\n",
       "        text-align: right;\n",
       "    }\n",
       "</style>\n",
       "<table border=\"1\" class=\"dataframe\">\n",
       "  <thead>\n",
       "    <tr style=\"text-align: right;\">\n",
       "      <th></th>\n",
       "      <th>business_category</th>\n",
       "      <th>cid1</th>\n",
       "      <th>icon</th>\n",
       "      <th>industry_effective_score</th>\n",
       "      <th>industry_service_score</th>\n",
       "      <th>industry_total_score</th>\n",
       "      <th>main_brand</th>\n",
       "      <th>pic_url</th>\n",
       "      <th>shop_brief</th>\n",
       "      <th>shop_id</th>\n",
       "      <th>...</th>\n",
       "      <th>shop_type</th>\n",
       "      <th>summary</th>\n",
       "      <th>txt_weight</th>\n",
       "      <th>vender_effective_score</th>\n",
       "      <th>vender_id</th>\n",
       "      <th>vender_service_score</th>\n",
       "      <th>vender_total_score</th>\n",
       "      <th>vender_type</th>\n",
       "      <th>vender_ware_score</th>\n",
       "      <th>weight</th>\n",
       "    </tr>\n",
       "  </thead>\n",
       "  <tbody>\n",
       "    <tr>\n",
       "      <th>0</th>\n",
       "      <td>车载配件 电脑、办公 路由器 手机配件 手机保护套 电脑整机 蓝牙耳机 交换机 手机存储卡 ...</td>\n",
       "      <td>9987</td>\n",
       "      <td>0</td>\n",
       "      <td>963</td>\n",
       "      <td>971</td>\n",
       "      <td>974</td>\n",
       "      <td>华为（HUAWEI）</td>\n",
       "      <td></td>\n",
       "      <td>华为官方旗舰店</td>\n",
       "      <td>1000004259</td>\n",
       "      <td>...</td>\n",
       "      <td>28</td>\n",
       "      <td></td>\n",
       "      <td>0</td>\n",
       "      <td>1000</td>\n",
       "      <td>1000004259</td>\n",
       "      <td>1000</td>\n",
       "      <td>1000</td>\n",
       "      <td>1</td>\n",
       "      <td>1000</td>\n",
       "      <td>0</td>\n",
       "    </tr>\n",
       "    <tr>\n",
       "      <th>1</th>\n",
       "      <td>手机通讯 手机配件 创意配件 手机</td>\n",
       "      <td>9987</td>\n",
       "      <td>0</td>\n",
       "      <td>954</td>\n",
       "      <td>954</td>\n",
       "      <td>954</td>\n",
       "      <td>摩托罗拉（Motorola） 酷派（Coolpad） HALOVE SHARP 纽曼（New...</td>\n",
       "      <td></td>\n",
       "      <td>官方正品；售后无忧；良心经营！</td>\n",
       "      <td>178287</td>\n",
       "      <td>...</td>\n",
       "      <td>11</td>\n",
       "      <td></td>\n",
       "      <td>0</td>\n",
       "      <td>936</td>\n",
       "      <td>174907</td>\n",
       "      <td>943</td>\n",
       "      <td>944</td>\n",
       "      <td>0</td>\n",
       "      <td>948</td>\n",
       "      <td>0</td>\n",
       "    </tr>\n",
       "    <tr>\n",
       "      <th>2</th>\n",
       "      <td>手机通讯 手机配件 创意配件 手机</td>\n",
       "      <td>9987</td>\n",
       "      <td>0</td>\n",
       "      <td>954</td>\n",
       "      <td>954</td>\n",
       "      <td>954</td>\n",
       "      <td>摩托罗拉（Motorola） 酷派（Coolpad） SHARP HALOVE 诺基亚（NO...</td>\n",
       "      <td></td>\n",
       "      <td>正品行货  全国联保 全国包邮</td>\n",
       "      <td>179483</td>\n",
       "      <td>...</td>\n",
       "      <td>11</td>\n",
       "      <td></td>\n",
       "      <td>0</td>\n",
       "      <td>949</td>\n",
       "      <td>185259</td>\n",
       "      <td>953</td>\n",
       "      <td>955</td>\n",
       "      <td>0</td>\n",
       "      <td>954</td>\n",
       "      <td>0</td>\n",
       "    </tr>\n",
       "    <tr>\n",
       "      <th>3</th>\n",
       "      <td>手机通讯 手机配件 创意配件 手机</td>\n",
       "      <td>9987</td>\n",
       "      <td>0</td>\n",
       "      <td>954</td>\n",
       "      <td>954</td>\n",
       "      <td>954</td>\n",
       "      <td>酷派（Coolpad） HALOVE 诺基亚（NOKIA） 三星（SAMSUNG） ivvi...</td>\n",
       "      <td></td>\n",
       "      <td>爱优创杰只售正品行货，支持官方渠道验货</td>\n",
       "      <td>178637</td>\n",
       "      <td>...</td>\n",
       "      <td>24</td>\n",
       "      <td></td>\n",
       "      <td>0</td>\n",
       "      <td>935</td>\n",
       "      <td>185329</td>\n",
       "      <td>942</td>\n",
       "      <td>945</td>\n",
       "      <td>0</td>\n",
       "      <td>948</td>\n",
       "      <td>0</td>\n",
       "    </tr>\n",
       "    <tr>\n",
       "      <th>4</th>\n",
       "      <td>手机通讯 对讲机 手机配件 创意配件 特殊商品 手机</td>\n",
       "      <td>9987</td>\n",
       "      <td>0</td>\n",
       "      <td>954</td>\n",
       "      <td>954</td>\n",
       "      <td>954</td>\n",
       "      <td>酷派（Coolpad） 传奇（SAGA） HALOVE 华星 三星（SAMSUNG） TCL...</td>\n",
       "      <td>http://img11.360buyimg.com/cms/jfs/t1591/100/3...</td>\n",
       "      <td>官方正品丨货票同行丨快速物流丨无忧售后</td>\n",
       "      <td>113406</td>\n",
       "      <td>...</td>\n",
       "      <td>11</td>\n",
       "      <td>官方正品保障，货票同行无忧。</td>\n",
       "      <td>0</td>\n",
       "      <td>943</td>\n",
       "      <td>116240</td>\n",
       "      <td>946</td>\n",
       "      <td>946</td>\n",
       "      <td>0</td>\n",
       "      <td>946</td>\n",
       "      <td>0</td>\n",
       "    </tr>\n",
       "    <tr>\n",
       "      <th>5</th>\n",
       "      <td>充电器/数据线 充电器 车载配件 拍照配件 手机通讯 手机配件 手机保护套 苹果周边 手机饰...</td>\n",
       "      <td>9987</td>\n",
       "      <td>0</td>\n",
       "      <td>954</td>\n",
       "      <td>954</td>\n",
       "      <td>954</td>\n",
       "      <td>UBTEL 创客（CKCOM） 夏普（SHARP） 酷派（Coolpad） HALOVE 富...</td>\n",
       "      <td>http://img11.360buyimg.com/cms/jfs/t1702/54/11...</td>\n",
       "      <td>正品保障·全国联保·正规发票</td>\n",
       "      <td>121932</td>\n",
       "      <td>...</td>\n",
       "      <td>11</td>\n",
       "      <td>中恒国信手机旗舰店</td>\n",
       "      <td>0</td>\n",
       "      <td>935</td>\n",
       "      <td>124424</td>\n",
       "      <td>942</td>\n",
       "      <td>942</td>\n",
       "      <td>0</td>\n",
       "      <td>945</td>\n",
       "      <td>0</td>\n",
       "    </tr>\n",
       "    <tr>\n",
       "      <th>6</th>\n",
       "      <td>手机通讯 手机</td>\n",
       "      <td>9987</td>\n",
       "      <td>0</td>\n",
       "      <td>954</td>\n",
       "      <td>954</td>\n",
       "      <td>954</td>\n",
       "      <td>NOKIA 福中福（F-FOOK） 爱来福（ailyfu） 酷派（Coolpad） 诺基亚（...</td>\n",
       "      <td></td>\n",
       "      <td>诚信，务实，以顾客为本，服务造就未来。</td>\n",
       "      <td>182802</td>\n",
       "      <td>...</td>\n",
       "      <td>24</td>\n",
       "      <td></td>\n",
       "      <td>0</td>\n",
       "      <td>966</td>\n",
       "      <td>187278</td>\n",
       "      <td>957</td>\n",
       "      <td>962</td>\n",
       "      <td>0</td>\n",
       "      <td>957</td>\n",
       "      <td>0</td>\n",
       "    </tr>\n",
       "    <tr>\n",
       "      <th>7</th>\n",
       "      <td>电话机 燃气热水器 项链/吊坠 龙头 手柄/方向盘 妈咪包 铂金 礼品箱包 应急救援 血糖仪...</td>\n",
       "      <td>9987</td>\n",
       "      <td>0</td>\n",
       "      <td>954</td>\n",
       "      <td>954</td>\n",
       "      <td>954</td>\n",
       "      <td>夏普（SHARP） 大疆（DJI） PRGR 贝印（KAI） Kindle 艾罗伯特（iRo...</td>\n",
       "      <td></td>\n",
       "      <td>香港倉儲，境外直郵，誠信經營，正品保證</td>\n",
       "      <td>197290</td>\n",
       "      <td>...</td>\n",
       "      <td>24</td>\n",
       "      <td></td>\n",
       "      <td>0</td>\n",
       "      <td>954</td>\n",
       "      <td>206245</td>\n",
       "      <td>967</td>\n",
       "      <td>958</td>\n",
       "      <td>0</td>\n",
       "      <td>969</td>\n",
       "      <td>0</td>\n",
       "    </tr>\n",
       "    <tr>\n",
       "      <th>8</th>\n",
       "      <td>手机通讯 手机配件 创意配件 手机</td>\n",
       "      <td>9987</td>\n",
       "      <td>0</td>\n",
       "      <td>954</td>\n",
       "      <td>954</td>\n",
       "      <td>954</td>\n",
       "      <td>美图（meitu） 长虹（CHANGHONG） 爱来福（ailyfu） 酷派（Coolpad...</td>\n",
       "      <td></td>\n",
       "      <td>全新国行！全国联保！</td>\n",
       "      <td>595861</td>\n",
       "      <td>...</td>\n",
       "      <td>24</td>\n",
       "      <td></td>\n",
       "      <td>0</td>\n",
       "      <td>934</td>\n",
       "      <td>602142</td>\n",
       "      <td>940</td>\n",
       "      <td>942</td>\n",
       "      <td>0</td>\n",
       "      <td>947</td>\n",
       "      <td>0</td>\n",
       "    </tr>\n",
       "    <tr>\n",
       "      <th>9</th>\n",
       "      <td>电话机 除湿机 显卡 手柄/方向盘 路由器 礼品箱包 血糖仪 暖奶消毒 摄像机 游戏周边 M...</td>\n",
       "      <td>9987</td>\n",
       "      <td>0</td>\n",
       "      <td>954</td>\n",
       "      <td>954</td>\n",
       "      <td>954</td>\n",
       "      <td>宏碁（acer） 乐视 微星（MSI） 森海塞尔（Sennheiser） 卡西欧（Casio...</td>\n",
       "      <td></td>\n",
       "      <td>GIT全球购，港行正品，品质保障。</td>\n",
       "      <td>168617</td>\n",
       "      <td>...</td>\n",
       "      <td>10</td>\n",
       "      <td></td>\n",
       "      <td>0</td>\n",
       "      <td>948</td>\n",
       "      <td>174546</td>\n",
       "      <td>947</td>\n",
       "      <td>947</td>\n",
       "      <td>0</td>\n",
       "      <td>952</td>\n",
       "      <td>0</td>\n",
       "    </tr>\n",
       "    <tr>\n",
       "      <th>10</th>\n",
       "      <td>手机通讯 手机配件 创意配件 手机</td>\n",
       "      <td>9987</td>\n",
       "      <td>0</td>\n",
       "      <td>954</td>\n",
       "      <td>954</td>\n",
       "      <td>954</td>\n",
       "      <td>努比亚（nubia） 苹果（Apple） 小米（MI） 中兴（ZTE） 天语（K-TOUCH...</td>\n",
       "      <td></td>\n",
       "      <td>全国联保·正品保障·正规发票</td>\n",
       "      <td>607243</td>\n",
       "      <td>...</td>\n",
       "      <td>24</td>\n",
       "      <td></td>\n",
       "      <td>0</td>\n",
       "      <td>937</td>\n",
       "      <td>606086</td>\n",
       "      <td>943</td>\n",
       "      <td>948</td>\n",
       "      <td>0</td>\n",
       "      <td>956</td>\n",
       "      <td>0</td>\n",
       "    </tr>\n",
       "  </tbody>\n",
       "</table>\n",
       "<p>11 rows × 23 columns</p>\n",
       "</div>"
      ],
      "text/plain": [
       "                                    business_category  cid1  icon  \\\n",
       "0   车载配件 电脑、办公 路由器 手机配件 手机保护套 电脑整机 蓝牙耳机 交换机 手机存储卡 ...  9987     0   \n",
       "1                                   手机通讯 手机配件 创意配件 手机  9987     0   \n",
       "2                                   手机通讯 手机配件 创意配件 手机  9987     0   \n",
       "3                                   手机通讯 手机配件 创意配件 手机  9987     0   \n",
       "4                          手机通讯 对讲机 手机配件 创意配件 特殊商品 手机  9987     0   \n",
       "5   充电器/数据线 充电器 车载配件 拍照配件 手机通讯 手机配件 手机保护套 苹果周边 手机饰...  9987     0   \n",
       "6                                             手机通讯 手机  9987     0   \n",
       "7   电话机 燃气热水器 项链/吊坠 龙头 手柄/方向盘 妈咪包 铂金 礼品箱包 应急救援 血糖仪...  9987     0   \n",
       "8                                   手机通讯 手机配件 创意配件 手机  9987     0   \n",
       "9   电话机 除湿机 显卡 手柄/方向盘 路由器 礼品箱包 血糖仪 暖奶消毒 摄像机 游戏周边 M...  9987     0   \n",
       "10                                  手机通讯 手机配件 创意配件 手机  9987     0   \n",
       "\n",
       "    industry_effective_score  industry_service_score  industry_total_score  \\\n",
       "0                        963                     971                   974   \n",
       "1                        954                     954                   954   \n",
       "2                        954                     954                   954   \n",
       "3                        954                     954                   954   \n",
       "4                        954                     954                   954   \n",
       "5                        954                     954                   954   \n",
       "6                        954                     954                   954   \n",
       "7                        954                     954                   954   \n",
       "8                        954                     954                   954   \n",
       "9                        954                     954                   954   \n",
       "10                       954                     954                   954   \n",
       "\n",
       "                                           main_brand  \\\n",
       "0                                          华为（HUAWEI）   \n",
       "1   摩托罗拉（Motorola） 酷派（Coolpad） HALOVE SHARP 纽曼（New...   \n",
       "2   摩托罗拉（Motorola） 酷派（Coolpad） SHARP HALOVE 诺基亚（NO...   \n",
       "3   酷派（Coolpad） HALOVE 诺基亚（NOKIA） 三星（SAMSUNG） ivvi...   \n",
       "4   酷派（Coolpad） 传奇（SAGA） HALOVE 华星 三星（SAMSUNG） TCL...   \n",
       "5   UBTEL 创客（CKCOM） 夏普（SHARP） 酷派（Coolpad） HALOVE 富...   \n",
       "6   NOKIA 福中福（F-FOOK） 爱来福（ailyfu） 酷派（Coolpad） 诺基亚（...   \n",
       "7   夏普（SHARP） 大疆（DJI） PRGR 贝印（KAI） Kindle 艾罗伯特（iRo...   \n",
       "8   美图（meitu） 长虹（CHANGHONG） 爱来福（ailyfu） 酷派（Coolpad...   \n",
       "9   宏碁（acer） 乐视 微星（MSI） 森海塞尔（Sennheiser） 卡西欧（Casio...   \n",
       "10  努比亚（nubia） 苹果（Apple） 小米（MI） 中兴（ZTE） 天语（K-TOUCH...   \n",
       "\n",
       "                                              pic_url           shop_brief  \\\n",
       "0                                                                  华为官方旗舰店   \n",
       "1                                                          官方正品；售后无忧；良心经营！   \n",
       "2                                                          正品行货  全国联保 全国包邮   \n",
       "3                                                      爱优创杰只售正品行货，支持官方渠道验货   \n",
       "4   http://img11.360buyimg.com/cms/jfs/t1591/100/3...  官方正品丨货票同行丨快速物流丨无忧售后   \n",
       "5   http://img11.360buyimg.com/cms/jfs/t1702/54/11...       正品保障·全国联保·正规发票   \n",
       "6                                                      诚信，务实，以顾客为本，服务造就未来。   \n",
       "7                                                      香港倉儲，境外直郵，誠信經營，正品保證   \n",
       "8                                                               全新国行！全国联保！   \n",
       "9                                                        GIT全球购，港行正品，品质保障。   \n",
       "10                                                          全国联保·正品保障·正规发票   \n",
       "\n",
       "       shop_id   ...   shop_type         summary  txt_weight  \\\n",
       "0   1000004259   ...          28                           0   \n",
       "1       178287   ...          11                           0   \n",
       "2       179483   ...          11                           0   \n",
       "3       178637   ...          24                           0   \n",
       "4       113406   ...          11  官方正品保障，货票同行无忧。           0   \n",
       "5       121932   ...          11       中恒国信手机旗舰店           0   \n",
       "6       182802   ...          24                           0   \n",
       "7       197290   ...          24                           0   \n",
       "8       595861   ...          24                           0   \n",
       "9       168617   ...          10                           0   \n",
       "10      607243   ...          24                           0   \n",
       "\n",
       "    vender_effective_score   vender_id  vender_service_score  \\\n",
       "0                     1000  1000004259                  1000   \n",
       "1                      936      174907                   943   \n",
       "2                      949      185259                   953   \n",
       "3                      935      185329                   942   \n",
       "4                      943      116240                   946   \n",
       "5                      935      124424                   942   \n",
       "6                      966      187278                   957   \n",
       "7                      954      206245                   967   \n",
       "8                      934      602142                   940   \n",
       "9                      948      174546                   947   \n",
       "10                     937      606086                   943   \n",
       "\n",
       "    vender_total_score  vender_type  vender_ware_score  weight  \n",
       "0                 1000            1               1000       0  \n",
       "1                  944            0                948       0  \n",
       "2                  955            0                954       0  \n",
       "3                  945            0                948       0  \n",
       "4                  946            0                946       0  \n",
       "5                  942            0                945       0  \n",
       "6                  962            0                957       0  \n",
       "7                  958            0                969       0  \n",
       "8                  942            0                947       0  \n",
       "9                  947            0                952       0  \n",
       "10                 948            0                956       0  \n",
       "\n",
       "[11 rows x 23 columns]"
      ]
     },
     "execution_count": 11,
     "metadata": {},
     "output_type": "execute_result"
    }
   ],
   "source": [
    "pd.read_json('jd.json')"
   ]
  },
  {
   "cell_type": "markdown",
   "metadata": {},
   "source": [
    "# XML"
   ]
  },
  {
   "cell_type": "code",
   "execution_count": 12,
   "metadata": {},
   "outputs": [],
   "source": [
    "import xml.etree.ElementTree as ET"
   ]
  },
  {
   "cell_type": "code",
   "execution_count": 13,
   "metadata": {},
   "outputs": [],
   "source": [
    "tree = ET.parse('weather.xml')"
   ]
  },
  {
   "cell_type": "code",
   "execution_count": 14,
   "metadata": {},
   "outputs": [],
   "source": [
    "root = tree.getroot()"
   ]
  },
  {
   "cell_type": "code",
   "execution_count": 15,
   "metadata": {
    "scrolled": true
   },
   "outputs": [
    {
     "data": {
      "text/plain": [
       "<Element 'china' at 0x05D083F0>"
      ]
     },
     "execution_count": 15,
     "metadata": {},
     "output_type": "execute_result"
    }
   ],
   "source": [
    "root"
   ]
  },
  {
   "cell_type": "markdown",
   "metadata": {},
   "source": [
    "* 需要了解数据的结构"
   ]
  },
  {
   "cell_type": "code",
   "execution_count": 16,
   "metadata": {},
   "outputs": [
    {
     "name": "stdout",
     "output_type": "stream",
     "text": [
      "哈尔滨\n",
      "长春\n",
      "沈阳\n",
      "海口\n",
      "呼和浩特\n",
      "乌鲁木齐\n",
      "拉萨\n",
      "西宁\n",
      "银川\n",
      "兰州\n",
      "石家庄\n",
      "郑州\n",
      "武汉\n",
      "长沙\n",
      "济南\n",
      "南京\n",
      "合肥\n",
      "太原\n",
      "西安\n",
      "成都\n",
      "昆明\n",
      "贵阳\n",
      "杭州\n",
      "福州\n",
      "南昌\n",
      "广州\n",
      "南宁\n",
      "北京\n",
      "天津\n",
      "上海\n",
      "重庆\n",
      "香港\n",
      "澳门\n",
      "台北\n",
      "西沙\n",
      "南沙\n",
      "钓鱼岛\n"
     ]
    }
   ],
   "source": [
    "for city in root.iter('city'):\n",
    "    print(city.get('cityname'))"
   ]
  },
  {
   "cell_type": "markdown",
   "metadata": {},
   "source": [
    "# 爬虫"
   ]
  },
  {
   "cell_type": "markdown",
   "metadata": {},
   "source": [
    "* 剖析器"
   ]
  },
  {
   "cell_type": "code",
   "execution_count": 34,
   "metadata": {
    "scrolled": true
   },
   "outputs": [
    {
     "name": "stdout",
     "output_type": "stream",
     "text": [
      "漫威最棒的超级英雄，让每一个感到渺小的人都意识到了自己的伟大 //www.bilibili.com/read/cv1507986/\n",
      "身披国旗手握金牌，而上一秒他们身上插着电针--探寻中国电竞魔幻史 //www.bilibili.com/read/cv1506163/\n",
      "今天，他也走了……2018真的太让人难过 //www.bilibili.com/read/cv1507811/\n",
      "只要钱到位了，六小龄童就是王境泽 //www.bilibili.com/read/cv1506013/\n",
      "Esports Awards电竞颁奖典礼落幕：《守望先锋》力压《英雄联盟》斩获年度最佳电竞游戏 //www.bilibili.com/read/cv1509156/\n",
      "盘点联盟比赛中那些令人窒息的反应瞬间（上） //www.bilibili.com/read/cv1509222/\n",
      "某申和王刚事件来龙去脉 //www.bilibili.com/read/cv1496353/\n",
      "刚失去了江湖侠客，今天我们又失去了漫威英雄 //www.bilibili.com/read/cv1510894/\n",
      "漫威宇宙最厉害的那个英雄走了 //www.bilibili.com/read/cv1510387/\n",
      "一句话证明自己是老玩家？撸友：卡特太强了，我们来削弱刀妹吧！ //www.bilibili.com/read/cv1509889/\n"
     ]
    }
   ],
   "source": [
    "import requests\n",
    "from bs4 import BeautifulSoup\n",
    "res = requests.get('https://www.bilibili.com/read/home?spm_id_from=333.334.b_7072696d6172795f6d656e75.85')\n",
    "soup = BeautifulSoup(res.text, 'html.parser')\n",
    "for bili in soup.select('.item'):\n",
    "    print(bili.select('a')[0].text, bili.select('a')[0]['href'])"
   ]
  },
  {
   "cell_type": "code",
   "execution_count": 38,
   "metadata": {},
   "outputs": [
    {
     "data": {
      "text/plain": [
       "<a href=\"//www.bilibili.com/read/cv1509889/\" target=\"_blank\" title=\"一句话证明自己是老玩家？撸友：卡特太强了，我们来削弱刀妹吧！\">一句话证明自己是老玩家？撸友：卡特太强了，我们来削弱刀妹吧！</a>"
      ]
     },
     "execution_count": 38,
     "metadata": {},
     "output_type": "execute_result"
    }
   ],
   "source": [
    "bili.select('a')[0]"
   ]
  },
  {
   "cell_type": "code",
   "execution_count": 18,
   "metadata": {},
   "outputs": [],
   "source": [
    "res = requests.get('https://www.bilibili.com/read/home?spm_id_from=333.334.b_7072696d6172795f6d656e75.85')\n",
    "soup = BeautifulSoup(res.text, 'html.parser')\n",
    "\n",
    "newsary = []\n",
    "for news in soup.select('.item'):\n",
    "    newsary.append({'title':news.select('a')[0].text, 'url':news.select('a')[0]['href']})"
   ]
  },
  {
   "cell_type": "code",
   "execution_count": 20,
   "metadata": {},
   "outputs": [
    {
     "data": {
      "text/plain": [
       "{'title': '身披国旗手握金牌，而上一秒他们身上插着电针--探寻中国电竞魔幻史',\n",
       " 'url': '//www.bilibili.com/read/cv1506163/'}"
      ]
     },
     "execution_count": 20,
     "metadata": {},
     "output_type": "execute_result"
    }
   ],
   "source": [
    "newsary[1]"
   ]
  },
  {
   "cell_type": "markdown",
   "metadata": {},
   "source": [
    "数据框"
   ]
  },
  {
   "cell_type": "code",
   "execution_count": 22,
   "metadata": {},
   "outputs": [],
   "source": [
    "import pandas as pd"
   ]
  },
  {
   "cell_type": "code",
   "execution_count": 24,
   "metadata": {},
   "outputs": [],
   "source": [
    "newsdf = pd.DataFrame(newsary)"
   ]
  },
  {
   "cell_type": "code",
   "execution_count": 25,
   "metadata": {},
   "outputs": [
    {
     "data": {
      "text/html": [
       "<div>\n",
       "<style scoped>\n",
       "    .dataframe tbody tr th:only-of-type {\n",
       "        vertical-align: middle;\n",
       "    }\n",
       "\n",
       "    .dataframe tbody tr th {\n",
       "        vertical-align: top;\n",
       "    }\n",
       "\n",
       "    .dataframe thead th {\n",
       "        text-align: right;\n",
       "    }\n",
       "</style>\n",
       "<table border=\"1\" class=\"dataframe\">\n",
       "  <thead>\n",
       "    <tr style=\"text-align: right;\">\n",
       "      <th></th>\n",
       "      <th>title</th>\n",
       "      <th>url</th>\n",
       "    </tr>\n",
       "  </thead>\n",
       "  <tbody>\n",
       "    <tr>\n",
       "      <th>0</th>\n",
       "      <td>漫威最棒的超级英雄，让每一个感到渺小的人都意识到了自己的伟大</td>\n",
       "      <td>//www.bilibili.com/read/cv1507986/</td>\n",
       "    </tr>\n",
       "    <tr>\n",
       "      <th>1</th>\n",
       "      <td>身披国旗手握金牌，而上一秒他们身上插着电针--探寻中国电竞魔幻史</td>\n",
       "      <td>//www.bilibili.com/read/cv1506163/</td>\n",
       "    </tr>\n",
       "    <tr>\n",
       "      <th>2</th>\n",
       "      <td>今天，他也走了……2018真的太让人难过</td>\n",
       "      <td>//www.bilibili.com/read/cv1507811/</td>\n",
       "    </tr>\n",
       "    <tr>\n",
       "      <th>3</th>\n",
       "      <td>只要钱到位了，六小龄童就是王境泽</td>\n",
       "      <td>//www.bilibili.com/read/cv1506013/</td>\n",
       "    </tr>\n",
       "    <tr>\n",
       "      <th>4</th>\n",
       "      <td>Esports Awards电竞颁奖典礼落幕：《守望先锋》力压《英雄联盟》斩获年度最佳电竞游戏</td>\n",
       "      <td>//www.bilibili.com/read/cv1509156/</td>\n",
       "    </tr>\n",
       "    <tr>\n",
       "      <th>5</th>\n",
       "      <td>盘点联盟比赛中那些令人窒息的反应瞬间（上）</td>\n",
       "      <td>//www.bilibili.com/read/cv1509222/</td>\n",
       "    </tr>\n",
       "    <tr>\n",
       "      <th>6</th>\n",
       "      <td>某申和王刚事件来龙去脉</td>\n",
       "      <td>//www.bilibili.com/read/cv1496353/</td>\n",
       "    </tr>\n",
       "    <tr>\n",
       "      <th>7</th>\n",
       "      <td>刚失去了江湖侠客，今天我们又失去了漫威英雄</td>\n",
       "      <td>//www.bilibili.com/read/cv1510894/</td>\n",
       "    </tr>\n",
       "    <tr>\n",
       "      <th>8</th>\n",
       "      <td>漫威宇宙最厉害的那个英雄走了</td>\n",
       "      <td>//www.bilibili.com/read/cv1510387/</td>\n",
       "    </tr>\n",
       "    <tr>\n",
       "      <th>9</th>\n",
       "      <td>一句话证明自己是老玩家？撸友：卡特太强了，我们来削弱刀妹吧！</td>\n",
       "      <td>//www.bilibili.com/read/cv1509889/</td>\n",
       "    </tr>\n",
       "  </tbody>\n",
       "</table>\n",
       "</div>"
      ],
      "text/plain": [
       "                                             title  \\\n",
       "0                   漫威最棒的超级英雄，让每一个感到渺小的人都意识到了自己的伟大   \n",
       "1                 身披国旗手握金牌，而上一秒他们身上插着电针--探寻中国电竞魔幻史   \n",
       "2                             今天，他也走了……2018真的太让人难过   \n",
       "3                                 只要钱到位了，六小龄童就是王境泽   \n",
       "4  Esports Awards电竞颁奖典礼落幕：《守望先锋》力压《英雄联盟》斩获年度最佳电竞游戏   \n",
       "5                            盘点联盟比赛中那些令人窒息的反应瞬间（上）   \n",
       "6                                      某申和王刚事件来龙去脉   \n",
       "7                            刚失去了江湖侠客，今天我们又失去了漫威英雄   \n",
       "8                                   漫威宇宙最厉害的那个英雄走了   \n",
       "9                   一句话证明自己是老玩家？撸友：卡特太强了，我们来削弱刀妹吧！   \n",
       "\n",
       "                                  url  \n",
       "0  //www.bilibili.com/read/cv1507986/  \n",
       "1  //www.bilibili.com/read/cv1506163/  \n",
       "2  //www.bilibili.com/read/cv1507811/  \n",
       "3  //www.bilibili.com/read/cv1506013/  \n",
       "4  //www.bilibili.com/read/cv1509156/  \n",
       "5  //www.bilibili.com/read/cv1509222/  \n",
       "6  //www.bilibili.com/read/cv1496353/  \n",
       "7  //www.bilibili.com/read/cv1510894/  \n",
       "8  //www.bilibili.com/read/cv1510387/  \n",
       "9  //www.bilibili.com/read/cv1509889/  "
      ]
     },
     "execution_count": 25,
     "metadata": {},
     "output_type": "execute_result"
    }
   ],
   "source": [
    "newsdf"
   ]
  },
  {
   "cell_type": "code",
   "execution_count": 26,
   "metadata": {},
   "outputs": [],
   "source": [
    "newsdf.to_csv('bili.csv')"
   ]
  },
  {
   "cell_type": "code",
   "execution_count": null,
   "metadata": {},
   "outputs": [],
   "source": []
  }
 ],
 "metadata": {
  "kernelspec": {
   "display_name": "Python 3",
   "language": "python",
   "name": "python3"
  },
  "language_info": {
   "codemirror_mode": {
    "name": "ipython",
    "version": 3
   },
   "file_extension": ".py",
   "mimetype": "text/x-python",
   "name": "python",
   "nbconvert_exporter": "python",
   "pygments_lexer": "ipython3",
   "version": "3.6.5"
  }
 },
 "nbformat": 4,
 "nbformat_minor": 2
}
